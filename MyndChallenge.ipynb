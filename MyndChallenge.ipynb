{
 "cells": [
  {
   "cell_type": "markdown",
   "id": "f23e2e23",
   "metadata": {},
   "source": [
    "## Mynd Data Challenge\n",
    "\n",
    "In this project, there are three phases:\n",
    "\n",
    "1. Data cleaning\n",
    "2. EDA\n",
    "3. Modeling"
   ]
  },
  {
   "cell_type": "markdown",
   "id": "e93151e6",
   "metadata": {},
   "source": [
    "### 1. Data Cleaning"
   ]
  },
  {
   "cell_type": "code",
   "execution_count": 1,
   "id": "b72a0384",
   "metadata": {},
   "outputs": [],
   "source": [
    "import pandas as pd\n",
    "import numpy as np\n",
    "import seaborn as sns\n",
    "import matplotlib.pyplot as plt"
   ]
  },
  {
   "cell_type": "code",
   "execution_count": 2,
   "id": "fb828160",
   "metadata": {},
   "outputs": [
    {
     "data": {
      "text/html": [
       "<div>\n",
       "<style scoped>\n",
       "    .dataframe tbody tr th:only-of-type {\n",
       "        vertical-align: middle;\n",
       "    }\n",
       "\n",
       "    .dataframe tbody tr th {\n",
       "        vertical-align: top;\n",
       "    }\n",
       "\n",
       "    .dataframe thead th {\n",
       "        text-align: right;\n",
       "    }\n",
       "</style>\n",
       "<table border=\"1\" class=\"dataframe\">\n",
       "  <thead>\n",
       "    <tr style=\"text-align: right;\">\n",
       "      <th></th>\n",
       "      <th>ID</th>\n",
       "      <th>First Name</th>\n",
       "      <th>Monthly Income</th>\n",
       "      <th>Pets</th>\n",
       "      <th>Date of Birth</th>\n",
       "      <th>Market</th>\n",
       "      <th>State</th>\n",
       "    </tr>\n",
       "  </thead>\n",
       "  <tbody>\n",
       "    <tr>\n",
       "      <th>0</th>\n",
       "      <td>p3do03ecr7t67spn</td>\n",
       "      <td>Jayzua-nae</td>\n",
       "      <td>NaN</td>\n",
       "      <td>Yes</td>\n",
       "      <td>2011-04-20</td>\n",
       "      <td>East</td>\n",
       "      <td>NC</td>\n",
       "    </tr>\n",
       "    <tr>\n",
       "      <th>1</th>\n",
       "      <td>sfkib3fm5afbg4lv</td>\n",
       "      <td>Maxim</td>\n",
       "      <td>NaN</td>\n",
       "      <td>No</td>\n",
       "      <td>2009-01-20</td>\n",
       "      <td>Bay Area</td>\n",
       "      <td>CA</td>\n",
       "    </tr>\n",
       "    <tr>\n",
       "      <th>2</th>\n",
       "      <td>6i9ov0mud63gm7nq</td>\n",
       "      <td>Damyel</td>\n",
       "      <td>NaN</td>\n",
       "      <td>No</td>\n",
       "      <td>2020-10-09</td>\n",
       "      <td>East</td>\n",
       "      <td>NC</td>\n",
       "    </tr>\n",
       "    <tr>\n",
       "      <th>3</th>\n",
       "      <td>t1hal73tnuhhk6qa</td>\n",
       "      <td>Ellie</td>\n",
       "      <td>NaN</td>\n",
       "      <td>Yes</td>\n",
       "      <td>2004-01-31</td>\n",
       "      <td>East</td>\n",
       "      <td>NC</td>\n",
       "    </tr>\n",
       "    <tr>\n",
       "      <th>4</th>\n",
       "      <td>nne9gmjh9mnvagsc</td>\n",
       "      <td>Abigail</td>\n",
       "      <td>NaN</td>\n",
       "      <td>No</td>\n",
       "      <td>2007-09-11</td>\n",
       "      <td>Washington</td>\n",
       "      <td>WA</td>\n",
       "    </tr>\n",
       "  </tbody>\n",
       "</table>\n",
       "</div>"
      ],
      "text/plain": [
       "                 ID  First Name  Monthly Income Pets Date of Birth  \\\n",
       "0  p3do03ecr7t67spn  Jayzua-nae             NaN  Yes    2011-04-20   \n",
       "1  sfkib3fm5afbg4lv       Maxim             NaN   No    2009-01-20   \n",
       "2  6i9ov0mud63gm7nq      Damyel             NaN   No    2020-10-09   \n",
       "3  t1hal73tnuhhk6qa       Ellie             NaN  Yes    2004-01-31   \n",
       "4  nne9gmjh9mnvagsc     Abigail             NaN   No    2007-09-11   \n",
       "\n",
       "       Market State  \n",
       "0        East    NC  \n",
       "1    Bay Area    CA  \n",
       "2        East    NC  \n",
       "3        East    NC  \n",
       "4  Washington    WA  "
      ]
     },
     "execution_count": 2,
     "metadata": {},
     "output_type": "execute_result"
    }
   ],
   "source": [
    "df1 = pd.read_csv(r\"C:\\Users\\arash\\Downloads\\demographics.xlsx - demographics.csv\")\n",
    "df1.head()"
   ]
  },
  {
   "cell_type": "code",
   "execution_count": 3,
   "id": "bf4c7ef7",
   "metadata": {},
   "outputs": [
    {
     "name": "stdout",
     "output_type": "stream",
     "text": [
      "<class 'pandas.core.frame.DataFrame'>\n",
      "RangeIndex: 4863 entries, 0 to 4862\n",
      "Data columns (total 7 columns):\n",
      " #   Column          Non-Null Count  Dtype  \n",
      "---  ------          --------------  -----  \n",
      " 0   ID              4863 non-null   object \n",
      " 1   First Name      4861 non-null   object \n",
      " 2   Monthly Income  141 non-null    float64\n",
      " 3   Pets            4863 non-null   object \n",
      " 4   Date of Birth   4863 non-null   object \n",
      " 5   Market          4863 non-null   object \n",
      " 6   State           4863 non-null   object \n",
      "dtypes: float64(1), object(6)\n",
      "memory usage: 266.1+ KB\n"
     ]
    }
   ],
   "source": [
    "df1.info()"
   ]
  },
  {
   "cell_type": "code",
   "execution_count": 4,
   "id": "3810241c",
   "metadata": {},
   "outputs": [
    {
     "data": {
      "text/plain": [
       "ID                0.000000\n",
       "First Name        0.000411\n",
       "Monthly Income    0.971006\n",
       "Pets              0.000000\n",
       "Date of Birth     0.000000\n",
       "Market            0.000000\n",
       "State             0.000000\n",
       "dtype: float64"
      ]
     },
     "execution_count": 4,
     "metadata": {},
     "output_type": "execute_result"
    }
   ],
   "source": [
    "df1.isnull().sum()/len(df1)"
   ]
  },
  {
   "cell_type": "markdown",
   "id": "9cae86ee",
   "metadata": {},
   "source": [
    "There are two missing data in First Name columns and also 97% of Monthly income is missing, I will drop the two missing Fisrt name row and will drop the whole Income in the modeling process."
   ]
  },
  {
   "cell_type": "code",
   "execution_count": 5,
   "id": "0813e226",
   "metadata": {},
   "outputs": [
    {
     "name": "stdout",
     "output_type": "stream",
     "text": [
      "<class 'pandas.core.frame.DataFrame'>\n",
      "Int64Index: 4861 entries, 0 to 4862\n",
      "Data columns (total 7 columns):\n",
      " #   Column          Non-Null Count  Dtype  \n",
      "---  ------          --------------  -----  \n",
      " 0   ID              4861 non-null   object \n",
      " 1   First Name      4861 non-null   object \n",
      " 2   Monthly Income  141 non-null    float64\n",
      " 3   Pets            4861 non-null   object \n",
      " 4   Date of Birth   4861 non-null   object \n",
      " 5   Market          4861 non-null   object \n",
      " 6   State           4861 non-null   object \n",
      "dtypes: float64(1), object(6)\n",
      "memory usage: 303.8+ KB\n"
     ]
    }
   ],
   "source": [
    "df1 = df1.dropna(subset=['First Name'])\n",
    "df1.info()"
   ]
  },
  {
   "cell_type": "code",
   "execution_count": 6,
   "id": "ee71197e",
   "metadata": {},
   "outputs": [
    {
     "data": {
      "text/plain": [
       "Southwest     1201\n",
       "East          1125\n",
       "Central        690\n",
       "Washington     611\n",
       "Bay Area       486\n",
       "SoCal          407\n",
       "Sacramento     341\n",
       "Name: Market, dtype: int64"
      ]
     },
     "execution_count": 6,
     "metadata": {},
     "output_type": "execute_result"
    }
   ],
   "source": [
    "df1.Market.value_counts()"
   ]
  },
  {
   "cell_type": "code",
   "execution_count": 7,
   "id": "599e71db",
   "metadata": {},
   "outputs": [
    {
     "data": {
      "text/plain": [
       "CA    1234\n",
       "AZ     695\n",
       "TX     690\n",
       "WA     577\n",
       "NC     467\n",
       "NV     461\n",
       "GA     429\n",
       "AL      78\n",
       "FL      61\n",
       "MS      46\n",
       "CO      45\n",
       "TN      44\n",
       "OR      34\n",
       "Name: State, dtype: int64"
      ]
     },
     "execution_count": 7,
     "metadata": {},
     "output_type": "execute_result"
    }
   ],
   "source": [
    "df1.State.value_counts()"
   ]
  },
  {
   "cell_type": "code",
   "execution_count": 8,
   "id": "57b86bcf",
   "metadata": {},
   "outputs": [
    {
     "data": {
      "text/plain": [
       "No     3688\n",
       "Yes    1173\n",
       "Name: Pets, dtype: int64"
      ]
     },
     "execution_count": 8,
     "metadata": {},
     "output_type": "execute_result"
    }
   ],
   "source": [
    "df1.Pets.value_counts()"
   ]
  },
  {
   "cell_type": "markdown",
   "id": "ee9f4e81",
   "metadata": {},
   "source": [
    "The MArket and state match each other. The pet column is fine as well."
   ]
  },
  {
   "cell_type": "code",
   "execution_count": 9,
   "id": "4d796cd4",
   "metadata": {},
   "outputs": [
    {
     "data": {
      "text/plain": [
       "hil50gpk08pak286    12\n",
       "mk6t4l5da8m1dss2     9\n",
       "669fasfgrrd204ru     8\n",
       "j83uq0j3aud30l74     8\n",
       "773s7rqk9u1dmjeq     8\n",
       "                    ..\n",
       "j3kt9dg9pgius9sm     1\n",
       "dlqotk7oo1b4npmr     1\n",
       "ulrruc5cccrv7ul9     1\n",
       "rv25e2mv5pav64u7     1\n",
       "prt0ag9hb7dgtu       1\n",
       "Name: ID, Length: 2525, dtype: int64"
      ]
     },
     "execution_count": 9,
     "metadata": {},
     "output_type": "execute_result"
    }
   ],
   "source": [
    "df1.ID.value_counts()"
   ]
  },
  {
   "cell_type": "code",
   "execution_count": 10,
   "id": "e06eb430",
   "metadata": {},
   "outputs": [
    {
     "data": {
      "text/html": [
       "<div>\n",
       "<style scoped>\n",
       "    .dataframe tbody tr th:only-of-type {\n",
       "        vertical-align: middle;\n",
       "    }\n",
       "\n",
       "    .dataframe tbody tr th {\n",
       "        vertical-align: top;\n",
       "    }\n",
       "\n",
       "    .dataframe thead th {\n",
       "        text-align: right;\n",
       "    }\n",
       "</style>\n",
       "<table border=\"1\" class=\"dataframe\">\n",
       "  <thead>\n",
       "    <tr style=\"text-align: right;\">\n",
       "      <th></th>\n",
       "      <th>ID</th>\n",
       "      <th>First Name</th>\n",
       "      <th>Monthly Income</th>\n",
       "      <th>Pets</th>\n",
       "      <th>Date of Birth</th>\n",
       "      <th>Market</th>\n",
       "      <th>State</th>\n",
       "    </tr>\n",
       "  </thead>\n",
       "  <tbody>\n",
       "    <tr>\n",
       "      <th>333</th>\n",
       "      <td>hil50gpk08pak286</td>\n",
       "      <td>Elizabeth</td>\n",
       "      <td>1500.0</td>\n",
       "      <td>No</td>\n",
       "      <td>2016-10-13</td>\n",
       "      <td>Bay Area</td>\n",
       "      <td>CA</td>\n",
       "    </tr>\n",
       "    <tr>\n",
       "      <th>605</th>\n",
       "      <td>hil50gpk08pak286</td>\n",
       "      <td>Abigail</td>\n",
       "      <td>1500.0</td>\n",
       "      <td>No</td>\n",
       "      <td>2016-08-23</td>\n",
       "      <td>Bay Area</td>\n",
       "      <td>CA</td>\n",
       "    </tr>\n",
       "    <tr>\n",
       "      <th>613</th>\n",
       "      <td>hil50gpk08pak286</td>\n",
       "      <td>Elizabeth</td>\n",
       "      <td>1.0</td>\n",
       "      <td>No</td>\n",
       "      <td>2016-10-13</td>\n",
       "      <td>Bay Area</td>\n",
       "      <td>CA</td>\n",
       "    </tr>\n",
       "    <tr>\n",
       "      <th>731</th>\n",
       "      <td>hil50gpk08pak286</td>\n",
       "      <td>Christian</td>\n",
       "      <td>2400.0</td>\n",
       "      <td>No</td>\n",
       "      <td>2012-11-12</td>\n",
       "      <td>Bay Area</td>\n",
       "      <td>CA</td>\n",
       "    </tr>\n",
       "    <tr>\n",
       "      <th>767</th>\n",
       "      <td>hil50gpk08pak286</td>\n",
       "      <td>Abigail</td>\n",
       "      <td>2600.0</td>\n",
       "      <td>No</td>\n",
       "      <td>2016-08-23</td>\n",
       "      <td>Bay Area</td>\n",
       "      <td>CA</td>\n",
       "    </tr>\n",
       "    <tr>\n",
       "      <th>1566</th>\n",
       "      <td>hil50gpk08pak286</td>\n",
       "      <td>Elizabeth</td>\n",
       "      <td>2400.0</td>\n",
       "      <td>No</td>\n",
       "      <td>2016-10-13</td>\n",
       "      <td>Bay Area</td>\n",
       "      <td>CA</td>\n",
       "    </tr>\n",
       "    <tr>\n",
       "      <th>1571</th>\n",
       "      <td>hil50gpk08pak286</td>\n",
       "      <td>Christian</td>\n",
       "      <td>1.0</td>\n",
       "      <td>No</td>\n",
       "      <td>2012-11-12</td>\n",
       "      <td>Bay Area</td>\n",
       "      <td>CA</td>\n",
       "    </tr>\n",
       "    <tr>\n",
       "      <th>1670</th>\n",
       "      <td>hil50gpk08pak286</td>\n",
       "      <td>Abigail</td>\n",
       "      <td>2400.0</td>\n",
       "      <td>No</td>\n",
       "      <td>2016-08-23</td>\n",
       "      <td>Bay Area</td>\n",
       "      <td>CA</td>\n",
       "    </tr>\n",
       "    <tr>\n",
       "      <th>2915</th>\n",
       "      <td>hil50gpk08pak286</td>\n",
       "      <td>Christian</td>\n",
       "      <td>1500.0</td>\n",
       "      <td>No</td>\n",
       "      <td>2012-11-12</td>\n",
       "      <td>Bay Area</td>\n",
       "      <td>CA</td>\n",
       "    </tr>\n",
       "    <tr>\n",
       "      <th>3699</th>\n",
       "      <td>hil50gpk08pak286</td>\n",
       "      <td>Christian</td>\n",
       "      <td>2600.0</td>\n",
       "      <td>No</td>\n",
       "      <td>2012-11-12</td>\n",
       "      <td>Bay Area</td>\n",
       "      <td>CA</td>\n",
       "    </tr>\n",
       "    <tr>\n",
       "      <th>4456</th>\n",
       "      <td>hil50gpk08pak286</td>\n",
       "      <td>Elizabeth</td>\n",
       "      <td>2600.0</td>\n",
       "      <td>No</td>\n",
       "      <td>2016-10-13</td>\n",
       "      <td>Bay Area</td>\n",
       "      <td>CA</td>\n",
       "    </tr>\n",
       "    <tr>\n",
       "      <th>4519</th>\n",
       "      <td>hil50gpk08pak286</td>\n",
       "      <td>Abigail</td>\n",
       "      <td>1.0</td>\n",
       "      <td>No</td>\n",
       "      <td>2016-08-23</td>\n",
       "      <td>Bay Area</td>\n",
       "      <td>CA</td>\n",
       "    </tr>\n",
       "  </tbody>\n",
       "</table>\n",
       "</div>"
      ],
      "text/plain": [
       "                    ID First Name  Monthly Income Pets Date of Birth  \\\n",
       "333   hil50gpk08pak286  Elizabeth          1500.0   No    2016-10-13   \n",
       "605   hil50gpk08pak286    Abigail          1500.0   No    2016-08-23   \n",
       "613   hil50gpk08pak286  Elizabeth             1.0   No    2016-10-13   \n",
       "731   hil50gpk08pak286  Christian          2400.0   No    2012-11-12   \n",
       "767   hil50gpk08pak286    Abigail          2600.0   No    2016-08-23   \n",
       "1566  hil50gpk08pak286  Elizabeth          2400.0   No    2016-10-13   \n",
       "1571  hil50gpk08pak286  Christian             1.0   No    2012-11-12   \n",
       "1670  hil50gpk08pak286    Abigail          2400.0   No    2016-08-23   \n",
       "2915  hil50gpk08pak286  Christian          1500.0   No    2012-11-12   \n",
       "3699  hil50gpk08pak286  Christian          2600.0   No    2012-11-12   \n",
       "4456  hil50gpk08pak286  Elizabeth          2600.0   No    2016-10-13   \n",
       "4519  hil50gpk08pak286    Abigail             1.0   No    2016-08-23   \n",
       "\n",
       "        Market State  \n",
       "333   Bay Area    CA  \n",
       "605   Bay Area    CA  \n",
       "613   Bay Area    CA  \n",
       "731   Bay Area    CA  \n",
       "767   Bay Area    CA  \n",
       "1566  Bay Area    CA  \n",
       "1571  Bay Area    CA  \n",
       "1670  Bay Area    CA  \n",
       "2915  Bay Area    CA  \n",
       "3699  Bay Area    CA  \n",
       "4456  Bay Area    CA  \n",
       "4519  Bay Area    CA  "
      ]
     },
     "execution_count": 10,
     "metadata": {},
     "output_type": "execute_result"
    }
   ],
   "source": [
    "df1[df1.ID == 'hil50gpk08pak286']"
   ]
  },
  {
   "cell_type": "code",
   "execution_count": 11,
   "id": "afeadbdd",
   "metadata": {},
   "outputs": [
    {
     "data": {
      "text/html": [
       "<div>\n",
       "<style scoped>\n",
       "    .dataframe tbody tr th:only-of-type {\n",
       "        vertical-align: middle;\n",
       "    }\n",
       "\n",
       "    .dataframe tbody tr th {\n",
       "        vertical-align: top;\n",
       "    }\n",
       "\n",
       "    .dataframe thead th {\n",
       "        text-align: right;\n",
       "    }\n",
       "</style>\n",
       "<table border=\"1\" class=\"dataframe\">\n",
       "  <thead>\n",
       "    <tr style=\"text-align: right;\">\n",
       "      <th></th>\n",
       "      <th>ID</th>\n",
       "      <th>First Name</th>\n",
       "      <th>Monthly Income</th>\n",
       "      <th>Pets</th>\n",
       "      <th>Date of Birth</th>\n",
       "      <th>Market</th>\n",
       "      <th>State</th>\n",
       "    </tr>\n",
       "  </thead>\n",
       "  <tbody>\n",
       "    <tr>\n",
       "      <th>11</th>\n",
       "      <td>669fasfgrrd204ru</td>\n",
       "      <td>Kailie</td>\n",
       "      <td>NaN</td>\n",
       "      <td>Yes</td>\n",
       "      <td>2006-05-04</td>\n",
       "      <td>East</td>\n",
       "      <td>FL</td>\n",
       "    </tr>\n",
       "    <tr>\n",
       "      <th>274</th>\n",
       "      <td>669fasfgrrd204ru</td>\n",
       "      <td>Andrew</td>\n",
       "      <td>NaN</td>\n",
       "      <td>Yes</td>\n",
       "      <td>2005-03-15</td>\n",
       "      <td>East</td>\n",
       "      <td>FL</td>\n",
       "    </tr>\n",
       "    <tr>\n",
       "      <th>980</th>\n",
       "      <td>669fasfgrrd204ru</td>\n",
       "      <td>Kailie</td>\n",
       "      <td>NaN</td>\n",
       "      <td>Yes</td>\n",
       "      <td>2006-05-04</td>\n",
       "      <td>East</td>\n",
       "      <td>FL</td>\n",
       "    </tr>\n",
       "    <tr>\n",
       "      <th>1267</th>\n",
       "      <td>669fasfgrrd204ru</td>\n",
       "      <td>Andrew</td>\n",
       "      <td>NaN</td>\n",
       "      <td>Yes</td>\n",
       "      <td>2005-03-15</td>\n",
       "      <td>East</td>\n",
       "      <td>FL</td>\n",
       "    </tr>\n",
       "    <tr>\n",
       "      <th>1704</th>\n",
       "      <td>669fasfgrrd204ru</td>\n",
       "      <td>Lauren</td>\n",
       "      <td>NaN</td>\n",
       "      <td>Yes</td>\n",
       "      <td>2008-12-29</td>\n",
       "      <td>East</td>\n",
       "      <td>FL</td>\n",
       "    </tr>\n",
       "    <tr>\n",
       "      <th>1744</th>\n",
       "      <td>669fasfgrrd204ru</td>\n",
       "      <td>Nolan</td>\n",
       "      <td>NaN</td>\n",
       "      <td>Yes</td>\n",
       "      <td>2009-08-19</td>\n",
       "      <td>East</td>\n",
       "      <td>FL</td>\n",
       "    </tr>\n",
       "    <tr>\n",
       "      <th>3269</th>\n",
       "      <td>669fasfgrrd204ru</td>\n",
       "      <td>Nolan</td>\n",
       "      <td>NaN</td>\n",
       "      <td>Yes</td>\n",
       "      <td>2009-08-19</td>\n",
       "      <td>East</td>\n",
       "      <td>FL</td>\n",
       "    </tr>\n",
       "    <tr>\n",
       "      <th>3748</th>\n",
       "      <td>669fasfgrrd204ru</td>\n",
       "      <td>Lauren</td>\n",
       "      <td>NaN</td>\n",
       "      <td>Yes</td>\n",
       "      <td>2008-12-29</td>\n",
       "      <td>East</td>\n",
       "      <td>FL</td>\n",
       "    </tr>\n",
       "  </tbody>\n",
       "</table>\n",
       "</div>"
      ],
      "text/plain": [
       "                    ID First Name  Monthly Income Pets Date of Birth Market  \\\n",
       "11    669fasfgrrd204ru     Kailie             NaN  Yes    2006-05-04   East   \n",
       "274   669fasfgrrd204ru     Andrew             NaN  Yes    2005-03-15   East   \n",
       "980   669fasfgrrd204ru     Kailie             NaN  Yes    2006-05-04   East   \n",
       "1267  669fasfgrrd204ru     Andrew             NaN  Yes    2005-03-15   East   \n",
       "1704  669fasfgrrd204ru     Lauren             NaN  Yes    2008-12-29   East   \n",
       "1744  669fasfgrrd204ru      Nolan             NaN  Yes    2009-08-19   East   \n",
       "3269  669fasfgrrd204ru      Nolan             NaN  Yes    2009-08-19   East   \n",
       "3748  669fasfgrrd204ru     Lauren             NaN  Yes    2008-12-29   East   \n",
       "\n",
       "     State  \n",
       "11      FL  \n",
       "274     FL  \n",
       "980     FL  \n",
       "1267    FL  \n",
       "1704    FL  \n",
       "1744    FL  \n",
       "3269    FL  \n",
       "3748    FL  "
      ]
     },
     "execution_count": 11,
     "metadata": {},
     "output_type": "execute_result"
    }
   ],
   "source": [
    "df1[df1.ID == '669fasfgrrd204ru']"
   ]
  },
  {
   "cell_type": "markdown",
   "id": "6eb0f7f2",
   "metadata": {},
   "source": [
    "We can see that each unique ID present a specific household, however the dataframe suggets that there are duplicates data for some of the ID Numbers, therefore I will delete those duplicates.\n",
    "\n",
    "Before droping the duplicates I will group them and get the average income as the average income of the household. Since duplicates does not effect the mean."
   ]
  },
  {
   "cell_type": "code",
   "execution_count": 12,
   "id": "9b291fbd",
   "metadata": {},
   "outputs": [
    {
     "data": {
      "text/plain": [
       "0.00        9\n",
       "1.00        6\n",
       "123.00      1\n",
       "557.00      2\n",
       "800.00      3\n",
       "840.00      1\n",
       "974.00      1\n",
       "1000.00     2\n",
       "1200.00     2\n",
       "1300.00     1\n",
       "1316.00     1\n",
       "1500.00     6\n",
       "1650.00     3\n",
       "1680.00     3\n",
       "1700.00     1\n",
       "1780.00     1\n",
       "1793.00     2\n",
       "1800.00     1\n",
       "1892.00     1\n",
       "1900.00     1\n",
       "1920.00     3\n",
       "1925.00     1\n",
       "2000.00     3\n",
       "2080.00     1\n",
       "2100.00     2\n",
       "2122.00     1\n",
       "2160.00     2\n",
       "2200.00     1\n",
       "2224.39     3\n",
       "2400.00     4\n",
       "2500.00     4\n",
       "2580.00     1\n",
       "2600.00     3\n",
       "2800.00     1\n",
       "2823.36     3\n",
       "2900.00     3\n",
       "3000.00     6\n",
       "3033.00     1\n",
       "3157.00     1\n",
       "3200.00     3\n",
       "3552.00     2\n",
       "4000.00     6\n",
       "4333.00     2\n",
       "4500.00     2\n",
       "4960.00     2\n",
       "5000.00     2\n",
       "5060.00     3\n",
       "5600.00     3\n",
       "5800.00     3\n",
       "5856.00     1\n",
       "6000.00     1\n",
       "6258.66     1\n",
       "6819.08     1\n",
       "7900.00     2\n",
       "8000.00     2\n",
       "8664.00     1\n",
       "10000.00    5\n",
       "11833.00    2\n",
       "12000.00    3\n",
       "60000.00    2\n",
       "Name: Monthly Income, dtype: int64"
      ]
     },
     "execution_count": 12,
     "metadata": {},
     "output_type": "execute_result"
    }
   ],
   "source": [
    "df1['Monthly Income'].value_counts().sort_index()"
   ]
  },
  {
   "cell_type": "code",
   "execution_count": 13,
   "id": "fd13017b",
   "metadata": {},
   "outputs": [
    {
     "data": {
      "text/html": [
       "<div>\n",
       "<style scoped>\n",
       "    .dataframe tbody tr th:only-of-type {\n",
       "        vertical-align: middle;\n",
       "    }\n",
       "\n",
       "    .dataframe tbody tr th {\n",
       "        vertical-align: top;\n",
       "    }\n",
       "\n",
       "    .dataframe thead th {\n",
       "        text-align: right;\n",
       "    }\n",
       "</style>\n",
       "<table border=\"1\" class=\"dataframe\">\n",
       "  <thead>\n",
       "    <tr style=\"text-align: right;\">\n",
       "      <th></th>\n",
       "      <th>ID</th>\n",
       "      <th>First Name</th>\n",
       "      <th>Monthly Income</th>\n",
       "      <th>Pets</th>\n",
       "      <th>Date of Birth</th>\n",
       "      <th>Market</th>\n",
       "      <th>State</th>\n",
       "    </tr>\n",
       "  </thead>\n",
       "  <tbody>\n",
       "    <tr>\n",
       "      <th>167</th>\n",
       "      <td>cm10nprhrb0u3lum</td>\n",
       "      <td>Ethan</td>\n",
       "      <td>0.0</td>\n",
       "      <td>No</td>\n",
       "      <td>2016-05-05</td>\n",
       "      <td>Bay Area</td>\n",
       "      <td>CA</td>\n",
       "    </tr>\n",
       "    <tr>\n",
       "      <th>1999</th>\n",
       "      <td>uesouspc8aj4pu5o</td>\n",
       "      <td>Jose</td>\n",
       "      <td>0.0</td>\n",
       "      <td>No</td>\n",
       "      <td>2017-11-03</td>\n",
       "      <td>SoCal</td>\n",
       "      <td>CA</td>\n",
       "    </tr>\n",
       "    <tr>\n",
       "      <th>2410</th>\n",
       "      <td>846fkuqo0nentnu5</td>\n",
       "      <td>Iknamullah</td>\n",
       "      <td>0.0</td>\n",
       "      <td>No</td>\n",
       "      <td>2001-07-02</td>\n",
       "      <td>SoCal</td>\n",
       "      <td>CA</td>\n",
       "    </tr>\n",
       "    <tr>\n",
       "      <th>2781</th>\n",
       "      <td>5a7i1fep1jl4fhvt</td>\n",
       "      <td>Aaron</td>\n",
       "      <td>0.0</td>\n",
       "      <td>No</td>\n",
       "      <td>2017-01-20</td>\n",
       "      <td>SoCal</td>\n",
       "      <td>CA</td>\n",
       "    </tr>\n",
       "    <tr>\n",
       "      <th>3562</th>\n",
       "      <td>cm10nprhrb0u3lum</td>\n",
       "      <td>Evelyn</td>\n",
       "      <td>0.0</td>\n",
       "      <td>No</td>\n",
       "      <td>2014-04-30</td>\n",
       "      <td>Bay Area</td>\n",
       "      <td>CA</td>\n",
       "    </tr>\n",
       "    <tr>\n",
       "      <th>3892</th>\n",
       "      <td>onfmuf5l373k26jk</td>\n",
       "      <td>Xzavier</td>\n",
       "      <td>0.0</td>\n",
       "      <td>No</td>\n",
       "      <td>2013-01-15</td>\n",
       "      <td>SoCal</td>\n",
       "      <td>CA</td>\n",
       "    </tr>\n",
       "    <tr>\n",
       "      <th>3901</th>\n",
       "      <td>846fkuqo0nentnu5</td>\n",
       "      <td>Sohail</td>\n",
       "      <td>0.0</td>\n",
       "      <td>No</td>\n",
       "      <td>2009-04-09</td>\n",
       "      <td>SoCal</td>\n",
       "      <td>CA</td>\n",
       "    </tr>\n",
       "    <tr>\n",
       "      <th>4345</th>\n",
       "      <td>846fkuqo0nentnu5</td>\n",
       "      <td>Somaya</td>\n",
       "      <td>0.0</td>\n",
       "      <td>No</td>\n",
       "      <td>2003-04-10</td>\n",
       "      <td>SoCal</td>\n",
       "      <td>CA</td>\n",
       "    </tr>\n",
       "    <tr>\n",
       "      <th>4358</th>\n",
       "      <td>onfmuf5l373k26jk</td>\n",
       "      <td>Joeziah</td>\n",
       "      <td>0.0</td>\n",
       "      <td>No</td>\n",
       "      <td>2016-08-31</td>\n",
       "      <td>SoCal</td>\n",
       "      <td>CA</td>\n",
       "    </tr>\n",
       "  </tbody>\n",
       "</table>\n",
       "</div>"
      ],
      "text/plain": [
       "                    ID  First Name  Monthly Income Pets Date of Birth  \\\n",
       "167   cm10nprhrb0u3lum       Ethan             0.0   No    2016-05-05   \n",
       "1999  uesouspc8aj4pu5o        Jose             0.0   No    2017-11-03   \n",
       "2410  846fkuqo0nentnu5  Iknamullah             0.0   No    2001-07-02   \n",
       "2781  5a7i1fep1jl4fhvt       Aaron             0.0   No    2017-01-20   \n",
       "3562  cm10nprhrb0u3lum      Evelyn             0.0   No    2014-04-30   \n",
       "3892  onfmuf5l373k26jk     Xzavier             0.0   No    2013-01-15   \n",
       "3901  846fkuqo0nentnu5      Sohail             0.0   No    2009-04-09   \n",
       "4345  846fkuqo0nentnu5      Somaya             0.0   No    2003-04-10   \n",
       "4358  onfmuf5l373k26jk     Joeziah             0.0   No    2016-08-31   \n",
       "\n",
       "        Market State  \n",
       "167   Bay Area    CA  \n",
       "1999     SoCal    CA  \n",
       "2410     SoCal    CA  \n",
       "2781     SoCal    CA  \n",
       "3562  Bay Area    CA  \n",
       "3892     SoCal    CA  \n",
       "3901     SoCal    CA  \n",
       "4345     SoCal    CA  \n",
       "4358     SoCal    CA  "
      ]
     },
     "execution_count": 13,
     "metadata": {},
     "output_type": "execute_result"
    }
   ],
   "source": [
    "df1[df1['Monthly Income'] == 0]"
   ]
  },
  {
   "cell_type": "code",
   "execution_count": 14,
   "id": "a612b3e7",
   "metadata": {},
   "outputs": [
    {
     "data": {
      "text/html": [
       "<div>\n",
       "<style scoped>\n",
       "    .dataframe tbody tr th:only-of-type {\n",
       "        vertical-align: middle;\n",
       "    }\n",
       "\n",
       "    .dataframe tbody tr th {\n",
       "        vertical-align: top;\n",
       "    }\n",
       "\n",
       "    .dataframe thead th {\n",
       "        text-align: right;\n",
       "    }\n",
       "</style>\n",
       "<table border=\"1\" class=\"dataframe\">\n",
       "  <thead>\n",
       "    <tr style=\"text-align: right;\">\n",
       "      <th></th>\n",
       "      <th>ID</th>\n",
       "      <th>First Name</th>\n",
       "      <th>Monthly Income</th>\n",
       "      <th>Pets</th>\n",
       "      <th>Date of Birth</th>\n",
       "      <th>Market</th>\n",
       "      <th>State</th>\n",
       "    </tr>\n",
       "  </thead>\n",
       "  <tbody>\n",
       "    <tr>\n",
       "      <th>613</th>\n",
       "      <td>hil50gpk08pak286</td>\n",
       "      <td>Elizabeth</td>\n",
       "      <td>1.0</td>\n",
       "      <td>No</td>\n",
       "      <td>2016-10-13</td>\n",
       "      <td>Bay Area</td>\n",
       "      <td>CA</td>\n",
       "    </tr>\n",
       "    <tr>\n",
       "      <th>1571</th>\n",
       "      <td>hil50gpk08pak286</td>\n",
       "      <td>Christian</td>\n",
       "      <td>1.0</td>\n",
       "      <td>No</td>\n",
       "      <td>2012-11-12</td>\n",
       "      <td>Bay Area</td>\n",
       "      <td>CA</td>\n",
       "    </tr>\n",
       "    <tr>\n",
       "      <th>2022</th>\n",
       "      <td>m6156p61vd1lq5c8</td>\n",
       "      <td>Eduardo</td>\n",
       "      <td>1.0</td>\n",
       "      <td>No</td>\n",
       "      <td>2004-04-25</td>\n",
       "      <td>Washington</td>\n",
       "      <td>WA</td>\n",
       "    </tr>\n",
       "    <tr>\n",
       "      <th>2059</th>\n",
       "      <td>m6156p61vd1lq5c8</td>\n",
       "      <td>Jahnuel</td>\n",
       "      <td>1.0</td>\n",
       "      <td>No</td>\n",
       "      <td>2013-09-22</td>\n",
       "      <td>Washington</td>\n",
       "      <td>WA</td>\n",
       "    </tr>\n",
       "    <tr>\n",
       "      <th>4146</th>\n",
       "      <td>m6156p61vd1lq5c8</td>\n",
       "      <td>Samantha</td>\n",
       "      <td>1.0</td>\n",
       "      <td>No</td>\n",
       "      <td>2002-03-28</td>\n",
       "      <td>Washington</td>\n",
       "      <td>WA</td>\n",
       "    </tr>\n",
       "    <tr>\n",
       "      <th>4519</th>\n",
       "      <td>hil50gpk08pak286</td>\n",
       "      <td>Abigail</td>\n",
       "      <td>1.0</td>\n",
       "      <td>No</td>\n",
       "      <td>2016-08-23</td>\n",
       "      <td>Bay Area</td>\n",
       "      <td>CA</td>\n",
       "    </tr>\n",
       "  </tbody>\n",
       "</table>\n",
       "</div>"
      ],
      "text/plain": [
       "                    ID First Name  Monthly Income Pets Date of Birth  \\\n",
       "613   hil50gpk08pak286  Elizabeth             1.0   No    2016-10-13   \n",
       "1571  hil50gpk08pak286  Christian             1.0   No    2012-11-12   \n",
       "2022  m6156p61vd1lq5c8    Eduardo             1.0   No    2004-04-25   \n",
       "2059  m6156p61vd1lq5c8    Jahnuel             1.0   No    2013-09-22   \n",
       "4146  m6156p61vd1lq5c8   Samantha             1.0   No    2002-03-28   \n",
       "4519  hil50gpk08pak286    Abigail             1.0   No    2016-08-23   \n",
       "\n",
       "          Market State  \n",
       "613     Bay Area    CA  \n",
       "1571    Bay Area    CA  \n",
       "2022  Washington    WA  \n",
       "2059  Washington    WA  \n",
       "4146  Washington    WA  \n",
       "4519    Bay Area    CA  "
      ]
     },
     "execution_count": 14,
     "metadata": {},
     "output_type": "execute_result"
    }
   ],
   "source": [
    "df1[df1['Monthly Income'] == 1]"
   ]
  },
  {
   "cell_type": "code",
   "execution_count": 15,
   "id": "09ba6c37",
   "metadata": {},
   "outputs": [],
   "source": [
    "df1.loc[df1['Monthly Income'] == 1, 'Monthly Income'] = 0"
   ]
  },
  {
   "cell_type": "code",
   "execution_count": 16,
   "id": "1afd2b58",
   "metadata": {},
   "outputs": [
    {
     "data": {
      "text/html": [
       "<div>\n",
       "<style scoped>\n",
       "    .dataframe tbody tr th:only-of-type {\n",
       "        vertical-align: middle;\n",
       "    }\n",
       "\n",
       "    .dataframe tbody tr th {\n",
       "        vertical-align: top;\n",
       "    }\n",
       "\n",
       "    .dataframe thead th {\n",
       "        text-align: right;\n",
       "    }\n",
       "</style>\n",
       "<table border=\"1\" class=\"dataframe\">\n",
       "  <thead>\n",
       "    <tr style=\"text-align: right;\">\n",
       "      <th></th>\n",
       "      <th>ID1</th>\n",
       "      <th>AVG Household Income</th>\n",
       "    </tr>\n",
       "  </thead>\n",
       "  <tbody>\n",
       "    <tr>\n",
       "      <th>0</th>\n",
       "      <td>1036esvlf765gpvf</td>\n",
       "      <td>NaN</td>\n",
       "    </tr>\n",
       "    <tr>\n",
       "      <th>1</th>\n",
       "      <td>103ets9k5pi1lb4c</td>\n",
       "      <td>NaN</td>\n",
       "    </tr>\n",
       "    <tr>\n",
       "      <th>2</th>\n",
       "      <td>10meigo5d37fh0nf</td>\n",
       "      <td>NaN</td>\n",
       "    </tr>\n",
       "    <tr>\n",
       "      <th>3</th>\n",
       "      <td>10ppscvogqrlda8i</td>\n",
       "      <td>NaN</td>\n",
       "    </tr>\n",
       "    <tr>\n",
       "      <th>4</th>\n",
       "      <td>11kipbq7epnv7gn1</td>\n",
       "      <td>NaN</td>\n",
       "    </tr>\n",
       "    <tr>\n",
       "      <th>...</th>\n",
       "      <td>...</td>\n",
       "      <td>...</td>\n",
       "    </tr>\n",
       "    <tr>\n",
       "      <th>2520</th>\n",
       "      <td>vuvs5i7ts942hnq2</td>\n",
       "      <td>NaN</td>\n",
       "    </tr>\n",
       "    <tr>\n",
       "      <th>2521</th>\n",
       "      <td>vv3gnlnaghf2vm27</td>\n",
       "      <td>NaN</td>\n",
       "    </tr>\n",
       "    <tr>\n",
       "      <th>2522</th>\n",
       "      <td>vv5bj18ule2sg5q0</td>\n",
       "      <td>NaN</td>\n",
       "    </tr>\n",
       "    <tr>\n",
       "      <th>2523</th>\n",
       "      <td>vv7r5j2runbrabuo</td>\n",
       "      <td>NaN</td>\n",
       "    </tr>\n",
       "    <tr>\n",
       "      <th>2524</th>\n",
       "      <td>vvrs931tpdo5t681</td>\n",
       "      <td>NaN</td>\n",
       "    </tr>\n",
       "  </tbody>\n",
       "</table>\n",
       "<p>2525 rows × 2 columns</p>\n",
       "</div>"
      ],
      "text/plain": [
       "                   ID1  AVG Household Income\n",
       "0     1036esvlf765gpvf                   NaN\n",
       "1     103ets9k5pi1lb4c                   NaN\n",
       "2     10meigo5d37fh0nf                   NaN\n",
       "3     10ppscvogqrlda8i                   NaN\n",
       "4     11kipbq7epnv7gn1                   NaN\n",
       "...                ...                   ...\n",
       "2520  vuvs5i7ts942hnq2                   NaN\n",
       "2521  vv3gnlnaghf2vm27                   NaN\n",
       "2522  vv5bj18ule2sg5q0                   NaN\n",
       "2523  vv7r5j2runbrabuo                   NaN\n",
       "2524  vvrs931tpdo5t681                   NaN\n",
       "\n",
       "[2525 rows x 2 columns]"
      ]
     },
     "execution_count": 16,
     "metadata": {},
     "output_type": "execute_result"
    }
   ],
   "source": [
    "g = df1.groupby('ID')['Monthly Income'].mean().reset_index()\n",
    "g.columns = ['ID1', 'AVG Household Income']\n",
    "g"
   ]
  },
  {
   "cell_type": "code",
   "execution_count": 17,
   "id": "27df7b9c",
   "metadata": {},
   "outputs": [
    {
     "data": {
      "text/html": [
       "<div>\n",
       "<style scoped>\n",
       "    .dataframe tbody tr th:only-of-type {\n",
       "        vertical-align: middle;\n",
       "    }\n",
       "\n",
       "    .dataframe tbody tr th {\n",
       "        vertical-align: top;\n",
       "    }\n",
       "\n",
       "    .dataframe thead th {\n",
       "        text-align: right;\n",
       "    }\n",
       "</style>\n",
       "<table border=\"1\" class=\"dataframe\">\n",
       "  <thead>\n",
       "    <tr style=\"text-align: right;\">\n",
       "      <th></th>\n",
       "      <th>ID</th>\n",
       "      <th>First Name</th>\n",
       "      <th>Monthly Income</th>\n",
       "      <th>Pets</th>\n",
       "      <th>Date of Birth</th>\n",
       "      <th>Market</th>\n",
       "      <th>State</th>\n",
       "      <th>AVG Household Income</th>\n",
       "    </tr>\n",
       "  </thead>\n",
       "  <tbody>\n",
       "    <tr>\n",
       "      <th>0</th>\n",
       "      <td>p3do03ecr7t67spn</td>\n",
       "      <td>Jayzua-nae</td>\n",
       "      <td>NaN</td>\n",
       "      <td>Yes</td>\n",
       "      <td>2011-04-20</td>\n",
       "      <td>East</td>\n",
       "      <td>NC</td>\n",
       "      <td>NaN</td>\n",
       "    </tr>\n",
       "    <tr>\n",
       "      <th>1</th>\n",
       "      <td>p3do03ecr7t67spn</td>\n",
       "      <td>Jason</td>\n",
       "      <td>NaN</td>\n",
       "      <td>Yes</td>\n",
       "      <td>2009-01-09</td>\n",
       "      <td>East</td>\n",
       "      <td>NC</td>\n",
       "      <td>NaN</td>\n",
       "    </tr>\n",
       "    <tr>\n",
       "      <th>2</th>\n",
       "      <td>p3do03ecr7t67spn</td>\n",
       "      <td>Janyla</td>\n",
       "      <td>NaN</td>\n",
       "      <td>Yes</td>\n",
       "      <td>2012-11-23</td>\n",
       "      <td>East</td>\n",
       "      <td>NC</td>\n",
       "      <td>NaN</td>\n",
       "    </tr>\n",
       "    <tr>\n",
       "      <th>3</th>\n",
       "      <td>sfkib3fm5afbg4lv</td>\n",
       "      <td>Maxim</td>\n",
       "      <td>NaN</td>\n",
       "      <td>No</td>\n",
       "      <td>2009-01-20</td>\n",
       "      <td>Bay Area</td>\n",
       "      <td>CA</td>\n",
       "      <td>NaN</td>\n",
       "    </tr>\n",
       "    <tr>\n",
       "      <th>4</th>\n",
       "      <td>sfkib3fm5afbg4lv</td>\n",
       "      <td>Nicole</td>\n",
       "      <td>NaN</td>\n",
       "      <td>No</td>\n",
       "      <td>2011-05-27</td>\n",
       "      <td>Bay Area</td>\n",
       "      <td>CA</td>\n",
       "      <td>NaN</td>\n",
       "    </tr>\n",
       "    <tr>\n",
       "      <th>...</th>\n",
       "      <td>...</td>\n",
       "      <td>...</td>\n",
       "      <td>...</td>\n",
       "      <td>...</td>\n",
       "      <td>...</td>\n",
       "      <td>...</td>\n",
       "      <td>...</td>\n",
       "      <td>...</td>\n",
       "    </tr>\n",
       "    <tr>\n",
       "      <th>4856</th>\n",
       "      <td>q26l9nm5rr6n4rve</td>\n",
       "      <td>Leon</td>\n",
       "      <td>NaN</td>\n",
       "      <td>No</td>\n",
       "      <td>2018-03-09</td>\n",
       "      <td>East</td>\n",
       "      <td>GA</td>\n",
       "      <td>NaN</td>\n",
       "    </tr>\n",
       "    <tr>\n",
       "      <th>4857</th>\n",
       "      <td>4busp4hui2rlhfjn</td>\n",
       "      <td>Ariel</td>\n",
       "      <td>NaN</td>\n",
       "      <td>No</td>\n",
       "      <td>2012-06-19</td>\n",
       "      <td>East</td>\n",
       "      <td>AL</td>\n",
       "      <td>NaN</td>\n",
       "    </tr>\n",
       "    <tr>\n",
       "      <th>4858</th>\n",
       "      <td>fqt3n1in42ddp0ov</td>\n",
       "      <td>Cole</td>\n",
       "      <td>NaN</td>\n",
       "      <td>No</td>\n",
       "      <td>2009-10-10</td>\n",
       "      <td>Washington</td>\n",
       "      <td>WA</td>\n",
       "      <td>NaN</td>\n",
       "    </tr>\n",
       "    <tr>\n",
       "      <th>4859</th>\n",
       "      <td>vjb2sfvo1injlen0</td>\n",
       "      <td>kaiden</td>\n",
       "      <td>NaN</td>\n",
       "      <td>Yes</td>\n",
       "      <td>2014-04-11</td>\n",
       "      <td>East</td>\n",
       "      <td>NC</td>\n",
       "      <td>NaN</td>\n",
       "    </tr>\n",
       "    <tr>\n",
       "      <th>4860</th>\n",
       "      <td>9md3lb44u6o4ddri</td>\n",
       "      <td>Malia</td>\n",
       "      <td>NaN</td>\n",
       "      <td>No</td>\n",
       "      <td>2020-02-27</td>\n",
       "      <td>SoCal</td>\n",
       "      <td>CA</td>\n",
       "      <td>NaN</td>\n",
       "    </tr>\n",
       "  </tbody>\n",
       "</table>\n",
       "<p>4861 rows × 8 columns</p>\n",
       "</div>"
      ],
      "text/plain": [
       "                    ID  First Name  Monthly Income Pets Date of Birth  \\\n",
       "0     p3do03ecr7t67spn  Jayzua-nae             NaN  Yes    2011-04-20   \n",
       "1     p3do03ecr7t67spn       Jason             NaN  Yes    2009-01-09   \n",
       "2     p3do03ecr7t67spn      Janyla             NaN  Yes    2012-11-23   \n",
       "3     sfkib3fm5afbg4lv       Maxim             NaN   No    2009-01-20   \n",
       "4     sfkib3fm5afbg4lv      Nicole             NaN   No    2011-05-27   \n",
       "...                ...         ...             ...  ...           ...   \n",
       "4856  q26l9nm5rr6n4rve        Leon             NaN   No    2018-03-09   \n",
       "4857  4busp4hui2rlhfjn       Ariel             NaN   No    2012-06-19   \n",
       "4858  fqt3n1in42ddp0ov        Cole             NaN   No    2009-10-10   \n",
       "4859  vjb2sfvo1injlen0      kaiden             NaN  Yes    2014-04-11   \n",
       "4860  9md3lb44u6o4ddri       Malia             NaN   No    2020-02-27   \n",
       "\n",
       "          Market State  AVG Household Income  \n",
       "0           East    NC                   NaN  \n",
       "1           East    NC                   NaN  \n",
       "2           East    NC                   NaN  \n",
       "3       Bay Area    CA                   NaN  \n",
       "4       Bay Area    CA                   NaN  \n",
       "...          ...   ...                   ...  \n",
       "4856        East    GA                   NaN  \n",
       "4857        East    AL                   NaN  \n",
       "4858  Washington    WA                   NaN  \n",
       "4859        East    NC                   NaN  \n",
       "4860       SoCal    CA                   NaN  \n",
       "\n",
       "[4861 rows x 8 columns]"
      ]
     },
     "execution_count": 17,
     "metadata": {},
     "output_type": "execute_result"
    }
   ],
   "source": [
    "df1 = df1.merge(g, left_on='ID', right_on='ID1')\n",
    "\n",
    "df1 = df1.drop(['ID1'], axis=1)\n",
    "df1"
   ]
  },
  {
   "cell_type": "code",
   "execution_count": 18,
   "id": "77938537",
   "metadata": {},
   "outputs": [
    {
     "data": {
      "text/html": [
       "<div>\n",
       "<style scoped>\n",
       "    .dataframe tbody tr th:only-of-type {\n",
       "        vertical-align: middle;\n",
       "    }\n",
       "\n",
       "    .dataframe tbody tr th {\n",
       "        vertical-align: top;\n",
       "    }\n",
       "\n",
       "    .dataframe thead th {\n",
       "        text-align: right;\n",
       "    }\n",
       "</style>\n",
       "<table border=\"1\" class=\"dataframe\">\n",
       "  <thead>\n",
       "    <tr style=\"text-align: right;\">\n",
       "      <th></th>\n",
       "      <th>ID</th>\n",
       "      <th>First Name</th>\n",
       "      <th>Monthly Income</th>\n",
       "      <th>Pets</th>\n",
       "      <th>Date of Birth</th>\n",
       "      <th>Market</th>\n",
       "      <th>State</th>\n",
       "      <th>AVG Household Income</th>\n",
       "    </tr>\n",
       "  </thead>\n",
       "  <tbody>\n",
       "    <tr>\n",
       "      <th>0</th>\n",
       "      <td>p3do03ecr7t67spn</td>\n",
       "      <td>Jayzua-nae</td>\n",
       "      <td>NaN</td>\n",
       "      <td>Yes</td>\n",
       "      <td>2011-04-20</td>\n",
       "      <td>East</td>\n",
       "      <td>NC</td>\n",
       "      <td>NaN</td>\n",
       "    </tr>\n",
       "    <tr>\n",
       "      <th>1</th>\n",
       "      <td>p3do03ecr7t67spn</td>\n",
       "      <td>Jason</td>\n",
       "      <td>NaN</td>\n",
       "      <td>Yes</td>\n",
       "      <td>2009-01-09</td>\n",
       "      <td>East</td>\n",
       "      <td>NC</td>\n",
       "      <td>NaN</td>\n",
       "    </tr>\n",
       "    <tr>\n",
       "      <th>2</th>\n",
       "      <td>p3do03ecr7t67spn</td>\n",
       "      <td>Janyla</td>\n",
       "      <td>NaN</td>\n",
       "      <td>Yes</td>\n",
       "      <td>2012-11-23</td>\n",
       "      <td>East</td>\n",
       "      <td>NC</td>\n",
       "      <td>NaN</td>\n",
       "    </tr>\n",
       "    <tr>\n",
       "      <th>3</th>\n",
       "      <td>sfkib3fm5afbg4lv</td>\n",
       "      <td>Maxim</td>\n",
       "      <td>NaN</td>\n",
       "      <td>No</td>\n",
       "      <td>2009-01-20</td>\n",
       "      <td>Bay Area</td>\n",
       "      <td>CA</td>\n",
       "      <td>NaN</td>\n",
       "    </tr>\n",
       "    <tr>\n",
       "      <th>4</th>\n",
       "      <td>sfkib3fm5afbg4lv</td>\n",
       "      <td>Nicole</td>\n",
       "      <td>NaN</td>\n",
       "      <td>No</td>\n",
       "      <td>2011-05-27</td>\n",
       "      <td>Bay Area</td>\n",
       "      <td>CA</td>\n",
       "      <td>NaN</td>\n",
       "    </tr>\n",
       "    <tr>\n",
       "      <th>...</th>\n",
       "      <td>...</td>\n",
       "      <td>...</td>\n",
       "      <td>...</td>\n",
       "      <td>...</td>\n",
       "      <td>...</td>\n",
       "      <td>...</td>\n",
       "      <td>...</td>\n",
       "      <td>...</td>\n",
       "    </tr>\n",
       "    <tr>\n",
       "      <th>4856</th>\n",
       "      <td>q26l9nm5rr6n4rve</td>\n",
       "      <td>Leon</td>\n",
       "      <td>NaN</td>\n",
       "      <td>No</td>\n",
       "      <td>2018-03-09</td>\n",
       "      <td>East</td>\n",
       "      <td>GA</td>\n",
       "      <td>NaN</td>\n",
       "    </tr>\n",
       "    <tr>\n",
       "      <th>4857</th>\n",
       "      <td>4busp4hui2rlhfjn</td>\n",
       "      <td>Ariel</td>\n",
       "      <td>NaN</td>\n",
       "      <td>No</td>\n",
       "      <td>2012-06-19</td>\n",
       "      <td>East</td>\n",
       "      <td>AL</td>\n",
       "      <td>NaN</td>\n",
       "    </tr>\n",
       "    <tr>\n",
       "      <th>4858</th>\n",
       "      <td>fqt3n1in42ddp0ov</td>\n",
       "      <td>Cole</td>\n",
       "      <td>NaN</td>\n",
       "      <td>No</td>\n",
       "      <td>2009-10-10</td>\n",
       "      <td>Washington</td>\n",
       "      <td>WA</td>\n",
       "      <td>NaN</td>\n",
       "    </tr>\n",
       "    <tr>\n",
       "      <th>4859</th>\n",
       "      <td>vjb2sfvo1injlen0</td>\n",
       "      <td>kaiden</td>\n",
       "      <td>NaN</td>\n",
       "      <td>Yes</td>\n",
       "      <td>2014-04-11</td>\n",
       "      <td>East</td>\n",
       "      <td>NC</td>\n",
       "      <td>NaN</td>\n",
       "    </tr>\n",
       "    <tr>\n",
       "      <th>4860</th>\n",
       "      <td>9md3lb44u6o4ddri</td>\n",
       "      <td>Malia</td>\n",
       "      <td>NaN</td>\n",
       "      <td>No</td>\n",
       "      <td>2020-02-27</td>\n",
       "      <td>SoCal</td>\n",
       "      <td>CA</td>\n",
       "      <td>NaN</td>\n",
       "    </tr>\n",
       "  </tbody>\n",
       "</table>\n",
       "<p>4734 rows × 8 columns</p>\n",
       "</div>"
      ],
      "text/plain": [
       "                    ID  First Name  Monthly Income Pets Date of Birth  \\\n",
       "0     p3do03ecr7t67spn  Jayzua-nae             NaN  Yes    2011-04-20   \n",
       "1     p3do03ecr7t67spn       Jason             NaN  Yes    2009-01-09   \n",
       "2     p3do03ecr7t67spn      Janyla             NaN  Yes    2012-11-23   \n",
       "3     sfkib3fm5afbg4lv       Maxim             NaN   No    2009-01-20   \n",
       "4     sfkib3fm5afbg4lv      Nicole             NaN   No    2011-05-27   \n",
       "...                ...         ...             ...  ...           ...   \n",
       "4856  q26l9nm5rr6n4rve        Leon             NaN   No    2018-03-09   \n",
       "4857  4busp4hui2rlhfjn       Ariel             NaN   No    2012-06-19   \n",
       "4858  fqt3n1in42ddp0ov        Cole             NaN   No    2009-10-10   \n",
       "4859  vjb2sfvo1injlen0      kaiden             NaN  Yes    2014-04-11   \n",
       "4860  9md3lb44u6o4ddri       Malia             NaN   No    2020-02-27   \n",
       "\n",
       "          Market State  AVG Household Income  \n",
       "0           East    NC                   NaN  \n",
       "1           East    NC                   NaN  \n",
       "2           East    NC                   NaN  \n",
       "3       Bay Area    CA                   NaN  \n",
       "4       Bay Area    CA                   NaN  \n",
       "...          ...   ...                   ...  \n",
       "4856        East    GA                   NaN  \n",
       "4857        East    AL                   NaN  \n",
       "4858  Washington    WA                   NaN  \n",
       "4859        East    NC                   NaN  \n",
       "4860       SoCal    CA                   NaN  \n",
       "\n",
       "[4734 rows x 8 columns]"
      ]
     },
     "execution_count": 18,
     "metadata": {},
     "output_type": "execute_result"
    }
   ],
   "source": [
    "data = df1[~df1.duplicated(['ID', 'First Name', 'Date of Birth'])]\n",
    "data"
   ]
  },
  {
   "cell_type": "code",
   "execution_count": 19,
   "id": "0bff4221",
   "metadata": {},
   "outputs": [
    {
     "data": {
      "text/plain": [
       "0.000000        3\n",
       "2325.000000     3\n",
       "2823.360000     3\n",
       "800.000000      3\n",
       "10000.000000    3\n",
       "4150.000000     3\n",
       "2193.333333     3\n",
       "1920.000000     3\n",
       "1625.000000     3\n",
       "3912.195000     3\n",
       "12000.000000    3\n",
       "2000.000000     3\n",
       "2530.000000     3\n",
       "4960.000000     2\n",
       "5000.000000     2\n",
       "1328.500000     2\n",
       "3063.000000     2\n",
       "7900.000000     2\n",
       "60000.000000    2\n",
       "5750.000000     2\n",
       "1000.000000     2\n",
       "4500.000000     2\n",
       "5916.500000     2\n",
       "1200.000000     2\n",
       "8000.000000     2\n",
       "3376.000000     2\n",
       "2160.000000     1\n",
       "3100.000000     1\n",
       "3040.000000     1\n",
       "6819.080000     1\n",
       "2300.000000     1\n",
       "4428.000000     1\n",
       "974.000000      1\n",
       "1940.000000     1\n",
       "8664.000000     1\n",
       "3033.000000     1\n",
       "2157.333333     1\n",
       "1316.000000     1\n",
       "3000.000000     1\n",
       "6258.660000     1\n",
       "6000.000000     1\n",
       "1122.500000     1\n",
       "1712.500000     1\n",
       "1578.500000     1\n",
       "1800.000000     1\n",
       "1980.000000     1\n",
       "2420.000000     1\n",
       "3250.000000     1\n",
       "Name: AVG Household Income, dtype: int64"
      ]
     },
     "execution_count": 19,
     "metadata": {},
     "output_type": "execute_result"
    }
   ],
   "source": [
    "data['AVG Household Income'].value_counts()"
   ]
  },
  {
   "cell_type": "code",
   "execution_count": 20,
   "id": "89c231d1",
   "metadata": {},
   "outputs": [
    {
     "data": {
      "text/plain": [
       "<AxesSubplot:xlabel='AVG Household Income', ylabel='Count'>"
      ]
     },
     "execution_count": 20,
     "metadata": {},
     "output_type": "execute_result"
    },
    {
     "data": {
      "image/png": "[encoded data removed]",
      "text/plain": [
       "<Figure size 432x288 with 1 Axes>"
      ]
     },
     "metadata": {
      "needs_background": "light"
     },
     "output_type": "display_data"
    }
   ],
   "source": [
    "data = data[data['AVG Household Income'].notnull()]\n",
    "sns.histplot(data['AVG Household Income'])"
   ]
  },
  {
   "cell_type": "code",
   "execution_count": 21,
   "id": "01aae920",
   "metadata": {},
   "outputs": [
    {
     "data": {
      "text/html": [
       "<div>\n",
       "<style scoped>\n",
       "    .dataframe tbody tr th:only-of-type {\n",
       "        vertical-align: middle;\n",
       "    }\n",
       "\n",
       "    .dataframe tbody tr th {\n",
       "        vertical-align: top;\n",
       "    }\n",
       "\n",
       "    .dataframe thead th {\n",
       "        text-align: right;\n",
       "    }\n",
       "</style>\n",
       "<table border=\"1\" class=\"dataframe\">\n",
       "  <thead>\n",
       "    <tr style=\"text-align: right;\">\n",
       "      <th></th>\n",
       "      <th>ID</th>\n",
       "      <th>First Name</th>\n",
       "      <th>Monthly Income</th>\n",
       "      <th>Pets</th>\n",
       "      <th>Date of Birth</th>\n",
       "      <th>Market</th>\n",
       "      <th>State</th>\n",
       "      <th>AVG Household Income</th>\n",
       "    </tr>\n",
       "  </thead>\n",
       "  <tbody>\n",
       "    <tr>\n",
       "      <th>4257</th>\n",
       "      <td>3n7unkoc72m6d4jn</td>\n",
       "      <td>Matilda</td>\n",
       "      <td>60000.0</td>\n",
       "      <td>Yes</td>\n",
       "      <td>2013-08-27</td>\n",
       "      <td>Sacramento</td>\n",
       "      <td>CA</td>\n",
       "      <td>60000.0</td>\n",
       "    </tr>\n",
       "    <tr>\n",
       "      <th>4258</th>\n",
       "      <td>3n7unkoc72m6d4jn</td>\n",
       "      <td>Landon</td>\n",
       "      <td>60000.0</td>\n",
       "      <td>Yes</td>\n",
       "      <td>2009-09-19</td>\n",
       "      <td>Sacramento</td>\n",
       "      <td>CA</td>\n",
       "      <td>60000.0</td>\n",
       "    </tr>\n",
       "  </tbody>\n",
       "</table>\n",
       "</div>"
      ],
      "text/plain": [
       "                    ID First Name  Monthly Income Pets Date of Birth  \\\n",
       "4257  3n7unkoc72m6d4jn    Matilda         60000.0  Yes    2013-08-27   \n",
       "4258  3n7unkoc72m6d4jn     Landon         60000.0  Yes    2009-09-19   \n",
       "\n",
       "          Market State  AVG Household Income  \n",
       "4257  Sacramento    CA               60000.0  \n",
       "4258  Sacramento    CA               60000.0  "
      ]
     },
     "execution_count": 21,
     "metadata": {},
     "output_type": "execute_result"
    }
   ],
   "source": [
    "data[data['AVG Household Income'] == 60000]"
   ]
  },
  {
   "cell_type": "code",
   "execution_count": 22,
   "id": "b481b9f9",
   "metadata": {},
   "outputs": [
    {
     "name": "stderr",
     "output_type": "stream",
     "text": [
      "C:\\Users\\arash\\anaconda3\\lib\\site-packages\\pandas\\core\\indexing.py:1720: SettingWithCopyWarning: \n",
      "A value is trying to be set on a copy of a slice from a DataFrame.\n",
      "Try using .loc[row_indexer,col_indexer] = value instead\n",
      "\n",
      "See the caveats in the documentation: https://pandas.pydata.org/pandas-docs/stable/user_guide/indexing.html#returning-a-view-versus-a-copy\n",
      "  self._setitem_single_column(loc, value, pi)\n"
     ]
    },
    {
     "data": {
      "image/png": "[encoded data removed]",
      "text/plain": [
       "<Figure size 432x288 with 1 Axes>"
      ]
     },
     "metadata": {
      "needs_background": "light"
     },
     "output_type": "display_data"
    }
   ],
   "source": [
    "data.loc[data['AVG Household Income'] == 60000, 'AVG Household Income'] = 6000.0\n",
    "\n",
    "\n",
    "ax = sns.histplot(data['AVG Household Income'])\n",
    "\n",
    "for p in ax.patches: \n",
    "    ax.annotate('{:}'.format(p.get_height()), (p.get_x()+4.25, p.get_height()+.3)) \n",
    "plt.show()"
   ]
  },
  {
   "cell_type": "code",
   "execution_count": 23,
   "id": "d3de596b",
   "metadata": {},
   "outputs": [
    {
     "data": {
      "text/plain": [
       "m6156p61vd1lq5c8    3\n",
       "79715lt1aq59idnq    3\n",
       "fhq2d8pfeh8a9na4    3\n",
       "mk6t4l5da8m1dss2    3\n",
       "hil50gpk08pak286    3\n",
       "sn7tnalsq70eui1l    3\n",
       "4p1gqldb36ldocmb    3\n",
       "nfi2m31sr811qbaq    3\n",
       "9pvkmps8quscn1o1    3\n",
       "eo83ce5cb1u3er5m    3\n",
       "846fkuqo0nentnu5    3\n",
       "gdahf3t8bu83ud0e    2\n",
       "8avjs5cl2erp2ktc    2\n",
       "47jt5k9qtflndops    2\n",
       "mqdqcf5h52bc4cj1    2\n",
       "cm10nprhrb0u3lum    2\n",
       "onfmuf5l373k26jk    2\n",
       "3n7unkoc72m6d4jn    2\n",
       "8rd7tpke0n51hkeq    2\n",
       "fih2b5sso3d2fjq2    2\n",
       "9p197dbbnq5p0om4    2\n",
       "on21oh07948391n7    2\n",
       "rso35m0jpv9jufk7    2\n",
       "c9adv6jjm1nm1ao2    2\n",
       "19sh5fa544e8dcge    2\n",
       "1n7itrh3k8mq3ngb    1\n",
       "1iqdan411s84auhj    1\n",
       "fo5nfecmbrthda2s    1\n",
       "vhp4ueplcke166as    1\n",
       "m6sn704dilop2mph    1\n",
       "dg00cdau1tt4bot5    1\n",
       "jp0ev28sqcl4cnpc    1\n",
       "sb8ukb4q60iibvlp    1\n",
       "6lho9jeshote6ed5    1\n",
       "a48i52hl2eq21od     1\n",
       "phenfmf9nertkth8    1\n",
       "5a7i1fep1jl4fhvt    1\n",
       "2vnholkgh93gii5r    1\n",
       "pt5vhgs3se26cmi6    1\n",
       "uupsrlnp9agatf2e    1\n",
       "tn23flfam5n4sqk4    1\n",
       "1q26v0rlhnjjvajt    1\n",
       "uesouspc8aj4pu5o    1\n",
       "o04ckbl5scm53ds3    1\n",
       "5sre79je95mkrgeg    1\n",
       "q90m1fkc09merhks    1\n",
       "prlfng8eg0dras88    1\n",
       "l099j9givh5t6do     1\n",
       "vl76ve8pfb3oalr1    1\n",
       "5qemkdsig3pnjo04    1\n",
       "s1928jo19jhth5pk    1\n",
       "Name: ID, dtype: int64"
      ]
     },
     "execution_count": 23,
     "metadata": {},
     "output_type": "execute_result"
    }
   ],
   "source": [
    "data.ID.value_counts()"
   ]
  },
  {
   "cell_type": "code",
   "execution_count": 24,
   "id": "1ce6d951",
   "metadata": {},
   "outputs": [
    {
     "data": {
      "text/plain": [
       "m6156p61vd1lq5c8    3\n",
       "79715lt1aq59idnq    3\n",
       "fhq2d8pfeh8a9na4    3\n",
       "mk6t4l5da8m1dss2    3\n",
       "hil50gpk08pak286    3\n",
       "sn7tnalsq70eui1l    3\n",
       "4p1gqldb36ldocmb    3\n",
       "nfi2m31sr811qbaq    3\n",
       "9pvkmps8quscn1o1    3\n",
       "eo83ce5cb1u3er5m    3\n",
       "846fkuqo0nentnu5    3\n",
       "gdahf3t8bu83ud0e    2\n",
       "8avjs5cl2erp2ktc    2\n",
       "47jt5k9qtflndops    2\n",
       "mqdqcf5h52bc4cj1    2\n",
       "cm10nprhrb0u3lum    2\n",
       "onfmuf5l373k26jk    2\n",
       "3n7unkoc72m6d4jn    2\n",
       "8rd7tpke0n51hkeq    2\n",
       "fih2b5sso3d2fjq2    2\n",
       "9p197dbbnq5p0om4    2\n",
       "on21oh07948391n7    2\n",
       "rso35m0jpv9jufk7    2\n",
       "c9adv6jjm1nm1ao2    2\n",
       "19sh5fa544e8dcge    2\n",
       "1n7itrh3k8mq3ngb    1\n",
       "1iqdan411s84auhj    1\n",
       "fo5nfecmbrthda2s    1\n",
       "vhp4ueplcke166as    1\n",
       "m6sn704dilop2mph    1\n",
       "dg00cdau1tt4bot5    1\n",
       "jp0ev28sqcl4cnpc    1\n",
       "sb8ukb4q60iibvlp    1\n",
       "6lho9jeshote6ed5    1\n",
       "a48i52hl2eq21od     1\n",
       "phenfmf9nertkth8    1\n",
       "5a7i1fep1jl4fhvt    1\n",
       "2vnholkgh93gii5r    1\n",
       "pt5vhgs3se26cmi6    1\n",
       "uupsrlnp9agatf2e    1\n",
       "tn23flfam5n4sqk4    1\n",
       "1q26v0rlhnjjvajt    1\n",
       "uesouspc8aj4pu5o    1\n",
       "o04ckbl5scm53ds3    1\n",
       "5sre79je95mkrgeg    1\n",
       "q90m1fkc09merhks    1\n",
       "prlfng8eg0dras88    1\n",
       "l099j9givh5t6do     1\n",
       "vl76ve8pfb3oalr1    1\n",
       "5qemkdsig3pnjo04    1\n",
       "s1928jo19jhth5pk    1\n",
       "Name: ID, dtype: int64"
      ]
     },
     "execution_count": 24,
     "metadata": {},
     "output_type": "execute_result"
    }
   ],
   "source": [
    "data.ID.value_counts()"
   ]
  },
  {
   "cell_type": "code",
   "execution_count": 25,
   "id": "6810e7ac",
   "metadata": {},
   "outputs": [
    {
     "data": {
      "text/html": [
       "<div>\n",
       "<style scoped>\n",
       "    .dataframe tbody tr th:only-of-type {\n",
       "        vertical-align: middle;\n",
       "    }\n",
       "\n",
       "    .dataframe tbody tr th {\n",
       "        vertical-align: top;\n",
       "    }\n",
       "\n",
       "    .dataframe thead th {\n",
       "        text-align: right;\n",
       "    }\n",
       "</style>\n",
       "<table border=\"1\" class=\"dataframe\">\n",
       "  <thead>\n",
       "    <tr style=\"text-align: right;\">\n",
       "      <th></th>\n",
       "      <th>ID</th>\n",
       "      <th>First Name</th>\n",
       "      <th>Monthly Income</th>\n",
       "      <th>Pets</th>\n",
       "      <th>Date of Birth</th>\n",
       "      <th>Market</th>\n",
       "      <th>State</th>\n",
       "      <th>AVG Household Income</th>\n",
       "    </tr>\n",
       "  </thead>\n",
       "  <tbody>\n",
       "    <tr>\n",
       "      <th>34</th>\n",
       "      <td>669fasfgrrd204ru</td>\n",
       "      <td>Kailie</td>\n",
       "      <td>NaN</td>\n",
       "      <td>Yes</td>\n",
       "      <td>2006-05-04</td>\n",
       "      <td>East</td>\n",
       "      <td>FL</td>\n",
       "      <td>NaN</td>\n",
       "    </tr>\n",
       "    <tr>\n",
       "      <th>35</th>\n",
       "      <td>669fasfgrrd204ru</td>\n",
       "      <td>Andrew</td>\n",
       "      <td>NaN</td>\n",
       "      <td>Yes</td>\n",
       "      <td>2005-03-15</td>\n",
       "      <td>East</td>\n",
       "      <td>FL</td>\n",
       "      <td>NaN</td>\n",
       "    </tr>\n",
       "    <tr>\n",
       "      <th>38</th>\n",
       "      <td>669fasfgrrd204ru</td>\n",
       "      <td>Nolan</td>\n",
       "      <td>NaN</td>\n",
       "      <td>Yes</td>\n",
       "      <td>2009-08-19</td>\n",
       "      <td>East</td>\n",
       "      <td>FL</td>\n",
       "      <td>NaN</td>\n",
       "    </tr>\n",
       "    <tr>\n",
       "      <th>39</th>\n",
       "      <td>669fasfgrrd204ru</td>\n",
       "      <td>Lauren</td>\n",
       "      <td>NaN</td>\n",
       "      <td>Yes</td>\n",
       "      <td>2008-12-29</td>\n",
       "      <td>East</td>\n",
       "      <td>FL</td>\n",
       "      <td>NaN</td>\n",
       "    </tr>\n",
       "    <tr>\n",
       "      <th>121</th>\n",
       "      <td>rijv7ktqts8e67gs</td>\n",
       "      <td>Eva</td>\n",
       "      <td>NaN</td>\n",
       "      <td>Yes</td>\n",
       "      <td>2017-02-08</td>\n",
       "      <td>Central</td>\n",
       "      <td>TX</td>\n",
       "      <td>NaN</td>\n",
       "    </tr>\n",
       "    <tr>\n",
       "      <th>...</th>\n",
       "      <td>...</td>\n",
       "      <td>...</td>\n",
       "      <td>...</td>\n",
       "      <td>...</td>\n",
       "      <td>...</td>\n",
       "      <td>...</td>\n",
       "      <td>...</td>\n",
       "      <td>...</td>\n",
       "    </tr>\n",
       "    <tr>\n",
       "      <th>4189</th>\n",
       "      <td>8avjs5cl2erp2ktc</td>\n",
       "      <td>Ava</td>\n",
       "      <td>557.0</td>\n",
       "      <td>No</td>\n",
       "      <td>2018-10-25</td>\n",
       "      <td>SoCal</td>\n",
       "      <td>CA</td>\n",
       "      <td>1328.5</td>\n",
       "    </tr>\n",
       "    <tr>\n",
       "      <th>4190</th>\n",
       "      <td>8avjs5cl2erp2ktc</td>\n",
       "      <td>Zoe</td>\n",
       "      <td>557.0</td>\n",
       "      <td>No</td>\n",
       "      <td>2008-10-25</td>\n",
       "      <td>SoCal</td>\n",
       "      <td>CA</td>\n",
       "      <td>1328.5</td>\n",
       "    </tr>\n",
       "    <tr>\n",
       "      <th>4252</th>\n",
       "      <td>1q26v0rlhnjjvajt</td>\n",
       "      <td>Emalie</td>\n",
       "      <td>4000.0</td>\n",
       "      <td>Yes</td>\n",
       "      <td>2016-03-08</td>\n",
       "      <td>SoCal</td>\n",
       "      <td>CA</td>\n",
       "      <td>3250.0</td>\n",
       "    </tr>\n",
       "    <tr>\n",
       "      <th>4546</th>\n",
       "      <td>5qemkdsig3pnjo04</td>\n",
       "      <td>Christopher</td>\n",
       "      <td>2080.0</td>\n",
       "      <td>No</td>\n",
       "      <td>2009-09-26</td>\n",
       "      <td>Bay Area</td>\n",
       "      <td>CA</td>\n",
       "      <td>3040.0</td>\n",
       "    </tr>\n",
       "    <tr>\n",
       "      <th>4742</th>\n",
       "      <td>6lho9jeshote6ed5</td>\n",
       "      <td>Aima</td>\n",
       "      <td>4000.0</td>\n",
       "      <td>No</td>\n",
       "      <td>2001-04-13</td>\n",
       "      <td>SoCal</td>\n",
       "      <td>CA</td>\n",
       "      <td>2420.0</td>\n",
       "    </tr>\n",
       "  </tbody>\n",
       "</table>\n",
       "<p>127 rows × 8 columns</p>\n",
       "</div>"
      ],
      "text/plain": [
       "                    ID   First Name  Monthly Income Pets Date of Birth  \\\n",
       "34    669fasfgrrd204ru       Kailie             NaN  Yes    2006-05-04   \n",
       "35    669fasfgrrd204ru       Andrew             NaN  Yes    2005-03-15   \n",
       "38    669fasfgrrd204ru        Nolan             NaN  Yes    2009-08-19   \n",
       "39    669fasfgrrd204ru       Lauren             NaN  Yes    2008-12-29   \n",
       "121   rijv7ktqts8e67gs          Eva             NaN  Yes    2017-02-08   \n",
       "...                ...          ...             ...  ...           ...   \n",
       "4189  8avjs5cl2erp2ktc          Ava           557.0   No    2018-10-25   \n",
       "4190  8avjs5cl2erp2ktc          Zoe           557.0   No    2008-10-25   \n",
       "4252  1q26v0rlhnjjvajt       Emalie          4000.0  Yes    2016-03-08   \n",
       "4546  5qemkdsig3pnjo04  Christopher          2080.0   No    2009-09-26   \n",
       "4742  6lho9jeshote6ed5         Aima          4000.0   No    2001-04-13   \n",
       "\n",
       "        Market State  AVG Household Income  \n",
       "34        East    FL                   NaN  \n",
       "35        East    FL                   NaN  \n",
       "38        East    FL                   NaN  \n",
       "39        East    FL                   NaN  \n",
       "121    Central    TX                   NaN  \n",
       "...        ...   ...                   ...  \n",
       "4189     SoCal    CA                1328.5  \n",
       "4190     SoCal    CA                1328.5  \n",
       "4252     SoCal    CA                3250.0  \n",
       "4546  Bay Area    CA                3040.0  \n",
       "4742     SoCal    CA                2420.0  \n",
       "\n",
       "[127 rows x 8 columns]"
      ]
     },
     "execution_count": 25,
     "metadata": {},
     "output_type": "execute_result"
    }
   ],
   "source": [
    "duplicateRows = df1[df1.duplicated(['ID', 'First Name', 'Date of Birth'])]\n",
    "duplicateRows"
   ]
  },
  {
   "cell_type": "code",
   "execution_count": 26,
   "id": "b4c0e52f",
   "metadata": {},
   "outputs": [
    {
     "data": {
      "text/html": [
       "<div>\n",
       "<style scoped>\n",
       "    .dataframe tbody tr th:only-of-type {\n",
       "        vertical-align: middle;\n",
       "    }\n",
       "\n",
       "    .dataframe tbody tr th {\n",
       "        vertical-align: top;\n",
       "    }\n",
       "\n",
       "    .dataframe thead th {\n",
       "        text-align: right;\n",
       "    }\n",
       "</style>\n",
       "<table border=\"1\" class=\"dataframe\">\n",
       "  <thead>\n",
       "    <tr style=\"text-align: right;\">\n",
       "      <th></th>\n",
       "      <th>ID</th>\n",
       "      <th>First Name</th>\n",
       "      <th>Monthly Income</th>\n",
       "      <th>Pets</th>\n",
       "      <th>Date of Birth</th>\n",
       "      <th>Market</th>\n",
       "      <th>State</th>\n",
       "      <th>AVG Household Income</th>\n",
       "    </tr>\n",
       "  </thead>\n",
       "  <tbody>\n",
       "    <tr>\n",
       "      <th>0</th>\n",
       "      <td>p3do03ecr7t67spn</td>\n",
       "      <td>Jayzua-nae</td>\n",
       "      <td>NaN</td>\n",
       "      <td>Yes</td>\n",
       "      <td>2011-04-20</td>\n",
       "      <td>East</td>\n",
       "      <td>NC</td>\n",
       "      <td>NaN</td>\n",
       "    </tr>\n",
       "    <tr>\n",
       "      <th>1</th>\n",
       "      <td>p3do03ecr7t67spn</td>\n",
       "      <td>Jason</td>\n",
       "      <td>NaN</td>\n",
       "      <td>Yes</td>\n",
       "      <td>2009-01-09</td>\n",
       "      <td>East</td>\n",
       "      <td>NC</td>\n",
       "      <td>NaN</td>\n",
       "    </tr>\n",
       "    <tr>\n",
       "      <th>2</th>\n",
       "      <td>p3do03ecr7t67spn</td>\n",
       "      <td>Janyla</td>\n",
       "      <td>NaN</td>\n",
       "      <td>Yes</td>\n",
       "      <td>2012-11-23</td>\n",
       "      <td>East</td>\n",
       "      <td>NC</td>\n",
       "      <td>NaN</td>\n",
       "    </tr>\n",
       "    <tr>\n",
       "      <th>3</th>\n",
       "      <td>sfkib3fm5afbg4lv</td>\n",
       "      <td>Maxim</td>\n",
       "      <td>NaN</td>\n",
       "      <td>No</td>\n",
       "      <td>2009-01-20</td>\n",
       "      <td>Bay Area</td>\n",
       "      <td>CA</td>\n",
       "      <td>NaN</td>\n",
       "    </tr>\n",
       "    <tr>\n",
       "      <th>4</th>\n",
       "      <td>sfkib3fm5afbg4lv</td>\n",
       "      <td>Nicole</td>\n",
       "      <td>NaN</td>\n",
       "      <td>No</td>\n",
       "      <td>2011-05-27</td>\n",
       "      <td>Bay Area</td>\n",
       "      <td>CA</td>\n",
       "      <td>NaN</td>\n",
       "    </tr>\n",
       "    <tr>\n",
       "      <th>...</th>\n",
       "      <td>...</td>\n",
       "      <td>...</td>\n",
       "      <td>...</td>\n",
       "      <td>...</td>\n",
       "      <td>...</td>\n",
       "      <td>...</td>\n",
       "      <td>...</td>\n",
       "      <td>...</td>\n",
       "    </tr>\n",
       "    <tr>\n",
       "      <th>4856</th>\n",
       "      <td>q26l9nm5rr6n4rve</td>\n",
       "      <td>Leon</td>\n",
       "      <td>NaN</td>\n",
       "      <td>No</td>\n",
       "      <td>2018-03-09</td>\n",
       "      <td>East</td>\n",
       "      <td>GA</td>\n",
       "      <td>NaN</td>\n",
       "    </tr>\n",
       "    <tr>\n",
       "      <th>4857</th>\n",
       "      <td>4busp4hui2rlhfjn</td>\n",
       "      <td>Ariel</td>\n",
       "      <td>NaN</td>\n",
       "      <td>No</td>\n",
       "      <td>2012-06-19</td>\n",
       "      <td>East</td>\n",
       "      <td>AL</td>\n",
       "      <td>NaN</td>\n",
       "    </tr>\n",
       "    <tr>\n",
       "      <th>4858</th>\n",
       "      <td>fqt3n1in42ddp0ov</td>\n",
       "      <td>Cole</td>\n",
       "      <td>NaN</td>\n",
       "      <td>No</td>\n",
       "      <td>2009-10-10</td>\n",
       "      <td>Washington</td>\n",
       "      <td>WA</td>\n",
       "      <td>NaN</td>\n",
       "    </tr>\n",
       "    <tr>\n",
       "      <th>4859</th>\n",
       "      <td>vjb2sfvo1injlen0</td>\n",
       "      <td>kaiden</td>\n",
       "      <td>NaN</td>\n",
       "      <td>Yes</td>\n",
       "      <td>2014-04-11</td>\n",
       "      <td>East</td>\n",
       "      <td>NC</td>\n",
       "      <td>NaN</td>\n",
       "    </tr>\n",
       "    <tr>\n",
       "      <th>4860</th>\n",
       "      <td>9md3lb44u6o4ddri</td>\n",
       "      <td>Malia</td>\n",
       "      <td>NaN</td>\n",
       "      <td>No</td>\n",
       "      <td>2020-02-27</td>\n",
       "      <td>SoCal</td>\n",
       "      <td>CA</td>\n",
       "      <td>NaN</td>\n",
       "    </tr>\n",
       "  </tbody>\n",
       "</table>\n",
       "<p>4734 rows × 8 columns</p>\n",
       "</div>"
      ],
      "text/plain": [
       "                    ID  First Name  Monthly Income Pets Date of Birth  \\\n",
       "0     p3do03ecr7t67spn  Jayzua-nae             NaN  Yes    2011-04-20   \n",
       "1     p3do03ecr7t67spn       Jason             NaN  Yes    2009-01-09   \n",
       "2     p3do03ecr7t67spn      Janyla             NaN  Yes    2012-11-23   \n",
       "3     sfkib3fm5afbg4lv       Maxim             NaN   No    2009-01-20   \n",
       "4     sfkib3fm5afbg4lv      Nicole             NaN   No    2011-05-27   \n",
       "...                ...         ...             ...  ...           ...   \n",
       "4856  q26l9nm5rr6n4rve        Leon             NaN   No    2018-03-09   \n",
       "4857  4busp4hui2rlhfjn       Ariel             NaN   No    2012-06-19   \n",
       "4858  fqt3n1in42ddp0ov        Cole             NaN   No    2009-10-10   \n",
       "4859  vjb2sfvo1injlen0      kaiden             NaN  Yes    2014-04-11   \n",
       "4860  9md3lb44u6o4ddri       Malia             NaN   No    2020-02-27   \n",
       "\n",
       "          Market State  AVG Household Income  \n",
       "0           East    NC                   NaN  \n",
       "1           East    NC                   NaN  \n",
       "2           East    NC                   NaN  \n",
       "3       Bay Area    CA                   NaN  \n",
       "4       Bay Area    CA                   NaN  \n",
       "...          ...   ...                   ...  \n",
       "4856        East    GA                   NaN  \n",
       "4857        East    AL                   NaN  \n",
       "4858  Washington    WA                   NaN  \n",
       "4859        East    NC                   NaN  \n",
       "4860       SoCal    CA                   NaN  \n",
       "\n",
       "[4734 rows x 8 columns]"
      ]
     },
     "execution_count": 26,
     "metadata": {},
     "output_type": "execute_result"
    }
   ],
   "source": [
    "df2 = df1[~df1.duplicated(['ID', 'First Name', 'Date of Birth'])]\n",
    "df2"
   ]
  },
  {
   "cell_type": "markdown",
   "id": "c4a6df94",
   "metadata": {},
   "source": [
    "Now that I delete duplicate and missing data, I will add the age and gender column. \n",
    "\n",
    "#### Age\n",
    "\n",
    "For age, I assume it's 2032 instead of 2022 so that the monthly income for kids have better reasonig. Also I just substract the year part of date of birth from 2032 instead of writing a function to calculate the exact age just for simplicity.\n",
    "\n",
    "\n",
    "#### Gender\n",
    "\n",
    "For gender attribute, I will use a gender_guesser package to guess the gender of the each person.\n"
   ]
  },
  {
   "cell_type": "code",
   "execution_count": 27,
   "id": "a717ba40",
   "metadata": {},
   "outputs": [
    {
     "name": "stderr",
     "output_type": "stream",
     "text": [
      "<ipython-input-27-46b370aa0d4e>:1: SettingWithCopyWarning: \n",
      "A value is trying to be set on a copy of a slice from a DataFrame.\n",
      "Try using .loc[row_indexer,col_indexer] = value instead\n",
      "\n",
      "See the caveats in the documentation: https://pandas.pydata.org/pandas-docs/stable/user_guide/indexing.html#returning-a-view-versus-a-copy\n",
      "  df2['year'] = pd.DatetimeIndex(df2['Date of Birth']).year\n",
      "<ipython-input-27-46b370aa0d4e>:2: SettingWithCopyWarning: \n",
      "A value is trying to be set on a copy of a slice from a DataFrame.\n",
      "Try using .loc[row_indexer,col_indexer] = value instead\n",
      "\n",
      "See the caveats in the documentation: https://pandas.pydata.org/pandas-docs/stable/user_guide/indexing.html#returning-a-view-versus-a-copy\n",
      "  df2['Age'] = 2032 - df2.year\n"
     ]
    },
    {
     "data": {
      "text/plain": [
       "-174      1\n",
       " 11      73\n",
       " 12     182\n",
       " 13     228\n",
       " 14     251\n",
       "       ... \n",
       " 83       2\n",
       " 84       1\n",
       " 89       1\n",
       " 90       1\n",
       " 127      1\n",
       "Name: Age, Length: 66, dtype: int64"
      ]
     },
     "execution_count": 27,
     "metadata": {},
     "output_type": "execute_result"
    }
   ],
   "source": [
    "df2['year'] = pd.DatetimeIndex(df2['Date of Birth']).year\n",
    "df2['Age'] = 2032 - df2.year\n",
    "df2.Age.value_counts().sort_index()"
   ]
  },
  {
   "cell_type": "code",
   "execution_count": 28,
   "id": "6359a00a",
   "metadata": {},
   "outputs": [
    {
     "data": {
      "text/html": [
       "<div>\n",
       "<style scoped>\n",
       "    .dataframe tbody tr th:only-of-type {\n",
       "        vertical-align: middle;\n",
       "    }\n",
       "\n",
       "    .dataframe tbody tr th {\n",
       "        vertical-align: top;\n",
       "    }\n",
       "\n",
       "    .dataframe thead th {\n",
       "        text-align: right;\n",
       "    }\n",
       "</style>\n",
       "<table border=\"1\" class=\"dataframe\">\n",
       "  <thead>\n",
       "    <tr style=\"text-align: right;\">\n",
       "      <th></th>\n",
       "      <th>ID</th>\n",
       "      <th>First Name</th>\n",
       "      <th>Monthly Income</th>\n",
       "      <th>Pets</th>\n",
       "      <th>Date of Birth</th>\n",
       "      <th>Market</th>\n",
       "      <th>State</th>\n",
       "      <th>AVG Household Income</th>\n",
       "      <th>year</th>\n",
       "      <th>Age</th>\n",
       "    </tr>\n",
       "  </thead>\n",
       "  <tbody>\n",
       "    <tr>\n",
       "      <th>1258</th>\n",
       "      <td>u3oms3hqg1orep1s</td>\n",
       "      <td>Kyara</td>\n",
       "      <td>NaN</td>\n",
       "      <td>Yes</td>\n",
       "      <td>2206-07-31</td>\n",
       "      <td>Southwest</td>\n",
       "      <td>AZ</td>\n",
       "      <td>NaN</td>\n",
       "      <td>2206</td>\n",
       "      <td>-174</td>\n",
       "    </tr>\n",
       "  </tbody>\n",
       "</table>\n",
       "</div>"
      ],
      "text/plain": [
       "                    ID First Name  Monthly Income Pets Date of Birth  \\\n",
       "1258  u3oms3hqg1orep1s      Kyara             NaN  Yes    2206-07-31   \n",
       "\n",
       "         Market State  AVG Household Income  year  Age  \n",
       "1258  Southwest    AZ                   NaN  2206 -174  "
      ]
     },
     "execution_count": 28,
     "metadata": {},
     "output_type": "execute_result"
    }
   ],
   "source": [
    "df2[df2.Age == -174]"
   ]
  },
  {
   "cell_type": "code",
   "execution_count": 29,
   "id": "158344f3",
   "metadata": {},
   "outputs": [
    {
     "name": "stderr",
     "output_type": "stream",
     "text": [
      "C:\\Users\\arash\\anaconda3\\lib\\site-packages\\pandas\\core\\indexing.py:1720: SettingWithCopyWarning: \n",
      "A value is trying to be set on a copy of a slice from a DataFrame.\n",
      "Try using .loc[row_indexer,col_indexer] = value instead\n",
      "\n",
      "See the caveats in the documentation: https://pandas.pydata.org/pandas-docs/stable/user_guide/indexing.html#returning-a-view-versus-a-copy\n",
      "  self._setitem_single_column(loc, value, pi)\n"
     ]
    }
   ],
   "source": [
    "df2.loc[df2.Age == -174, 'year'] = 2006"
   ]
  },
  {
   "cell_type": "code",
   "execution_count": 30,
   "id": "bdb143ba",
   "metadata": {},
   "outputs": [
    {
     "data": {
      "text/html": [
       "<div>\n",
       "<style scoped>\n",
       "    .dataframe tbody tr th:only-of-type {\n",
       "        vertical-align: middle;\n",
       "    }\n",
       "\n",
       "    .dataframe tbody tr th {\n",
       "        vertical-align: top;\n",
       "    }\n",
       "\n",
       "    .dataframe thead th {\n",
       "        text-align: right;\n",
       "    }\n",
       "</style>\n",
       "<table border=\"1\" class=\"dataframe\">\n",
       "  <thead>\n",
       "    <tr style=\"text-align: right;\">\n",
       "      <th></th>\n",
       "      <th>ID</th>\n",
       "      <th>First Name</th>\n",
       "      <th>Monthly Income</th>\n",
       "      <th>Pets</th>\n",
       "      <th>Date of Birth</th>\n",
       "      <th>Market</th>\n",
       "      <th>State</th>\n",
       "      <th>AVG Household Income</th>\n",
       "      <th>year</th>\n",
       "      <th>Age</th>\n",
       "    </tr>\n",
       "  </thead>\n",
       "  <tbody>\n",
       "    <tr>\n",
       "      <th>3349</th>\n",
       "      <td>9p197dbbnq5p0om4</td>\n",
       "      <td>Chouida</td>\n",
       "      <td>NaN</td>\n",
       "      <td>No</td>\n",
       "      <td>1905-11-14</td>\n",
       "      <td>Bay Area</td>\n",
       "      <td>CA</td>\n",
       "      <td>10000.0</td>\n",
       "      <td>1905</td>\n",
       "      <td>127</td>\n",
       "    </tr>\n",
       "  </tbody>\n",
       "</table>\n",
       "</div>"
      ],
      "text/plain": [
       "                    ID First Name  Monthly Income Pets Date of Birth  \\\n",
       "3349  9p197dbbnq5p0om4    Chouida             NaN   No    1905-11-14   \n",
       "\n",
       "        Market State  AVG Household Income  year  Age  \n",
       "3349  Bay Area    CA               10000.0  1905  127  "
      ]
     },
     "execution_count": 30,
     "metadata": {},
     "output_type": "execute_result"
    }
   ],
   "source": [
    "df2[df2.Age == 127]"
   ]
  },
  {
   "cell_type": "code",
   "execution_count": 31,
   "id": "34bc1e14",
   "metadata": {},
   "outputs": [
    {
     "name": "stderr",
     "output_type": "stream",
     "text": [
      "C:\\Users\\arash\\anaconda3\\lib\\site-packages\\pandas\\core\\indexing.py:1720: SettingWithCopyWarning: \n",
      "A value is trying to be set on a copy of a slice from a DataFrame.\n",
      "Try using .loc[row_indexer,col_indexer] = value instead\n",
      "\n",
      "See the caveats in the documentation: https://pandas.pydata.org/pandas-docs/stable/user_guide/indexing.html#returning-a-view-versus-a-copy\n",
      "  self._setitem_single_column(loc, value, pi)\n"
     ]
    }
   ],
   "source": [
    "df2.loc[df2.Age == 127, 'year'] = 1995"
   ]
  },
  {
   "cell_type": "code",
   "execution_count": 32,
   "id": "a5505ea6",
   "metadata": {},
   "outputs": [
    {
     "name": "stderr",
     "output_type": "stream",
     "text": [
      "<ipython-input-32-487d3eb71b9f>:1: SettingWithCopyWarning: \n",
      "A value is trying to be set on a copy of a slice from a DataFrame.\n",
      "Try using .loc[row_indexer,col_indexer] = value instead\n",
      "\n",
      "See the caveats in the documentation: https://pandas.pydata.org/pandas-docs/stable/user_guide/indexing.html#returning-a-view-versus-a-copy\n",
      "  df2['Age'] = 2032 - df2.year\n"
     ]
    },
    {
     "data": {
      "text/plain": [
       "11     73\n",
       "12    182\n",
       "13    228\n",
       "14    251\n",
       "15    271\n",
       "     ... \n",
       "82      1\n",
       "83      2\n",
       "84      1\n",
       "89      1\n",
       "90      1\n",
       "Name: Age, Length: 64, dtype: int64"
      ]
     },
     "execution_count": 32,
     "metadata": {},
     "output_type": "execute_result"
    }
   ],
   "source": [
    "df2['Age'] = 2032 - df2.year\n",
    "df2 = df2.drop(['year'], axis=1)\n",
    "df2.Age.value_counts().sort_index()"
   ]
  },
  {
   "cell_type": "code",
   "execution_count": 33,
   "id": "d7ef5f90",
   "metadata": {},
   "outputs": [],
   "source": [
    "import gender_guesser.detector as gender\n",
    "d = gender.Detector()"
   ]
  },
  {
   "cell_type": "code",
   "execution_count": 34,
   "id": "1690d7bd",
   "metadata": {},
   "outputs": [],
   "source": [
    "n = len(df2['ID'])\n",
    "df2 = df2.reset_index(drop=True)\n",
    "\n",
    "for i in range(n):\n",
    "    df2.loc[i, 'Gender'] = d.get_gender(df2.loc[i, 'First Name'])"
   ]
  },
  {
   "cell_type": "code",
   "execution_count": 35,
   "id": "7cd2bd76",
   "metadata": {},
   "outputs": [
    {
     "data": {
      "text/plain": [
       "male             1564\n",
       "unknown          1554\n",
       "female           1268\n",
       "mostly_male       182\n",
       "mostly_female      91\n",
       "andy               75\n",
       "Name: Gender, dtype: int64"
      ]
     },
     "execution_count": 35,
     "metadata": {},
     "output_type": "execute_result"
    }
   ],
   "source": [
    "df2.Gender.value_counts()"
   ]
  },
  {
   "cell_type": "code",
   "execution_count": 36,
   "id": "75263780",
   "metadata": {},
   "outputs": [],
   "source": [
    "for i in range(n):\n",
    "    if df2.loc[i, 'Gender'] == 'mostly_male':\n",
    "        df2.loc[i, 'Gender'] = 'male'\n",
    "    elif df2.loc[i, 'Gender'] == 'mostly_female':\n",
    "        df2.loc[i, 'Gender'] = 'female'\n",
    "    elif df2.loc[i, 'Gender'] == 'andy':\n",
    "        df2.loc[i, 'Gender'] = 'male'"
   ]
  },
  {
   "cell_type": "code",
   "execution_count": 37,
   "id": "f207d13f",
   "metadata": {},
   "outputs": [
    {
     "data": {
      "text/plain": [
       "male       1821\n",
       "unknown    1554\n",
       "female     1359\n",
       "Name: Gender, dtype: int64"
      ]
     },
     "execution_count": 37,
     "metadata": {},
     "output_type": "execute_result"
    }
   ],
   "source": [
    "df2.Gender.value_counts()"
   ]
  },
  {
   "cell_type": "code",
   "execution_count": 38,
   "id": "41eadcb3",
   "metadata": {},
   "outputs": [],
   "source": [
    "df2['Age Group'] = pd.cut(df2['Age'], [-1, 14, 24, 64, 99], labels=['Children', 'Youth', 'Adult', 'Seniors'])"
   ]
  },
  {
   "cell_type": "code",
   "execution_count": 39,
   "id": "169d2fe7",
   "metadata": {},
   "outputs": [
    {
     "data": {
      "text/html": [
       "<div>\n",
       "<style scoped>\n",
       "    .dataframe tbody tr th:only-of-type {\n",
       "        vertical-align: middle;\n",
       "    }\n",
       "\n",
       "    .dataframe tbody tr th {\n",
       "        vertical-align: top;\n",
       "    }\n",
       "\n",
       "    .dataframe thead th {\n",
       "        text-align: right;\n",
       "    }\n",
       "</style>\n",
       "<table border=\"1\" class=\"dataframe\">\n",
       "  <thead>\n",
       "    <tr style=\"text-align: right;\">\n",
       "      <th></th>\n",
       "      <th>ID</th>\n",
       "      <th>First Name</th>\n",
       "      <th>Monthly Income</th>\n",
       "      <th>Pets</th>\n",
       "      <th>Date of Birth</th>\n",
       "      <th>Market</th>\n",
       "      <th>State</th>\n",
       "      <th>AVG Household Income</th>\n",
       "      <th>Age</th>\n",
       "      <th>Gender</th>\n",
       "      <th>Age Group</th>\n",
       "    </tr>\n",
       "  </thead>\n",
       "  <tbody>\n",
       "    <tr>\n",
       "      <th>0</th>\n",
       "      <td>p3do03ecr7t67spn</td>\n",
       "      <td>Jayzua-nae</td>\n",
       "      <td>NaN</td>\n",
       "      <td>Yes</td>\n",
       "      <td>2011-04-20</td>\n",
       "      <td>East</td>\n",
       "      <td>NC</td>\n",
       "      <td>NaN</td>\n",
       "      <td>21</td>\n",
       "      <td>unknown</td>\n",
       "      <td>Youth</td>\n",
       "    </tr>\n",
       "    <tr>\n",
       "      <th>1</th>\n",
       "      <td>p3do03ecr7t67spn</td>\n",
       "      <td>Jason</td>\n",
       "      <td>NaN</td>\n",
       "      <td>Yes</td>\n",
       "      <td>2009-01-09</td>\n",
       "      <td>East</td>\n",
       "      <td>NC</td>\n",
       "      <td>NaN</td>\n",
       "      <td>23</td>\n",
       "      <td>male</td>\n",
       "      <td>Youth</td>\n",
       "    </tr>\n",
       "    <tr>\n",
       "      <th>2</th>\n",
       "      <td>p3do03ecr7t67spn</td>\n",
       "      <td>Janyla</td>\n",
       "      <td>NaN</td>\n",
       "      <td>Yes</td>\n",
       "      <td>2012-11-23</td>\n",
       "      <td>East</td>\n",
       "      <td>NC</td>\n",
       "      <td>NaN</td>\n",
       "      <td>20</td>\n",
       "      <td>unknown</td>\n",
       "      <td>Youth</td>\n",
       "    </tr>\n",
       "    <tr>\n",
       "      <th>3</th>\n",
       "      <td>sfkib3fm5afbg4lv</td>\n",
       "      <td>Maxim</td>\n",
       "      <td>NaN</td>\n",
       "      <td>No</td>\n",
       "      <td>2009-01-20</td>\n",
       "      <td>Bay Area</td>\n",
       "      <td>CA</td>\n",
       "      <td>NaN</td>\n",
       "      <td>23</td>\n",
       "      <td>male</td>\n",
       "      <td>Youth</td>\n",
       "    </tr>\n",
       "    <tr>\n",
       "      <th>4</th>\n",
       "      <td>sfkib3fm5afbg4lv</td>\n",
       "      <td>Nicole</td>\n",
       "      <td>NaN</td>\n",
       "      <td>No</td>\n",
       "      <td>2011-05-27</td>\n",
       "      <td>Bay Area</td>\n",
       "      <td>CA</td>\n",
       "      <td>NaN</td>\n",
       "      <td>21</td>\n",
       "      <td>female</td>\n",
       "      <td>Youth</td>\n",
       "    </tr>\n",
       "    <tr>\n",
       "      <th>...</th>\n",
       "      <td>...</td>\n",
       "      <td>...</td>\n",
       "      <td>...</td>\n",
       "      <td>...</td>\n",
       "      <td>...</td>\n",
       "      <td>...</td>\n",
       "      <td>...</td>\n",
       "      <td>...</td>\n",
       "      <td>...</td>\n",
       "      <td>...</td>\n",
       "      <td>...</td>\n",
       "    </tr>\n",
       "    <tr>\n",
       "      <th>4729</th>\n",
       "      <td>q26l9nm5rr6n4rve</td>\n",
       "      <td>Leon</td>\n",
       "      <td>NaN</td>\n",
       "      <td>No</td>\n",
       "      <td>2018-03-09</td>\n",
       "      <td>East</td>\n",
       "      <td>GA</td>\n",
       "      <td>NaN</td>\n",
       "      <td>14</td>\n",
       "      <td>male</td>\n",
       "      <td>Children</td>\n",
       "    </tr>\n",
       "    <tr>\n",
       "      <th>4730</th>\n",
       "      <td>4busp4hui2rlhfjn</td>\n",
       "      <td>Ariel</td>\n",
       "      <td>NaN</td>\n",
       "      <td>No</td>\n",
       "      <td>2012-06-19</td>\n",
       "      <td>East</td>\n",
       "      <td>AL</td>\n",
       "      <td>NaN</td>\n",
       "      <td>20</td>\n",
       "      <td>male</td>\n",
       "      <td>Youth</td>\n",
       "    </tr>\n",
       "    <tr>\n",
       "      <th>4731</th>\n",
       "      <td>fqt3n1in42ddp0ov</td>\n",
       "      <td>Cole</td>\n",
       "      <td>NaN</td>\n",
       "      <td>No</td>\n",
       "      <td>2009-10-10</td>\n",
       "      <td>Washington</td>\n",
       "      <td>WA</td>\n",
       "      <td>NaN</td>\n",
       "      <td>23</td>\n",
       "      <td>male</td>\n",
       "      <td>Youth</td>\n",
       "    </tr>\n",
       "    <tr>\n",
       "      <th>4732</th>\n",
       "      <td>vjb2sfvo1injlen0</td>\n",
       "      <td>kaiden</td>\n",
       "      <td>NaN</td>\n",
       "      <td>Yes</td>\n",
       "      <td>2014-04-11</td>\n",
       "      <td>East</td>\n",
       "      <td>NC</td>\n",
       "      <td>NaN</td>\n",
       "      <td>18</td>\n",
       "      <td>unknown</td>\n",
       "      <td>Youth</td>\n",
       "    </tr>\n",
       "    <tr>\n",
       "      <th>4733</th>\n",
       "      <td>9md3lb44u6o4ddri</td>\n",
       "      <td>Malia</td>\n",
       "      <td>NaN</td>\n",
       "      <td>No</td>\n",
       "      <td>2020-02-27</td>\n",
       "      <td>SoCal</td>\n",
       "      <td>CA</td>\n",
       "      <td>NaN</td>\n",
       "      <td>12</td>\n",
       "      <td>female</td>\n",
       "      <td>Children</td>\n",
       "    </tr>\n",
       "  </tbody>\n",
       "</table>\n",
       "<p>4734 rows × 11 columns</p>\n",
       "</div>"
      ],
      "text/plain": [
       "                    ID  First Name  Monthly Income Pets Date of Birth  \\\n",
       "0     p3do03ecr7t67spn  Jayzua-nae             NaN  Yes    2011-04-20   \n",
       "1     p3do03ecr7t67spn       Jason             NaN  Yes    2009-01-09   \n",
       "2     p3do03ecr7t67spn      Janyla             NaN  Yes    2012-11-23   \n",
       "3     sfkib3fm5afbg4lv       Maxim             NaN   No    2009-01-20   \n",
       "4     sfkib3fm5afbg4lv      Nicole             NaN   No    2011-05-27   \n",
       "...                ...         ...             ...  ...           ...   \n",
       "4729  q26l9nm5rr6n4rve        Leon             NaN   No    2018-03-09   \n",
       "4730  4busp4hui2rlhfjn       Ariel             NaN   No    2012-06-19   \n",
       "4731  fqt3n1in42ddp0ov        Cole             NaN   No    2009-10-10   \n",
       "4732  vjb2sfvo1injlen0      kaiden             NaN  Yes    2014-04-11   \n",
       "4733  9md3lb44u6o4ddri       Malia             NaN   No    2020-02-27   \n",
       "\n",
       "          Market State  AVG Household Income  Age   Gender Age Group  \n",
       "0           East    NC                   NaN   21  unknown     Youth  \n",
       "1           East    NC                   NaN   23     male     Youth  \n",
       "2           East    NC                   NaN   20  unknown     Youth  \n",
       "3       Bay Area    CA                   NaN   23     male     Youth  \n",
       "4       Bay Area    CA                   NaN   21   female     Youth  \n",
       "...          ...   ...                   ...  ...      ...       ...  \n",
       "4729        East    GA                   NaN   14     male  Children  \n",
       "4730        East    AL                   NaN   20     male     Youth  \n",
       "4731  Washington    WA                   NaN   23     male     Youth  \n",
       "4732        East    NC                   NaN   18  unknown     Youth  \n",
       "4733       SoCal    CA                   NaN   12   female  Children  \n",
       "\n",
       "[4734 rows x 11 columns]"
      ]
     },
     "execution_count": 39,
     "metadata": {},
     "output_type": "execute_result"
    }
   ],
   "source": [
    "df2"
   ]
  },
  {
   "cell_type": "code",
   "execution_count": 40,
   "id": "cc32dd9c",
   "metadata": {},
   "outputs": [
    {
     "data": {
      "text/html": [
       "<div>\n",
       "<style scoped>\n",
       "    .dataframe tbody tr th:only-of-type {\n",
       "        vertical-align: middle;\n",
       "    }\n",
       "\n",
       "    .dataframe tbody tr th {\n",
       "        vertical-align: top;\n",
       "    }\n",
       "\n",
       "    .dataframe thead th {\n",
       "        text-align: right;\n",
       "    }\n",
       "</style>\n",
       "<table border=\"1\" class=\"dataframe\">\n",
       "  <thead>\n",
       "    <tr style=\"text-align: right;\">\n",
       "      <th></th>\n",
       "      <th>Max</th>\n",
       "      <th>Min</th>\n",
       "      <th>Number</th>\n",
       "      <th>Gap</th>\n",
       "    </tr>\n",
       "    <tr>\n",
       "      <th>ID</th>\n",
       "      <th></th>\n",
       "      <th></th>\n",
       "      <th></th>\n",
       "      <th></th>\n",
       "    </tr>\n",
       "  </thead>\n",
       "  <tbody>\n",
       "    <tr>\n",
       "      <th>1036esvlf765gpvf</th>\n",
       "      <td>26</td>\n",
       "      <td>17</td>\n",
       "      <td>5</td>\n",
       "      <td>9</td>\n",
       "    </tr>\n",
       "    <tr>\n",
       "      <th>103ets9k5pi1lb4c</th>\n",
       "      <td>15</td>\n",
       "      <td>15</td>\n",
       "      <td>1</td>\n",
       "      <td>0</td>\n",
       "    </tr>\n",
       "    <tr>\n",
       "      <th>10meigo5d37fh0nf</th>\n",
       "      <td>18</td>\n",
       "      <td>18</td>\n",
       "      <td>1</td>\n",
       "      <td>0</td>\n",
       "    </tr>\n",
       "    <tr>\n",
       "      <th>10ppscvogqrlda8i</th>\n",
       "      <td>50</td>\n",
       "      <td>50</td>\n",
       "      <td>1</td>\n",
       "      <td>0</td>\n",
       "    </tr>\n",
       "    <tr>\n",
       "      <th>11kipbq7epnv7gn1</th>\n",
       "      <td>27</td>\n",
       "      <td>25</td>\n",
       "      <td>2</td>\n",
       "      <td>2</td>\n",
       "    </tr>\n",
       "    <tr>\n",
       "      <th>...</th>\n",
       "      <td>...</td>\n",
       "      <td>...</td>\n",
       "      <td>...</td>\n",
       "      <td>...</td>\n",
       "    </tr>\n",
       "    <tr>\n",
       "      <th>vuvs5i7ts942hnq2</th>\n",
       "      <td>28</td>\n",
       "      <td>18</td>\n",
       "      <td>2</td>\n",
       "      <td>10</td>\n",
       "    </tr>\n",
       "    <tr>\n",
       "      <th>vv3gnlnaghf2vm27</th>\n",
       "      <td>23</td>\n",
       "      <td>12</td>\n",
       "      <td>2</td>\n",
       "      <td>11</td>\n",
       "    </tr>\n",
       "    <tr>\n",
       "      <th>vv5bj18ule2sg5q0</th>\n",
       "      <td>22</td>\n",
       "      <td>15</td>\n",
       "      <td>3</td>\n",
       "      <td>7</td>\n",
       "    </tr>\n",
       "    <tr>\n",
       "      <th>vv7r5j2runbrabuo</th>\n",
       "      <td>38</td>\n",
       "      <td>38</td>\n",
       "      <td>1</td>\n",
       "      <td>0</td>\n",
       "    </tr>\n",
       "    <tr>\n",
       "      <th>vvrs931tpdo5t681</th>\n",
       "      <td>28</td>\n",
       "      <td>28</td>\n",
       "      <td>1</td>\n",
       "      <td>0</td>\n",
       "    </tr>\n",
       "  </tbody>\n",
       "</table>\n",
       "<p>2525 rows × 4 columns</p>\n",
       "</div>"
      ],
      "text/plain": [
       "                  Max  Min  Number  Gap\n",
       "ID                                     \n",
       "1036esvlf765gpvf   26   17       5    9\n",
       "103ets9k5pi1lb4c   15   15       1    0\n",
       "10meigo5d37fh0nf   18   18       1    0\n",
       "10ppscvogqrlda8i   50   50       1    0\n",
       "11kipbq7epnv7gn1   27   25       2    2\n",
       "...               ...  ...     ...  ...\n",
       "vuvs5i7ts942hnq2   28   18       2   10\n",
       "vv3gnlnaghf2vm27   23   12       2   11\n",
       "vv5bj18ule2sg5q0   22   15       3    7\n",
       "vv7r5j2runbrabuo   38   38       1    0\n",
       "vvrs931tpdo5t681   28   28       1    0\n",
       "\n",
       "[2525 rows x 4 columns]"
      ]
     },
     "execution_count": 40,
     "metadata": {},
     "output_type": "execute_result"
    }
   ],
   "source": [
    "a = df2.groupby('ID')['Age'].max().sort_index()\n",
    "b = df2.groupby('ID')['Age'].min().sort_index()\n",
    "c = df2.groupby('ID')['Age'].count().sort_index()\n",
    "d = a - b \n",
    "\n",
    "df_age = pd.concat([a, b, c, d], axis=1)\n",
    "names = ['Max', 'Min', 'Number', 'Gap']\n",
    "df_age.columns = names\n",
    "#df_age[(df_age.Min > 15) & (d < 20)]\n",
    "\n",
    "df_age"
   ]
  },
  {
   "cell_type": "code",
   "execution_count": 41,
   "id": "47e2e618",
   "metadata": {},
   "outputs": [
    {
     "data": {
      "text/html": [
       "<div>\n",
       "<style scoped>\n",
       "    .dataframe tbody tr th:only-of-type {\n",
       "        vertical-align: middle;\n",
       "    }\n",
       "\n",
       "    .dataframe tbody tr th {\n",
       "        vertical-align: top;\n",
       "    }\n",
       "\n",
       "    .dataframe thead th {\n",
       "        text-align: right;\n",
       "    }\n",
       "</style>\n",
       "<table border=\"1\" class=\"dataframe\">\n",
       "  <thead>\n",
       "    <tr style=\"text-align: right;\">\n",
       "      <th></th>\n",
       "      <th>ID</th>\n",
       "      <th>First Name</th>\n",
       "      <th>Monthly Income</th>\n",
       "      <th>Pets</th>\n",
       "      <th>Date of Birth</th>\n",
       "      <th>Market</th>\n",
       "      <th>State</th>\n",
       "      <th>AVG Household Income</th>\n",
       "      <th>Age</th>\n",
       "      <th>Gender</th>\n",
       "      <th>Age Group</th>\n",
       "      <th>Max</th>\n",
       "      <th>Min</th>\n",
       "      <th>Number</th>\n",
       "      <th>Gap</th>\n",
       "    </tr>\n",
       "  </thead>\n",
       "  <tbody>\n",
       "    <tr>\n",
       "      <th>0</th>\n",
       "      <td>p3do03ecr7t67spn</td>\n",
       "      <td>Jayzua-nae</td>\n",
       "      <td>NaN</td>\n",
       "      <td>Yes</td>\n",
       "      <td>2011-04-20</td>\n",
       "      <td>East</td>\n",
       "      <td>NC</td>\n",
       "      <td>NaN</td>\n",
       "      <td>21</td>\n",
       "      <td>unknown</td>\n",
       "      <td>Youth</td>\n",
       "      <td>23</td>\n",
       "      <td>20</td>\n",
       "      <td>3</td>\n",
       "      <td>3</td>\n",
       "    </tr>\n",
       "    <tr>\n",
       "      <th>1</th>\n",
       "      <td>p3do03ecr7t67spn</td>\n",
       "      <td>Jason</td>\n",
       "      <td>NaN</td>\n",
       "      <td>Yes</td>\n",
       "      <td>2009-01-09</td>\n",
       "      <td>East</td>\n",
       "      <td>NC</td>\n",
       "      <td>NaN</td>\n",
       "      <td>23</td>\n",
       "      <td>male</td>\n",
       "      <td>Youth</td>\n",
       "      <td>23</td>\n",
       "      <td>20</td>\n",
       "      <td>3</td>\n",
       "      <td>3</td>\n",
       "    </tr>\n",
       "    <tr>\n",
       "      <th>2</th>\n",
       "      <td>p3do03ecr7t67spn</td>\n",
       "      <td>Janyla</td>\n",
       "      <td>NaN</td>\n",
       "      <td>Yes</td>\n",
       "      <td>2012-11-23</td>\n",
       "      <td>East</td>\n",
       "      <td>NC</td>\n",
       "      <td>NaN</td>\n",
       "      <td>20</td>\n",
       "      <td>unknown</td>\n",
       "      <td>Youth</td>\n",
       "      <td>23</td>\n",
       "      <td>20</td>\n",
       "      <td>3</td>\n",
       "      <td>3</td>\n",
       "    </tr>\n",
       "    <tr>\n",
       "      <th>3</th>\n",
       "      <td>sfkib3fm5afbg4lv</td>\n",
       "      <td>Maxim</td>\n",
       "      <td>NaN</td>\n",
       "      <td>No</td>\n",
       "      <td>2009-01-20</td>\n",
       "      <td>Bay Area</td>\n",
       "      <td>CA</td>\n",
       "      <td>NaN</td>\n",
       "      <td>23</td>\n",
       "      <td>male</td>\n",
       "      <td>Youth</td>\n",
       "      <td>44</td>\n",
       "      <td>21</td>\n",
       "      <td>3</td>\n",
       "      <td>23</td>\n",
       "    </tr>\n",
       "    <tr>\n",
       "      <th>4</th>\n",
       "      <td>sfkib3fm5afbg4lv</td>\n",
       "      <td>Nicole</td>\n",
       "      <td>NaN</td>\n",
       "      <td>No</td>\n",
       "      <td>2011-05-27</td>\n",
       "      <td>Bay Area</td>\n",
       "      <td>CA</td>\n",
       "      <td>NaN</td>\n",
       "      <td>21</td>\n",
       "      <td>female</td>\n",
       "      <td>Youth</td>\n",
       "      <td>44</td>\n",
       "      <td>21</td>\n",
       "      <td>3</td>\n",
       "      <td>23</td>\n",
       "    </tr>\n",
       "    <tr>\n",
       "      <th>...</th>\n",
       "      <td>...</td>\n",
       "      <td>...</td>\n",
       "      <td>...</td>\n",
       "      <td>...</td>\n",
       "      <td>...</td>\n",
       "      <td>...</td>\n",
       "      <td>...</td>\n",
       "      <td>...</td>\n",
       "      <td>...</td>\n",
       "      <td>...</td>\n",
       "      <td>...</td>\n",
       "      <td>...</td>\n",
       "      <td>...</td>\n",
       "      <td>...</td>\n",
       "      <td>...</td>\n",
       "    </tr>\n",
       "    <tr>\n",
       "      <th>4729</th>\n",
       "      <td>q26l9nm5rr6n4rve</td>\n",
       "      <td>Leon</td>\n",
       "      <td>NaN</td>\n",
       "      <td>No</td>\n",
       "      <td>2018-03-09</td>\n",
       "      <td>East</td>\n",
       "      <td>GA</td>\n",
       "      <td>NaN</td>\n",
       "      <td>14</td>\n",
       "      <td>male</td>\n",
       "      <td>Children</td>\n",
       "      <td>14</td>\n",
       "      <td>14</td>\n",
       "      <td>1</td>\n",
       "      <td>0</td>\n",
       "    </tr>\n",
       "    <tr>\n",
       "      <th>4730</th>\n",
       "      <td>4busp4hui2rlhfjn</td>\n",
       "      <td>Ariel</td>\n",
       "      <td>NaN</td>\n",
       "      <td>No</td>\n",
       "      <td>2012-06-19</td>\n",
       "      <td>East</td>\n",
       "      <td>AL</td>\n",
       "      <td>NaN</td>\n",
       "      <td>20</td>\n",
       "      <td>male</td>\n",
       "      <td>Youth</td>\n",
       "      <td>20</td>\n",
       "      <td>20</td>\n",
       "      <td>1</td>\n",
       "      <td>0</td>\n",
       "    </tr>\n",
       "    <tr>\n",
       "      <th>4731</th>\n",
       "      <td>fqt3n1in42ddp0ov</td>\n",
       "      <td>Cole</td>\n",
       "      <td>NaN</td>\n",
       "      <td>No</td>\n",
       "      <td>2009-10-10</td>\n",
       "      <td>Washington</td>\n",
       "      <td>WA</td>\n",
       "      <td>NaN</td>\n",
       "      <td>23</td>\n",
       "      <td>male</td>\n",
       "      <td>Youth</td>\n",
       "      <td>23</td>\n",
       "      <td>23</td>\n",
       "      <td>1</td>\n",
       "      <td>0</td>\n",
       "    </tr>\n",
       "    <tr>\n",
       "      <th>4732</th>\n",
       "      <td>vjb2sfvo1injlen0</td>\n",
       "      <td>kaiden</td>\n",
       "      <td>NaN</td>\n",
       "      <td>Yes</td>\n",
       "      <td>2014-04-11</td>\n",
       "      <td>East</td>\n",
       "      <td>NC</td>\n",
       "      <td>NaN</td>\n",
       "      <td>18</td>\n",
       "      <td>unknown</td>\n",
       "      <td>Youth</td>\n",
       "      <td>18</td>\n",
       "      <td>18</td>\n",
       "      <td>1</td>\n",
       "      <td>0</td>\n",
       "    </tr>\n",
       "    <tr>\n",
       "      <th>4733</th>\n",
       "      <td>9md3lb44u6o4ddri</td>\n",
       "      <td>Malia</td>\n",
       "      <td>NaN</td>\n",
       "      <td>No</td>\n",
       "      <td>2020-02-27</td>\n",
       "      <td>SoCal</td>\n",
       "      <td>CA</td>\n",
       "      <td>NaN</td>\n",
       "      <td>12</td>\n",
       "      <td>female</td>\n",
       "      <td>Children</td>\n",
       "      <td>12</td>\n",
       "      <td>12</td>\n",
       "      <td>1</td>\n",
       "      <td>0</td>\n",
       "    </tr>\n",
       "  </tbody>\n",
       "</table>\n",
       "<p>4734 rows × 15 columns</p>\n",
       "</div>"
      ],
      "text/plain": [
       "                    ID  First Name  Monthly Income Pets Date of Birth  \\\n",
       "0     p3do03ecr7t67spn  Jayzua-nae             NaN  Yes    2011-04-20   \n",
       "1     p3do03ecr7t67spn       Jason             NaN  Yes    2009-01-09   \n",
       "2     p3do03ecr7t67spn      Janyla             NaN  Yes    2012-11-23   \n",
       "3     sfkib3fm5afbg4lv       Maxim             NaN   No    2009-01-20   \n",
       "4     sfkib3fm5afbg4lv      Nicole             NaN   No    2011-05-27   \n",
       "...                ...         ...             ...  ...           ...   \n",
       "4729  q26l9nm5rr6n4rve        Leon             NaN   No    2018-03-09   \n",
       "4730  4busp4hui2rlhfjn       Ariel             NaN   No    2012-06-19   \n",
       "4731  fqt3n1in42ddp0ov        Cole             NaN   No    2009-10-10   \n",
       "4732  vjb2sfvo1injlen0      kaiden             NaN  Yes    2014-04-11   \n",
       "4733  9md3lb44u6o4ddri       Malia             NaN   No    2020-02-27   \n",
       "\n",
       "          Market State  AVG Household Income  Age   Gender Age Group  Max  \\\n",
       "0           East    NC                   NaN   21  unknown     Youth   23   \n",
       "1           East    NC                   NaN   23     male     Youth   23   \n",
       "2           East    NC                   NaN   20  unknown     Youth   23   \n",
       "3       Bay Area    CA                   NaN   23     male     Youth   44   \n",
       "4       Bay Area    CA                   NaN   21   female     Youth   44   \n",
       "...          ...   ...                   ...  ...      ...       ...  ...   \n",
       "4729        East    GA                   NaN   14     male  Children   14   \n",
       "4730        East    AL                   NaN   20     male     Youth   20   \n",
       "4731  Washington    WA                   NaN   23     male     Youth   23   \n",
       "4732        East    NC                   NaN   18  unknown     Youth   18   \n",
       "4733       SoCal    CA                   NaN   12   female  Children   12   \n",
       "\n",
       "      Min  Number  Gap  \n",
       "0      20       3    3  \n",
       "1      20       3    3  \n",
       "2      20       3    3  \n",
       "3      21       3   23  \n",
       "4      21       3   23  \n",
       "...   ...     ...  ...  \n",
       "4729   14       1    0  \n",
       "4730   20       1    0  \n",
       "4731   23       1    0  \n",
       "4732   18       1    0  \n",
       "4733   12       1    0  \n",
       "\n",
       "[4734 rows x 15 columns]"
      ]
     },
     "execution_count": 41,
     "metadata": {},
     "output_type": "execute_result"
    }
   ],
   "source": [
    "df2 = df2.merge(df_age, left_on='ID', right_on='ID')\n",
    "\n",
    "#df2 = df2.drop(['ID1'], axis=1)\n",
    "df2"
   ]
  },
  {
   "cell_type": "code",
   "execution_count": 42,
   "id": "a5f69071",
   "metadata": {},
   "outputs": [
    {
     "data": {
      "text/html": [
       "<div>\n",
       "<style scoped>\n",
       "    .dataframe tbody tr th:only-of-type {\n",
       "        vertical-align: middle;\n",
       "    }\n",
       "\n",
       "    .dataframe tbody tr th {\n",
       "        vertical-align: top;\n",
       "    }\n",
       "\n",
       "    .dataframe thead th {\n",
       "        text-align: right;\n",
       "    }\n",
       "</style>\n",
       "<table border=\"1\" class=\"dataframe\">\n",
       "  <thead>\n",
       "    <tr style=\"text-align: right;\">\n",
       "      <th></th>\n",
       "      <th>ID</th>\n",
       "      <th>First Name</th>\n",
       "      <th>Monthly Income</th>\n",
       "      <th>Pets</th>\n",
       "      <th>Date of Birth</th>\n",
       "      <th>Market</th>\n",
       "      <th>State</th>\n",
       "      <th>AVG Household Income</th>\n",
       "      <th>Age</th>\n",
       "      <th>Gender</th>\n",
       "      <th>Age Group</th>\n",
       "      <th>Max</th>\n",
       "      <th>Min</th>\n",
       "      <th>Number</th>\n",
       "      <th>Gap</th>\n",
       "      <th>No Children</th>\n",
       "    </tr>\n",
       "  </thead>\n",
       "  <tbody>\n",
       "    <tr>\n",
       "      <th>0</th>\n",
       "      <td>p3do03ecr7t67spn</td>\n",
       "      <td>Jayzua-nae</td>\n",
       "      <td>NaN</td>\n",
       "      <td>Yes</td>\n",
       "      <td>2011-04-20</td>\n",
       "      <td>East</td>\n",
       "      <td>NC</td>\n",
       "      <td>NaN</td>\n",
       "      <td>21</td>\n",
       "      <td>unknown</td>\n",
       "      <td>Youth</td>\n",
       "      <td>23</td>\n",
       "      <td>20</td>\n",
       "      <td>3</td>\n",
       "      <td>3</td>\n",
       "      <td>True</td>\n",
       "    </tr>\n",
       "    <tr>\n",
       "      <th>1</th>\n",
       "      <td>p3do03ecr7t67spn</td>\n",
       "      <td>Jason</td>\n",
       "      <td>NaN</td>\n",
       "      <td>Yes</td>\n",
       "      <td>2009-01-09</td>\n",
       "      <td>East</td>\n",
       "      <td>NC</td>\n",
       "      <td>NaN</td>\n",
       "      <td>23</td>\n",
       "      <td>male</td>\n",
       "      <td>Youth</td>\n",
       "      <td>23</td>\n",
       "      <td>20</td>\n",
       "      <td>3</td>\n",
       "      <td>3</td>\n",
       "      <td>True</td>\n",
       "    </tr>\n",
       "    <tr>\n",
       "      <th>2</th>\n",
       "      <td>p3do03ecr7t67spn</td>\n",
       "      <td>Janyla</td>\n",
       "      <td>NaN</td>\n",
       "      <td>Yes</td>\n",
       "      <td>2012-11-23</td>\n",
       "      <td>East</td>\n",
       "      <td>NC</td>\n",
       "      <td>NaN</td>\n",
       "      <td>20</td>\n",
       "      <td>unknown</td>\n",
       "      <td>Youth</td>\n",
       "      <td>23</td>\n",
       "      <td>20</td>\n",
       "      <td>3</td>\n",
       "      <td>3</td>\n",
       "      <td>True</td>\n",
       "    </tr>\n",
       "    <tr>\n",
       "      <th>3</th>\n",
       "      <td>sfkib3fm5afbg4lv</td>\n",
       "      <td>Maxim</td>\n",
       "      <td>NaN</td>\n",
       "      <td>No</td>\n",
       "      <td>2009-01-20</td>\n",
       "      <td>Bay Area</td>\n",
       "      <td>CA</td>\n",
       "      <td>NaN</td>\n",
       "      <td>23</td>\n",
       "      <td>male</td>\n",
       "      <td>Youth</td>\n",
       "      <td>44</td>\n",
       "      <td>21</td>\n",
       "      <td>3</td>\n",
       "      <td>23</td>\n",
       "      <td>False</td>\n",
       "    </tr>\n",
       "    <tr>\n",
       "      <th>4</th>\n",
       "      <td>sfkib3fm5afbg4lv</td>\n",
       "      <td>Nicole</td>\n",
       "      <td>NaN</td>\n",
       "      <td>No</td>\n",
       "      <td>2011-05-27</td>\n",
       "      <td>Bay Area</td>\n",
       "      <td>CA</td>\n",
       "      <td>NaN</td>\n",
       "      <td>21</td>\n",
       "      <td>female</td>\n",
       "      <td>Youth</td>\n",
       "      <td>44</td>\n",
       "      <td>21</td>\n",
       "      <td>3</td>\n",
       "      <td>23</td>\n",
       "      <td>False</td>\n",
       "    </tr>\n",
       "    <tr>\n",
       "      <th>...</th>\n",
       "      <td>...</td>\n",
       "      <td>...</td>\n",
       "      <td>...</td>\n",
       "      <td>...</td>\n",
       "      <td>...</td>\n",
       "      <td>...</td>\n",
       "      <td>...</td>\n",
       "      <td>...</td>\n",
       "      <td>...</td>\n",
       "      <td>...</td>\n",
       "      <td>...</td>\n",
       "      <td>...</td>\n",
       "      <td>...</td>\n",
       "      <td>...</td>\n",
       "      <td>...</td>\n",
       "      <td>...</td>\n",
       "    </tr>\n",
       "    <tr>\n",
       "      <th>4729</th>\n",
       "      <td>q26l9nm5rr6n4rve</td>\n",
       "      <td>Leon</td>\n",
       "      <td>NaN</td>\n",
       "      <td>No</td>\n",
       "      <td>2018-03-09</td>\n",
       "      <td>East</td>\n",
       "      <td>GA</td>\n",
       "      <td>NaN</td>\n",
       "      <td>14</td>\n",
       "      <td>male</td>\n",
       "      <td>Children</td>\n",
       "      <td>14</td>\n",
       "      <td>14</td>\n",
       "      <td>1</td>\n",
       "      <td>0</td>\n",
       "      <td>False</td>\n",
       "    </tr>\n",
       "    <tr>\n",
       "      <th>4730</th>\n",
       "      <td>4busp4hui2rlhfjn</td>\n",
       "      <td>Ariel</td>\n",
       "      <td>NaN</td>\n",
       "      <td>No</td>\n",
       "      <td>2012-06-19</td>\n",
       "      <td>East</td>\n",
       "      <td>AL</td>\n",
       "      <td>NaN</td>\n",
       "      <td>20</td>\n",
       "      <td>male</td>\n",
       "      <td>Youth</td>\n",
       "      <td>20</td>\n",
       "      <td>20</td>\n",
       "      <td>1</td>\n",
       "      <td>0</td>\n",
       "      <td>True</td>\n",
       "    </tr>\n",
       "    <tr>\n",
       "      <th>4731</th>\n",
       "      <td>fqt3n1in42ddp0ov</td>\n",
       "      <td>Cole</td>\n",
       "      <td>NaN</td>\n",
       "      <td>No</td>\n",
       "      <td>2009-10-10</td>\n",
       "      <td>Washington</td>\n",
       "      <td>WA</td>\n",
       "      <td>NaN</td>\n",
       "      <td>23</td>\n",
       "      <td>male</td>\n",
       "      <td>Youth</td>\n",
       "      <td>23</td>\n",
       "      <td>23</td>\n",
       "      <td>1</td>\n",
       "      <td>0</td>\n",
       "      <td>True</td>\n",
       "    </tr>\n",
       "    <tr>\n",
       "      <th>4732</th>\n",
       "      <td>vjb2sfvo1injlen0</td>\n",
       "      <td>kaiden</td>\n",
       "      <td>NaN</td>\n",
       "      <td>Yes</td>\n",
       "      <td>2014-04-11</td>\n",
       "      <td>East</td>\n",
       "      <td>NC</td>\n",
       "      <td>NaN</td>\n",
       "      <td>18</td>\n",
       "      <td>unknown</td>\n",
       "      <td>Youth</td>\n",
       "      <td>18</td>\n",
       "      <td>18</td>\n",
       "      <td>1</td>\n",
       "      <td>0</td>\n",
       "      <td>True</td>\n",
       "    </tr>\n",
       "    <tr>\n",
       "      <th>4733</th>\n",
       "      <td>9md3lb44u6o4ddri</td>\n",
       "      <td>Malia</td>\n",
       "      <td>NaN</td>\n",
       "      <td>No</td>\n",
       "      <td>2020-02-27</td>\n",
       "      <td>SoCal</td>\n",
       "      <td>CA</td>\n",
       "      <td>NaN</td>\n",
       "      <td>12</td>\n",
       "      <td>female</td>\n",
       "      <td>Children</td>\n",
       "      <td>12</td>\n",
       "      <td>12</td>\n",
       "      <td>1</td>\n",
       "      <td>0</td>\n",
       "      <td>False</td>\n",
       "    </tr>\n",
       "  </tbody>\n",
       "</table>\n",
       "<p>4734 rows × 16 columns</p>\n",
       "</div>"
      ],
      "text/plain": [
       "                    ID  First Name  Monthly Income Pets Date of Birth  \\\n",
       "0     p3do03ecr7t67spn  Jayzua-nae             NaN  Yes    2011-04-20   \n",
       "1     p3do03ecr7t67spn       Jason             NaN  Yes    2009-01-09   \n",
       "2     p3do03ecr7t67spn      Janyla             NaN  Yes    2012-11-23   \n",
       "3     sfkib3fm5afbg4lv       Maxim             NaN   No    2009-01-20   \n",
       "4     sfkib3fm5afbg4lv      Nicole             NaN   No    2011-05-27   \n",
       "...                ...         ...             ...  ...           ...   \n",
       "4729  q26l9nm5rr6n4rve        Leon             NaN   No    2018-03-09   \n",
       "4730  4busp4hui2rlhfjn       Ariel             NaN   No    2012-06-19   \n",
       "4731  fqt3n1in42ddp0ov        Cole             NaN   No    2009-10-10   \n",
       "4732  vjb2sfvo1injlen0      kaiden             NaN  Yes    2014-04-11   \n",
       "4733  9md3lb44u6o4ddri       Malia             NaN   No    2020-02-27   \n",
       "\n",
       "          Market State  AVG Household Income  Age   Gender Age Group  Max  \\\n",
       "0           East    NC                   NaN   21  unknown     Youth   23   \n",
       "1           East    NC                   NaN   23     male     Youth   23   \n",
       "2           East    NC                   NaN   20  unknown     Youth   23   \n",
       "3       Bay Area    CA                   NaN   23     male     Youth   44   \n",
       "4       Bay Area    CA                   NaN   21   female     Youth   44   \n",
       "...          ...   ...                   ...  ...      ...       ...  ...   \n",
       "4729        East    GA                   NaN   14     male  Children   14   \n",
       "4730        East    AL                   NaN   20     male     Youth   20   \n",
       "4731  Washington    WA                   NaN   23     male     Youth   23   \n",
       "4732        East    NC                   NaN   18  unknown     Youth   18   \n",
       "4733       SoCal    CA                   NaN   12   female  Children   12   \n",
       "\n",
       "      Min  Number  Gap  No Children  \n",
       "0      20       3    3         True  \n",
       "1      20       3    3         True  \n",
       "2      20       3    3         True  \n",
       "3      21       3   23        False  \n",
       "4      21       3   23        False  \n",
       "...   ...     ...  ...          ...  \n",
       "4729   14       1    0        False  \n",
       "4730   20       1    0         True  \n",
       "4731   23       1    0         True  \n",
       "4732   18       1    0         True  \n",
       "4733   12       1    0        False  \n",
       "\n",
       "[4734 rows x 16 columns]"
      ]
     },
     "execution_count": 42,
     "metadata": {},
     "output_type": "execute_result"
    }
   ],
   "source": [
    "df2['No Children'] = (df2.Min > 15) & (df2.Gap < 20)\n",
    "df2"
   ]
  },
  {
   "cell_type": "markdown",
   "id": "c7bbdd8e",
   "metadata": {},
   "source": [
    "# gender "
   ]
  },
  {
   "cell_type": "code",
   "execution_count": 43,
   "id": "a84475c4",
   "metadata": {},
   "outputs": [
    {
     "name": "stderr",
     "output_type": "stream",
     "text": [
      "C:\\Users\\arash\\anaconda3\\lib\\site-packages\\seaborn\\_decorators.py:36: FutureWarning: Pass the following variable as a keyword arg: x. From version 0.12, the only valid positional argument will be `data`, and passing other arguments without an explicit keyword will result in an error or misinterpretation.\n",
      "  warnings.warn(\n"
     ]
    },
    {
     "data": {
      "image/png": "[encoded data removed]",
      "text/plain": [
       "<Figure size 432x288 with 1 Axes>"
      ]
     },
     "metadata": {
      "needs_background": "light"
     },
     "output_type": "display_data"
    }
   ],
   "source": [
    "ax = sns.countplot(df2['No Children'])\n",
    "\n",
    "ax.set_xticklabels(['Children', 'No Children']);\n",
    "\n",
    "percentage = []\n",
    "\n",
    "n = [False, True]\n",
    "for i in n:\n",
    "    pct = (df2['No Children'] == i).sum() / len(df2['No Children']) * 100\n",
    "    percentage.append(round(pct,2))\n",
    "#df2['Percentage'] = percentage\n",
    "\n",
    "i = 0\n",
    "for p in ax.patches: \n",
    "    width = p.get_width()\n",
    "    height = p.get_height()\n",
    "    x, y = p.get_xy()\n",
    "    plt.text(x+width/2,\n",
    "             y+height*1.01,\n",
    "             str(percentage[i])+'%',\n",
    "             ha='center',\n",
    "             weight='bold')\n",
    "    i+=1 \n",
    "    \n",
    "plt.show();"
   ]
  },
  {
   "cell_type": "code",
   "execution_count": 44,
   "id": "bdc17d2b",
   "metadata": {},
   "outputs": [
    {
     "name": "stderr",
     "output_type": "stream",
     "text": [
      "C:\\Users\\arash\\anaconda3\\lib\\site-packages\\seaborn\\_decorators.py:36: FutureWarning: Pass the following variable as a keyword arg: x. From version 0.12, the only valid positional argument will be `data`, and passing other arguments without an explicit keyword will result in an error or misinterpretation.\n",
      "  warnings.warn(\n"
     ]
    },
    {
     "data": {
      "image/png": "[encoded data removed]",
      "text/plain": [
       "<Figure size 432x288 with 1 Axes>"
      ]
     },
     "metadata": {
      "needs_background": "light"
     },
     "output_type": "display_data"
    }
   ],
   "source": [
    "ax = sns.countplot(df2['No Children'])"
   ]
  },
  {
   "cell_type": "code",
   "execution_count": 45,
   "id": "a5e4d104",
   "metadata": {},
   "outputs": [
    {
     "name": "stderr",
     "output_type": "stream",
     "text": [
      "C:\\Users\\arash\\anaconda3\\lib\\site-packages\\seaborn\\_decorators.py:36: FutureWarning: Pass the following variable as a keyword arg: x. From version 0.12, the only valid positional argument will be `data`, and passing other arguments without an explicit keyword will result in an error or misinterpretation.\n",
      "  warnings.warn(\n"
     ]
    },
    {
     "data": {
      "image/png": "[encoded data removed]",
      "text/plain": [
       "<Figure size 432x288 with 1 Axes>"
      ]
     },
     "metadata": {
      "needs_background": "light"
     },
     "output_type": "display_data"
    }
   ],
   "source": [
    "ax = sns.countplot(df2.Gender)\n",
    "\n",
    "percentage = []\n",
    "\n",
    "n = list(df2.Gender.unique())\n",
    "for i in n:\n",
    "    pct = (df2.Gender == i).sum() / len(df2.Gender) * 100\n",
    "    percentage.append(round(pct,2))\n",
    "#df2['Percentage'] = percentage\n",
    "\n",
    "i = 0\n",
    "for p in ax.patches: \n",
    "    width = p.get_width()\n",
    "    height = p.get_height()\n",
    "    x, y = p.get_xy()\n",
    "    plt.text(x+width/2,\n",
    "             y+height*1.01,\n",
    "             str(percentage[i])+'%',\n",
    "             ha='center',\n",
    "             weight='bold')\n",
    "    i+=1 \n",
    "    \n",
    "plt.show();"
   ]
  },
  {
   "cell_type": "code",
   "execution_count": 46,
   "id": "d50c91ad",
   "metadata": {},
   "outputs": [
    {
     "name": "stderr",
     "output_type": "stream",
     "text": [
      "C:\\Users\\arash\\anaconda3\\lib\\site-packages\\seaborn\\_decorators.py:36: FutureWarning: Pass the following variable as a keyword arg: x. From version 0.12, the only valid positional argument will be `data`, and passing other arguments without an explicit keyword will result in an error or misinterpretation.\n",
      "  warnings.warn(\n"
     ]
    },
    {
     "data": {
      "image/png": "[encoded data removed]",
      "text/plain": [
       "<Figure size 432x288 with 1 Axes>"
      ]
     },
     "metadata": {
      "needs_background": "light"
     },
     "output_type": "display_data"
    }
   ],
   "source": [
    "ax = sns.countplot(df2['Age Group'])\n",
    "\n",
    "n = ['Children', 'Youth', 'Adult', 'Seniors']\n",
    "\n",
    "percentage = []\n",
    "\n",
    "for i in n:\n",
    "    pct = (df2['Age Group'] == i).sum() / len(df2['Age Group'] ) * 100\n",
    "    percentage.append(round(pct,2))\n",
    "\n",
    "\n",
    "i = 0\n",
    "for p in ax.patches: \n",
    "    width = p.get_width()\n",
    "    height = p.get_height()\n",
    "    x, y = p.get_xy()\n",
    "    plt.text(x+width/2,\n",
    "             y+height*1.01,\n",
    "             str(percentage[i])+'%',\n",
    "             ha='center',\n",
    "             weight='bold')\n",
    "    i+=1 \n",
    "    \n",
    "plt.show()"
   ]
  },
  {
   "cell_type": "code",
   "execution_count": 47,
   "id": "22bb6bd8",
   "metadata": {
    "scrolled": true
   },
   "outputs": [
    {
     "data": {
      "image/png": "[encoded data removed]",
      "text/plain": [
       "<Figure size 432x288 with 1 Axes>"
      ]
     },
     "metadata": {
      "needs_background": "light"
     },
     "output_type": "display_data"
    }
   ],
   "source": [
    "sns.countplot(df2.Market, hue=df2.Gender)\n",
    "plt.xticks(rotation=45);"
   ]
  },
  {
   "cell_type": "code",
   "execution_count": 48,
   "id": "65dc9261",
   "metadata": {},
   "outputs": [
    {
     "name": "stderr",
     "output_type": "stream",
     "text": [
      "C:\\Users\\arash\\anaconda3\\lib\\site-packages\\seaborn\\_decorators.py:36: FutureWarning: Pass the following variable as a keyword arg: x. From version 0.12, the only valid positional argument will be `data`, and passing other arguments without an explicit keyword will result in an error or misinterpretation.\n",
      "  warnings.warn(\n"
     ]
    },
    {
     "data": {
      "image/png": "[encoded data removed]",
      "text/plain": [
       "<Figure size 432x288 with 1 Axes>"
      ]
     },
     "metadata": {
      "needs_background": "light"
     },
     "output_type": "display_data"
    }
   ],
   "source": [
    "sns.countplot(df2.Market, hue=df2['Age Group'])\n",
    "plt.xticks(rotation=45);"
   ]
  },
  {
   "cell_type": "code",
   "execution_count": 49,
   "id": "a0fc1271",
   "metadata": {},
   "outputs": [
    {
     "name": "stderr",
     "output_type": "stream",
     "text": [
      "C:\\Users\\arash\\anaconda3\\lib\\site-packages\\seaborn\\_decorators.py:36: FutureWarning: Pass the following variable as a keyword arg: x. From version 0.12, the only valid positional argument will be `data`, and passing other arguments without an explicit keyword will result in an error or misinterpretation.\n",
      "  warnings.warn(\n"
     ]
    },
    {
     "data": {
      "image/png": "[encoded data removed]",
      "text/plain": [
       "<Figure size 432x288 with 1 Axes>"
      ]
     },
     "metadata": {
      "needs_background": "light"
     },
     "output_type": "display_data"
    }
   ],
   "source": [
    "sns.countplot(df2.Market);"
   ]
  },
  {
   "cell_type": "code",
   "execution_count": 50,
   "id": "b0f19146",
   "metadata": {},
   "outputs": [
    {
     "name": "stderr",
     "output_type": "stream",
     "text": [
      "C:\\Users\\arash\\anaconda3\\lib\\site-packages\\seaborn\\_decorators.py:36: FutureWarning: Pass the following variable as a keyword arg: x. From version 0.12, the only valid positional argument will be `data`, and passing other arguments without an explicit keyword will result in an error or misinterpretation.\n",
      "  warnings.warn(\n"
     ]
    },
    {
     "data": {
      "image/png": "[encoded data removed]",
      "text/plain": [
       "<Figure size 432x288 with 1 Axes>"
      ]
     },
     "metadata": {
      "needs_background": "light"
     },
     "output_type": "display_data"
    }
   ],
   "source": [
    "sns.countplot(df2.Market, hue=df2.Pets)\n",
    "plt.xticks(rotation=45);"
   ]
  },
  {
   "cell_type": "code",
   "execution_count": 51,
   "id": "8b8e7db1",
   "metadata": {},
   "outputs": [
    {
     "name": "stderr",
     "output_type": "stream",
     "text": [
      "C:\\Users\\arash\\anaconda3\\lib\\site-packages\\seaborn\\_decorators.py:36: FutureWarning: Pass the following variable as a keyword arg: x. From version 0.12, the only valid positional argument will be `data`, and passing other arguments without an explicit keyword will result in an error or misinterpretation.\n",
      "  warnings.warn(\n"
     ]
    },
    {
     "data": {
      "text/plain": [
       "<AxesSubplot:xlabel='Market', ylabel='count'>"
      ]
     },
     "execution_count": 51,
     "metadata": {},
     "output_type": "execute_result"
    },
    {
     "data": {
      "image/png": "[encoded data removed]",
      "text/plain": [
       "<Figure size 432x288 with 1 Axes>"
      ]
     },
     "metadata": {
      "needs_background": "light"
     },
     "output_type": "display_data"
    }
   ],
   "source": [
    "sns.countplot(df2.Market, hue=df2.Age)"
   ]
  },
  {
   "cell_type": "code",
   "execution_count": 52,
   "id": "b8617512",
   "metadata": {},
   "outputs": [],
   "source": [
    "df2['Age_group'] = pd.cut(df2['Age'], [-1, 14, 24, 64, 99], labels=['Children', 'Youth', 'Adult', 'Seniors'])"
   ]
  },
  {
   "cell_type": "code",
   "execution_count": 53,
   "id": "984731ec",
   "metadata": {},
   "outputs": [
    {
     "data": {
      "text/html": [
       "<div>\n",
       "<style scoped>\n",
       "    .dataframe tbody tr th:only-of-type {\n",
       "        vertical-align: middle;\n",
       "    }\n",
       "\n",
       "    .dataframe tbody tr th {\n",
       "        vertical-align: top;\n",
       "    }\n",
       "\n",
       "    .dataframe thead th {\n",
       "        text-align: right;\n",
       "    }\n",
       "</style>\n",
       "<table border=\"1\" class=\"dataframe\">\n",
       "  <thead>\n",
       "    <tr style=\"text-align: right;\">\n",
       "      <th></th>\n",
       "      <th>ID</th>\n",
       "      <th>First Name</th>\n",
       "      <th>Monthly Income</th>\n",
       "      <th>Pets</th>\n",
       "      <th>Date of Birth</th>\n",
       "      <th>Market</th>\n",
       "      <th>State</th>\n",
       "      <th>AVG Household Income</th>\n",
       "      <th>Age</th>\n",
       "      <th>Gender</th>\n",
       "      <th>Age Group</th>\n",
       "      <th>Max</th>\n",
       "      <th>Min</th>\n",
       "      <th>Number</th>\n",
       "      <th>Gap</th>\n",
       "      <th>No Children</th>\n",
       "      <th>Age_group</th>\n",
       "    </tr>\n",
       "  </thead>\n",
       "  <tbody>\n",
       "    <tr>\n",
       "      <th>0</th>\n",
       "      <td>p3do03ecr7t67spn</td>\n",
       "      <td>Jayzua-nae</td>\n",
       "      <td>NaN</td>\n",
       "      <td>Yes</td>\n",
       "      <td>2011-04-20</td>\n",
       "      <td>East</td>\n",
       "      <td>NC</td>\n",
       "      <td>NaN</td>\n",
       "      <td>21</td>\n",
       "      <td>unknown</td>\n",
       "      <td>Youth</td>\n",
       "      <td>23</td>\n",
       "      <td>20</td>\n",
       "      <td>3</td>\n",
       "      <td>3</td>\n",
       "      <td>True</td>\n",
       "      <td>Youth</td>\n",
       "    </tr>\n",
       "    <tr>\n",
       "      <th>1</th>\n",
       "      <td>p3do03ecr7t67spn</td>\n",
       "      <td>Jason</td>\n",
       "      <td>NaN</td>\n",
       "      <td>Yes</td>\n",
       "      <td>2009-01-09</td>\n",
       "      <td>East</td>\n",
       "      <td>NC</td>\n",
       "      <td>NaN</td>\n",
       "      <td>23</td>\n",
       "      <td>male</td>\n",
       "      <td>Youth</td>\n",
       "      <td>23</td>\n",
       "      <td>20</td>\n",
       "      <td>3</td>\n",
       "      <td>3</td>\n",
       "      <td>True</td>\n",
       "      <td>Youth</td>\n",
       "    </tr>\n",
       "    <tr>\n",
       "      <th>2</th>\n",
       "      <td>p3do03ecr7t67spn</td>\n",
       "      <td>Janyla</td>\n",
       "      <td>NaN</td>\n",
       "      <td>Yes</td>\n",
       "      <td>2012-11-23</td>\n",
       "      <td>East</td>\n",
       "      <td>NC</td>\n",
       "      <td>NaN</td>\n",
       "      <td>20</td>\n",
       "      <td>unknown</td>\n",
       "      <td>Youth</td>\n",
       "      <td>23</td>\n",
       "      <td>20</td>\n",
       "      <td>3</td>\n",
       "      <td>3</td>\n",
       "      <td>True</td>\n",
       "      <td>Youth</td>\n",
       "    </tr>\n",
       "    <tr>\n",
       "      <th>3</th>\n",
       "      <td>sfkib3fm5afbg4lv</td>\n",
       "      <td>Maxim</td>\n",
       "      <td>NaN</td>\n",
       "      <td>No</td>\n",
       "      <td>2009-01-20</td>\n",
       "      <td>Bay Area</td>\n",
       "      <td>CA</td>\n",
       "      <td>NaN</td>\n",
       "      <td>23</td>\n",
       "      <td>male</td>\n",
       "      <td>Youth</td>\n",
       "      <td>44</td>\n",
       "      <td>21</td>\n",
       "      <td>3</td>\n",
       "      <td>23</td>\n",
       "      <td>False</td>\n",
       "      <td>Youth</td>\n",
       "    </tr>\n",
       "    <tr>\n",
       "      <th>4</th>\n",
       "      <td>sfkib3fm5afbg4lv</td>\n",
       "      <td>Nicole</td>\n",
       "      <td>NaN</td>\n",
       "      <td>No</td>\n",
       "      <td>2011-05-27</td>\n",
       "      <td>Bay Area</td>\n",
       "      <td>CA</td>\n",
       "      <td>NaN</td>\n",
       "      <td>21</td>\n",
       "      <td>female</td>\n",
       "      <td>Youth</td>\n",
       "      <td>44</td>\n",
       "      <td>21</td>\n",
       "      <td>3</td>\n",
       "      <td>23</td>\n",
       "      <td>False</td>\n",
       "      <td>Youth</td>\n",
       "    </tr>\n",
       "    <tr>\n",
       "      <th>...</th>\n",
       "      <td>...</td>\n",
       "      <td>...</td>\n",
       "      <td>...</td>\n",
       "      <td>...</td>\n",
       "      <td>...</td>\n",
       "      <td>...</td>\n",
       "      <td>...</td>\n",
       "      <td>...</td>\n",
       "      <td>...</td>\n",
       "      <td>...</td>\n",
       "      <td>...</td>\n",
       "      <td>...</td>\n",
       "      <td>...</td>\n",
       "      <td>...</td>\n",
       "      <td>...</td>\n",
       "      <td>...</td>\n",
       "      <td>...</td>\n",
       "    </tr>\n",
       "    <tr>\n",
       "      <th>4729</th>\n",
       "      <td>q26l9nm5rr6n4rve</td>\n",
       "      <td>Leon</td>\n",
       "      <td>NaN</td>\n",
       "      <td>No</td>\n",
       "      <td>2018-03-09</td>\n",
       "      <td>East</td>\n",
       "      <td>GA</td>\n",
       "      <td>NaN</td>\n",
       "      <td>14</td>\n",
       "      <td>male</td>\n",
       "      <td>Children</td>\n",
       "      <td>14</td>\n",
       "      <td>14</td>\n",
       "      <td>1</td>\n",
       "      <td>0</td>\n",
       "      <td>False</td>\n",
       "      <td>Children</td>\n",
       "    </tr>\n",
       "    <tr>\n",
       "      <th>4730</th>\n",
       "      <td>4busp4hui2rlhfjn</td>\n",
       "      <td>Ariel</td>\n",
       "      <td>NaN</td>\n",
       "      <td>No</td>\n",
       "      <td>2012-06-19</td>\n",
       "      <td>East</td>\n",
       "      <td>AL</td>\n",
       "      <td>NaN</td>\n",
       "      <td>20</td>\n",
       "      <td>male</td>\n",
       "      <td>Youth</td>\n",
       "      <td>20</td>\n",
       "      <td>20</td>\n",
       "      <td>1</td>\n",
       "      <td>0</td>\n",
       "      <td>True</td>\n",
       "      <td>Youth</td>\n",
       "    </tr>\n",
       "    <tr>\n",
       "      <th>4731</th>\n",
       "      <td>fqt3n1in42ddp0ov</td>\n",
       "      <td>Cole</td>\n",
       "      <td>NaN</td>\n",
       "      <td>No</td>\n",
       "      <td>2009-10-10</td>\n",
       "      <td>Washington</td>\n",
       "      <td>WA</td>\n",
       "      <td>NaN</td>\n",
       "      <td>23</td>\n",
       "      <td>male</td>\n",
       "      <td>Youth</td>\n",
       "      <td>23</td>\n",
       "      <td>23</td>\n",
       "      <td>1</td>\n",
       "      <td>0</td>\n",
       "      <td>True</td>\n",
       "      <td>Youth</td>\n",
       "    </tr>\n",
       "    <tr>\n",
       "      <th>4732</th>\n",
       "      <td>vjb2sfvo1injlen0</td>\n",
       "      <td>kaiden</td>\n",
       "      <td>NaN</td>\n",
       "      <td>Yes</td>\n",
       "      <td>2014-04-11</td>\n",
       "      <td>East</td>\n",
       "      <td>NC</td>\n",
       "      <td>NaN</td>\n",
       "      <td>18</td>\n",
       "      <td>unknown</td>\n",
       "      <td>Youth</td>\n",
       "      <td>18</td>\n",
       "      <td>18</td>\n",
       "      <td>1</td>\n",
       "      <td>0</td>\n",
       "      <td>True</td>\n",
       "      <td>Youth</td>\n",
       "    </tr>\n",
       "    <tr>\n",
       "      <th>4733</th>\n",
       "      <td>9md3lb44u6o4ddri</td>\n",
       "      <td>Malia</td>\n",
       "      <td>NaN</td>\n",
       "      <td>No</td>\n",
       "      <td>2020-02-27</td>\n",
       "      <td>SoCal</td>\n",
       "      <td>CA</td>\n",
       "      <td>NaN</td>\n",
       "      <td>12</td>\n",
       "      <td>female</td>\n",
       "      <td>Children</td>\n",
       "      <td>12</td>\n",
       "      <td>12</td>\n",
       "      <td>1</td>\n",
       "      <td>0</td>\n",
       "      <td>False</td>\n",
       "      <td>Children</td>\n",
       "    </tr>\n",
       "  </tbody>\n",
       "</table>\n",
       "<p>4734 rows × 17 columns</p>\n",
       "</div>"
      ],
      "text/plain": [
       "                    ID  First Name  Monthly Income Pets Date of Birth  \\\n",
       "0     p3do03ecr7t67spn  Jayzua-nae             NaN  Yes    2011-04-20   \n",
       "1     p3do03ecr7t67spn       Jason             NaN  Yes    2009-01-09   \n",
       "2     p3do03ecr7t67spn      Janyla             NaN  Yes    2012-11-23   \n",
       "3     sfkib3fm5afbg4lv       Maxim             NaN   No    2009-01-20   \n",
       "4     sfkib3fm5afbg4lv      Nicole             NaN   No    2011-05-27   \n",
       "...                ...         ...             ...  ...           ...   \n",
       "4729  q26l9nm5rr6n4rve        Leon             NaN   No    2018-03-09   \n",
       "4730  4busp4hui2rlhfjn       Ariel             NaN   No    2012-06-19   \n",
       "4731  fqt3n1in42ddp0ov        Cole             NaN   No    2009-10-10   \n",
       "4732  vjb2sfvo1injlen0      kaiden             NaN  Yes    2014-04-11   \n",
       "4733  9md3lb44u6o4ddri       Malia             NaN   No    2020-02-27   \n",
       "\n",
       "          Market State  AVG Household Income  Age   Gender Age Group  Max  \\\n",
       "0           East    NC                   NaN   21  unknown     Youth   23   \n",
       "1           East    NC                   NaN   23     male     Youth   23   \n",
       "2           East    NC                   NaN   20  unknown     Youth   23   \n",
       "3       Bay Area    CA                   NaN   23     male     Youth   44   \n",
       "4       Bay Area    CA                   NaN   21   female     Youth   44   \n",
       "...          ...   ...                   ...  ...      ...       ...  ...   \n",
       "4729        East    GA                   NaN   14     male  Children   14   \n",
       "4730        East    AL                   NaN   20     male     Youth   20   \n",
       "4731  Washington    WA                   NaN   23     male     Youth   23   \n",
       "4732        East    NC                   NaN   18  unknown     Youth   18   \n",
       "4733       SoCal    CA                   NaN   12   female  Children   12   \n",
       "\n",
       "      Min  Number  Gap  No Children Age_group  \n",
       "0      20       3    3         True     Youth  \n",
       "1      20       3    3         True     Youth  \n",
       "2      20       3    3         True     Youth  \n",
       "3      21       3   23        False     Youth  \n",
       "4      21       3   23        False     Youth  \n",
       "...   ...     ...  ...          ...       ...  \n",
       "4729   14       1    0        False  Children  \n",
       "4730   20       1    0         True     Youth  \n",
       "4731   23       1    0         True     Youth  \n",
       "4732   18       1    0         True     Youth  \n",
       "4733   12       1    0        False  Children  \n",
       "\n",
       "[4734 rows x 17 columns]"
      ]
     },
     "execution_count": 53,
     "metadata": {},
     "output_type": "execute_result"
    }
   ],
   "source": [
    "df2"
   ]
  },
  {
   "cell_type": "code",
   "execution_count": 54,
   "id": "4bcf12d1",
   "metadata": {
    "scrolled": true
   },
   "outputs": [
    {
     "data": {
      "text/html": [
       "<div>\n",
       "<style scoped>\n",
       "    .dataframe tbody tr th:only-of-type {\n",
       "        vertical-align: middle;\n",
       "    }\n",
       "\n",
       "    .dataframe tbody tr th {\n",
       "        vertical-align: top;\n",
       "    }\n",
       "\n",
       "    .dataframe thead th {\n",
       "        text-align: right;\n",
       "    }\n",
       "</style>\n",
       "<table border=\"1\" class=\"dataframe\">\n",
       "  <thead>\n",
       "    <tr style=\"text-align: right;\">\n",
       "      <th></th>\n",
       "      <th>ID</th>\n",
       "      <th>First Name</th>\n",
       "      <th>Monthly Income</th>\n",
       "      <th>Pets</th>\n",
       "      <th>Date of Birth</th>\n",
       "      <th>Market</th>\n",
       "      <th>State</th>\n",
       "      <th>AVG Household Income</th>\n",
       "      <th>Age</th>\n",
       "      <th>Gender</th>\n",
       "      <th>Age Group</th>\n",
       "      <th>Max</th>\n",
       "      <th>Min</th>\n",
       "      <th>Number</th>\n",
       "      <th>Gap</th>\n",
       "      <th>No Children</th>\n",
       "      <th>Age_group</th>\n",
       "      <th>Income Group</th>\n",
       "    </tr>\n",
       "  </thead>\n",
       "  <tbody>\n",
       "    <tr>\n",
       "      <th>0</th>\n",
       "      <td>p3do03ecr7t67spn</td>\n",
       "      <td>Jayzua-nae</td>\n",
       "      <td>0.0</td>\n",
       "      <td>Yes</td>\n",
       "      <td>2011-04-20</td>\n",
       "      <td>East</td>\n",
       "      <td>NC</td>\n",
       "      <td>NaN</td>\n",
       "      <td>21</td>\n",
       "      <td>unknown</td>\n",
       "      <td>Youth</td>\n",
       "      <td>23</td>\n",
       "      <td>20</td>\n",
       "      <td>3</td>\n",
       "      <td>3</td>\n",
       "      <td>True</td>\n",
       "      <td>Youth</td>\n",
       "      <td>Not Given</td>\n",
       "    </tr>\n",
       "    <tr>\n",
       "      <th>1</th>\n",
       "      <td>p3do03ecr7t67spn</td>\n",
       "      <td>Jason</td>\n",
       "      <td>0.0</td>\n",
       "      <td>Yes</td>\n",
       "      <td>2009-01-09</td>\n",
       "      <td>East</td>\n",
       "      <td>NC</td>\n",
       "      <td>NaN</td>\n",
       "      <td>23</td>\n",
       "      <td>male</td>\n",
       "      <td>Youth</td>\n",
       "      <td>23</td>\n",
       "      <td>20</td>\n",
       "      <td>3</td>\n",
       "      <td>3</td>\n",
       "      <td>True</td>\n",
       "      <td>Youth</td>\n",
       "      <td>Not Given</td>\n",
       "    </tr>\n",
       "    <tr>\n",
       "      <th>2</th>\n",
       "      <td>p3do03ecr7t67spn</td>\n",
       "      <td>Janyla</td>\n",
       "      <td>0.0</td>\n",
       "      <td>Yes</td>\n",
       "      <td>2012-11-23</td>\n",
       "      <td>East</td>\n",
       "      <td>NC</td>\n",
       "      <td>NaN</td>\n",
       "      <td>20</td>\n",
       "      <td>unknown</td>\n",
       "      <td>Youth</td>\n",
       "      <td>23</td>\n",
       "      <td>20</td>\n",
       "      <td>3</td>\n",
       "      <td>3</td>\n",
       "      <td>True</td>\n",
       "      <td>Youth</td>\n",
       "      <td>Not Given</td>\n",
       "    </tr>\n",
       "    <tr>\n",
       "      <th>3</th>\n",
       "      <td>sfkib3fm5afbg4lv</td>\n",
       "      <td>Maxim</td>\n",
       "      <td>0.0</td>\n",
       "      <td>No</td>\n",
       "      <td>2009-01-20</td>\n",
       "      <td>Bay Area</td>\n",
       "      <td>CA</td>\n",
       "      <td>NaN</td>\n",
       "      <td>23</td>\n",
       "      <td>male</td>\n",
       "      <td>Youth</td>\n",
       "      <td>44</td>\n",
       "      <td>21</td>\n",
       "      <td>3</td>\n",
       "      <td>23</td>\n",
       "      <td>False</td>\n",
       "      <td>Youth</td>\n",
       "      <td>Not Given</td>\n",
       "    </tr>\n",
       "    <tr>\n",
       "      <th>4</th>\n",
       "      <td>sfkib3fm5afbg4lv</td>\n",
       "      <td>Nicole</td>\n",
       "      <td>0.0</td>\n",
       "      <td>No</td>\n",
       "      <td>2011-05-27</td>\n",
       "      <td>Bay Area</td>\n",
       "      <td>CA</td>\n",
       "      <td>NaN</td>\n",
       "      <td>21</td>\n",
       "      <td>female</td>\n",
       "      <td>Youth</td>\n",
       "      <td>44</td>\n",
       "      <td>21</td>\n",
       "      <td>3</td>\n",
       "      <td>23</td>\n",
       "      <td>False</td>\n",
       "      <td>Youth</td>\n",
       "      <td>Not Given</td>\n",
       "    </tr>\n",
       "    <tr>\n",
       "      <th>...</th>\n",
       "      <td>...</td>\n",
       "      <td>...</td>\n",
       "      <td>...</td>\n",
       "      <td>...</td>\n",
       "      <td>...</td>\n",
       "      <td>...</td>\n",
       "      <td>...</td>\n",
       "      <td>...</td>\n",
       "      <td>...</td>\n",
       "      <td>...</td>\n",
       "      <td>...</td>\n",
       "      <td>...</td>\n",
       "      <td>...</td>\n",
       "      <td>...</td>\n",
       "      <td>...</td>\n",
       "      <td>...</td>\n",
       "      <td>...</td>\n",
       "      <td>...</td>\n",
       "    </tr>\n",
       "    <tr>\n",
       "      <th>4729</th>\n",
       "      <td>q26l9nm5rr6n4rve</td>\n",
       "      <td>Leon</td>\n",
       "      <td>0.0</td>\n",
       "      <td>No</td>\n",
       "      <td>2018-03-09</td>\n",
       "      <td>East</td>\n",
       "      <td>GA</td>\n",
       "      <td>NaN</td>\n",
       "      <td>14</td>\n",
       "      <td>male</td>\n",
       "      <td>Children</td>\n",
       "      <td>14</td>\n",
       "      <td>14</td>\n",
       "      <td>1</td>\n",
       "      <td>0</td>\n",
       "      <td>False</td>\n",
       "      <td>Children</td>\n",
       "      <td>Not Given</td>\n",
       "    </tr>\n",
       "    <tr>\n",
       "      <th>4730</th>\n",
       "      <td>4busp4hui2rlhfjn</td>\n",
       "      <td>Ariel</td>\n",
       "      <td>0.0</td>\n",
       "      <td>No</td>\n",
       "      <td>2012-06-19</td>\n",
       "      <td>East</td>\n",
       "      <td>AL</td>\n",
       "      <td>NaN</td>\n",
       "      <td>20</td>\n",
       "      <td>male</td>\n",
       "      <td>Youth</td>\n",
       "      <td>20</td>\n",
       "      <td>20</td>\n",
       "      <td>1</td>\n",
       "      <td>0</td>\n",
       "      <td>True</td>\n",
       "      <td>Youth</td>\n",
       "      <td>Not Given</td>\n",
       "    </tr>\n",
       "    <tr>\n",
       "      <th>4731</th>\n",
       "      <td>fqt3n1in42ddp0ov</td>\n",
       "      <td>Cole</td>\n",
       "      <td>0.0</td>\n",
       "      <td>No</td>\n",
       "      <td>2009-10-10</td>\n",
       "      <td>Washington</td>\n",
       "      <td>WA</td>\n",
       "      <td>NaN</td>\n",
       "      <td>23</td>\n",
       "      <td>male</td>\n",
       "      <td>Youth</td>\n",
       "      <td>23</td>\n",
       "      <td>23</td>\n",
       "      <td>1</td>\n",
       "      <td>0</td>\n",
       "      <td>True</td>\n",
       "      <td>Youth</td>\n",
       "      <td>Not Given</td>\n",
       "    </tr>\n",
       "    <tr>\n",
       "      <th>4732</th>\n",
       "      <td>vjb2sfvo1injlen0</td>\n",
       "      <td>kaiden</td>\n",
       "      <td>0.0</td>\n",
       "      <td>Yes</td>\n",
       "      <td>2014-04-11</td>\n",
       "      <td>East</td>\n",
       "      <td>NC</td>\n",
       "      <td>NaN</td>\n",
       "      <td>18</td>\n",
       "      <td>unknown</td>\n",
       "      <td>Youth</td>\n",
       "      <td>18</td>\n",
       "      <td>18</td>\n",
       "      <td>1</td>\n",
       "      <td>0</td>\n",
       "      <td>True</td>\n",
       "      <td>Youth</td>\n",
       "      <td>Not Given</td>\n",
       "    </tr>\n",
       "    <tr>\n",
       "      <th>4733</th>\n",
       "      <td>9md3lb44u6o4ddri</td>\n",
       "      <td>Malia</td>\n",
       "      <td>0.0</td>\n",
       "      <td>No</td>\n",
       "      <td>2020-02-27</td>\n",
       "      <td>SoCal</td>\n",
       "      <td>CA</td>\n",
       "      <td>NaN</td>\n",
       "      <td>12</td>\n",
       "      <td>female</td>\n",
       "      <td>Children</td>\n",
       "      <td>12</td>\n",
       "      <td>12</td>\n",
       "      <td>1</td>\n",
       "      <td>0</td>\n",
       "      <td>False</td>\n",
       "      <td>Children</td>\n",
       "      <td>Not Given</td>\n",
       "    </tr>\n",
       "  </tbody>\n",
       "</table>\n",
       "<p>4734 rows × 18 columns</p>\n",
       "</div>"
      ],
      "text/plain": [
       "                    ID  First Name  Monthly Income Pets Date of Birth  \\\n",
       "0     p3do03ecr7t67spn  Jayzua-nae             0.0  Yes    2011-04-20   \n",
       "1     p3do03ecr7t67spn       Jason             0.0  Yes    2009-01-09   \n",
       "2     p3do03ecr7t67spn      Janyla             0.0  Yes    2012-11-23   \n",
       "3     sfkib3fm5afbg4lv       Maxim             0.0   No    2009-01-20   \n",
       "4     sfkib3fm5afbg4lv      Nicole             0.0   No    2011-05-27   \n",
       "...                ...         ...             ...  ...           ...   \n",
       "4729  q26l9nm5rr6n4rve        Leon             0.0   No    2018-03-09   \n",
       "4730  4busp4hui2rlhfjn       Ariel             0.0   No    2012-06-19   \n",
       "4731  fqt3n1in42ddp0ov        Cole             0.0   No    2009-10-10   \n",
       "4732  vjb2sfvo1injlen0      kaiden             0.0  Yes    2014-04-11   \n",
       "4733  9md3lb44u6o4ddri       Malia             0.0   No    2020-02-27   \n",
       "\n",
       "          Market State  AVG Household Income  Age   Gender Age Group  Max  \\\n",
       "0           East    NC                   NaN   21  unknown     Youth   23   \n",
       "1           East    NC                   NaN   23     male     Youth   23   \n",
       "2           East    NC                   NaN   20  unknown     Youth   23   \n",
       "3       Bay Area    CA                   NaN   23     male     Youth   44   \n",
       "4       Bay Area    CA                   NaN   21   female     Youth   44   \n",
       "...          ...   ...                   ...  ...      ...       ...  ...   \n",
       "4729        East    GA                   NaN   14     male  Children   14   \n",
       "4730        East    AL                   NaN   20     male     Youth   20   \n",
       "4731  Washington    WA                   NaN   23     male     Youth   23   \n",
       "4732        East    NC                   NaN   18  unknown     Youth   18   \n",
       "4733       SoCal    CA                   NaN   12   female  Children   12   \n",
       "\n",
       "      Min  Number  Gap  No Children Age_group Income Group  \n",
       "0      20       3    3         True     Youth    Not Given  \n",
       "1      20       3    3         True     Youth    Not Given  \n",
       "2      20       3    3         True     Youth    Not Given  \n",
       "3      21       3   23        False     Youth    Not Given  \n",
       "4      21       3   23        False     Youth    Not Given  \n",
       "...   ...     ...  ...          ...       ...          ...  \n",
       "4729   14       1    0        False  Children    Not Given  \n",
       "4730   20       1    0         True     Youth    Not Given  \n",
       "4731   23       1    0         True     Youth    Not Given  \n",
       "4732   18       1    0         True     Youth    Not Given  \n",
       "4733   12       1    0        False  Children    Not Given  \n",
       "\n",
       "[4734 rows x 18 columns]"
      ]
     },
     "execution_count": 54,
     "metadata": {},
     "output_type": "execute_result"
    }
   ],
   "source": [
    "df3 = df2\n",
    "df3['Monthly Income'] = df2['Monthly Income'].fillna(0)\n",
    "\n",
    "df2['Income Group'] = pd.cut(df3['Monthly Income'], [-1, 1, 4000, 8000, np.inf], \n",
    "                             labels=['Not Given', 'Low', 'Middle', 'High'])\n",
    "df2"
   ]
  },
  {
   "cell_type": "code",
   "execution_count": 55,
   "id": "393f1b34",
   "metadata": {},
   "outputs": [
    {
     "name": "stderr",
     "output_type": "stream",
     "text": [
      "C:\\Users\\arash\\anaconda3\\lib\\site-packages\\seaborn\\_decorators.py:36: FutureWarning: Pass the following variables as keyword args: x, y. From version 0.12, the only valid positional argument will be `data`, and passing other arguments without an explicit keyword will result in an error or misinterpretation.\n",
      "  warnings.warn(\n"
     ]
    },
    {
     "data": {
      "text/plain": [
       "<AxesSubplot:xlabel='Market', ylabel='Age'>"
      ]
     },
     "execution_count": 55,
     "metadata": {},
     "output_type": "execute_result"
    },
    {
     "data": {
      "image/png": "[encoded data removed]",
      "text/plain": [
       "<Figure size 432x288 with 1 Axes>"
      ]
     },
     "metadata": {
      "needs_background": "light"
     },
     "output_type": "display_data"
    }
   ],
   "source": [
    "sns.barplot(df2['Market'], df2['Age'])"
   ]
  },
  {
   "cell_type": "code",
   "execution_count": 56,
   "id": "034592df",
   "metadata": {},
   "outputs": [
    {
     "data": {
      "text/plain": [
       "<AxesSubplot:>"
      ]
     },
     "execution_count": 56,
     "metadata": {},
     "output_type": "execute_result"
    },
    {
     "data": {
      "image/png": "[encoded data removed]",
      "text/plain": [
       "<Figure size 432x288 with 1 Axes>"
      ]
     },
     "metadata": {
      "needs_background": "light"
     },
     "output_type": "display_data"
    }
   ],
   "source": [
    "df2.Age.hist(bins=20)"
   ]
  },
  {
   "cell_type": "code",
   "execution_count": 57,
   "id": "cb3ad704",
   "metadata": {},
   "outputs": [
    {
     "name": "stderr",
     "output_type": "stream",
     "text": [
      "C:\\Users\\arash\\anaconda3\\lib\\site-packages\\seaborn\\_decorators.py:36: FutureWarning: Pass the following variables as keyword args: x, y. From version 0.12, the only valid positional argument will be `data`, and passing other arguments without an explicit keyword will result in an error or misinterpretation.\n",
      "  warnings.warn(\n"
     ]
    },
    {
     "data": {
      "text/plain": [
       "<AxesSubplot:xlabel='Market', ylabel='Age'>"
      ]
     },
     "execution_count": 57,
     "metadata": {},
     "output_type": "execute_result"
    },
    {
     "data": {
      "image/png": "[encoded data removed]",
      "text/plain": [
       "<Figure size 432x288 with 1 Axes>"
      ]
     },
     "metadata": {
      "needs_background": "light"
     },
     "output_type": "display_data"
    }
   ],
   "source": [
    "sns.scatterplot(df2['Market'], df2['Age'], hue=df2['Pets'])"
   ]
  },
  {
   "cell_type": "code",
   "execution_count": 58,
   "id": "39be2cfa",
   "metadata": {},
   "outputs": [
    {
     "data": {
      "text/html": [
       "<div>\n",
       "<style scoped>\n",
       "    .dataframe tbody tr th:only-of-type {\n",
       "        vertical-align: middle;\n",
       "    }\n",
       "\n",
       "    .dataframe tbody tr th {\n",
       "        vertical-align: top;\n",
       "    }\n",
       "\n",
       "    .dataframe thead th {\n",
       "        text-align: right;\n",
       "    }\n",
       "</style>\n",
       "<table border=\"1\" class=\"dataframe\">\n",
       "  <thead>\n",
       "    <tr style=\"text-align: right;\">\n",
       "      <th>Pets</th>\n",
       "      <th>No</th>\n",
       "      <th>Yes</th>\n",
       "    </tr>\n",
       "    <tr>\n",
       "      <th>Age_group</th>\n",
       "      <th></th>\n",
       "      <th></th>\n",
       "    </tr>\n",
       "  </thead>\n",
       "  <tbody>\n",
       "    <tr>\n",
       "      <th>Children</th>\n",
       "      <td>584</td>\n",
       "      <td>150</td>\n",
       "    </tr>\n",
       "    <tr>\n",
       "      <th>Youth</th>\n",
       "      <td>2071</td>\n",
       "      <td>583</td>\n",
       "    </tr>\n",
       "    <tr>\n",
       "      <th>Adult</th>\n",
       "      <td>952</td>\n",
       "      <td>376</td>\n",
       "    </tr>\n",
       "    <tr>\n",
       "      <th>Seniors</th>\n",
       "      <td>14</td>\n",
       "      <td>4</td>\n",
       "    </tr>\n",
       "  </tbody>\n",
       "</table>\n",
       "</div>"
      ],
      "text/plain": [
       "Pets         No  Yes\n",
       "Age_group           \n",
       "Children    584  150\n",
       "Youth      2071  583\n",
       "Adult       952  376\n",
       "Seniors      14    4"
      ]
     },
     "execution_count": 58,
     "metadata": {},
     "output_type": "execute_result"
    }
   ],
   "source": [
    "cross_table = pd.crosstab(index=df2[\"Age_group\"], \n",
    "                          columns=df2[\"Pets\"])\n",
    "cross_table"
   ]
  },
  {
   "cell_type": "code",
   "execution_count": 59,
   "id": "13166312",
   "metadata": {
    "scrolled": true
   },
   "outputs": [
    {
     "data": {
      "text/plain": [
       "<AxesSubplot:xlabel='Age_group'>"
      ]
     },
     "execution_count": 59,
     "metadata": {},
     "output_type": "execute_result"
    },
    {
     "data": {
      "image/png": "[encoded data removed]",
      "text/plain": [
       "<Figure size 432x288 with 1 Axes>"
      ]
     },
     "metadata": {
      "needs_background": "light"
     },
     "output_type": "display_data"
    }
   ],
   "source": [
    "cross_table.plot(kind=\"bar\",\n",
    "                 stacked=True)"
   ]
  },
  {
   "cell_type": "code",
   "execution_count": 60,
   "id": "f82141c1",
   "metadata": {},
   "outputs": [
    {
     "name": "stderr",
     "output_type": "stream",
     "text": [
      "C:\\Users\\arash\\anaconda3\\lib\\site-packages\\seaborn\\_decorators.py:36: FutureWarning: Pass the following variable as a keyword arg: x. From version 0.12, the only valid positional argument will be `data`, and passing other arguments without an explicit keyword will result in an error or misinterpretation.\n",
      "  warnings.warn(\n"
     ]
    },
    {
     "data": {
      "image/png": "[encoded data removed]",
      "text/plain": [
       "<Figure size 432x288 with 1 Axes>"
      ]
     },
     "metadata": {
      "needs_background": "light"
     },
     "output_type": "display_data"
    }
   ],
   "source": [
    "sns.countplot(df2['Income Group'], hue=df2.Pets)\n",
    "plt.xticks(rotation=45);"
   ]
  },
  {
   "cell_type": "code",
   "execution_count": 61,
   "id": "194757e2",
   "metadata": {},
   "outputs": [
    {
     "data": {
      "text/html": [
       "<div>\n",
       "<style scoped>\n",
       "    .dataframe tbody tr th:only-of-type {\n",
       "        vertical-align: middle;\n",
       "    }\n",
       "\n",
       "    .dataframe tbody tr th {\n",
       "        vertical-align: top;\n",
       "    }\n",
       "\n",
       "    .dataframe thead th {\n",
       "        text-align: right;\n",
       "    }\n",
       "</style>\n",
       "<table border=\"1\" class=\"dataframe\">\n",
       "  <thead>\n",
       "    <tr style=\"text-align: right;\">\n",
       "      <th></th>\n",
       "      <th>Max</th>\n",
       "      <th>Min</th>\n",
       "      <th>Number</th>\n",
       "      <th>Gap</th>\n",
       "    </tr>\n",
       "    <tr>\n",
       "      <th>ID</th>\n",
       "      <th></th>\n",
       "      <th></th>\n",
       "      <th></th>\n",
       "      <th></th>\n",
       "    </tr>\n",
       "  </thead>\n",
       "  <tbody>\n",
       "    <tr>\n",
       "      <th>1036esvlf765gpvf</th>\n",
       "      <td>26</td>\n",
       "      <td>17</td>\n",
       "      <td>5</td>\n",
       "      <td>9</td>\n",
       "    </tr>\n",
       "    <tr>\n",
       "      <th>10meigo5d37fh0nf</th>\n",
       "      <td>18</td>\n",
       "      <td>18</td>\n",
       "      <td>1</td>\n",
       "      <td>0</td>\n",
       "    </tr>\n",
       "    <tr>\n",
       "      <th>10ppscvogqrlda8i</th>\n",
       "      <td>50</td>\n",
       "      <td>50</td>\n",
       "      <td>1</td>\n",
       "      <td>0</td>\n",
       "    </tr>\n",
       "    <tr>\n",
       "      <th>11kipbq7epnv7gn1</th>\n",
       "      <td>27</td>\n",
       "      <td>25</td>\n",
       "      <td>2</td>\n",
       "      <td>2</td>\n",
       "    </tr>\n",
       "    <tr>\n",
       "      <th>11nuhncc0lo8g5dk</th>\n",
       "      <td>54</td>\n",
       "      <td>54</td>\n",
       "      <td>1</td>\n",
       "      <td>0</td>\n",
       "    </tr>\n",
       "    <tr>\n",
       "      <th>...</th>\n",
       "      <td>...</td>\n",
       "      <td>...</td>\n",
       "      <td>...</td>\n",
       "      <td>...</td>\n",
       "    </tr>\n",
       "    <tr>\n",
       "      <th>vt41fs725kc1vb3h</th>\n",
       "      <td>29</td>\n",
       "      <td>29</td>\n",
       "      <td>1</td>\n",
       "      <td>0</td>\n",
       "    </tr>\n",
       "    <tr>\n",
       "      <th>vtns3fkj35vk8dkm</th>\n",
       "      <td>30</td>\n",
       "      <td>30</td>\n",
       "      <td>1</td>\n",
       "      <td>0</td>\n",
       "    </tr>\n",
       "    <tr>\n",
       "      <th>vuvs5i7ts942hnq2</th>\n",
       "      <td>28</td>\n",
       "      <td>18</td>\n",
       "      <td>2</td>\n",
       "      <td>10</td>\n",
       "    </tr>\n",
       "    <tr>\n",
       "      <th>vv7r5j2runbrabuo</th>\n",
       "      <td>38</td>\n",
       "      <td>38</td>\n",
       "      <td>1</td>\n",
       "      <td>0</td>\n",
       "    </tr>\n",
       "    <tr>\n",
       "      <th>vvrs931tpdo5t681</th>\n",
       "      <td>28</td>\n",
       "      <td>28</td>\n",
       "      <td>1</td>\n",
       "      <td>0</td>\n",
       "    </tr>\n",
       "  </tbody>\n",
       "</table>\n",
       "<p>1662 rows × 4 columns</p>\n",
       "</div>"
      ],
      "text/plain": [
       "                  Max  Min  Number  Gap\n",
       "ID                                     \n",
       "1036esvlf765gpvf   26   17       5    9\n",
       "10meigo5d37fh0nf   18   18       1    0\n",
       "10ppscvogqrlda8i   50   50       1    0\n",
       "11kipbq7epnv7gn1   27   25       2    2\n",
       "11nuhncc0lo8g5dk   54   54       1    0\n",
       "...               ...  ...     ...  ...\n",
       "vt41fs725kc1vb3h   29   29       1    0\n",
       "vtns3fkj35vk8dkm   30   30       1    0\n",
       "vuvs5i7ts942hnq2   28   18       2   10\n",
       "vv7r5j2runbrabuo   38   38       1    0\n",
       "vvrs931tpdo5t681   28   28       1    0\n",
       "\n",
       "[1662 rows x 4 columns]"
      ]
     },
     "execution_count": 61,
     "metadata": {},
     "output_type": "execute_result"
    }
   ],
   "source": [
    "b = df2.groupby('ID')['Age'].min().sort_index()\n",
    "c = df2.groupby('ID')['Age'].count().sort_index()\n",
    "d = a - b \n",
    "\n",
    "df_age = pd.concat([a, b, c, d], axis=1)\n",
    "names = ['Max', 'Min', 'Number', 'Gap']\n",
    "df_age.columns = names\n",
    "df_age[(df_age.Min > 15) & (d < 20)]"
   ]
  },
  {
   "cell_type": "code",
   "execution_count": 62,
   "id": "2a4ed191",
   "metadata": {},
   "outputs": [
    {
     "data": {
      "text/plain": [
       "0.35107731305449935"
      ]
     },
     "execution_count": 62,
     "metadata": {},
     "output_type": "execute_result"
    }
   ],
   "source": [
    "n = len(df_age[(df_age.Min > 15) & (d < 20)]) / len(df2)\n",
    "n"
   ]
  },
  {
   "cell_type": "markdown",
   "id": "4de353f2",
   "metadata": {},
   "source": [
    "### 2. EDA"
   ]
  },
  {
   "cell_type": "code",
   "execution_count": 63,
   "id": "d5b6a4a4",
   "metadata": {},
   "outputs": [
    {
     "ename": "TypeError",
     "evalue": "'AxesSubplot' object does not support item assignment",
     "output_type": "error",
     "traceback": [
      "\u001b[1;31m---------------------------------------------------------------------------\u001b[0m",
      "\u001b[1;31mTypeError\u001b[0m                                 Traceback (most recent call last)",
      "\u001b[1;32m<ipython-input-63-4c9366cb4b60>\u001b[0m in \u001b[0;36m<module>\u001b[1;34m\u001b[0m\n\u001b[1;32m----> 1\u001b[1;33m \u001b[0max\u001b[0m\u001b[1;33m[\u001b[0m\u001b[1;36m0\u001b[0m\u001b[1;33m]\u001b[0m \u001b[1;33m=\u001b[0m \u001b[0mplt\u001b[0m\u001b[1;33m.\u001b[0m\u001b[0mhist\u001b[0m\u001b[1;33m(\u001b[0m\u001b[0mdf2\u001b[0m\u001b[1;33m.\u001b[0m\u001b[0mAge\u001b[0m\u001b[1;33m,\u001b[0m \u001b[0malpha\u001b[0m\u001b[1;33m=\u001b[0m\u001b[1;36m0.5\u001b[0m\u001b[1;33m,\u001b[0m \u001b[0mbins\u001b[0m\u001b[1;33m=\u001b[0m\u001b[1;36m20\u001b[0m\u001b[1;33m)\u001b[0m\u001b[1;33m\u001b[0m\u001b[1;33m\u001b[0m\u001b[0m\n\u001b[0m\u001b[0;32m      2\u001b[0m \u001b[1;33m\u001b[0m\u001b[0m\n\u001b[0;32m      3\u001b[0m \u001b[0mplt\u001b[0m\u001b[1;33m.\u001b[0m\u001b[0mxlabel\u001b[0m\u001b[1;33m(\u001b[0m\u001b[1;34m'Age'\u001b[0m\u001b[1;33m)\u001b[0m\u001b[1;33m\u001b[0m\u001b[1;33m\u001b[0m\u001b[0m\n\u001b[0;32m      4\u001b[0m \u001b[0mplt\u001b[0m\u001b[1;33m.\u001b[0m\u001b[0mylabel\u001b[0m\u001b[1;33m(\u001b[0m\u001b[1;34m'Number of People'\u001b[0m\u001b[1;33m)\u001b[0m\u001b[1;33m\u001b[0m\u001b[1;33m\u001b[0m\u001b[0m\n\u001b[0;32m      5\u001b[0m \u001b[0mplt\u001b[0m\u001b[1;33m.\u001b[0m\u001b[0mtitle\u001b[0m\u001b[1;33m(\u001b[0m\u001b[1;34m'Age Distribution'\u001b[0m\u001b[1;33m)\u001b[0m\u001b[1;33m\u001b[0m\u001b[1;33m\u001b[0m\u001b[0m\n",
      "\u001b[1;31mTypeError\u001b[0m: 'AxesSubplot' object does not support item assignment"
     ]
    },
    {
     "data": {
      "image/png": "[encoded data removed]",
      "text/plain": [
       "<Figure size 432x288 with 1 Axes>"
      ]
     },
     "metadata": {
      "needs_background": "light"
     },
     "output_type": "display_data"
    }
   ],
   "source": [
    "\n",
    "ax[0] = plt.hist(df2.Age, alpha=0.5, bins=20)\n",
    "\n",
    "plt.xlabel('Age')\n",
    "plt.ylabel('Number of People')\n",
    "plt.title('Age Distribution')"
   ]
  },
  {
   "cell_type": "code",
   "execution_count": 64,
   "id": "cd388df9",
   "metadata": {},
   "outputs": [
    {
     "data": {
      "image/png": "[encoded data removed]",
      "text/plain": [
       "<Figure size 432x288 with 1 Axes>"
      ]
     },
     "metadata": {
      "needs_background": "light"
     },
     "output_type": "display_data"
    }
   ],
   "source": [
    "#plt.figure(figsize=(20, 10))\n",
    "\n",
    "bins = df2.Age.max() - df2.Age.min()\n",
    "sns.histplot(x=df2.Age, hue=df2.Pets, alpha=.4, bins=bins);\n"
   ]
  },
  {
   "cell_type": "code",
   "execution_count": 65,
   "id": "59599eb7",
   "metadata": {},
   "outputs": [
    {
     "data": {
      "image/png": "[encoded data removed]",
      "text/plain": [
       "<Figure size 1440x720 with 1 Axes>"
      ]
     },
     "metadata": {
      "needs_background": "light"
     },
     "output_type": "display_data"
    }
   ],
   "source": [
    "plt.figure(figsize=(20, 10))\n",
    "\n",
    "bins = df2.Age.max() - df2.Age.min()\n",
    "sns.histplot(x=df2.Age, hue=df2.Market, alpha=.4, bins=bins);\n"
   ]
  },
  {
   "cell_type": "code",
   "execution_count": 66,
   "id": "4744962f",
   "metadata": {},
   "outputs": [
    {
     "data": {
      "text/plain": [
       "60"
      ]
     },
     "execution_count": 66,
     "metadata": {},
     "output_type": "execute_result"
    },
    {
     "data": {
      "image/png": "[encoded data removed]",
      "text/plain": [
       "<Figure size 432x288 with 1 Axes>"
      ]
     },
     "metadata": {
      "needs_background": "light"
     },
     "output_type": "display_data"
    }
   ],
   "source": [
    "#plt.figure(figsize=(20, 10))\n",
    "\n",
    "bins = 60\n",
    "sns.histplot(x=df2['AVG Household Income'], hue=df2.Pets, alpha=.4, bins=bins);\n",
    "bins"
   ]
  },
  {
   "cell_type": "code",
   "execution_count": 67,
   "id": "07a47348",
   "metadata": {},
   "outputs": [
    {
     "data": {
      "image/png": "[encoded data removed]",
      "text/plain": [
       "<Figure size 432x288 with 1 Axes>"
      ]
     },
     "metadata": {
      "needs_background": "light"
     },
     "output_type": "display_data"
    }
   ],
   "source": [
    "#plt.figure(figsize=(20, 10))\n",
    "\n",
    "bins = 60\n",
    "sns.histplot(x=df2['AVG Household Income'], hue=df2.Gender, alpha=.3, bins=bins);\n"
   ]
  },
  {
   "cell_type": "code",
   "execution_count": 68,
   "id": "5a302ad1",
   "metadata": {},
   "outputs": [
    {
     "data": {
      "image/png": "[encoded data removed]",
      "text/plain": [
       "<Figure size 432x288 with 1 Axes>"
      ]
     },
     "metadata": {
      "needs_background": "light"
     },
     "output_type": "display_data"
    }
   ],
   "source": [
    "\n",
    "sns.histplot(x=df2['AVG Household Income'], hue=df2.Market, alpha=.3, bins=bins);"
   ]
  },
  {
   "cell_type": "code",
   "execution_count": 69,
   "id": "81fde2f4",
   "metadata": {},
   "outputs": [
    {
     "data": {
      "text/plain": [
       "60"
      ]
     },
     "execution_count": 69,
     "metadata": {},
     "output_type": "execute_result"
    },
    {
     "data": {
      "image/png": "[encoded data removed]",
      "text/plain": [
       "<Figure size 1440x720 with 1 Axes>"
      ]
     },
     "metadata": {
      "needs_background": "light"
     },
     "output_type": "display_data"
    }
   ],
   "source": [
    "plt.figure(figsize=(20, 10))\n",
    "\n",
    "bins = 60\n",
    "sns.histplot(x=df2['AVG Household Income'], hue=df2.Pets, alpha=.4, bins=bins);\n",
    "bins"
   ]
  },
  {
   "cell_type": "code",
   "execution_count": 70,
   "id": "b5151709",
   "metadata": {},
   "outputs": [
    {
     "data": {
      "image/png": "[encoded data removed]",
      "text/plain": [
       "<Figure size 1440x720 with 1 Axes>"
      ]
     },
     "metadata": {
      "needs_background": "light"
     },
     "output_type": "display_data"
    }
   ],
   "source": [
    "plt.figure(figsize=(20, 10))\n",
    "\n",
    "bins = df2.Age.max() - df2.Age.min()\n",
    "sns.histplot(x=df2.Market, hue=df2['Age_group'], alpha=.5);\n"
   ]
  },
  {
   "cell_type": "code",
   "execution_count": 71,
   "id": "5b695fa4",
   "metadata": {},
   "outputs": [
    {
     "data": {
      "text/html": [
       "<div>\n",
       "<style scoped>\n",
       "    .dataframe tbody tr th:only-of-type {\n",
       "        vertical-align: middle;\n",
       "    }\n",
       "\n",
       "    .dataframe tbody tr th {\n",
       "        vertical-align: top;\n",
       "    }\n",
       "\n",
       "    .dataframe thead th {\n",
       "        text-align: right;\n",
       "    }\n",
       "</style>\n",
       "<table border=\"1\" class=\"dataframe\">\n",
       "  <thead>\n",
       "    <tr style=\"text-align: right;\">\n",
       "      <th></th>\n",
       "      <th>ID</th>\n",
       "      <th>First Name</th>\n",
       "      <th>Monthly Income</th>\n",
       "      <th>Pets</th>\n",
       "      <th>Date of Birth</th>\n",
       "      <th>Market</th>\n",
       "      <th>State</th>\n",
       "      <th>AVG Household Income</th>\n",
       "      <th>Age</th>\n",
       "      <th>Gender</th>\n",
       "      <th>Age Group</th>\n",
       "      <th>Max</th>\n",
       "      <th>Min</th>\n",
       "      <th>Number</th>\n",
       "      <th>Gap</th>\n",
       "      <th>No Children</th>\n",
       "      <th>Age_group</th>\n",
       "      <th>Income Group</th>\n",
       "    </tr>\n",
       "  </thead>\n",
       "  <tbody>\n",
       "    <tr>\n",
       "      <th>0</th>\n",
       "      <td>p3do03ecr7t67spn</td>\n",
       "      <td>Jayzua-nae</td>\n",
       "      <td>0.0</td>\n",
       "      <td>Yes</td>\n",
       "      <td>2011-04-20</td>\n",
       "      <td>East</td>\n",
       "      <td>NC</td>\n",
       "      <td>NaN</td>\n",
       "      <td>21</td>\n",
       "      <td>unknown</td>\n",
       "      <td>Youth</td>\n",
       "      <td>23</td>\n",
       "      <td>20</td>\n",
       "      <td>3</td>\n",
       "      <td>3</td>\n",
       "      <td>True</td>\n",
       "      <td>Youth</td>\n",
       "      <td>Not Given</td>\n",
       "    </tr>\n",
       "    <tr>\n",
       "      <th>1</th>\n",
       "      <td>p3do03ecr7t67spn</td>\n",
       "      <td>Jason</td>\n",
       "      <td>0.0</td>\n",
       "      <td>Yes</td>\n",
       "      <td>2009-01-09</td>\n",
       "      <td>East</td>\n",
       "      <td>NC</td>\n",
       "      <td>NaN</td>\n",
       "      <td>23</td>\n",
       "      <td>male</td>\n",
       "      <td>Youth</td>\n",
       "      <td>23</td>\n",
       "      <td>20</td>\n",
       "      <td>3</td>\n",
       "      <td>3</td>\n",
       "      <td>True</td>\n",
       "      <td>Youth</td>\n",
       "      <td>Not Given</td>\n",
       "    </tr>\n",
       "    <tr>\n",
       "      <th>2</th>\n",
       "      <td>p3do03ecr7t67spn</td>\n",
       "      <td>Janyla</td>\n",
       "      <td>0.0</td>\n",
       "      <td>Yes</td>\n",
       "      <td>2012-11-23</td>\n",
       "      <td>East</td>\n",
       "      <td>NC</td>\n",
       "      <td>NaN</td>\n",
       "      <td>20</td>\n",
       "      <td>unknown</td>\n",
       "      <td>Youth</td>\n",
       "      <td>23</td>\n",
       "      <td>20</td>\n",
       "      <td>3</td>\n",
       "      <td>3</td>\n",
       "      <td>True</td>\n",
       "      <td>Youth</td>\n",
       "      <td>Not Given</td>\n",
       "    </tr>\n",
       "    <tr>\n",
       "      <th>3</th>\n",
       "      <td>sfkib3fm5afbg4lv</td>\n",
       "      <td>Maxim</td>\n",
       "      <td>0.0</td>\n",
       "      <td>No</td>\n",
       "      <td>2009-01-20</td>\n",
       "      <td>Bay Area</td>\n",
       "      <td>CA</td>\n",
       "      <td>NaN</td>\n",
       "      <td>23</td>\n",
       "      <td>male</td>\n",
       "      <td>Youth</td>\n",
       "      <td>44</td>\n",
       "      <td>21</td>\n",
       "      <td>3</td>\n",
       "      <td>23</td>\n",
       "      <td>False</td>\n",
       "      <td>Youth</td>\n",
       "      <td>Not Given</td>\n",
       "    </tr>\n",
       "    <tr>\n",
       "      <th>4</th>\n",
       "      <td>sfkib3fm5afbg4lv</td>\n",
       "      <td>Nicole</td>\n",
       "      <td>0.0</td>\n",
       "      <td>No</td>\n",
       "      <td>2011-05-27</td>\n",
       "      <td>Bay Area</td>\n",
       "      <td>CA</td>\n",
       "      <td>NaN</td>\n",
       "      <td>21</td>\n",
       "      <td>female</td>\n",
       "      <td>Youth</td>\n",
       "      <td>44</td>\n",
       "      <td>21</td>\n",
       "      <td>3</td>\n",
       "      <td>23</td>\n",
       "      <td>False</td>\n",
       "      <td>Youth</td>\n",
       "      <td>Not Given</td>\n",
       "    </tr>\n",
       "    <tr>\n",
       "      <th>...</th>\n",
       "      <td>...</td>\n",
       "      <td>...</td>\n",
       "      <td>...</td>\n",
       "      <td>...</td>\n",
       "      <td>...</td>\n",
       "      <td>...</td>\n",
       "      <td>...</td>\n",
       "      <td>...</td>\n",
       "      <td>...</td>\n",
       "      <td>...</td>\n",
       "      <td>...</td>\n",
       "      <td>...</td>\n",
       "      <td>...</td>\n",
       "      <td>...</td>\n",
       "      <td>...</td>\n",
       "      <td>...</td>\n",
       "      <td>...</td>\n",
       "      <td>...</td>\n",
       "    </tr>\n",
       "    <tr>\n",
       "      <th>4729</th>\n",
       "      <td>q26l9nm5rr6n4rve</td>\n",
       "      <td>Leon</td>\n",
       "      <td>0.0</td>\n",
       "      <td>No</td>\n",
       "      <td>2018-03-09</td>\n",
       "      <td>East</td>\n",
       "      <td>GA</td>\n",
       "      <td>NaN</td>\n",
       "      <td>14</td>\n",
       "      <td>male</td>\n",
       "      <td>Children</td>\n",
       "      <td>14</td>\n",
       "      <td>14</td>\n",
       "      <td>1</td>\n",
       "      <td>0</td>\n",
       "      <td>False</td>\n",
       "      <td>Children</td>\n",
       "      <td>Not Given</td>\n",
       "    </tr>\n",
       "    <tr>\n",
       "      <th>4730</th>\n",
       "      <td>4busp4hui2rlhfjn</td>\n",
       "      <td>Ariel</td>\n",
       "      <td>0.0</td>\n",
       "      <td>No</td>\n",
       "      <td>2012-06-19</td>\n",
       "      <td>East</td>\n",
       "      <td>AL</td>\n",
       "      <td>NaN</td>\n",
       "      <td>20</td>\n",
       "      <td>male</td>\n",
       "      <td>Youth</td>\n",
       "      <td>20</td>\n",
       "      <td>20</td>\n",
       "      <td>1</td>\n",
       "      <td>0</td>\n",
       "      <td>True</td>\n",
       "      <td>Youth</td>\n",
       "      <td>Not Given</td>\n",
       "    </tr>\n",
       "    <tr>\n",
       "      <th>4731</th>\n",
       "      <td>fqt3n1in42ddp0ov</td>\n",
       "      <td>Cole</td>\n",
       "      <td>0.0</td>\n",
       "      <td>No</td>\n",
       "      <td>2009-10-10</td>\n",
       "      <td>Washington</td>\n",
       "      <td>WA</td>\n",
       "      <td>NaN</td>\n",
       "      <td>23</td>\n",
       "      <td>male</td>\n",
       "      <td>Youth</td>\n",
       "      <td>23</td>\n",
       "      <td>23</td>\n",
       "      <td>1</td>\n",
       "      <td>0</td>\n",
       "      <td>True</td>\n",
       "      <td>Youth</td>\n",
       "      <td>Not Given</td>\n",
       "    </tr>\n",
       "    <tr>\n",
       "      <th>4732</th>\n",
       "      <td>vjb2sfvo1injlen0</td>\n",
       "      <td>kaiden</td>\n",
       "      <td>0.0</td>\n",
       "      <td>Yes</td>\n",
       "      <td>2014-04-11</td>\n",
       "      <td>East</td>\n",
       "      <td>NC</td>\n",
       "      <td>NaN</td>\n",
       "      <td>18</td>\n",
       "      <td>unknown</td>\n",
       "      <td>Youth</td>\n",
       "      <td>18</td>\n",
       "      <td>18</td>\n",
       "      <td>1</td>\n",
       "      <td>0</td>\n",
       "      <td>True</td>\n",
       "      <td>Youth</td>\n",
       "      <td>Not Given</td>\n",
       "    </tr>\n",
       "    <tr>\n",
       "      <th>4733</th>\n",
       "      <td>9md3lb44u6o4ddri</td>\n",
       "      <td>Malia</td>\n",
       "      <td>0.0</td>\n",
       "      <td>No</td>\n",
       "      <td>2020-02-27</td>\n",
       "      <td>SoCal</td>\n",
       "      <td>CA</td>\n",
       "      <td>NaN</td>\n",
       "      <td>12</td>\n",
       "      <td>female</td>\n",
       "      <td>Children</td>\n",
       "      <td>12</td>\n",
       "      <td>12</td>\n",
       "      <td>1</td>\n",
       "      <td>0</td>\n",
       "      <td>False</td>\n",
       "      <td>Children</td>\n",
       "      <td>Not Given</td>\n",
       "    </tr>\n",
       "  </tbody>\n",
       "</table>\n",
       "<p>4734 rows × 18 columns</p>\n",
       "</div>"
      ],
      "text/plain": [
       "                    ID  First Name  Monthly Income Pets Date of Birth  \\\n",
       "0     p3do03ecr7t67spn  Jayzua-nae             0.0  Yes    2011-04-20   \n",
       "1     p3do03ecr7t67spn       Jason             0.0  Yes    2009-01-09   \n",
       "2     p3do03ecr7t67spn      Janyla             0.0  Yes    2012-11-23   \n",
       "3     sfkib3fm5afbg4lv       Maxim             0.0   No    2009-01-20   \n",
       "4     sfkib3fm5afbg4lv      Nicole             0.0   No    2011-05-27   \n",
       "...                ...         ...             ...  ...           ...   \n",
       "4729  q26l9nm5rr6n4rve        Leon             0.0   No    2018-03-09   \n",
       "4730  4busp4hui2rlhfjn       Ariel             0.0   No    2012-06-19   \n",
       "4731  fqt3n1in42ddp0ov        Cole             0.0   No    2009-10-10   \n",
       "4732  vjb2sfvo1injlen0      kaiden             0.0  Yes    2014-04-11   \n",
       "4733  9md3lb44u6o4ddri       Malia             0.0   No    2020-02-27   \n",
       "\n",
       "          Market State  AVG Household Income  Age   Gender Age Group  Max  \\\n",
       "0           East    NC                   NaN   21  unknown     Youth   23   \n",
       "1           East    NC                   NaN   23     male     Youth   23   \n",
       "2           East    NC                   NaN   20  unknown     Youth   23   \n",
       "3       Bay Area    CA                   NaN   23     male     Youth   44   \n",
       "4       Bay Area    CA                   NaN   21   female     Youth   44   \n",
       "...          ...   ...                   ...  ...      ...       ...  ...   \n",
       "4729        East    GA                   NaN   14     male  Children   14   \n",
       "4730        East    AL                   NaN   20     male     Youth   20   \n",
       "4731  Washington    WA                   NaN   23     male     Youth   23   \n",
       "4732        East    NC                   NaN   18  unknown     Youth   18   \n",
       "4733       SoCal    CA                   NaN   12   female  Children   12   \n",
       "\n",
       "      Min  Number  Gap  No Children Age_group Income Group  \n",
       "0      20       3    3         True     Youth    Not Given  \n",
       "1      20       3    3         True     Youth    Not Given  \n",
       "2      20       3    3         True     Youth    Not Given  \n",
       "3      21       3   23        False     Youth    Not Given  \n",
       "4      21       3   23        False     Youth    Not Given  \n",
       "...   ...     ...  ...          ...       ...          ...  \n",
       "4729   14       1    0        False  Children    Not Given  \n",
       "4730   20       1    0         True     Youth    Not Given  \n",
       "4731   23       1    0         True     Youth    Not Given  \n",
       "4732   18       1    0         True     Youth    Not Given  \n",
       "4733   12       1    0        False  Children    Not Given  \n",
       "\n",
       "[4734 rows x 18 columns]"
      ]
     },
     "execution_count": 71,
     "metadata": {},
     "output_type": "execute_result"
    }
   ],
   "source": [
    "df_income = df2[df2['Monthly Income'].notnull()]\n",
    "df_income"
   ]
  },
  {
   "cell_type": "code",
   "execution_count": 72,
   "id": "f77ab233",
   "metadata": {},
   "outputs": [],
   "source": [
    "df_income = df_income[df_income['Monthly Income'] > 2]"
   ]
  },
  {
   "cell_type": "code",
   "execution_count": 73,
   "id": "4333eea2",
   "metadata": {},
   "outputs": [
    {
     "data": {
      "text/plain": [
       "(array([14., 16.,  6.,  4.,  9.,  4.,  0.,  4.,  0.,  3.,  1.,  3.,  0.,\n",
       "         0.,  0.,  0.,  0.,  0.,  0.,  0.,  0.,  0.,  0.,  0.,  0.,  0.,\n",
       "         0.,  0.,  0.,  0.,  0.,  0.,  0.,  0.,  0.,  0.,  0.,  0.,  0.,\n",
       "         0.,  0.,  0.,  0.,  0.,  0.,  0.,  0.,  0.,  0.,  0.,  0.,  0.,\n",
       "         0.,  0.,  0.,  0.,  0.,  0.,  2.]),\n",
       " array([  800.        ,  1803.38983051,  2806.77966102,  3810.16949153,\n",
       "         4813.55932203,  5816.94915254,  6820.33898305,  7823.72881356,\n",
       "         8827.11864407,  9830.50847458, 10833.89830508, 11837.28813559,\n",
       "        12840.6779661 , 13844.06779661, 14847.45762712, 15850.84745763,\n",
       "        16854.23728814, 17857.62711864, 18861.01694915, 19864.40677966,\n",
       "        20867.79661017, 21871.18644068, 22874.57627119, 23877.96610169,\n",
       "        24881.3559322 , 25884.74576271, 26888.13559322, 27891.52542373,\n",
       "        28894.91525424, 29898.30508475, 30901.69491525, 31905.08474576,\n",
       "        32908.47457627, 33911.86440678, 34915.25423729, 35918.6440678 ,\n",
       "        36922.03389831, 37925.42372881, 38928.81355932, 39932.20338983,\n",
       "        40935.59322034, 41938.98305085, 42942.37288136, 43945.76271186,\n",
       "        44949.15254237, 45952.54237288, 46955.93220339, 47959.3220339 ,\n",
       "        48962.71186441, 49966.10169492, 50969.49152542, 51972.88135593,\n",
       "        52976.27118644, 53979.66101695, 54983.05084746, 55986.44067797,\n",
       "        56989.83050847, 57993.22033898, 58996.61016949, 60000.        ]),\n",
       " <BarContainer object of 59 artists>)"
      ]
     },
     "execution_count": 73,
     "metadata": {},
     "output_type": "execute_result"
    },
    {
     "data": {
      "image/png": "[encoded data removed]",
      "text/plain": [
       "<Figure size 432x288 with 1 Axes>"
      ]
     },
     "metadata": {
      "needs_background": "light"
     },
     "output_type": "display_data"
    }
   ],
   "source": [
    "bins = df_income['Monthly Income'].max() - df_income['Monthly Income'].min()\n",
    "plt.hist(df_income['Monthly Income'], bins=int(bins/1000))"
   ]
  },
  {
   "cell_type": "code",
   "execution_count": 74,
   "id": "6172918b",
   "metadata": {},
   "outputs": [
    {
     "data": {
      "text/plain": [
       "800.00      1\n",
       "840.00      1\n",
       "1200.00     2\n",
       "1500.00     2\n",
       "1650.00     3\n",
       "1680.00     2\n",
       "1700.00     1\n",
       "1780.00     1\n",
       "1793.00     1\n",
       "1920.00     3\n",
       "1925.00     1\n",
       "2000.00     1\n",
       "2100.00     2\n",
       "2122.00     1\n",
       "2160.00     1\n",
       "2224.39     2\n",
       "2400.00     2\n",
       "2500.00     2\n",
       "2580.00     1\n",
       "2823.36     1\n",
       "3000.00     1\n",
       "3033.00     1\n",
       "3200.00     2\n",
       "3552.00     1\n",
       "4000.00     3\n",
       "4333.00     1\n",
       "4960.00     2\n",
       "5000.00     2\n",
       "5060.00     2\n",
       "5600.00     1\n",
       "5800.00     2\n",
       "5856.00     1\n",
       "6000.00     1\n",
       "6258.66     1\n",
       "6819.08     1\n",
       "7900.00     2\n",
       "8000.00     1\n",
       "8664.00     1\n",
       "10000.00    3\n",
       "11833.00    1\n",
       "12000.00    3\n",
       "60000.00    2\n",
       "Name: Monthly Income, dtype: int64"
      ]
     },
     "execution_count": 74,
     "metadata": {},
     "output_type": "execute_result"
    }
   ],
   "source": [
    "df_income['Monthly Income'].value_counts().sort_index()"
   ]
  },
  {
   "cell_type": "code",
   "execution_count": 75,
   "id": "5dae9cdc",
   "metadata": {},
   "outputs": [
    {
     "data": {
      "image/png": "[encoded data removed]",
      "text/plain": [
       "<Figure size 1800x1800 with 2 Axes>"
      ]
     },
     "metadata": {
      "needs_background": "light"
     },
     "output_type": "display_data"
    }
   ],
   "source": [
    "plt.figure(figsize=(25,25))\n",
    "sns.heatmap(df2.corr(),annot=True)\n",
    "plt.show()"
   ]
  },
  {
   "cell_type": "code",
   "execution_count": 76,
   "id": "e1496b6f",
   "metadata": {},
   "outputs": [
    {
     "ename": "NameError",
     "evalue": "name 'X_std' is not defined",
     "output_type": "error",
     "traceback": [
      "\u001b[1;31m---------------------------------------------------------------------------\u001b[0m",
      "\u001b[1;31mNameError\u001b[0m                                 Traceback (most recent call last)",
      "\u001b[1;32m<ipython-input-76-34eba473d7c3>\u001b[0m in \u001b[0;36m<module>\u001b[1;34m\u001b[0m\n\u001b[0;32m      1\u001b[0m \u001b[0mplt\u001b[0m\u001b[1;33m.\u001b[0m\u001b[0mfigure\u001b[0m\u001b[1;33m(\u001b[0m\u001b[0mfigsize\u001b[0m\u001b[1;33m=\u001b[0m\u001b[1;33m(\u001b[0m\u001b[1;36m25\u001b[0m\u001b[1;33m,\u001b[0m\u001b[1;36m25\u001b[0m\u001b[1;33m)\u001b[0m\u001b[1;33m)\u001b[0m\u001b[1;33m\u001b[0m\u001b[1;33m\u001b[0m\u001b[0m\n\u001b[1;32m----> 2\u001b[1;33m \u001b[0msns\u001b[0m\u001b[1;33m.\u001b[0m\u001b[0mheatmap\u001b[0m\u001b[1;33m(\u001b[0m\u001b[0mX_std\u001b[0m\u001b[1;33m.\u001b[0m\u001b[0mcorr\u001b[0m\u001b[1;33m(\u001b[0m\u001b[1;33m)\u001b[0m\u001b[1;33m,\u001b[0m\u001b[0mannot\u001b[0m\u001b[1;33m=\u001b[0m\u001b[1;32mTrue\u001b[0m\u001b[1;33m)\u001b[0m\u001b[1;33m\u001b[0m\u001b[1;33m\u001b[0m\u001b[0m\n\u001b[0m\u001b[0;32m      3\u001b[0m \u001b[0mplt\u001b[0m\u001b[1;33m.\u001b[0m\u001b[0mshow\u001b[0m\u001b[1;33m(\u001b[0m\u001b[1;33m)\u001b[0m\u001b[1;33m\u001b[0m\u001b[1;33m\u001b[0m\u001b[0m\n",
      "\u001b[1;31mNameError\u001b[0m: name 'X_std' is not defined"
     ]
    },
    {
     "data": {
      "text/plain": [
       "<Figure size 1800x1800 with 0 Axes>"
      ]
     },
     "metadata": {},
     "output_type": "display_data"
    }
   ],
   "source": [
    "plt.figure(figsize=(25,25))\n",
    "sns.heatmap(X_std.corr(),annot=True)\n",
    "plt.show()"
   ]
  },
  {
   "cell_type": "markdown",
   "id": "a93e2bf4",
   "metadata": {},
   "source": [
    "## 3. Model"
   ]
  },
  {
   "cell_type": "code",
   "execution_count": 77,
   "id": "f94ef488",
   "metadata": {},
   "outputs": [],
   "source": [
    "X = df2.drop(['ID', 'First Name', 'Monthly Income', 'Date of Birth', 'Age', 'State', 'Min', 'Max', 'Number',\n",
    "             'Gap', 'AVG Household Income'], axis=1)"
   ]
  },
  {
   "cell_type": "code",
   "execution_count": 78,
   "id": "75abd97a",
   "metadata": {},
   "outputs": [],
   "source": [
    "from sklearn.cluster import KMeans\n",
    "from sklearn.cluster import MeanShift, estimate_bandwidth\n",
    "from sklearn.cluster import SpectralClustering\n",
    "from sklearn.cluster import AffinityPropagation\n",
    "from sklearn.cluster import AgglomerativeClustering\n",
    "from scipy.cluster.hierarchy import dendrogram, linkage\n",
    "from sklearn.cluster import DBSCAN"
   ]
  },
  {
   "cell_type": "code",
   "execution_count": 79,
   "id": "34988117",
   "metadata": {},
   "outputs": [
    {
     "name": "stderr",
     "output_type": "stream",
     "text": [
      "C:\\Users\\arash\\anaconda3\\lib\\site-packages\\sklearn\\cluster\\_kmeans.py:827: RuntimeWarning: algorithm='elkan' doesn't make sense for a single cluster. Using 'full' instead.\n",
      "  warnings.warn(\"algorithm='elkan' doesn't make sense for a single \"\n"
     ]
    },
    {
     "data": {
      "image/png": "[encoded data removed]",
      "text/plain": [
       "<Figure size 1080x432 with 1 Axes>"
      ]
     },
     "metadata": {
      "needs_background": "light"
     },
     "output_type": "display_data"
    }
   ],
   "source": [
    "inertia = []\n",
    "for n in range(1 , 11):\n",
    "    algorithm = (KMeans(n_clusters = n ,init='k-means++', n_init = 10 ,max_iter=300, \n",
    "                        tol=0.0001,  random_state= 111  , algorithm='elkan') )\n",
    "    algorithm.fit(pd.get_dummies(X))\n",
    "    inertia.append(algorithm.inertia_)\n",
    "    \n",
    "    \n",
    "plt.figure(1 , figsize = (15 ,6))\n",
    "plt.plot(np.arange(1 , 11) , inertia , 'o')\n",
    "plt.plot(np.arange(1 , 11) , inertia , '-' , alpha = 0.5)\n",
    "plt.xlabel('Number of Clusters') , plt.ylabel('Inertia')\n",
    "plt.show()"
   ]
  },
  {
   "cell_type": "code",
   "execution_count": 80,
   "id": "e36208f5",
   "metadata": {},
   "outputs": [
    {
     "data": {
      "image/png": "[encoded data removed]",
      "text/plain": [
       "<Figure size 432x288 with 1 Axes>"
      ]
     },
     "metadata": {
      "needs_background": "light"
     },
     "output_type": "display_data"
    }
   ],
   "source": [
    "from sklearn.decomposition import PCA\n",
    "X_std = pd.get_dummies(X)\n",
    "\n",
    "pca = PCA(n_components=2)\n",
    "X_pca = pca.fit_transform(X_std)\n",
    "\n",
    "kmeans = KMeans(n_clusters=3)\n",
    "kmeans.fit(X_std)\n",
    "\n",
    "# Visualizing the clustering \n",
    "plt.scatter(X_pca[:,0], X_pca[:,1],  \n",
    "           c = KMeans(n_clusters = 3).fit_predict(X_std), cmap ='Reds')\n",
    "            \n",
    "plt.show() "
   ]
  },
  {
   "cell_type": "code",
   "execution_count": 81,
   "id": "b3072a49",
   "metadata": {},
   "outputs": [],
   "source": [
    "# Defining the agglomerative clustering\n",
    "agg_cluster = AgglomerativeClustering(linkage='ward', \n",
    "                                      affinity='euclidean',\n",
    "                                      n_clusters=3)\n",
    "\n",
    "# Fit model\n",
    "clusters = agg_cluster.fit_predict(X_std)"
   ]
  },
  {
   "cell_type": "code",
   "execution_count": 82,
   "id": "7398759c",
   "metadata": {},
   "outputs": [
    {
     "data": {
      "image/png": "[encoded data removed]",
      "text/plain": [
       "<Figure size 432x288 with 1 Axes>"
      ]
     },
     "metadata": {
      "needs_background": "light"
     },
     "output_type": "display_data"
    }
   ],
   "source": [
    "plt.scatter(X_pca[:,0], X_pca[:,1], c=clusters)\n",
    "        \n",
    "plt.title('3 Clusters', fontsize=20) \n",
    "plt.tight_layout()\n",
    "plt.show()"
   ]
  },
  {
   "cell_type": "code",
   "execution_count": 83,
   "id": "06e38c0d",
   "metadata": {},
   "outputs": [
    {
     "data": {
      "text/plain": [
       "<seaborn.axisgrid.PairGrid at 0x1e3bb652be0>"
      ]
     },
     "execution_count": 83,
     "metadata": {},
     "output_type": "execute_result"
    },
    {
     "data": {
      "image/png": "[encoded data removed]",
      "text/plain": [
       "<Figure size 441.375x360 with 6 Axes>"
      ]
     },
     "metadata": {
      "needs_background": "light"
     },
     "output_type": "display_data"
    }
   ],
   "source": [
    "sns.pairplot(vars= ['Age', 'Monthly Income'], hue='Gender', data=df2)"
   ]
  },
  {
   "cell_type": "code",
   "execution_count": 84,
   "id": "a725cf65",
   "metadata": {},
   "outputs": [
    {
     "data": {
      "text/plain": [
       "<seaborn.axisgrid.PairGrid at 0x1e3ba15d820>"
      ]
     },
     "execution_count": 84,
     "metadata": {},
     "output_type": "execute_result"
    },
    {
     "data": {
      "image/png": "[encoded data removed]",
      "text/plain": [
       "<Figure size 412x360 with 6 Axes>"
      ]
     },
     "metadata": {
      "needs_background": "light"
     },
     "output_type": "display_data"
    }
   ],
   "source": [
    "sns.pairplot(vars= ['Age', 'Monthly Income'], hue='Pets', data=df2)"
   ]
  },
  {
   "cell_type": "code",
   "execution_count": 85,
   "id": "fe55e741",
   "metadata": {},
   "outputs": [
    {
     "name": "stderr",
     "output_type": "stream",
     "text": [
      "C:\\Users\\arash\\anaconda3\\lib\\site-packages\\seaborn\\distributions.py:306: UserWarning: Dataset has 0 variance; skipping density estimate.\n",
      "  warnings.warn(msg, UserWarning)\n",
      "C:\\Users\\arash\\anaconda3\\lib\\site-packages\\seaborn\\distributions.py:306: UserWarning: Dataset has 0 variance; skipping density estimate.\n",
      "  warnings.warn(msg, UserWarning)\n"
     ]
    },
    {
     "data": {
      "text/plain": [
       "<seaborn.axisgrid.PairGrid at 0x1e3bb637df0>"
      ]
     },
     "execution_count": 85,
     "metadata": {},
     "output_type": "execute_result"
    },
    {
     "data": {
      "image/png": "[encoded data removed]",
      "text/plain": [
       "<Figure size 456.125x360 with 6 Axes>"
      ]
     },
     "metadata": {
      "needs_background": "light"
     },
     "output_type": "display_data"
    }
   ],
   "source": [
    "sns.pairplot(vars= ['Age', 'Monthly Income'], hue='Market', data=df2)"
   ]
  },
  {
   "cell_type": "code",
   "execution_count": 86,
   "id": "75c5a28d",
   "metadata": {},
   "outputs": [
    {
     "data": {
      "image/png": "[encoded data removed]",
      "text/plain": [
       "<Figure size 412x360 with 1 Axes>"
      ]
     },
     "metadata": {
      "needs_background": "light"
     },
     "output_type": "display_data"
    }
   ],
   "source": [
    "sns.relplot(x='Age',y='Monthly Income',hue='Pets',data=df_income);\n",
    "plt.title('Age v/s Income');"
   ]
  },
  {
   "cell_type": "code",
   "execution_count": 87,
   "id": "24c4e1e8",
   "metadata": {},
   "outputs": [
    {
     "data": {
      "image/png": "[encoded data removed]",
      "text/plain": [
       "<Figure size 441.375x360 with 1 Axes>"
      ]
     },
     "metadata": {
      "needs_background": "light"
     },
     "output_type": "display_data"
    }
   ],
   "source": [
    "sns.relplot(x='Age',y='Monthly Income',hue='Gender',data=df_income);\n",
    "plt.title('Age v/s Income');"
   ]
  },
  {
   "cell_type": "code",
   "execution_count": 88,
   "id": "d6f917b6",
   "metadata": {
    "scrolled": true
   },
   "outputs": [
    {
     "ename": "KeyError",
     "evalue": "'Pet Counts'",
     "output_type": "error",
     "traceback": [
      "\u001b[1;31m---------------------------------------------------------------------------\u001b[0m",
      "\u001b[1;31mKeyError\u001b[0m                                  Traceback (most recent call last)",
      "\u001b[1;32m~\\anaconda3\\lib\\site-packages\\pandas\\core\\indexes\\base.py\u001b[0m in \u001b[0;36mget_loc\u001b[1;34m(self, key, method, tolerance)\u001b[0m\n\u001b[0;32m   3079\u001b[0m             \u001b[1;32mtry\u001b[0m\u001b[1;33m:\u001b[0m\u001b[1;33m\u001b[0m\u001b[1;33m\u001b[0m\u001b[0m\n\u001b[1;32m-> 3080\u001b[1;33m                 \u001b[1;32mreturn\u001b[0m \u001b[0mself\u001b[0m\u001b[1;33m.\u001b[0m\u001b[0m_engine\u001b[0m\u001b[1;33m.\u001b[0m\u001b[0mget_loc\u001b[0m\u001b[1;33m(\u001b[0m\u001b[0mcasted_key\u001b[0m\u001b[1;33m)\u001b[0m\u001b[1;33m\u001b[0m\u001b[1;33m\u001b[0m\u001b[0m\n\u001b[0m\u001b[0;32m   3081\u001b[0m             \u001b[1;32mexcept\u001b[0m \u001b[0mKeyError\u001b[0m \u001b[1;32mas\u001b[0m \u001b[0merr\u001b[0m\u001b[1;33m:\u001b[0m\u001b[1;33m\u001b[0m\u001b[1;33m\u001b[0m\u001b[0m\n",
      "\u001b[1;32mpandas\\_libs\\index.pyx\u001b[0m in \u001b[0;36mpandas._libs.index.IndexEngine.get_loc\u001b[1;34m()\u001b[0m\n",
      "\u001b[1;32mpandas\\_libs\\index.pyx\u001b[0m in \u001b[0;36mpandas._libs.index.IndexEngine.get_loc\u001b[1;34m()\u001b[0m\n",
      "\u001b[1;32mpandas\\_libs\\hashtable_class_helper.pxi\u001b[0m in \u001b[0;36mpandas._libs.hashtable.PyObjectHashTable.get_item\u001b[1;34m()\u001b[0m\n",
      "\u001b[1;32mpandas\\_libs\\hashtable_class_helper.pxi\u001b[0m in \u001b[0;36mpandas._libs.hashtable.PyObjectHashTable.get_item\u001b[1;34m()\u001b[0m\n",
      "\u001b[1;31mKeyError\u001b[0m: 'Pet Counts'",
      "\nThe above exception was the direct cause of the following exception:\n",
      "\u001b[1;31mKeyError\u001b[0m                                  Traceback (most recent call last)",
      "\u001b[1;32m<ipython-input-88-0cb3e0a51660>\u001b[0m in \u001b[0;36m<module>\u001b[1;34m\u001b[0m\n\u001b[0;32m      1\u001b[0m \u001b[0mdf4\u001b[0m\u001b[1;33m=\u001b[0m \u001b[0mdf2\u001b[0m\u001b[1;33m.\u001b[0m\u001b[0mgroupby\u001b[0m\u001b[1;33m(\u001b[0m\u001b[1;34m'Age'\u001b[0m\u001b[1;33m)\u001b[0m\u001b[1;33m[\u001b[0m\u001b[1;34m'Pets'\u001b[0m\u001b[1;33m]\u001b[0m\u001b[1;33m.\u001b[0m\u001b[0mcount\u001b[0m\u001b[1;33m(\u001b[0m\u001b[1;33m)\u001b[0m\u001b[1;33m\u001b[0m\u001b[1;33m\u001b[0m\u001b[0m\n\u001b[1;32m----> 2\u001b[1;33m \u001b[0msns\u001b[0m\u001b[1;33m.\u001b[0m\u001b[0mpairplot\u001b[0m\u001b[1;33m(\u001b[0m\u001b[0mvars\u001b[0m\u001b[1;33m=\u001b[0m \u001b[1;33m[\u001b[0m\u001b[1;34m'Age'\u001b[0m\u001b[1;33m,\u001b[0m \u001b[1;34m'Pet Counts'\u001b[0m\u001b[1;33m]\u001b[0m\u001b[1;33m,\u001b[0m \u001b[0mhue\u001b[0m\u001b[1;33m=\u001b[0m\u001b[1;34m'Gender'\u001b[0m\u001b[1;33m,\u001b[0m \u001b[0mdata\u001b[0m\u001b[1;33m=\u001b[0m\u001b[0mdf2\u001b[0m\u001b[1;33m)\u001b[0m\u001b[1;33m\u001b[0m\u001b[1;33m\u001b[0m\u001b[0m\n\u001b[0m",
      "\u001b[1;32m~\\anaconda3\\lib\\site-packages\\seaborn\\_decorators.py\u001b[0m in \u001b[0;36minner_f\u001b[1;34m(*args, **kwargs)\u001b[0m\n\u001b[0;32m     44\u001b[0m             )\n\u001b[0;32m     45\u001b[0m         \u001b[0mkwargs\u001b[0m\u001b[1;33m.\u001b[0m\u001b[0mupdate\u001b[0m\u001b[1;33m(\u001b[0m\u001b[1;33m{\u001b[0m\u001b[0mk\u001b[0m\u001b[1;33m:\u001b[0m \u001b[0marg\u001b[0m \u001b[1;32mfor\u001b[0m \u001b[0mk\u001b[0m\u001b[1;33m,\u001b[0m \u001b[0marg\u001b[0m \u001b[1;32min\u001b[0m \u001b[0mzip\u001b[0m\u001b[1;33m(\u001b[0m\u001b[0msig\u001b[0m\u001b[1;33m.\u001b[0m\u001b[0mparameters\u001b[0m\u001b[1;33m,\u001b[0m \u001b[0margs\u001b[0m\u001b[1;33m)\u001b[0m\u001b[1;33m}\u001b[0m\u001b[1;33m)\u001b[0m\u001b[1;33m\u001b[0m\u001b[1;33m\u001b[0m\u001b[0m\n\u001b[1;32m---> 46\u001b[1;33m         \u001b[1;32mreturn\u001b[0m \u001b[0mf\u001b[0m\u001b[1;33m(\u001b[0m\u001b[1;33m**\u001b[0m\u001b[0mkwargs\u001b[0m\u001b[1;33m)\u001b[0m\u001b[1;33m\u001b[0m\u001b[1;33m\u001b[0m\u001b[0m\n\u001b[0m\u001b[0;32m     47\u001b[0m     \u001b[1;32mreturn\u001b[0m \u001b[0minner_f\u001b[0m\u001b[1;33m\u001b[0m\u001b[1;33m\u001b[0m\u001b[0m\n\u001b[0;32m     48\u001b[0m \u001b[1;33m\u001b[0m\u001b[0m\n",
      "\u001b[1;32m~\\anaconda3\\lib\\site-packages\\seaborn\\axisgrid.py\u001b[0m in \u001b[0;36mpairplot\u001b[1;34m(data, hue, hue_order, palette, vars, x_vars, y_vars, kind, diag_kind, markers, height, aspect, corner, dropna, plot_kws, diag_kws, grid_kws, size)\u001b[0m\n\u001b[0;32m   2020\u001b[0m     \u001b[1;32melif\u001b[0m \u001b[0mdiag_kind\u001b[0m \u001b[1;33m==\u001b[0m \u001b[1;34m\"kde\"\u001b[0m\u001b[1;33m:\u001b[0m\u001b[1;33m\u001b[0m\u001b[1;33m\u001b[0m\u001b[0m\n\u001b[0;32m   2021\u001b[0m         \u001b[0mdiag_kws\u001b[0m\u001b[1;33m.\u001b[0m\u001b[0msetdefault\u001b[0m\u001b[1;33m(\u001b[0m\u001b[1;34m\"fill\"\u001b[0m\u001b[1;33m,\u001b[0m \u001b[1;32mTrue\u001b[0m\u001b[1;33m)\u001b[0m\u001b[1;33m\u001b[0m\u001b[1;33m\u001b[0m\u001b[0m\n\u001b[1;32m-> 2022\u001b[1;33m         \u001b[0mgrid\u001b[0m\u001b[1;33m.\u001b[0m\u001b[0mmap_diag\u001b[0m\u001b[1;33m(\u001b[0m\u001b[0mkdeplot\u001b[0m\u001b[1;33m,\u001b[0m \u001b[1;33m**\u001b[0m\u001b[0mdiag_kws\u001b[0m\u001b[1;33m)\u001b[0m\u001b[1;33m\u001b[0m\u001b[1;33m\u001b[0m\u001b[0m\n\u001b[0m\u001b[0;32m   2023\u001b[0m \u001b[1;33m\u001b[0m\u001b[0m\n\u001b[0;32m   2024\u001b[0m     \u001b[1;31m# Maybe plot on the off-diagonals\u001b[0m\u001b[1;33m\u001b[0m\u001b[1;33m\u001b[0m\u001b[1;33m\u001b[0m\u001b[0m\n",
      "\u001b[1;32m~\\anaconda3\\lib\\site-packages\\seaborn\\axisgrid.py\u001b[0m in \u001b[0;36mmap_diag\u001b[1;34m(self, func, **kwargs)\u001b[0m\n\u001b[0;32m   1383\u001b[0m                 \u001b[0mplt\u001b[0m\u001b[1;33m.\u001b[0m\u001b[0msca\u001b[0m\u001b[1;33m(\u001b[0m\u001b[0max\u001b[0m\u001b[1;33m)\u001b[0m\u001b[1;33m\u001b[0m\u001b[1;33m\u001b[0m\u001b[0m\n\u001b[0;32m   1384\u001b[0m \u001b[1;33m\u001b[0m\u001b[0m\n\u001b[1;32m-> 1385\u001b[1;33m             \u001b[0mvector\u001b[0m \u001b[1;33m=\u001b[0m \u001b[0mself\u001b[0m\u001b[1;33m.\u001b[0m\u001b[0mdata\u001b[0m\u001b[1;33m[\u001b[0m\u001b[0mvar\u001b[0m\u001b[1;33m]\u001b[0m\u001b[1;33m\u001b[0m\u001b[1;33m\u001b[0m\u001b[0m\n\u001b[0m\u001b[0;32m   1386\u001b[0m             \u001b[1;32mif\u001b[0m \u001b[0mself\u001b[0m\u001b[1;33m.\u001b[0m\u001b[0m_hue_var\u001b[0m \u001b[1;32mis\u001b[0m \u001b[1;32mnot\u001b[0m \u001b[1;32mNone\u001b[0m\u001b[1;33m:\u001b[0m\u001b[1;33m\u001b[0m\u001b[1;33m\u001b[0m\u001b[0m\n\u001b[0;32m   1387\u001b[0m                 \u001b[0mhue\u001b[0m \u001b[1;33m=\u001b[0m \u001b[0mself\u001b[0m\u001b[1;33m.\u001b[0m\u001b[0mdata\u001b[0m\u001b[1;33m[\u001b[0m\u001b[0mself\u001b[0m\u001b[1;33m.\u001b[0m\u001b[0m_hue_var\u001b[0m\u001b[1;33m]\u001b[0m\u001b[1;33m\u001b[0m\u001b[1;33m\u001b[0m\u001b[0m\n",
      "\u001b[1;32m~\\anaconda3\\lib\\site-packages\\pandas\\core\\frame.py\u001b[0m in \u001b[0;36m__getitem__\u001b[1;34m(self, key)\u001b[0m\n\u001b[0;32m   3022\u001b[0m             \u001b[1;32mif\u001b[0m \u001b[0mself\u001b[0m\u001b[1;33m.\u001b[0m\u001b[0mcolumns\u001b[0m\u001b[1;33m.\u001b[0m\u001b[0mnlevels\u001b[0m \u001b[1;33m>\u001b[0m \u001b[1;36m1\u001b[0m\u001b[1;33m:\u001b[0m\u001b[1;33m\u001b[0m\u001b[1;33m\u001b[0m\u001b[0m\n\u001b[0;32m   3023\u001b[0m                 \u001b[1;32mreturn\u001b[0m \u001b[0mself\u001b[0m\u001b[1;33m.\u001b[0m\u001b[0m_getitem_multilevel\u001b[0m\u001b[1;33m(\u001b[0m\u001b[0mkey\u001b[0m\u001b[1;33m)\u001b[0m\u001b[1;33m\u001b[0m\u001b[1;33m\u001b[0m\u001b[0m\n\u001b[1;32m-> 3024\u001b[1;33m             \u001b[0mindexer\u001b[0m \u001b[1;33m=\u001b[0m \u001b[0mself\u001b[0m\u001b[1;33m.\u001b[0m\u001b[0mcolumns\u001b[0m\u001b[1;33m.\u001b[0m\u001b[0mget_loc\u001b[0m\u001b[1;33m(\u001b[0m\u001b[0mkey\u001b[0m\u001b[1;33m)\u001b[0m\u001b[1;33m\u001b[0m\u001b[1;33m\u001b[0m\u001b[0m\n\u001b[0m\u001b[0;32m   3025\u001b[0m             \u001b[1;32mif\u001b[0m \u001b[0mis_integer\u001b[0m\u001b[1;33m(\u001b[0m\u001b[0mindexer\u001b[0m\u001b[1;33m)\u001b[0m\u001b[1;33m:\u001b[0m\u001b[1;33m\u001b[0m\u001b[1;33m\u001b[0m\u001b[0m\n\u001b[0;32m   3026\u001b[0m                 \u001b[0mindexer\u001b[0m \u001b[1;33m=\u001b[0m \u001b[1;33m[\u001b[0m\u001b[0mindexer\u001b[0m\u001b[1;33m]\u001b[0m\u001b[1;33m\u001b[0m\u001b[1;33m\u001b[0m\u001b[0m\n",
      "\u001b[1;32m~\\anaconda3\\lib\\site-packages\\pandas\\core\\indexes\\base.py\u001b[0m in \u001b[0;36mget_loc\u001b[1;34m(self, key, method, tolerance)\u001b[0m\n\u001b[0;32m   3080\u001b[0m                 \u001b[1;32mreturn\u001b[0m \u001b[0mself\u001b[0m\u001b[1;33m.\u001b[0m\u001b[0m_engine\u001b[0m\u001b[1;33m.\u001b[0m\u001b[0mget_loc\u001b[0m\u001b[1;33m(\u001b[0m\u001b[0mcasted_key\u001b[0m\u001b[1;33m)\u001b[0m\u001b[1;33m\u001b[0m\u001b[1;33m\u001b[0m\u001b[0m\n\u001b[0;32m   3081\u001b[0m             \u001b[1;32mexcept\u001b[0m \u001b[0mKeyError\u001b[0m \u001b[1;32mas\u001b[0m \u001b[0merr\u001b[0m\u001b[1;33m:\u001b[0m\u001b[1;33m\u001b[0m\u001b[1;33m\u001b[0m\u001b[0m\n\u001b[1;32m-> 3082\u001b[1;33m                 \u001b[1;32mraise\u001b[0m \u001b[0mKeyError\u001b[0m\u001b[1;33m(\u001b[0m\u001b[0mkey\u001b[0m\u001b[1;33m)\u001b[0m \u001b[1;32mfrom\u001b[0m \u001b[0merr\u001b[0m\u001b[1;33m\u001b[0m\u001b[1;33m\u001b[0m\u001b[0m\n\u001b[0m\u001b[0;32m   3083\u001b[0m \u001b[1;33m\u001b[0m\u001b[0m\n\u001b[0;32m   3084\u001b[0m         \u001b[1;32mif\u001b[0m \u001b[0mtolerance\u001b[0m \u001b[1;32mis\u001b[0m \u001b[1;32mnot\u001b[0m \u001b[1;32mNone\u001b[0m\u001b[1;33m:\u001b[0m\u001b[1;33m\u001b[0m\u001b[1;33m\u001b[0m\u001b[0m\n",
      "\u001b[1;31mKeyError\u001b[0m: 'Pet Counts'"
     ]
    },
    {
     "data": {
      "image/png": "[encoded data removed]",
      "text/plain": [
       "<Figure size 360x360 with 6 Axes>"
      ]
     },
     "metadata": {
      "needs_background": "light"
     },
     "output_type": "display_data"
    }
   ],
   "source": [
    "df4= df2.groupby('Age')['Pets'].count()\n",
    "sns.pairplot(vars= ['Age', 'Pet Counts'], hue='Gender', data=df2)"
   ]
  },
  {
   "cell_type": "code",
   "execution_count": 89,
   "id": "16820f37",
   "metadata": {},
   "outputs": [
    {
     "data": {
      "text/plain": [
       "Text(0, 0.5, 'Number of Pets')"
      ]
     },
     "execution_count": 89,
     "metadata": {},
     "output_type": "execute_result"
    },
    {
     "data": {
      "image/png": "[encoded data removed]",
      "text/plain": [
       "<Figure size 432x288 with 1 Axes>"
      ]
     },
     "metadata": {
      "needs_background": "light"
     },
     "output_type": "display_data"
    }
   ],
   "source": [
    "plt.scatter(df4.index, df4)\n",
    "plt.title('Age / Pets')\n",
    "plt.xlabel('Age')\n",
    "plt.ylabel('Number of Pets')"
   ]
  },
  {
   "cell_type": "code",
   "execution_count": 90,
   "id": "d3314e03",
   "metadata": {},
   "outputs": [
    {
     "data": {
      "image/png": "[encoded data removed]",
      "text/plain": [
       "<Figure size 432x288 with 1 Axes>"
      ]
     },
     "metadata": {},
     "output_type": "display_data"
    }
   ],
   "source": [
    "label = 'Male','Female', 'Unknown'\n",
    "\n",
    "plt.pie([len(df2['Gender'][df2['Gender']=='male']), len(df2['Gender'][df2['Gender']=='female']),\n",
    "        len(df2['Gender'][df2['Gender']=='unknown'])],\n",
    "            labels=label,autopct='%1.1f%%',shadow=True, startangle=90)\n",
    "plt.title('Gender');"
   ]
  },
  {
   "cell_type": "code",
   "execution_count": 91,
   "id": "3b139529",
   "metadata": {},
   "outputs": [
    {
     "data": {
      "image/png": "[encoded data removed]",
      "text/plain": [
       "<Figure size 432x288 with 1 Axes>"
      ]
     },
     "metadata": {},
     "output_type": "display_data"
    }
   ],
   "source": [
    "label = 'Teen','Youth', 'Adult', 'Senior'\n",
    "\n",
    "plt.pie([len(df2['Age Group'][df2['Age Group']=='Children']), len(df2['Age Group'][df2['Age Group']=='Youth']),\n",
    "        len(df2['Age Group'][df2['Age Group']=='Adult']), len(df2['Age Group'][df2['Age Group']=='Seniors'])],\n",
    "            labels=label,autopct='%1.1f%%',shadow=True, startangle=90)\n",
    "plt.title('Age Group');"
   ]
  },
  {
   "cell_type": "code",
   "execution_count": 92,
   "id": "bf60b5d8",
   "metadata": {},
   "outputs": [
    {
     "data": {
      "text/plain": [
       "(array([7.340e+02, 1.137e+03, 1.022e+03, 9.510e+02, 5.940e+02, 9.800e+01,\n",
       "        5.700e+01, 3.200e+01, 3.600e+01, 2.500e+01, 1.600e+01, 8.000e+00,\n",
       "        2.000e+00, 6.000e+00, 5.000e+00, 2.000e+00, 3.000e+00, 1.000e+00,\n",
       "        3.000e+00, 2.000e+00]),\n",
       " array([11.  , 14.95, 18.9 , 22.85, 26.8 , 30.75, 34.7 , 38.65, 42.6 ,\n",
       "        46.55, 50.5 , 54.45, 58.4 , 62.35, 66.3 , 70.25, 74.2 , 78.15,\n",
       "        82.1 , 86.05, 90.  ]),\n",
       " <BarContainer object of 20 artists>)"
      ]
     },
     "execution_count": 92,
     "metadata": {},
     "output_type": "execute_result"
    },
    {
     "data": {
      "image/png": "[encoded data removed]",
      "text/plain": [
       "<Figure size 432x288 with 1 Axes>"
      ]
     },
     "metadata": {
      "needs_background": "light"
     },
     "output_type": "display_data"
    }
   ],
   "source": [
    "plt.hist(df2.Age, bins=20)"
   ]
  },
  {
   "cell_type": "code",
   "execution_count": 95,
   "id": "28e85085",
   "metadata": {},
   "outputs": [
    {
     "data": {
      "image/png": "[encoded data removed]",
      "text/plain": [
       "<Figure size 432x288 with 1 Axes>"
      ]
     },
     "metadata": {},
     "output_type": "display_data"
    }
   ],
   "source": [
    "label = 'Children','No Children'\n",
    "\n",
    "plt.pie([len(df2['No Children'][df2['No Children']==False]), len(df2['No Children'][df2['No Children']==True])],\n",
    "            labels=label,autopct='%1.1f%%',shadow=True, startangle=90)\n",
    "plt.title('children in the home');"
   ]
  },
  {
   "cell_type": "code",
   "execution_count": 96,
   "id": "dab2e13c",
   "metadata": {},
   "outputs": [
    {
     "data": {
      "text/html": [
       "<div>\n",
       "<style scoped>\n",
       "    .dataframe tbody tr th:only-of-type {\n",
       "        vertical-align: middle;\n",
       "    }\n",
       "\n",
       "    .dataframe tbody tr th {\n",
       "        vertical-align: top;\n",
       "    }\n",
       "\n",
       "    .dataframe thead th {\n",
       "        text-align: right;\n",
       "    }\n",
       "</style>\n",
       "<table border=\"1\" class=\"dataframe\">\n",
       "  <thead>\n",
       "    <tr style=\"text-align: right;\">\n",
       "      <th>Pets</th>\n",
       "      <th>No</th>\n",
       "      <th>Yes</th>\n",
       "    </tr>\n",
       "    <tr>\n",
       "      <th>No Children</th>\n",
       "      <th></th>\n",
       "      <th></th>\n",
       "    </tr>\n",
       "  </thead>\n",
       "  <tbody>\n",
       "    <tr>\n",
       "      <th>False</th>\n",
       "      <td>1491</td>\n",
       "      <td>325</td>\n",
       "    </tr>\n",
       "    <tr>\n",
       "      <th>True</th>\n",
       "      <td>2130</td>\n",
       "      <td>788</td>\n",
       "    </tr>\n",
       "  </tbody>\n",
       "</table>\n",
       "</div>"
      ],
      "text/plain": [
       "Pets           No  Yes\n",
       "No Children           \n",
       "False        1491  325\n",
       "True         2130  788"
      ]
     },
     "execution_count": 96,
     "metadata": {},
     "output_type": "execute_result"
    }
   ],
   "source": [
    "cross_table = pd.crosstab(index=df2[\"No Children\"], \n",
    "                          columns=df2[\"Pets\"])\n",
    "cross_table"
   ]
  },
  {
   "cell_type": "code",
   "execution_count": 97,
   "id": "3d9e2cd7",
   "metadata": {},
   "outputs": [
    {
     "data": {
      "text/plain": [
       "<AxesSubplot:xlabel='No Children'>"
      ]
     },
     "execution_count": 97,
     "metadata": {},
     "output_type": "execute_result"
    },
    {
     "data": {
      "image/png": "[encoded data removed]",
      "text/plain": [
       "<Figure size 432x288 with 1 Axes>"
      ]
     },
     "metadata": {
      "needs_background": "light"
     },
     "output_type": "display_data"
    }
   ],
   "source": [
    "cross_table.plot(kind=\"bar\",\n",
    "                 stacked=True)"
   ]
  },
  {
   "cell_type": "code",
   "execution_count": 99,
   "id": "1253f00b",
   "metadata": {},
   "outputs": [
    {
     "data": {
      "text/html": [
       "<div>\n",
       "<style scoped>\n",
       "    .dataframe tbody tr th:only-of-type {\n",
       "        vertical-align: middle;\n",
       "    }\n",
       "\n",
       "    .dataframe tbody tr th {\n",
       "        vertical-align: top;\n",
       "    }\n",
       "\n",
       "    .dataframe thead th {\n",
       "        text-align: right;\n",
       "    }\n",
       "</style>\n",
       "<table border=\"1\" class=\"dataframe\">\n",
       "  <thead>\n",
       "    <tr style=\"text-align: right;\">\n",
       "      <th>Age Group</th>\n",
       "      <th>Children</th>\n",
       "      <th>Youth</th>\n",
       "      <th>Adult</th>\n",
       "      <th>Seniors</th>\n",
       "    </tr>\n",
       "    <tr>\n",
       "      <th>No Children</th>\n",
       "      <th></th>\n",
       "      <th></th>\n",
       "      <th></th>\n",
       "      <th></th>\n",
       "    </tr>\n",
       "  </thead>\n",
       "  <tbody>\n",
       "    <tr>\n",
       "      <th>False</th>\n",
       "      <td>734</td>\n",
       "      <td>909</td>\n",
       "      <td>165</td>\n",
       "      <td>8</td>\n",
       "    </tr>\n",
       "    <tr>\n",
       "      <th>True</th>\n",
       "      <td>0</td>\n",
       "      <td>1745</td>\n",
       "      <td>1163</td>\n",
       "      <td>10</td>\n",
       "    </tr>\n",
       "  </tbody>\n",
       "</table>\n",
       "</div>"
      ],
      "text/plain": [
       "Age Group    Children  Youth  Adult  Seniors\n",
       "No Children                                 \n",
       "False             734    909    165        8\n",
       "True                0   1745   1163       10"
      ]
     },
     "execution_count": 99,
     "metadata": {},
     "output_type": "execute_result"
    }
   ],
   "source": [
    "cross_table = pd.crosstab(index=df2[\"No Children\"], \n",
    "                          columns=df2[\"Age Group\"])\n",
    "cross_table"
   ]
  },
  {
   "cell_type": "code",
   "execution_count": 100,
   "id": "495139c2",
   "metadata": {},
   "outputs": [
    {
     "data": {
      "text/plain": [
       "<AxesSubplot:xlabel='No Children'>"
      ]
     },
     "execution_count": 100,
     "metadata": {},
     "output_type": "execute_result"
    },
    {
     "data": {
      "image/png": "[encoded data removed]",
      "text/plain": [
       "<Figure size 432x288 with 1 Axes>"
      ]
     },
     "metadata": {
      "needs_background": "light"
     },
     "output_type": "display_data"
    }
   ],
   "source": [
    "cross_table.plot(kind=\"bar\",\n",
    "                 stacked=True)"
   ]
  },
  {
   "cell_type": "code",
   "execution_count": 108,
   "id": "7c0dcf0f",
   "metadata": {},
   "outputs": [
    {
     "data": {
      "text/html": [
       "<div>\n",
       "<style scoped>\n",
       "    .dataframe tbody tr th:only-of-type {\n",
       "        vertical-align: middle;\n",
       "    }\n",
       "\n",
       "    .dataframe tbody tr th {\n",
       "        vertical-align: top;\n",
       "    }\n",
       "\n",
       "    .dataframe thead th {\n",
       "        text-align: right;\n",
       "    }\n",
       "</style>\n",
       "<table border=\"1\" class=\"dataframe\">\n",
       "  <thead>\n",
       "    <tr style=\"text-align: right;\">\n",
       "      <th>Income Group</th>\n",
       "      <th>Low</th>\n",
       "      <th>Middle</th>\n",
       "      <th>High</th>\n",
       "    </tr>\n",
       "    <tr>\n",
       "      <th>No Children</th>\n",
       "      <th></th>\n",
       "      <th></th>\n",
       "      <th></th>\n",
       "    </tr>\n",
       "  </thead>\n",
       "  <tbody>\n",
       "    <tr>\n",
       "      <th>False</th>\n",
       "      <td>15</td>\n",
       "      <td>1</td>\n",
       "      <td>0</td>\n",
       "    </tr>\n",
       "    <tr>\n",
       "      <th>True</th>\n",
       "      <td>24</td>\n",
       "      <td>16</td>\n",
       "      <td>10</td>\n",
       "    </tr>\n",
       "  </tbody>\n",
       "</table>\n",
       "</div>"
      ],
      "text/plain": [
       "Income Group  Low  Middle  High\n",
       "No Children                    \n",
       "False          15       1     0\n",
       "True           24      16    10"
      ]
     },
     "execution_count": 108,
     "metadata": {},
     "output_type": "execute_result"
    }
   ],
   "source": [
    "cross_table = pd.crosstab(index=df2[df2[\"Income Group\"].isin(['Low', 'Middle', 'High'])][\"No Children\"], \n",
    "                          columns=df2[\"Income Group\"])\n",
    "cross_table"
   ]
  },
  {
   "cell_type": "code",
   "execution_count": 109,
   "id": "de909954",
   "metadata": {},
   "outputs": [
    {
     "data": {
      "text/plain": [
       "<AxesSubplot:xlabel='No Children'>"
      ]
     },
     "execution_count": 109,
     "metadata": {},
     "output_type": "execute_result"
    },
    {
     "data": {
      "image/png": "[encoded data removed]",
      "text/plain": [
       "<Figure size 432x288 with 1 Axes>"
      ]
     },
     "metadata": {
      "needs_background": "light"
     },
     "output_type": "display_data"
    }
   ],
   "source": [
    "cross_table.plot(kind=\"bar\",\n",
    "                 stacked=True)"
   ]
  },
  {
   "cell_type": "code",
   "execution_count": null,
   "id": "aff36841",
   "metadata": {},
   "outputs": [],
   "source": []
  }
 ],
 "metadata": {
  "kernelspec": {
   "display_name": "Python 3",
   "language": "python",
   "name": "python3"
  },
  "language_info": {
   "codemirror_mode": {
    "name": "ipython",
    "version": 3
   },
   "file_extension": ".py",
   "mimetype": "text/x-python",
   "name": "python",
   "nbconvert_exporter": "python",
   "pygments_lexer": "ipython3",
   "version": "3.8.8"
  }
 },
 "nbformat": 4,
 "nbformat_minor": 5
}
