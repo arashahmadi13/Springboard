{
 "cells": [
  {
   "cell_type": "raw",
   "id": "486ca595",
   "metadata": {},
   "source": [
    "/*\n",
    "## Q1\n",
    "\n",
    "SELECT name FROM Facilities WHERE membercost > 0;\n",
    "\n",
    "## Q2\n",
    "\n",
    "SELECT COUNT(*) FROM Facilities WHERE membercost = 0;\n",
    "\n",
    "## Q3\n",
    "\n",
    "SELECT facid, name, membercost, monthlymaintenance \n",
    "FROM Facilities \n",
    "WHERE membercost > 0 AND\n",
    "membercost < .2 * monthlymaintenance;\n",
    "\n",
    "## Q4\n",
    "\n",
    "SELECT * FROM Facilities WHERE facid IN (1, 5);\n",
    "\n",
    "## Q5\n",
    "\n",
    "SELECT name, monthlymaintenance, \n",
    "(CASE WHEN monthlymaintenance < 100 THEN \"cheap\"\n",
    "ELSE \"expensive\" END) AS category\n",
    "FROM Facilities;\n",
    "\n",
    "## Q6\n",
    "\n",
    "SELECT firstname, surname\n",
    "FROM Members\n",
    "WHERE joindate = \n",
    "(SELECT MAX(joindate)\n",
    " FROM Members);\n",
    "\n",
    "Or \n",
    "\n",
    "SELECT firstname, surname\n",
    "FROM Members\n",
    "ORDER BY joindate DESC\n",
    "LIMIT 1;\n",
    "\n",
    "## Q7\n",
    "\n",
    "SELECT DISTINCT(CONCAT(firstname , \" \", surname)) AS member_name, name\n",
    "FROM Members\n",
    "JOIN Bookings\n",
    "USING (memid)\n",
    "JOIN Facilities\n",
    "USING (facid)\n",
    "WHERE name LIKE \"tennis%\"\n",
    "ORDER BY member_name;\n",
    "\n",
    "## Q8\n",
    "\n",
    "SELECT name AS facility, CONCAT(firstname, \" \" , Surname) AS name,\n",
    "(CASE WHEN memid = 0 THEN slotS * GUESTCOST\n",
    " ELSE membercost * SLOTS END) AS cost\n",
    "FROM Facilities\n",
    "LEFT JOIN Bookings\n",
    "USING (facid)\n",
    "LEFT JOIN Members\n",
    "USING (memid)\n",
    "WHERE DATE(starttime) = '2012-09-14' AND \n",
    "((memid = 0 AND guestcost * slots> 30) OR \n",
    " (memid != 0 AND membercost * slots > 30))\n",
    " ORDER BY cost DESC;\n",
    " \n",
    " ## Q9\n",
    " \n",
    " SELECT facility, name, cost\n",
    "FROM (SELECT f.name AS facility, CONCAT(m.firstname, \" \" , m.Surname) AS name,\n",
    "(CASE WHEN m.memid = 0 THEN b.slotS * f.guestcost\n",
    " ELSE f.membercost * b.slots END) AS cost\n",
    "FROM Facilities AS f\n",
    "LEFT JOIN Bookings AS b\n",
    "USING (facid)\n",
    "LEFT JOIN Members AS m\n",
    "USING (memid)\n",
    "WHERE DATE(b.starttime) = '2012-09-14')\n",
    "WHERE cost > 30\n",
    "ORDER BY cost DESC;"
   ]
  },
  {
   "cell_type": "code",
   "execution_count": 1,
   "id": "b8288320",
   "metadata": {},
   "outputs": [],
   "source": [
    "import pandas as pd\n",
    "from sqlalchemy import create_engine"
   ]
  },
  {
   "cell_type": "code",
   "execution_count": 2,
   "id": "4003e160",
   "metadata": {},
   "outputs": [],
   "source": [
    "database = \"sqlite:///sqlite_db_pythonsqlite.db\"\n",
    "\n",
    "engine = create_engine(database)\n"
   ]
  },
  {
   "cell_type": "code",
   "execution_count": 3,
   "id": "9f0a893d",
   "metadata": {},
   "outputs": [
    {
     "name": "stdout",
     "output_type": "stream",
     "text": [
      "            name  total_revenue\n",
      "0   Table Tennis            180\n",
      "1  Snooker Table            240\n",
      "2     Pool Table            270\n"
     ]
    }
   ],
   "source": [
    "##  Q10\n",
    "query = '''SELECT name, \n",
    "SUM(CASE WHEN memid = 0 THEN guestcost * slots\n",
    "ELSE membercost * slots END) AS total_revenue\n",
    "FROM Facilities AS f \n",
    "LEFT JOIN Bookings AS b\n",
    "ON (f.facid = b.facid)\n",
    "GROUP BY name\n",
    "HAVING total_revenue < 1000\n",
    "ORDER BY total_revenue'''\n",
    "\n",
    "df = pd.read_sql_query(query, engine)\n",
    "print(df.head())"
   ]
  },
  {
   "cell_type": "code",
   "execution_count": 4,
   "id": "6d41003f",
   "metadata": {},
   "outputs": [
    {
     "name": "stdout",
     "output_type": "stream",
     "text": [
      "  member_surname member_firstname recommendor_surname recommender_firstname\n",
      "0          Bader         Florence            Stibbons                Ponder\n",
      "1          Baker             Anne            Stibbons                Ponder\n",
      "2          Baker          Timothy             Farrell                Jemima\n",
      "3         Boothe              Tim              Rownam                   Tim\n",
      "4        Butters           Gerald               Smith                Darren\n"
     ]
    }
   ],
   "source": [
    "## Q11\n",
    "query = '''SELECT m1.surname AS member_surname, m1.firstname AS member_firstname, \n",
    "m2.surname AS recommendor_surname, m2.firstname AS recommender_firstname\n",
    "FROM Members AS m1\n",
    "INNER JOIN Members AS m2\n",
    "on m1.recommendedby = m2.memid\n",
    "ORDER BY member_surname, member_firstname;'''\n",
    "\n",
    "df = pd.read_sql_query(query, engine)\n",
    "print(df.head())"
   ]
  },
  {
   "cell_type": "code",
   "execution_count": 5,
   "id": "1f288fe2",
   "metadata": {},
   "outputs": [
    {
     "name": "stdout",
     "output_type": "stream",
     "text": [
      "              name  ROUND(SUM(slots)/2, 0)\n",
      "0  Badminton Court                   543.0\n",
      "1   Massage Room 1                   442.0\n",
      "2   Massage Room 2                    27.0\n",
      "3       Pool Table                   428.0\n",
      "4    Snooker Table                   430.0\n"
     ]
    }
   ],
   "source": [
    "## Q12\n",
    "query = '''SELECT name, ROUND(SUM(slots)/2, 0) \n",
    "FROM Facilities\n",
    "INNER JOIN (SELECT slots, facid\n",
    "            FROM Bookings \n",
    "            WHERE memid != 0) AS sub\n",
    "USING (facid)\n",
    "GROUP BY name;'''\n",
    "\n",
    "# Dividing the sum by 2 since each slot is half an hour\n",
    "\n",
    "df = pd.read_sql_query(query, engine)\n",
    "print(df.head())"
   ]
  },
  {
   "cell_type": "code",
   "execution_count": 6,
   "id": "fa027d29",
   "metadata": {},
   "outputs": [
    {
     "name": "stdout",
     "output_type": "stream",
     "text": [
      "              name  ROUND(SUM(slots)/2, 0) month\n",
      "0  Badminton Court                    82.0    07\n",
      "1   Massage Room 1                    83.0    07\n",
      "2   Massage Room 2                     4.0    07\n",
      "3       Pool Table                    55.0    07\n",
      "4    Snooker Table                    70.0    07\n"
     ]
    }
   ],
   "source": [
    "## Q13\n",
    "query = '''SELECT name, ROUND(SUM(slots)/2, 0), month\n",
    "FROM Facilities\n",
    "INNER JOIN (SELECT slots, facid, strftime('%m', starttime) as month\n",
    "            FROM Bookings \n",
    "            WHERE memid != 0) AS sub\n",
    "USING (facid)\n",
    "GROUP BY name, month\n",
    "ORDER BY month;'''\n",
    "\n",
    "# Dividing the sum by 2 since each slot is half an hour\n",
    "\n",
    "df = pd.read_sql_query(query, engine)\n",
    "print(df.head())"
   ]
  },
  {
   "cell_type": "code",
   "execution_count": null,
   "id": "dad992bb",
   "metadata": {},
   "outputs": [],
   "source": []
  }
 ],
 "metadata": {
  "kernelspec": {
   "display_name": "Python 3",
   "language": "python",
   "name": "python3"
  },
  "language_info": {
   "codemirror_mode": {
    "name": "ipython",
    "version": 3
   },
   "file_extension": ".py",
   "mimetype": "text/x-python",
   "name": "python",
   "nbconvert_exporter": "python",
   "pygments_lexer": "ipython3",
   "version": "3.8.8"
  }
 },
 "nbformat": 4,
 "nbformat_minor": 5
}
