{
 "cells": [
  {
   "cell_type": "markdown",
   "id": "2d1aeb80-f385-4667-913e-0bd51a953e3c",
   "metadata": {},
   "source": [
    "# Exploratory Data Analysis"
   ]
  },
  {
   "cell_type": "code",
   "execution_count": 1,
   "id": "ac7786a6-f48b-4fac-a53e-c34105f7f7cb",
   "metadata": {},
   "outputs": [],
   "source": [
    "# Load necessary libraries\n",
    "import pandas as pd\n",
    "import numpy as np\n",
    "import os\n",
    "import matplotlib.pyplot as plt\n",
    "import seaborn as sns\n",
    "from sklearn.decomposition import PCA\n",
    "from sklearn.preprocessing import scale"
   ]
  },
  {
   "cell_type": "code",
   "execution_count": 2,
   "id": "6247d3e3-e778-4a21-b2f1-f4ab8114c611",
   "metadata": {},
   "outputs": [
    {
     "data": {
      "text/html": [
       "<div>\n",
       "<style scoped>\n",
       "    .dataframe tbody tr th:only-of-type {\n",
       "        vertical-align: middle;\n",
       "    }\n",
       "\n",
       "    .dataframe tbody tr th {\n",
       "        vertical-align: top;\n",
       "    }\n",
       "\n",
       "    .dataframe thead th {\n",
       "        text-align: right;\n",
       "    }\n",
       "</style>\n",
       "<table border=\"1\" class=\"dataframe\">\n",
       "  <thead>\n",
       "    <tr style=\"text-align: right;\">\n",
       "      <th></th>\n",
       "      <th>Bank</th>\n",
       "      <th>FIPSStateNumericCode</th>\n",
       "      <th>FIPSCountyCode</th>\n",
       "      <th>CoreBasedStatisticalAreaCode</th>\n",
       "      <th>CensusTractIdentifier</th>\n",
       "      <th>CensusTractMinorityRatioPercent</th>\n",
       "      <th>CensusTractMedFamIncomeAmount</th>\n",
       "      <th>LocalAreaMedianIncomeAmount</th>\n",
       "      <th>TotalMonthlyIncomeAmount</th>\n",
       "      <th>HUDMedianIncomeAmount</th>\n",
       "      <th>...</th>\n",
       "      <th>Borrower1Race3Type</th>\n",
       "      <th>Borrower1Race4Type</th>\n",
       "      <th>Borrower1Race5Type</th>\n",
       "      <th>Borrower2EthnicityType</th>\n",
       "      <th>Borrower2Race2Type</th>\n",
       "      <th>Borrower2Race3Type</th>\n",
       "      <th>Borrower2Race4Type</th>\n",
       "      <th>Borrower2Race5Type</th>\n",
       "      <th>HOEPALoanStatusType</th>\n",
       "      <th>LienPriorityType</th>\n",
       "    </tr>\n",
       "  </thead>\n",
       "  <tbody>\n",
       "    <tr>\n",
       "      <th>0</th>\n",
       "      <td>Boston</td>\n",
       "      <td>50</td>\n",
       "      <td>7</td>\n",
       "      <td>15540</td>\n",
       "      <td>34.0</td>\n",
       "      <td>4.577</td>\n",
       "      <td>132474</td>\n",
       "      <td>84290</td>\n",
       "      <td>7308</td>\n",
       "      <td>93000</td>\n",
       "      <td>...</td>\n",
       "      <td>7</td>\n",
       "      <td>7</td>\n",
       "      <td>7</td>\n",
       "      <td>5</td>\n",
       "      <td>8</td>\n",
       "      <td>8</td>\n",
       "      <td>8</td>\n",
       "      <td>8</td>\n",
       "      <td>2</td>\n",
       "      <td>1</td>\n",
       "    </tr>\n",
       "    <tr>\n",
       "      <th>1</th>\n",
       "      <td>Boston</td>\n",
       "      <td>50</td>\n",
       "      <td>7</td>\n",
       "      <td>15540</td>\n",
       "      <td>29.0</td>\n",
       "      <td>3.421</td>\n",
       "      <td>100795</td>\n",
       "      <td>84290</td>\n",
       "      <td>7416</td>\n",
       "      <td>93000</td>\n",
       "      <td>...</td>\n",
       "      <td>7</td>\n",
       "      <td>7</td>\n",
       "      <td>7</td>\n",
       "      <td>2</td>\n",
       "      <td>7</td>\n",
       "      <td>7</td>\n",
       "      <td>7</td>\n",
       "      <td>7</td>\n",
       "      <td>2</td>\n",
       "      <td>1</td>\n",
       "    </tr>\n",
       "    <tr>\n",
       "      <th>2</th>\n",
       "      <td>Boston</td>\n",
       "      <td>50</td>\n",
       "      <td>15</td>\n",
       "      <td>99999</td>\n",
       "      <td>9532.0</td>\n",
       "      <td>6.152</td>\n",
       "      <td>49625</td>\n",
       "      <td>67566</td>\n",
       "      <td>5143</td>\n",
       "      <td>71900</td>\n",
       "      <td>...</td>\n",
       "      <td>7</td>\n",
       "      <td>7</td>\n",
       "      <td>7</td>\n",
       "      <td>2</td>\n",
       "      <td>7</td>\n",
       "      <td>7</td>\n",
       "      <td>7</td>\n",
       "      <td>7</td>\n",
       "      <td>2</td>\n",
       "      <td>1</td>\n",
       "    </tr>\n",
       "    <tr>\n",
       "      <th>3</th>\n",
       "      <td>Boston</td>\n",
       "      <td>50</td>\n",
       "      <td>17</td>\n",
       "      <td>30100</td>\n",
       "      <td>9594.0</td>\n",
       "      <td>3.935</td>\n",
       "      <td>62643</td>\n",
       "      <td>67105</td>\n",
       "      <td>8866</td>\n",
       "      <td>71900</td>\n",
       "      <td>...</td>\n",
       "      <td>7</td>\n",
       "      <td>7</td>\n",
       "      <td>7</td>\n",
       "      <td>2</td>\n",
       "      <td>7</td>\n",
       "      <td>7</td>\n",
       "      <td>7</td>\n",
       "      <td>7</td>\n",
       "      <td>2</td>\n",
       "      <td>1</td>\n",
       "    </tr>\n",
       "    <tr>\n",
       "      <th>4</th>\n",
       "      <td>Boston</td>\n",
       "      <td>23</td>\n",
       "      <td>31</td>\n",
       "      <td>38860</td>\n",
       "      <td>254.0</td>\n",
       "      <td>6.031</td>\n",
       "      <td>87679</td>\n",
       "      <td>76445</td>\n",
       "      <td>15240</td>\n",
       "      <td>90100</td>\n",
       "      <td>...</td>\n",
       "      <td>7</td>\n",
       "      <td>7</td>\n",
       "      <td>7</td>\n",
       "      <td>5</td>\n",
       "      <td>8</td>\n",
       "      <td>8</td>\n",
       "      <td>8</td>\n",
       "      <td>8</td>\n",
       "      <td>2</td>\n",
       "      <td>1</td>\n",
       "    </tr>\n",
       "  </tbody>\n",
       "</table>\n",
       "<p>5 rows × 51 columns</p>\n",
       "</div>"
      ],
      "text/plain": [
       "     Bank  FIPSStateNumericCode  FIPSCountyCode  CoreBasedStatisticalAreaCode  \\\n",
       "0  Boston                    50               7                         15540   \n",
       "1  Boston                    50               7                         15540   \n",
       "2  Boston                    50              15                         99999   \n",
       "3  Boston                    50              17                         30100   \n",
       "4  Boston                    23              31                         38860   \n",
       "\n",
       "   CensusTractIdentifier  CensusTractMinorityRatioPercent  \\\n",
       "0                   34.0                            4.577   \n",
       "1                   29.0                            3.421   \n",
       "2                 9532.0                            6.152   \n",
       "3                 9594.0                            3.935   \n",
       "4                  254.0                            6.031   \n",
       "\n",
       "   CensusTractMedFamIncomeAmount  LocalAreaMedianIncomeAmount  \\\n",
       "0                         132474                        84290   \n",
       "1                         100795                        84290   \n",
       "2                          49625                        67566   \n",
       "3                          62643                        67105   \n",
       "4                          87679                        76445   \n",
       "\n",
       "   TotalMonthlyIncomeAmount  HUDMedianIncomeAmount  ...  Borrower1Race3Type  \\\n",
       "0                      7308                  93000  ...                   7   \n",
       "1                      7416                  93000  ...                   7   \n",
       "2                      5143                  71900  ...                   7   \n",
       "3                      8866                  71900  ...                   7   \n",
       "4                     15240                  90100  ...                   7   \n",
       "\n",
       "   Borrower1Race4Type  Borrower1Race5Type  Borrower2EthnicityType  \\\n",
       "0                   7                   7                       5   \n",
       "1                   7                   7                       2   \n",
       "2                   7                   7                       2   \n",
       "3                   7                   7                       2   \n",
       "4                   7                   7                       5   \n",
       "\n",
       "   Borrower2Race2Type  Borrower2Race3Type  Borrower2Race4Type  \\\n",
       "0                   8                   8                   8   \n",
       "1                   7                   7                   7   \n",
       "2                   7                   7                   7   \n",
       "3                   7                   7                   7   \n",
       "4                   8                   8                   8   \n",
       "\n",
       "   Borrower2Race5Type  HOEPALoanStatusType  LienPriorityType  \n",
       "0                   8                    2                 1  \n",
       "1                   7                    2                 1  \n",
       "2                   7                    2                 1  \n",
       "3                   7                    2                 1  \n",
       "4                   8                    2                 1  \n",
       "\n",
       "[5 rows x 51 columns]"
      ]
     },
     "execution_count": 2,
     "metadata": {},
     "output_type": "execute_result"
    }
   ],
   "source": [
    "df = pd.read_csv('.\\data\\cleaned_data.csv')\n",
    "df.head()"
   ]
  },
  {
   "cell_type": "code",
   "execution_count": 3,
   "id": "1f5a422a-2ca3-4aa7-a524-cdf119369b73",
   "metadata": {},
   "outputs": [
    {
     "name": "stdout",
     "output_type": "stream",
     "text": [
      "<class 'pandas.core.frame.DataFrame'>\n",
      "RangeIndex: 89763 entries, 0 to 89762\n",
      "Data columns (total 51 columns):\n",
      " #   Column                           Non-Null Count  Dtype  \n",
      "---  ------                           --------------  -----  \n",
      " 0   Bank                             89763 non-null  object \n",
      " 1   FIPSStateNumericCode             89763 non-null  int64  \n",
      " 2   FIPSCountyCode                   89763 non-null  int64  \n",
      " 3   CoreBasedStatisticalAreaCode     89763 non-null  int64  \n",
      " 4   CensusTractIdentifier            89763 non-null  float64\n",
      " 5   CensusTractMinorityRatioPercent  89763 non-null  float64\n",
      " 6   CensusTractMedFamIncomeAmount    89763 non-null  int64  \n",
      " 7   LocalAreaMedianIncomeAmount      89763 non-null  int64  \n",
      " 8   TotalMonthlyIncomeAmount         89763 non-null  int64  \n",
      " 9   HUDMedianIncomeAmount            89763 non-null  int64  \n",
      " 10  LoanAcquisitionActualUPBAmt      89763 non-null  int64  \n",
      " 11  LTVRatioPercent                  89763 non-null  float64\n",
      " 12  NoteDate                         89763 non-null  int64  \n",
      " 13  LoanAcquistionDate               89763 non-null  int64  \n",
      " 14  LoanPurposeType                  89763 non-null  int64  \n",
      " 15  MortgageType                     89763 non-null  int64  \n",
      " 16  ScheduledTotalPaymentCount       89763 non-null  int64  \n",
      " 17  LoanAmortizationMaxTermMonths    89763 non-null  int64  \n",
      " 18  MortgageLoanSellerInstType       89763 non-null  int64  \n",
      " 19  BorrowerCount                    89763 non-null  int64  \n",
      " 20  BorrowerFirstTimeHomebuyer       89763 non-null  int64  \n",
      " 21  Borrower1Race1Type               89763 non-null  int64  \n",
      " 22  Borrower2Race1Type               89763 non-null  int64  \n",
      " 23  Borrower1GenderType              89763 non-null  int64  \n",
      " 24  Borrower2GenderType              89763 non-null  int64  \n",
      " 25  Borrower1AgeAtApplicationYears   89763 non-null  int64  \n",
      " 26  Borrower2AgeAtApplicationYears   89763 non-null  int64  \n",
      " 27  PropertyUsageType                89763 non-null  int64  \n",
      " 28  PropertyUnitCount                89763 non-null  int64  \n",
      " 29  NoteRatePercent                  89763 non-null  float64\n",
      " 30  NoteAmount                       89763 non-null  int64  \n",
      " 31  HousingExpenseRatioPercent       89763 non-null  float64\n",
      " 32  TotalDebtExpenseRatioPercent     89763 non-null  float64\n",
      " 33  Borrower1CreditScoreValue        89763 non-null  int64  \n",
      " 34  Borrower2CreditScoreValue        89763 non-null  int64  \n",
      " 35  PMICoveragePercent               89763 non-null  float64\n",
      " 36  EmploymentBorrowerSelfEmployed   89763 non-null  int64  \n",
      " 37  PropertyType                     89763 non-null  object \n",
      " 38  MarginRatePercent                89763 non-null  int64  \n",
      " 39  Borrower1EthnicityType           89763 non-null  int64  \n",
      " 40  Borrower1Race2Type               89763 non-null  int64  \n",
      " 41  Borrower1Race3Type               89763 non-null  int64  \n",
      " 42  Borrower1Race4Type               89763 non-null  int64  \n",
      " 43  Borrower1Race5Type               89763 non-null  int64  \n",
      " 44  Borrower2EthnicityType           89763 non-null  int64  \n",
      " 45  Borrower2Race2Type               89763 non-null  int64  \n",
      " 46  Borrower2Race3Type               89763 non-null  int64  \n",
      " 47  Borrower2Race4Type               89763 non-null  int64  \n",
      " 48  Borrower2Race5Type               89763 non-null  int64  \n",
      " 49  HOEPALoanStatusType              89763 non-null  int64  \n",
      " 50  LienPriorityType                 89763 non-null  int64  \n",
      "dtypes: float64(7), int64(42), object(2)\n",
      "memory usage: 34.9+ MB\n"
     ]
    }
   ],
   "source": [
    "df.info()"
   ]
  },
  {
   "cell_type": "code",
   "execution_count": 4,
   "id": "1531ccd0-fc2c-4416-bcba-993811f5c976",
   "metadata": {},
   "outputs": [],
   "source": [
    "#load state data so we can study the data based on the state names instead of state number"
   ]
  },
  {
   "cell_type": "code",
   "execution_count": 5,
   "id": "07378a25-add9-44ed-b5b7-d7dcfcc8f930",
   "metadata": {},
   "outputs": [
    {
     "name": "stdout",
     "output_type": "stream",
     "text": [
      "<class 'pandas.core.frame.DataFrame'>\n",
      "RangeIndex: 51 entries, 0 to 50\n",
      "Data columns (total 3 columns):\n",
      " #   Column   Non-Null Count  Dtype \n",
      "---  ------   --------------  ----- \n",
      " 0   stname   51 non-null     object\n",
      " 1    st      51 non-null     int64 \n",
      " 2    stusps  51 non-null     object\n",
      "dtypes: int64(1), object(2)\n",
      "memory usage: 1.3+ KB\n"
     ]
    }
   ],
   "source": [
    "state = pd.read_csv(r'.\\data\\us-state-ansi-fips.csv')\n",
    "state.info()"
   ]
  },
  {
   "cell_type": "code",
   "execution_count": null,
   "id": "abf29d8f-d9d7-4439-a7b1-2f11b4edcec8",
   "metadata": {},
   "outputs": [],
   "source": []
  },
  {
   "cell_type": "code",
   "execution_count": 6,
   "id": "b5f11c1e-c43e-40e7-8171-97406e7f7e55",
   "metadata": {},
   "outputs": [],
   "source": [
    "#Join these two dataframes to have the state names"
   ]
  },
  {
   "cell_type": "code",
   "execution_count": 7,
   "id": "3fc56ca5-b828-4065-acc6-3a09987ef2f8",
   "metadata": {},
   "outputs": [
    {
     "data": {
      "text/html": [
       "<div>\n",
       "<style scoped>\n",
       "    .dataframe tbody tr th:only-of-type {\n",
       "        vertical-align: middle;\n",
       "    }\n",
       "\n",
       "    .dataframe tbody tr th {\n",
       "        vertical-align: top;\n",
       "    }\n",
       "\n",
       "    .dataframe thead th {\n",
       "        text-align: right;\n",
       "    }\n",
       "</style>\n",
       "<table border=\"1\" class=\"dataframe\">\n",
       "  <thead>\n",
       "    <tr style=\"text-align: right;\">\n",
       "      <th></th>\n",
       "      <th>stname</th>\n",
       "      <th>FIPSStateNumericCode</th>\n",
       "      <th>stusps</th>\n",
       "    </tr>\n",
       "  </thead>\n",
       "  <tbody>\n",
       "    <tr>\n",
       "      <th>0</th>\n",
       "      <td>Alabama</td>\n",
       "      <td>1</td>\n",
       "      <td>AL</td>\n",
       "    </tr>\n",
       "    <tr>\n",
       "      <th>1</th>\n",
       "      <td>Alaska</td>\n",
       "      <td>2</td>\n",
       "      <td>AK</td>\n",
       "    </tr>\n",
       "    <tr>\n",
       "      <th>2</th>\n",
       "      <td>Arizona</td>\n",
       "      <td>4</td>\n",
       "      <td>AZ</td>\n",
       "    </tr>\n",
       "    <tr>\n",
       "      <th>3</th>\n",
       "      <td>Arkansas</td>\n",
       "      <td>5</td>\n",
       "      <td>AR</td>\n",
       "    </tr>\n",
       "    <tr>\n",
       "      <th>4</th>\n",
       "      <td>California</td>\n",
       "      <td>6</td>\n",
       "      <td>CA</td>\n",
       "    </tr>\n",
       "  </tbody>\n",
       "</table>\n",
       "</div>"
      ],
      "text/plain": [
       "       stname  FIPSStateNumericCode  stusps\n",
       "0     Alabama                     1      AL\n",
       "1      Alaska                     2      AK\n",
       "2     Arizona                     4      AZ\n",
       "3    Arkansas                     5      AR\n",
       "4  California                     6      CA"
      ]
     },
     "execution_count": 7,
     "metadata": {},
     "output_type": "execute_result"
    }
   ],
   "source": [
    "state = state.rename(columns={' st' : 'FIPSStateNumericCode'})\n",
    "state.head()"
   ]
  },
  {
   "cell_type": "code",
   "execution_count": 8,
   "id": "af618ea2-a96c-4f3e-813b-ed66dcf1e3bd",
   "metadata": {},
   "outputs": [
    {
     "data": {
      "text/plain": [
       "array([ 1,  2,  4,  5,  6,  8,  9, 10, 11, 12, 13, 15, 16, 17, 18, 19, 20,\n",
       "       21, 22, 23, 24, 25, 26, 27, 28, 29, 30, 31, 32, 33, 34, 35, 36, 37,\n",
       "       38, 39, 40, 41, 42, 44, 45, 46, 47, 48, 49, 50, 51, 53, 54, 55, 56,\n",
       "       66], dtype=int64)"
      ]
     },
     "execution_count": 8,
     "metadata": {},
     "output_type": "execute_result"
    }
   ],
   "source": [
    "df.FIPSStateNumericCode.sort_values().unique()"
   ]
  },
  {
   "cell_type": "code",
   "execution_count": 9,
   "id": "8c88f6f8-50d9-473a-ae68-f3ddfd443dd6",
   "metadata": {},
   "outputs": [
    {
     "data": {
      "text/plain": [
       "array([ 1,  2,  4,  5,  6,  8,  9, 10, 11, 12, 13, 15, 16, 17, 18, 19, 20,\n",
       "       21, 22, 23, 24, 25, 26, 27, 28, 29, 30, 31, 32, 33, 34, 35, 36, 37,\n",
       "       38, 39, 40, 41, 42, 44, 45, 46, 47, 48, 49, 50, 51, 53, 54, 55, 56],\n",
       "      dtype=int64)"
      ]
     },
     "execution_count": 9,
     "metadata": {},
     "output_type": "execute_result"
    }
   ],
   "source": [
    "state.FIPSStateNumericCode.sort_values().unique()"
   ]
  },
  {
   "cell_type": "code",
   "execution_count": 10,
   "id": "9f909da0-bb64-4ca8-b6c2-33edd98e9bd8",
   "metadata": {},
   "outputs": [],
   "source": [
    "guam = {'stname': 'Guam', 'FIPSStateNumericCode': 66, ' stusps': 'GU'}\n",
    "state = state.append(guam, ignore_index = True)"
   ]
  },
  {
   "cell_type": "code",
   "execution_count": 17,
   "id": "0c5fb427-5890-48cb-81d1-ec2ccb0aa154",
   "metadata": {},
   "outputs": [],
   "source": [
    "df = pd.merge(df, state, how=\"left\", on=\"FIPSStateNumericCode\")"
   ]
  },
  {
   "cell_type": "code",
   "execution_count": 14,
   "id": "17d0605d-5c09-4bf4-a01d-9df5f9595339",
   "metadata": {},
   "outputs": [],
   "source": [
    "#banks by name and state"
   ]
  },
  {
   "cell_type": "markdown",
   "id": "986eb383-9ba9-4e4f-9174-24406b9fef0d",
   "metadata": {},
   "source": [
    "# Explore The Data"
   ]
  },
  {
   "cell_type": "code",
   "execution_count": 18,
   "id": "42b056b5-4aae-4514-8b3c-7fb77e1c25a6",
   "metadata": {},
   "outputs": [],
   "source": [
    "#banks by name and state"
   ]
  },
  {
   "cell_type": "code",
   "execution_count": 15,
   "id": "1b567813-b6aa-4646-b518-260db51b9fdf",
   "metadata": {},
   "outputs": [
    {
     "data": {
      "text/plain": [
       "Chicago          22460\n",
       "Topeka           16092\n",
       "Des Moines       14467\n",
       "Cincinnati       11250\n",
       "Dallas            8069\n",
       "Indianapolis      5677\n",
       "Pittsburgh        4458\n",
       "Boston            2824\n",
       "San Francisco     2487\n",
       "New York          1979\n",
       "Name: Bank, dtype: int64"
      ]
     },
     "execution_count": 15,
     "metadata": {},
     "output_type": "execute_result"
    }
   ],
   "source": [
    "df.Bank.value_counts()"
   ]
  },
  {
   "cell_type": "code",
   "execution_count": 22,
   "id": "5affda94-624a-446d-bd07-a033f7a0d2b3",
   "metadata": {},
   "outputs": [
    {
     "data": {
      "text/plain": [
       "Wisconsin     10747\n",
       "Illinois       6841\n",
       "Ohio           6748\n",
       "Iowa           5781\n",
       "Kansas         5004\n",
       "California     4910\n",
       "Indiana        4409\n",
       "Texas          4409\n",
       "Nebraska       4403\n",
       "Missouri       3628\n",
       "Name: stname, dtype: int64"
      ]
     },
     "execution_count": 22,
     "metadata": {},
     "output_type": "execute_result"
    }
   ],
   "source": [
    "df.stname.value_counts().head(10)"
   ]
  },
  {
   "cell_type": "code",
   "execution_count": 23,
   "id": "edc7223b-7373-4694-bb0b-db512a5c32da",
   "metadata": {},
   "outputs": [],
   "source": [
    "#Income distribution"
   ]
  },
  {
   "cell_type": "code",
   "execution_count": 24,
   "id": "ddee796a-238b-45bd-bf28-3c7b7267e74d",
   "metadata": {},
   "outputs": [
    {
     "data": {
      "text/plain": [
       "<AxesSubplot:>"
      ]
     },
     "execution_count": 24,
     "metadata": {},
     "output_type": "execute_result"
    },
    {
     "data": {
      "image/png": "[encoded data removed]",
      "text/plain": [
       "<Figure size 432x288 with 1 Axes>"
      ]
     },
     "metadata": {
      "needs_background": "light"
     },
     "output_type": "display_data"
    }
   ],
   "source": [
    "df.CensusTractMedFamIncomeAmount.hist()"
   ]
  },
  {
   "cell_type": "code",
   "execution_count": 26,
   "id": "08e375b6-ef18-45e3-8fe8-d2c62f2bc15a",
   "metadata": {},
   "outputs": [
    {
     "data": {
      "text/plain": [
       "<AxesSubplot:>"
      ]
     },
     "execution_count": 26,
     "metadata": {},
     "output_type": "execute_result"
    },
    {
     "data": {
      "image/png": "[encoded data removed]",
      "text/plain": [
       "<Figure size 432x288 with 1 Axes>"
      ]
     },
     "metadata": {
      "needs_background": "light"
     },
     "output_type": "display_data"
    }
   ],
   "source": [
    "df.LocalAreaMedianIncomeAmount.hist()"
   ]
  },
  {
   "cell_type": "code",
   "execution_count": 27,
   "id": "1cda79a7-aea1-439e-9914-3f4ee1a68312",
   "metadata": {},
   "outputs": [
    {
     "data": {
      "text/plain": [
       "<AxesSubplot:>"
      ]
     },
     "execution_count": 27,
     "metadata": {},
     "output_type": "execute_result"
    },
    {
     "data": {
      "image/png": "[encoded data removed]",
      "text/plain": [
       "<Figure size 432x288 with 1 Axes>"
      ]
     },
     "metadata": {
      "needs_background": "light"
     },
     "output_type": "display_data"
    }
   ],
   "source": [
    "df.TotalMonthlyIncomeAmount.hist()"
   ]
  },
  {
   "cell_type": "code",
   "execution_count": 28,
   "id": "a2592bfb-e0c9-4d8c-9f94-67737b65a413",
   "metadata": {},
   "outputs": [
    {
     "data": {
      "text/plain": [
       "<AxesSubplot:>"
      ]
     },
     "execution_count": 28,
     "metadata": {},
     "output_type": "execute_result"
    },
    {
     "data": {
      "image/png": "[encoded data removed]",
      "text/plain": [
       "<Figure size 432x288 with 1 Axes>"
      ]
     },
     "metadata": {
      "needs_background": "light"
     },
     "output_type": "display_data"
    }
   ],
   "source": [
    "df.HUDMedianIncomeAmount.hist()"
   ]
  },
  {
   "cell_type": "code",
   "execution_count": null,
   "id": "234cb66d-105c-4eeb-9b14-98b733a5c372",
   "metadata": {},
   "outputs": [],
   "source": []
  }
 ],
 "metadata": {
  "kernelspec": {
   "display_name": "Python 3",
   "language": "python",
   "name": "python3"
  },
  "language_info": {
   "codemirror_mode": {
    "name": "ipython",
    "version": 3
   },
   "file_extension": ".py",
   "mimetype": "text/x-python",
   "name": "python",
   "nbconvert_exporter": "python",
   "pygments_lexer": "ipython3",
   "version": "3.8.8"
  }
 },
 "nbformat": 4,
 "nbformat_minor": 5
}
