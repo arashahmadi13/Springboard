{
 "cells": [
  {
   "cell_type": "markdown",
   "id": "cb86962e",
   "metadata": {},
   "source": [
    "# Wrangling of Data"
   ]
  },
  {
   "cell_type": "markdown",
   "id": "d6bff3c7",
   "metadata": {},
   "source": [
    "\n",
    "This step focuses on collecting your data, organizing it, and making sure it's well defined. The purpose of this data science project is to come up with a pricing model for mortgage principal amount based on mortgagee's application. \n",
    "\n",
    "This phase consists 4 steps:\n",
    "\n",
    "1. Introduction and Importing packages and dataset\n",
    "2. Data Cleaning\n",
    "3. Outliers\n",
    "4. Summary and future steps for next phase"
   ]
  },
  {
   "cell_type": "markdown",
   "id": "0a946bfc",
   "metadata": {},
   "source": [
    "## 1. Introduction\n",
    "#### History of Dataset\n",
    "\n",
    "The loan-level Public Use Databases (PUDBs) are released annually to meet FHFA’s requirement under 12 U.S.C. 4543 and 4546(d) to publicly disclose data about the Enterprises’ single-family and multifamily mortgage acquisitions.  The datasets supply mortgage lenders, planners, researchers, policymakers, and housing advocates with information concerning the flow of mortgage credit in America’s neighborhoods.  Beginning with data for mortgages acquired in 2018, FHFA has ordered that the PUDBs be expanded to include additional data that is the same as the data definitions used by the regulations implementing the Home Mortgage Disclosure Act, as required by 12 U.S.C. 4543(a)(2) and 4546(d)(1).\n",
    "\n",
    "The PUDB single-family datasets include loan-level records that include data elements on the income, race, and gender of each borrower as well as the census tract location of the property, loan-to-value (LTV) ratio, age of mortgage note, and affordability of the mortgage.  New for 2018 are the inclusion of the borrower’s debt-to-income (DTI) ratio and detailed LTV ratio data at the census tract level.  The PUDB multifamily property-level datasets include information on the unpaid principal balance and type of seller/servicer from which the Enterprise acquired the mortgage.  New for 2018 is the inclusion of property size data at the census tract level.  The multifamily unit-class files also include information on the number and affordability of the units in the property.  Both the single-family and multifamily datasets include indicators of whether the purchases are from “underserved” census tracts, as defined in terms of median income and minority percentage of population.\n",
    "\n",
    "Prior to 2010 the single-family PUDB consisted of three files: Census Tract, National A, and National B files.  With the 2010 PUDB a fourth file, National C, was added to provide information on high-cost mortgages acquired by the Enterprises.  The single-family Census Tract file includes information on the location of the property based on the 2010 Census (beginning in 2012), while the National files contain other information but lack detailed geographic information in order to protect Enterprise proprietary data.  The multifamily datasets also consist of a Census Tract file, and a National file without detailed geographic information."
   ]
  },
  {
   "cell_type": "markdown",
   "id": "82f919cc",
   "metadata": {},
   "source": [
    "#### Imports and Load Data"
   ]
  },
  {
   "cell_type": "code",
   "execution_count": 2,
   "id": "5ead792a",
   "metadata": {},
   "outputs": [],
   "source": [
    "# Import necessary packages for this phase of project\n",
    "\n",
    "import pandas as pd\n",
    "import numpy as np\n",
    "import matplotlib.pyplot as plt\n",
    "import seaborn as sns"
   ]
  },
  {
   "cell_type": "code",
   "execution_count": 3,
   "id": "15a6a226",
   "metadata": {},
   "outputs": [
    {
     "data": {
      "text/html": [
       "<div>\n",
       "<style scoped>\n",
       "    .dataframe tbody tr th:only-of-type {\n",
       "        vertical-align: middle;\n",
       "    }\n",
       "\n",
       "    .dataframe tbody tr th {\n",
       "        vertical-align: top;\n",
       "    }\n",
       "\n",
       "    .dataframe thead th {\n",
       "        text-align: right;\n",
       "    }\n",
       "</style>\n",
       "<table border=\"1\" class=\"dataframe\">\n",
       "  <thead>\n",
       "    <tr style=\"text-align: right;\">\n",
       "      <th></th>\n",
       "      <th>Year</th>\n",
       "      <th>LoanCharacteristicsID</th>\n",
       "      <th>Bank</th>\n",
       "      <th>FIPSStateNumericCode</th>\n",
       "      <th>FIPSCountyCode</th>\n",
       "      <th>CoreBasedStatisticalAreaCode</th>\n",
       "      <th>CensusTractIdentifier</th>\n",
       "      <th>CensusTractMinorityRatioPercent</th>\n",
       "      <th>CensusTractMedFamIncomeAmount</th>\n",
       "      <th>LocalAreaMedianIncomeAmount</th>\n",
       "      <th>...</th>\n",
       "      <th>Borrower1Race3Type</th>\n",
       "      <th>Borrower1Race4Type</th>\n",
       "      <th>Borrower1Race5Type</th>\n",
       "      <th>Borrower2EthnicityType</th>\n",
       "      <th>Borrower2Race2Type</th>\n",
       "      <th>Borrower2Race3Type</th>\n",
       "      <th>Borrower2Race4Type</th>\n",
       "      <th>Borrower2Race5Type</th>\n",
       "      <th>HOEPALoanStatusType</th>\n",
       "      <th>LienPriorityType</th>\n",
       "    </tr>\n",
       "  </thead>\n",
       "  <tbody>\n",
       "    <tr>\n",
       "      <th>0</th>\n",
       "      <td>2019</td>\n",
       "      <td>2407198</td>\n",
       "      <td>Boston</td>\n",
       "      <td>50</td>\n",
       "      <td>7</td>\n",
       "      <td>15540</td>\n",
       "      <td>34.0</td>\n",
       "      <td>4.577</td>\n",
       "      <td>132474</td>\n",
       "      <td>84290</td>\n",
       "      <td>...</td>\n",
       "      <td>7</td>\n",
       "      <td>7</td>\n",
       "      <td>7</td>\n",
       "      <td>5</td>\n",
       "      <td>8</td>\n",
       "      <td>8</td>\n",
       "      <td>8</td>\n",
       "      <td>8</td>\n",
       "      <td>2</td>\n",
       "      <td>1</td>\n",
       "    </tr>\n",
       "    <tr>\n",
       "      <th>1</th>\n",
       "      <td>2019</td>\n",
       "      <td>2407199</td>\n",
       "      <td>Boston</td>\n",
       "      <td>50</td>\n",
       "      <td>7</td>\n",
       "      <td>15540</td>\n",
       "      <td>29.0</td>\n",
       "      <td>3.421</td>\n",
       "      <td>100795</td>\n",
       "      <td>84290</td>\n",
       "      <td>...</td>\n",
       "      <td>7</td>\n",
       "      <td>7</td>\n",
       "      <td>7</td>\n",
       "      <td>2</td>\n",
       "      <td>7</td>\n",
       "      <td>7</td>\n",
       "      <td>7</td>\n",
       "      <td>7</td>\n",
       "      <td>2</td>\n",
       "      <td>1</td>\n",
       "    </tr>\n",
       "    <tr>\n",
       "      <th>2</th>\n",
       "      <td>2019</td>\n",
       "      <td>2407200</td>\n",
       "      <td>Boston</td>\n",
       "      <td>50</td>\n",
       "      <td>15</td>\n",
       "      <td>99999</td>\n",
       "      <td>9532.0</td>\n",
       "      <td>6.152</td>\n",
       "      <td>49625</td>\n",
       "      <td>67566</td>\n",
       "      <td>...</td>\n",
       "      <td>7</td>\n",
       "      <td>7</td>\n",
       "      <td>7</td>\n",
       "      <td>2</td>\n",
       "      <td>7</td>\n",
       "      <td>7</td>\n",
       "      <td>7</td>\n",
       "      <td>7</td>\n",
       "      <td>2</td>\n",
       "      <td>1</td>\n",
       "    </tr>\n",
       "    <tr>\n",
       "      <th>3</th>\n",
       "      <td>2019</td>\n",
       "      <td>2407201</td>\n",
       "      <td>Boston</td>\n",
       "      <td>50</td>\n",
       "      <td>17</td>\n",
       "      <td>30100</td>\n",
       "      <td>9594.0</td>\n",
       "      <td>3.935</td>\n",
       "      <td>62643</td>\n",
       "      <td>67105</td>\n",
       "      <td>...</td>\n",
       "      <td>7</td>\n",
       "      <td>7</td>\n",
       "      <td>7</td>\n",
       "      <td>2</td>\n",
       "      <td>7</td>\n",
       "      <td>7</td>\n",
       "      <td>7</td>\n",
       "      <td>7</td>\n",
       "      <td>2</td>\n",
       "      <td>1</td>\n",
       "    </tr>\n",
       "    <tr>\n",
       "      <th>4</th>\n",
       "      <td>2019</td>\n",
       "      <td>2407202</td>\n",
       "      <td>Boston</td>\n",
       "      <td>23</td>\n",
       "      <td>31</td>\n",
       "      <td>38860</td>\n",
       "      <td>254.0</td>\n",
       "      <td>6.031</td>\n",
       "      <td>87679</td>\n",
       "      <td>76445</td>\n",
       "      <td>...</td>\n",
       "      <td>7</td>\n",
       "      <td>7</td>\n",
       "      <td>7</td>\n",
       "      <td>5</td>\n",
       "      <td>8</td>\n",
       "      <td>8</td>\n",
       "      <td>8</td>\n",
       "      <td>8</td>\n",
       "      <td>2</td>\n",
       "      <td>1</td>\n",
       "    </tr>\n",
       "  </tbody>\n",
       "</table>\n",
       "<p>5 rows × 56 columns</p>\n",
       "</div>"
      ],
      "text/plain": [
       "   Year  LoanCharacteristicsID    Bank  FIPSStateNumericCode  FIPSCountyCode  \\\n",
       "0  2019                2407198  Boston                    50               7   \n",
       "1  2019                2407199  Boston                    50               7   \n",
       "2  2019                2407200  Boston                    50              15   \n",
       "3  2019                2407201  Boston                    50              17   \n",
       "4  2019                2407202  Boston                    23              31   \n",
       "\n",
       "   CoreBasedStatisticalAreaCode  CensusTractIdentifier  \\\n",
       "0                         15540                   34.0   \n",
       "1                         15540                   29.0   \n",
       "2                         99999                 9532.0   \n",
       "3                         30100                 9594.0   \n",
       "4                         38860                  254.0   \n",
       "\n",
       "   CensusTractMinorityRatioPercent  CensusTractMedFamIncomeAmount  \\\n",
       "0                            4.577                         132474   \n",
       "1                            3.421                         100795   \n",
       "2                            6.152                          49625   \n",
       "3                            3.935                          62643   \n",
       "4                            6.031                          87679   \n",
       "\n",
       "   LocalAreaMedianIncomeAmount  ...  Borrower1Race3Type  Borrower1Race4Type  \\\n",
       "0                        84290  ...                   7                   7   \n",
       "1                        84290  ...                   7                   7   \n",
       "2                        67566  ...                   7                   7   \n",
       "3                        67105  ...                   7                   7   \n",
       "4                        76445  ...                   7                   7   \n",
       "\n",
       "   Borrower1Race5Type  Borrower2EthnicityType  Borrower2Race2Type  \\\n",
       "0                   7                       5                   8   \n",
       "1                   7                       2                   7   \n",
       "2                   7                       2                   7   \n",
       "3                   7                       2                   7   \n",
       "4                   7                       5                   8   \n",
       "\n",
       "   Borrower2Race3Type  Borrower2Race4Type  Borrower2Race5Type  \\\n",
       "0                   8                   8                   8   \n",
       "1                   7                   7                   7   \n",
       "2                   7                   7                   7   \n",
       "3                   7                   7                   7   \n",
       "4                   8                   8                   8   \n",
       "\n",
       "   HOEPALoanStatusType  LienPriorityType  \n",
       "0                    2                 1  \n",
       "1                    2                 1  \n",
       "2                    2                 1  \n",
       "3                    2                 1  \n",
       "4                    2                 1  \n",
       "\n",
       "[5 rows x 56 columns]"
      ]
     },
     "execution_count": 3,
     "metadata": {},
     "output_type": "execute_result"
    }
   ],
   "source": [
    "df = pd.read_csv('2019_PUDB_EXPORT_123119.csv')\n",
    "df.head()"
   ]
  },
  {
   "cell_type": "markdown",
   "id": "8766e3ef",
   "metadata": {},
   "source": [
    "## 2. Data Cleaning\n",
    "#### Explore Data "
   ]
  },
  {
   "cell_type": "code",
   "execution_count": 4,
   "id": "5adb0019",
   "metadata": {},
   "outputs": [
    {
     "name": "stdout",
     "output_type": "stream",
     "text": [
      "<class 'pandas.core.frame.DataFrame'>\n",
      "RangeIndex: 89767 entries, 0 to 89766\n",
      "Data columns (total 56 columns):\n",
      " #   Column                           Non-Null Count  Dtype  \n",
      "---  ------                           --------------  -----  \n",
      " 0   Year                             89767 non-null  int64  \n",
      " 1   LoanCharacteristicsID            89767 non-null  int64  \n",
      " 2   Bank                             89767 non-null  object \n",
      " 3   FIPSStateNumericCode             89767 non-null  int64  \n",
      " 4   FIPSCountyCode                   89767 non-null  int64  \n",
      " 5   CoreBasedStatisticalAreaCode     89767 non-null  int64  \n",
      " 6   CensusTractIdentifier            89767 non-null  float64\n",
      " 7   CensusTractMinorityRatioPercent  89767 non-null  float64\n",
      " 8   CensusTractMedFamIncomeAmount    89767 non-null  int64  \n",
      " 9   LocalAreaMedianIncomeAmount      89767 non-null  int64  \n",
      " 10  TotalMonthlyIncomeAmount         89767 non-null  int64  \n",
      " 11  HUDMedianIncomeAmount            89767 non-null  int64  \n",
      " 12  LoanAcquisitionActualUPBAmt      89767 non-null  int64  \n",
      " 13  LTVRatioPercent                  89767 non-null  float64\n",
      " 14  NoteDate                         89767 non-null  int64  \n",
      " 15  LoanAcquistionDate               89767 non-null  int64  \n",
      " 16  LoanPurposeType                  89767 non-null  int64  \n",
      " 17  ProductCategoryName              89767 non-null  int64  \n",
      " 18  MortgageType                     89767 non-null  int64  \n",
      " 19  ScheduledTotalPaymentCount       89767 non-null  int64  \n",
      " 20  LoanAmortizationMaxTermMonths    89767 non-null  int64  \n",
      " 21  MortgageLoanSellerInstType       89767 non-null  int64  \n",
      " 22  BorrowerCount                    89767 non-null  int64  \n",
      " 23  BorrowerFirstTimeHomebuyer       89767 non-null  int64  \n",
      " 24  Borrower1Race1Type               89767 non-null  int64  \n",
      " 25  Borrower2Race1Type               89767 non-null  int64  \n",
      " 26  Borrower1GenderType              89767 non-null  int64  \n",
      " 27  Borrower2GenderType              89767 non-null  int64  \n",
      " 28  Borrower1AgeAtApplicationYears   89767 non-null  int64  \n",
      " 29  Borrower2AgeAtApplicationYears   89767 non-null  int64  \n",
      " 30  PropertyUsageType                89767 non-null  int64  \n",
      " 31  PropertyUnitCount                89767 non-null  int64  \n",
      " 32  NoteRatePercent                  89767 non-null  float64\n",
      " 33  NoteAmount                       89767 non-null  int64  \n",
      " 34  HousingExpenseRatioPercent       89767 non-null  float64\n",
      " 35  TotalDebtExpenseRatioPercent     89767 non-null  float64\n",
      " 36  Borrower1CreditScoreValue        89767 non-null  int64  \n",
      " 37  Borrower2CreditScoreValue        89767 non-null  int64  \n",
      " 38  PMICoveragePercent               89767 non-null  float64\n",
      " 39  EmploymentBorrowerSelfEmployed   89767 non-null  int64  \n",
      " 40  PropertyType                     89767 non-null  object \n",
      " 41  IndexSourceType                  89767 non-null  int64  \n",
      " 42  MarginRatePercent                89767 non-null  int64  \n",
      " 43  PrepaymentPenaltyExpirationDate  89767 non-null  object \n",
      " 44  Borrower1EthnicityType           89767 non-null  int64  \n",
      " 45  Borrower1Race2Type               89767 non-null  int64  \n",
      " 46  Borrower1Race3Type               89767 non-null  int64  \n",
      " 47  Borrower1Race4Type               89767 non-null  int64  \n",
      " 48  Borrower1Race5Type               89767 non-null  int64  \n",
      " 49  Borrower2EthnicityType           89767 non-null  int64  \n",
      " 50  Borrower2Race2Type               89767 non-null  int64  \n",
      " 51  Borrower2Race3Type               89767 non-null  int64  \n",
      " 52  Borrower2Race4Type               89767 non-null  int64  \n",
      " 53  Borrower2Race5Type               89767 non-null  int64  \n",
      " 54  HOEPALoanStatusType              89767 non-null  int64  \n",
      " 55  LienPriorityType                 89767 non-null  int64  \n",
      "dtypes: float64(7), int64(46), object(3)\n",
      "memory usage: 38.4+ MB\n"
     ]
    }
   ],
   "source": [
    "df.info()"
   ]
  },
  {
   "cell_type": "code",
   "execution_count": 5,
   "id": "c286c5fb",
   "metadata": {},
   "outputs": [
    {
     "data": {
      "text/plain": [
       "Year                               0.0\n",
       "LoanCharacteristicsID              0.0\n",
       "Bank                               0.0\n",
       "FIPSStateNumericCode               0.0\n",
       "FIPSCountyCode                     0.0\n",
       "CoreBasedStatisticalAreaCode       0.0\n",
       "CensusTractIdentifier              0.0\n",
       "CensusTractMinorityRatioPercent    0.0\n",
       "CensusTractMedFamIncomeAmount      0.0\n",
       "LocalAreaMedianIncomeAmount        0.0\n",
       "TotalMonthlyIncomeAmount           0.0\n",
       "HUDMedianIncomeAmount              0.0\n",
       "LoanAcquisitionActualUPBAmt        0.0\n",
       "LTVRatioPercent                    0.0\n",
       "NoteDate                           0.0\n",
       "LoanAcquistionDate                 0.0\n",
       "LoanPurposeType                    0.0\n",
       "ProductCategoryName                0.0\n",
       "MortgageType                       0.0\n",
       "ScheduledTotalPaymentCount         0.0\n",
       "LoanAmortizationMaxTermMonths      0.0\n",
       "MortgageLoanSellerInstType         0.0\n",
       "BorrowerCount                      0.0\n",
       "BorrowerFirstTimeHomebuyer         0.0\n",
       "Borrower1Race1Type                 0.0\n",
       "Borrower2Race1Type                 0.0\n",
       "Borrower1GenderType                0.0\n",
       "Borrower2GenderType                0.0\n",
       "Borrower1AgeAtApplicationYears     0.0\n",
       "Borrower2AgeAtApplicationYears     0.0\n",
       "PropertyUsageType                  0.0\n",
       "PropertyUnitCount                  0.0\n",
       "NoteRatePercent                    0.0\n",
       "NoteAmount                         0.0\n",
       "HousingExpenseRatioPercent         0.0\n",
       "TotalDebtExpenseRatioPercent       0.0\n",
       "Borrower1CreditScoreValue          0.0\n",
       "Borrower2CreditScoreValue          0.0\n",
       "PMICoveragePercent                 0.0\n",
       "EmploymentBorrowerSelfEmployed     0.0\n",
       "PropertyType                       0.0\n",
       "IndexSourceType                    0.0\n",
       "MarginRatePercent                  0.0\n",
       "PrepaymentPenaltyExpirationDate    0.0\n",
       "Borrower1EthnicityType             0.0\n",
       "Borrower1Race2Type                 0.0\n",
       "Borrower1Race3Type                 0.0\n",
       "Borrower1Race4Type                 0.0\n",
       "Borrower1Race5Type                 0.0\n",
       "Borrower2EthnicityType             0.0\n",
       "Borrower2Race2Type                 0.0\n",
       "Borrower2Race3Type                 0.0\n",
       "Borrower2Race4Type                 0.0\n",
       "Borrower2Race5Type                 0.0\n",
       "HOEPALoanStatusType                0.0\n",
       "LienPriorityType                   0.0\n",
       "dtype: float64"
      ]
     },
     "execution_count": 5,
     "metadata": {},
     "output_type": "execute_result"
    }
   ],
   "source": [
    "# finding the percentage of missing data\n",
    "df.isnull().sum()/df.count()"
   ]
  },
  {
   "cell_type": "code",
   "execution_count": 6,
   "id": "3e1e2672",
   "metadata": {},
   "outputs": [],
   "source": [
    "# I will create a copy of dataset so we have the original copy if we need it in future.\n",
    "\n",
    "df_copy = df.copy()"
   ]
  },
  {
   "cell_type": "markdown",
   "id": "f9524640",
   "metadata": {},
   "source": [
    "#### Data Cleaning"
   ]
  },
  {
   "cell_type": "markdown",
   "id": "eea5f035",
   "metadata": {},
   "source": [
    "Although the above results suggest that the dataset has no missing data, by looking deeper in the Federal Home Loan Banks documentation attached to this dataset, we can see that some columns will have value like \"999\" or \"99\" for missing or not available data. For example, the \"Borrower1CreditcoreValue\" feature has 9 as missing value. Therefore, each feature must study deeper for better understand and see why the data are missing and how to be dealt. First, let's take a look at the \"object\" data."
   ]
  },
  {
   "cell_type": "code",
   "execution_count": 7,
   "id": "6b9de81d",
   "metadata": {},
   "outputs": [
    {
     "data": {
      "text/html": [
       "<div>\n",
       "<style scoped>\n",
       "    .dataframe tbody tr th:only-of-type {\n",
       "        vertical-align: middle;\n",
       "    }\n",
       "\n",
       "    .dataframe tbody tr th {\n",
       "        vertical-align: top;\n",
       "    }\n",
       "\n",
       "    .dataframe thead th {\n",
       "        text-align: right;\n",
       "    }\n",
       "</style>\n",
       "<table border=\"1\" class=\"dataframe\">\n",
       "  <thead>\n",
       "    <tr style=\"text-align: right;\">\n",
       "      <th></th>\n",
       "      <th>Bank</th>\n",
       "      <th>PropertyType</th>\n",
       "      <th>PrepaymentPenaltyExpirationDate</th>\n",
       "    </tr>\n",
       "  </thead>\n",
       "  <tbody>\n",
       "    <tr>\n",
       "      <th>0</th>\n",
       "      <td>Boston</td>\n",
       "      <td>PT01</td>\n",
       "      <td>9999-12-31</td>\n",
       "    </tr>\n",
       "    <tr>\n",
       "      <th>1</th>\n",
       "      <td>Boston</td>\n",
       "      <td>PT01</td>\n",
       "      <td>9999-12-31</td>\n",
       "    </tr>\n",
       "    <tr>\n",
       "      <th>2</th>\n",
       "      <td>Boston</td>\n",
       "      <td>PT01</td>\n",
       "      <td>9999-12-31</td>\n",
       "    </tr>\n",
       "    <tr>\n",
       "      <th>3</th>\n",
       "      <td>Boston</td>\n",
       "      <td>PT01</td>\n",
       "      <td>9999-12-31</td>\n",
       "    </tr>\n",
       "    <tr>\n",
       "      <th>4</th>\n",
       "      <td>Boston</td>\n",
       "      <td>PT01</td>\n",
       "      <td>9999-12-31</td>\n",
       "    </tr>\n",
       "    <tr>\n",
       "      <th>...</th>\n",
       "      <td>...</td>\n",
       "      <td>...</td>\n",
       "      <td>...</td>\n",
       "    </tr>\n",
       "    <tr>\n",
       "      <th>89762</th>\n",
       "      <td>Topeka</td>\n",
       "      <td>PT01</td>\n",
       "      <td>9999-12-31</td>\n",
       "    </tr>\n",
       "    <tr>\n",
       "      <th>89763</th>\n",
       "      <td>Topeka</td>\n",
       "      <td>PT01</td>\n",
       "      <td>9999-12-31</td>\n",
       "    </tr>\n",
       "    <tr>\n",
       "      <th>89764</th>\n",
       "      <td>Topeka</td>\n",
       "      <td>PT01</td>\n",
       "      <td>9999-12-31</td>\n",
       "    </tr>\n",
       "    <tr>\n",
       "      <th>89765</th>\n",
       "      <td>Topeka</td>\n",
       "      <td>PT01</td>\n",
       "      <td>9999-12-31</td>\n",
       "    </tr>\n",
       "    <tr>\n",
       "      <th>89766</th>\n",
       "      <td>Topeka</td>\n",
       "      <td>PT01</td>\n",
       "      <td>9999-12-31</td>\n",
       "    </tr>\n",
       "  </tbody>\n",
       "</table>\n",
       "<p>89767 rows × 3 columns</p>\n",
       "</div>"
      ],
      "text/plain": [
       "         Bank PropertyType PrepaymentPenaltyExpirationDate\n",
       "0      Boston         PT01                      9999-12-31\n",
       "1      Boston         PT01                      9999-12-31\n",
       "2      Boston         PT01                      9999-12-31\n",
       "3      Boston         PT01                      9999-12-31\n",
       "4      Boston         PT01                      9999-12-31\n",
       "...       ...          ...                             ...\n",
       "89762  Topeka         PT01                      9999-12-31\n",
       "89763  Topeka         PT01                      9999-12-31\n",
       "89764  Topeka         PT01                      9999-12-31\n",
       "89765  Topeka         PT01                      9999-12-31\n",
       "89766  Topeka         PT01                      9999-12-31\n",
       "\n",
       "[89767 rows x 3 columns]"
      ]
     },
     "execution_count": 7,
     "metadata": {},
     "output_type": "execute_result"
    }
   ],
   "source": [
    "df.select_dtypes('object')"
   ]
  },
  {
   "cell_type": "markdown",
   "id": "1cff990c",
   "metadata": {},
   "source": [
    "Since there are only three object type column, we can analyze it deeper to have a better understanding from this type first. To do so, we can see what the values of unique instances  in each column. The reason for that is, by looking at the ablove data, we can see \"PropertyType\" and \"PrepaymentPenaltyExpirationDate\" might have only one unique value.\n",
    "\n",
    "Additionally, \"PrepaymentPenaltyExpirationDate\" values are strange since there is no year 9999 yet. So that might be missing data. "
   ]
  },
  {
   "cell_type": "code",
   "execution_count": 8,
   "id": "65ca7745",
   "metadata": {},
   "outputs": [
    {
     "name": "stdout",
     "output_type": "stream",
     "text": [
      "Chicago          22462\n",
      "Topeka           16093\n",
      "Des Moines       14468\n",
      "Cincinnati       11250\n",
      "Dallas            8069\n",
      "Indianapolis      5677\n",
      "Pittsburgh        4458\n",
      "Boston            2824\n",
      "San Francisco     2487\n",
      "New York          1979\n",
      "Name: Bank, dtype: int64\n"
     ]
    }
   ],
   "source": [
    "print(df.Bank.value_counts())"
   ]
  },
  {
   "cell_type": "code",
   "execution_count": 9,
   "id": "d7340346",
   "metadata": {},
   "outputs": [
    {
     "name": "stdout",
     "output_type": "stream",
     "text": [
      "PT01    67614\n",
      "PT07    15800\n",
      "PT06     4773\n",
      "PT04      739\n",
      "PT03      380\n",
      "PT12      152\n",
      "PT05      113\n",
      "PT09       95\n",
      "PT11       50\n",
      "PT10       35\n",
      "PT08        9\n",
      "PT02        7\n",
      "Name: PropertyType, dtype: int64\n"
     ]
    }
   ],
   "source": [
    "print(df.PropertyType.value_counts())"
   ]
  },
  {
   "cell_type": "markdown",
   "id": "6c2d1f60",
   "metadata": {},
   "source": [
    "We can see that Bank and Property Type columns are fine."
   ]
  },
  {
   "cell_type": "code",
   "execution_count": 10,
   "id": "379a7b12",
   "metadata": {},
   "outputs": [
    {
     "name": "stdout",
     "output_type": "stream",
     "text": [
      "9999-12-31    89767\n",
      "Name: PrepaymentPenaltyExpirationDate, dtype: int64\n"
     ]
    }
   ],
   "source": [
    "print(df.PrepaymentPenaltyExpirationDate.value_counts())"
   ]
  },
  {
   "cell_type": "markdown",
   "id": "403b1f8e",
   "metadata": {},
   "source": [
    "This observation suggests that all of the data in this column are missing. Or by looking at the documents, we can see they report 9999-12- 31 if Prepayment Penalty Expiration Date is not applicable. Therefore, we can drop this column. Besides that, none of our object type data have missing values."
   ]
  },
  {
   "cell_type": "code",
   "execution_count": 11,
   "id": "846e6006",
   "metadata": {},
   "outputs": [],
   "source": [
    "# Droping the PrepaymentPenaltyExpirationDate column\n",
    "\n",
    "df = df.drop('PrepaymentPenaltyExpirationDate', axis=1)"
   ]
  },
  {
   "cell_type": "markdown",
   "id": "71b0d202",
   "metadata": {},
   "source": [
    "Now, we can tackle the numeric columns. although most of our columns are numerics there mostly categorical data. As we can see below, most of the column has less than 11 unique values."
   ]
  },
  {
   "cell_type": "code",
   "execution_count": 12,
   "id": "64b4cf9a",
   "metadata": {
    "scrolled": true
   },
   "outputs": [
    {
     "data": {
      "text/plain": [
       "33"
      ]
     },
     "execution_count": 12,
     "metadata": {},
     "output_type": "execute_result"
    }
   ],
   "source": [
    "num_col = len(df.columns)\n",
    "cat_list = []\n",
    "for i in range(num_col):\n",
    "    if df.iloc[:,i].nunique() < 11:\n",
    "        cat_list.append(df.columns[i])\n",
    "len(cat_list)"
   ]
  },
  {
   "cell_type": "markdown",
   "id": "a1bb77b6",
   "metadata": {},
   "source": [
    "Now it's time to see how our numeric data looks like. \n",
    "\n",
    "To do so, I will divide the numeric features into three different categories:\n",
    "\n",
    "1. categories with only one unique value these columns will only confirm facts. For example, the Year column confrim the fact the dataset only contains the data for 2019.\n",
    "\n",
    "2. The columns with value \"9999, 999, 998 & else\": In this case, we will first replace these values with NaN value and then based on the percentage of missing values decide to keep or drop them accordingly.\n",
    "\n",
    "3. This category is probably the hardest one since it includes data for race of the borrower and in some case there is no second borrower, but also in some case we do not have enough information. Therefore, this category need more attention and we have to dig deeper."
   ]
  },
  {
   "cell_type": "code",
   "execution_count": 13,
   "id": "36591de3",
   "metadata": {},
   "outputs": [
    {
     "data": {
      "text/plain": [
       "1"
      ]
     },
     "execution_count": 13,
     "metadata": {},
     "output_type": "execute_result"
    }
   ],
   "source": [
    "df.Year.nunique()"
   ]
  },
  {
   "cell_type": "markdown",
   "id": "6aace633",
   "metadata": {},
   "source": [
    "The first two columns, Year and Loan ID does not add any information in this project. As mentioned above the year column has only have one value and the loan Id also is a random number where here has no meaning. So let's move to second category.\n",
    "Therefore we will drop them."
   ]
  },
  {
   "cell_type": "code",
   "execution_count": 15,
   "id": "2d67edbb",
   "metadata": {},
   "outputs": [],
   "source": [
    "df = df.drop(['Year', 'LoanCharacteristicsID'], axis=1)"
   ]
  },
  {
   "cell_type": "markdown",
   "id": "ce8df794",
   "metadata": {},
   "source": [
    "Firstly, we will see which column has value \"9\" and then see whether that's a missing value or not."
   ]
  },
  {
   "cell_type": "code",
   "execution_count": 16,
   "id": "ba04a7e1",
   "metadata": {},
   "outputs": [
    {
     "data": {
      "text/plain": [
       "Bank                                   0\n",
       "FIPSStateNumericCode                 305\n",
       "FIPSCountyCode                      1063\n",
       "CoreBasedStatisticalAreaCode           0\n",
       "CensusTractIdentifier                247\n",
       "CensusTractMinorityRatioPercent      501\n",
       "CensusTractMedFamIncomeAmount          0\n",
       "LocalAreaMedianIncomeAmount            0\n",
       "TotalMonthlyIncomeAmount               0\n",
       "HUDMedianIncomeAmount                  0\n",
       "LoanAcquisitionActualUPBAmt            0\n",
       "LTVRatioPercent                        5\n",
       "NoteDate                               0\n",
       "LoanAcquistionDate                     0\n",
       "LoanPurposeType                        0\n",
       "ProductCategoryName                    0\n",
       "MortgageType                           0\n",
       "ScheduledTotalPaymentCount             0\n",
       "LoanAmortizationMaxTermMonths          0\n",
       "MortgageLoanSellerInstType           229\n",
       "BorrowerCount                          0\n",
       "BorrowerFirstTimeHomebuyer             0\n",
       "Borrower1Race1Type                     0\n",
       "Borrower2Race1Type                     0\n",
       "Borrower1GenderType                    0\n",
       "Borrower2GenderType                    0\n",
       "Borrower1AgeAtApplicationYears         0\n",
       "Borrower2AgeAtApplicationYears         0\n",
       "PropertyUsageType                      0\n",
       "PropertyUnitCount                      0\n",
       "NoteRatePercent                        0\n",
       "NoteAmount                             0\n",
       "HousingExpenseRatioPercent           229\n",
       "TotalDebtExpenseRatioPercent          36\n",
       "Borrower1CreditScoreValue            155\n",
       "Borrower2CreditScoreValue          38124\n",
       "PMICoveragePercent                     0\n",
       "EmploymentBorrowerSelfEmployed         0\n",
       "PropertyType                           0\n",
       "IndexSourceType                        0\n",
       "MarginRatePercent                      0\n",
       "Borrower1EthnicityType                 0\n",
       "Borrower1Race2Type                     0\n",
       "Borrower1Race3Type                     0\n",
       "Borrower1Race4Type                     0\n",
       "Borrower1Race5Type                     0\n",
       "Borrower2EthnicityType                 0\n",
       "Borrower2Race2Type                     0\n",
       "Borrower2Race3Type                     0\n",
       "Borrower2Race4Type                     0\n",
       "Borrower2Race5Type                     0\n",
       "HOEPALoanStatusType                    0\n",
       "LienPriorityType                       0\n",
       "dtype: int64"
      ]
     },
     "execution_count": 16,
     "metadata": {},
     "output_type": "execute_result"
    }
   ],
   "source": [
    "df.isin([9]).sum(axis=0)"
   ]
  },
  {
   "cell_type": "markdown",
   "id": "38ccbcab",
   "metadata": {},
   "source": [
    "The first few columns with 9 values are fine since those values represent specific code or a ratio.\n",
    "\n",
    "There are three columns with value 9:\n",
    "\n",
    "1. Mortgage Loan Seller Inst Type\n",
    "        This is not a missing value. As the documentation suggests 9 represent other category\n",
    "       \n",
    "2. Borrower1CreditScoreValue\n",
    "        These values are missing, so we can replace them with nan and then decide to replace or drop them.\n",
    "       \n",
    "3. Borrower2CreditScoreValue\n",
    "        These values are missing or not applicable values, however, they represent almost 40% of data need to dig deeper. "
   ]
  },
  {
   "cell_type": "markdown",
   "id": "bac2daa2",
   "metadata": {},
   "source": [
    "Since Both MortgageLoanSellerInstType and HousingExpenseRatioPercent have a same number of 9 values, I will check to see if the values are related or random. As we see below, they are random."
   ]
  },
  {
   "cell_type": "code",
   "execution_count": 30,
   "id": "f09236a2",
   "metadata": {},
   "outputs": [
    {
     "data": {
      "text/plain": [
       "1    70\n",
       "2    44\n",
       "3     1\n",
       "Name: BorrowerCount, dtype: int64"
      ]
     },
     "execution_count": 30,
     "metadata": {},
     "output_type": "execute_result"
    }
   ],
   "source": [
    "df.loc[(df.Borrower1CreditScoreValue == 9) & (df.Borrower2CreditScoreValue == 9),'BorrowerCount'].value_counts()"
   ]
  },
  {
   "cell_type": "code",
   "execution_count": 13,
   "id": "da8f7a92",
   "metadata": {},
   "outputs": [
    {
     "data": {
      "text/html": [
       "<div>\n",
       "<style scoped>\n",
       "    .dataframe tbody tr th:only-of-type {\n",
       "        vertical-align: middle;\n",
       "    }\n",
       "\n",
       "    .dataframe tbody tr th {\n",
       "        vertical-align: top;\n",
       "    }\n",
       "\n",
       "    .dataframe thead th {\n",
       "        text-align: right;\n",
       "    }\n",
       "</style>\n",
       "<table border=\"1\" class=\"dataframe\">\n",
       "  <thead>\n",
       "    <tr style=\"text-align: right;\">\n",
       "      <th></th>\n",
       "      <th>Year</th>\n",
       "      <th>LoanCharacteristicsID</th>\n",
       "      <th>Bank</th>\n",
       "      <th>FIPSStateNumericCode</th>\n",
       "      <th>FIPSCountyCode</th>\n",
       "      <th>CoreBasedStatisticalAreaCode</th>\n",
       "      <th>CensusTractIdentifier</th>\n",
       "      <th>CensusTractMinorityRatioPercent</th>\n",
       "      <th>CensusTractMedFamIncomeAmount</th>\n",
       "      <th>LocalAreaMedianIncomeAmount</th>\n",
       "      <th>...</th>\n",
       "      <th>Borrower1Race3Type</th>\n",
       "      <th>Borrower1Race4Type</th>\n",
       "      <th>Borrower1Race5Type</th>\n",
       "      <th>Borrower2EthnicityType</th>\n",
       "      <th>Borrower2Race2Type</th>\n",
       "      <th>Borrower2Race3Type</th>\n",
       "      <th>Borrower2Race4Type</th>\n",
       "      <th>Borrower2Race5Type</th>\n",
       "      <th>HOEPALoanStatusType</th>\n",
       "      <th>LienPriorityType</th>\n",
       "    </tr>\n",
       "  </thead>\n",
       "  <tbody>\n",
       "    <tr>\n",
       "      <th>827</th>\n",
       "      <td>2019</td>\n",
       "      <td>2422414</td>\n",
       "      <td>Boston</td>\n",
       "      <td>9</td>\n",
       "      <td>3</td>\n",
       "      <td>25540</td>\n",
       "      <td>4622.01</td>\n",
       "      <td>11.168</td>\n",
       "      <td>142763</td>\n",
       "      <td>92999</td>\n",
       "      <td>...</td>\n",
       "      <td>7</td>\n",
       "      <td>7</td>\n",
       "      <td>7</td>\n",
       "      <td>2</td>\n",
       "      <td>7</td>\n",
       "      <td>7</td>\n",
       "      <td>7</td>\n",
       "      <td>7</td>\n",
       "      <td>2</td>\n",
       "      <td>1</td>\n",
       "    </tr>\n",
       "    <tr>\n",
       "      <th>45627</th>\n",
       "      <td>2019</td>\n",
       "      <td>2413400</td>\n",
       "      <td>Des Moines</td>\n",
       "      <td>46</td>\n",
       "      <td>83</td>\n",
       "      <td>43620</td>\n",
       "      <td>101.02</td>\n",
       "      <td>6.489</td>\n",
       "      <td>106125</td>\n",
       "      <td>74891</td>\n",
       "      <td>...</td>\n",
       "      <td>7</td>\n",
       "      <td>7</td>\n",
       "      <td>7</td>\n",
       "      <td>2</td>\n",
       "      <td>7</td>\n",
       "      <td>7</td>\n",
       "      <td>7</td>\n",
       "      <td>7</td>\n",
       "      <td>2</td>\n",
       "      <td>1</td>\n",
       "    </tr>\n",
       "    <tr>\n",
       "      <th>45628</th>\n",
       "      <td>2019</td>\n",
       "      <td>2413401</td>\n",
       "      <td>Des Moines</td>\n",
       "      <td>46</td>\n",
       "      <td>87</td>\n",
       "      <td>43620</td>\n",
       "      <td>9646.00</td>\n",
       "      <td>2.179</td>\n",
       "      <td>70208</td>\n",
       "      <td>74891</td>\n",
       "      <td>...</td>\n",
       "      <td>7</td>\n",
       "      <td>7</td>\n",
       "      <td>7</td>\n",
       "      <td>2</td>\n",
       "      <td>7</td>\n",
       "      <td>7</td>\n",
       "      <td>7</td>\n",
       "      <td>7</td>\n",
       "      <td>2</td>\n",
       "      <td>1</td>\n",
       "    </tr>\n",
       "    <tr>\n",
       "      <th>45629</th>\n",
       "      <td>2019</td>\n",
       "      <td>2413402</td>\n",
       "      <td>Des Moines</td>\n",
       "      <td>46</td>\n",
       "      <td>125</td>\n",
       "      <td>43620</td>\n",
       "      <td>9651.00</td>\n",
       "      <td>4.220</td>\n",
       "      <td>70216</td>\n",
       "      <td>74891</td>\n",
       "      <td>...</td>\n",
       "      <td>7</td>\n",
       "      <td>7</td>\n",
       "      <td>7</td>\n",
       "      <td>5</td>\n",
       "      <td>8</td>\n",
       "      <td>8</td>\n",
       "      <td>8</td>\n",
       "      <td>8</td>\n",
       "      <td>2</td>\n",
       "      <td>1</td>\n",
       "    </tr>\n",
       "    <tr>\n",
       "      <th>45630</th>\n",
       "      <td>2019</td>\n",
       "      <td>2413403</td>\n",
       "      <td>Des Moines</td>\n",
       "      <td>46</td>\n",
       "      <td>29</td>\n",
       "      <td>47980</td>\n",
       "      <td>9541.00</td>\n",
       "      <td>3.565</td>\n",
       "      <td>72045</td>\n",
       "      <td>69515</td>\n",
       "      <td>...</td>\n",
       "      <td>7</td>\n",
       "      <td>7</td>\n",
       "      <td>7</td>\n",
       "      <td>2</td>\n",
       "      <td>7</td>\n",
       "      <td>7</td>\n",
       "      <td>7</td>\n",
       "      <td>7</td>\n",
       "      <td>2</td>\n",
       "      <td>1</td>\n",
       "    </tr>\n",
       "    <tr>\n",
       "      <th>...</th>\n",
       "      <td>...</td>\n",
       "      <td>...</td>\n",
       "      <td>...</td>\n",
       "      <td>...</td>\n",
       "      <td>...</td>\n",
       "      <td>...</td>\n",
       "      <td>...</td>\n",
       "      <td>...</td>\n",
       "      <td>...</td>\n",
       "      <td>...</td>\n",
       "      <td>...</td>\n",
       "      <td>...</td>\n",
       "      <td>...</td>\n",
       "      <td>...</td>\n",
       "      <td>...</td>\n",
       "      <td>...</td>\n",
       "      <td>...</td>\n",
       "      <td>...</td>\n",
       "      <td>...</td>\n",
       "      <td>...</td>\n",
       "      <td>...</td>\n",
       "    </tr>\n",
       "    <tr>\n",
       "      <th>85566</th>\n",
       "      <td>2019</td>\n",
       "      <td>2487770</td>\n",
       "      <td>Topeka</td>\n",
       "      <td>20</td>\n",
       "      <td>131</td>\n",
       "      <td>99999</td>\n",
       "      <td>4802.00</td>\n",
       "      <td>2.025</td>\n",
       "      <td>70268</td>\n",
       "      <td>72823</td>\n",
       "      <td>...</td>\n",
       "      <td>7</td>\n",
       "      <td>7</td>\n",
       "      <td>7</td>\n",
       "      <td>5</td>\n",
       "      <td>8</td>\n",
       "      <td>8</td>\n",
       "      <td>8</td>\n",
       "      <td>8</td>\n",
       "      <td>2</td>\n",
       "      <td>1</td>\n",
       "    </tr>\n",
       "    <tr>\n",
       "      <th>85567</th>\n",
       "      <td>2019</td>\n",
       "      <td>2487771</td>\n",
       "      <td>Topeka</td>\n",
       "      <td>20</td>\n",
       "      <td>131</td>\n",
       "      <td>99999</td>\n",
       "      <td>4802.00</td>\n",
       "      <td>2.025</td>\n",
       "      <td>70268</td>\n",
       "      <td>72823</td>\n",
       "      <td>...</td>\n",
       "      <td>7</td>\n",
       "      <td>7</td>\n",
       "      <td>7</td>\n",
       "      <td>2</td>\n",
       "      <td>7</td>\n",
       "      <td>7</td>\n",
       "      <td>7</td>\n",
       "      <td>7</td>\n",
       "      <td>2</td>\n",
       "      <td>1</td>\n",
       "    </tr>\n",
       "    <tr>\n",
       "      <th>85568</th>\n",
       "      <td>2019</td>\n",
       "      <td>2487772</td>\n",
       "      <td>Topeka</td>\n",
       "      <td>20</td>\n",
       "      <td>131</td>\n",
       "      <td>99999</td>\n",
       "      <td>4802.00</td>\n",
       "      <td>2.025</td>\n",
       "      <td>70268</td>\n",
       "      <td>72823</td>\n",
       "      <td>...</td>\n",
       "      <td>7</td>\n",
       "      <td>7</td>\n",
       "      <td>7</td>\n",
       "      <td>2</td>\n",
       "      <td>7</td>\n",
       "      <td>7</td>\n",
       "      <td>7</td>\n",
       "      <td>7</td>\n",
       "      <td>2</td>\n",
       "      <td>1</td>\n",
       "    </tr>\n",
       "    <tr>\n",
       "      <th>85569</th>\n",
       "      <td>2019</td>\n",
       "      <td>2487773</td>\n",
       "      <td>Topeka</td>\n",
       "      <td>20</td>\n",
       "      <td>131</td>\n",
       "      <td>99999</td>\n",
       "      <td>4803.00</td>\n",
       "      <td>4.329</td>\n",
       "      <td>71196</td>\n",
       "      <td>72823</td>\n",
       "      <td>...</td>\n",
       "      <td>7</td>\n",
       "      <td>7</td>\n",
       "      <td>7</td>\n",
       "      <td>2</td>\n",
       "      <td>7</td>\n",
       "      <td>7</td>\n",
       "      <td>7</td>\n",
       "      <td>7</td>\n",
       "      <td>2</td>\n",
       "      <td>1</td>\n",
       "    </tr>\n",
       "    <tr>\n",
       "      <th>85570</th>\n",
       "      <td>2019</td>\n",
       "      <td>2487774</td>\n",
       "      <td>Topeka</td>\n",
       "      <td>20</td>\n",
       "      <td>117</td>\n",
       "      <td>99999</td>\n",
       "      <td>605.10</td>\n",
       "      <td>4.636</td>\n",
       "      <td>60479</td>\n",
       "      <td>62699</td>\n",
       "      <td>...</td>\n",
       "      <td>7</td>\n",
       "      <td>7</td>\n",
       "      <td>7</td>\n",
       "      <td>2</td>\n",
       "      <td>7</td>\n",
       "      <td>7</td>\n",
       "      <td>7</td>\n",
       "      <td>7</td>\n",
       "      <td>2</td>\n",
       "      <td>1</td>\n",
       "    </tr>\n",
       "  </tbody>\n",
       "</table>\n",
       "<p>229 rows × 55 columns</p>\n",
       "</div>"
      ],
      "text/plain": [
       "       Year  LoanCharacteristicsID        Bank  FIPSStateNumericCode  \\\n",
       "827    2019                2422414      Boston                     9   \n",
       "45627  2019                2413400  Des Moines                    46   \n",
       "45628  2019                2413401  Des Moines                    46   \n",
       "45629  2019                2413402  Des Moines                    46   \n",
       "45630  2019                2413403  Des Moines                    46   \n",
       "...     ...                    ...         ...                   ...   \n",
       "85566  2019                2487770      Topeka                    20   \n",
       "85567  2019                2487771      Topeka                    20   \n",
       "85568  2019                2487772      Topeka                    20   \n",
       "85569  2019                2487773      Topeka                    20   \n",
       "85570  2019                2487774      Topeka                    20   \n",
       "\n",
       "       FIPSCountyCode  CoreBasedStatisticalAreaCode  CensusTractIdentifier  \\\n",
       "827                 3                         25540                4622.01   \n",
       "45627              83                         43620                 101.02   \n",
       "45628              87                         43620                9646.00   \n",
       "45629             125                         43620                9651.00   \n",
       "45630              29                         47980                9541.00   \n",
       "...               ...                           ...                    ...   \n",
       "85566             131                         99999                4802.00   \n",
       "85567             131                         99999                4802.00   \n",
       "85568             131                         99999                4802.00   \n",
       "85569             131                         99999                4803.00   \n",
       "85570             117                         99999                 605.10   \n",
       "\n",
       "       CensusTractMinorityRatioPercent  CensusTractMedFamIncomeAmount  \\\n",
       "827                             11.168                         142763   \n",
       "45627                            6.489                         106125   \n",
       "45628                            2.179                          70208   \n",
       "45629                            4.220                          70216   \n",
       "45630                            3.565                          72045   \n",
       "...                                ...                            ...   \n",
       "85566                            2.025                          70268   \n",
       "85567                            2.025                          70268   \n",
       "85568                            2.025                          70268   \n",
       "85569                            4.329                          71196   \n",
       "85570                            4.636                          60479   \n",
       "\n",
       "       LocalAreaMedianIncomeAmount  ...  Borrower1Race3Type  \\\n",
       "827                          92999  ...                   7   \n",
       "45627                        74891  ...                   7   \n",
       "45628                        74891  ...                   7   \n",
       "45629                        74891  ...                   7   \n",
       "45630                        69515  ...                   7   \n",
       "...                            ...  ...                 ...   \n",
       "85566                        72823  ...                   7   \n",
       "85567                        72823  ...                   7   \n",
       "85568                        72823  ...                   7   \n",
       "85569                        72823  ...                   7   \n",
       "85570                        62699  ...                   7   \n",
       "\n",
       "       Borrower1Race4Type  Borrower1Race5Type  Borrower2EthnicityType  \\\n",
       "827                     7                   7                       2   \n",
       "45627                   7                   7                       2   \n",
       "45628                   7                   7                       2   \n",
       "45629                   7                   7                       5   \n",
       "45630                   7                   7                       2   \n",
       "...                   ...                 ...                     ...   \n",
       "85566                   7                   7                       5   \n",
       "85567                   7                   7                       2   \n",
       "85568                   7                   7                       2   \n",
       "85569                   7                   7                       2   \n",
       "85570                   7                   7                       2   \n",
       "\n",
       "       Borrower2Race2Type  Borrower2Race3Type  Borrower2Race4Type  \\\n",
       "827                     7                   7                   7   \n",
       "45627                   7                   7                   7   \n",
       "45628                   7                   7                   7   \n",
       "45629                   8                   8                   8   \n",
       "45630                   7                   7                   7   \n",
       "...                   ...                 ...                 ...   \n",
       "85566                   8                   8                   8   \n",
       "85567                   7                   7                   7   \n",
       "85568                   7                   7                   7   \n",
       "85569                   7                   7                   7   \n",
       "85570                   7                   7                   7   \n",
       "\n",
       "       Borrower2Race5Type  HOEPALoanStatusType  LienPriorityType  \n",
       "827                     7                    2                 1  \n",
       "45627                   7                    2                 1  \n",
       "45628                   7                    2                 1  \n",
       "45629                   8                    2                 1  \n",
       "45630                   7                    2                 1  \n",
       "...                   ...                  ...               ...  \n",
       "85566                   8                    2                 1  \n",
       "85567                   7                    2                 1  \n",
       "85568                   7                    2                 1  \n",
       "85569                   7                    2                 1  \n",
       "85570                   7                    2                 1  \n",
       "\n",
       "[229 rows x 55 columns]"
      ]
     },
     "execution_count": 13,
     "metadata": {},
     "output_type": "execute_result"
    }
   ],
   "source": [
    "df[df.MortgageLoanSellerInstType  == 9]"
   ]
  },
  {
   "cell_type": "code",
   "execution_count": 14,
   "id": "3f2407b2",
   "metadata": {},
   "outputs": [
    {
     "data": {
      "text/html": [
       "<div>\n",
       "<style scoped>\n",
       "    .dataframe tbody tr th:only-of-type {\n",
       "        vertical-align: middle;\n",
       "    }\n",
       "\n",
       "    .dataframe tbody tr th {\n",
       "        vertical-align: top;\n",
       "    }\n",
       "\n",
       "    .dataframe thead th {\n",
       "        text-align: right;\n",
       "    }\n",
       "</style>\n",
       "<table border=\"1\" class=\"dataframe\">\n",
       "  <thead>\n",
       "    <tr style=\"text-align: right;\">\n",
       "      <th></th>\n",
       "      <th>Year</th>\n",
       "      <th>LoanCharacteristicsID</th>\n",
       "      <th>Bank</th>\n",
       "      <th>FIPSStateNumericCode</th>\n",
       "      <th>FIPSCountyCode</th>\n",
       "      <th>CoreBasedStatisticalAreaCode</th>\n",
       "      <th>CensusTractIdentifier</th>\n",
       "      <th>CensusTractMinorityRatioPercent</th>\n",
       "      <th>CensusTractMedFamIncomeAmount</th>\n",
       "      <th>LocalAreaMedianIncomeAmount</th>\n",
       "      <th>...</th>\n",
       "      <th>Borrower1Race3Type</th>\n",
       "      <th>Borrower1Race4Type</th>\n",
       "      <th>Borrower1Race5Type</th>\n",
       "      <th>Borrower2EthnicityType</th>\n",
       "      <th>Borrower2Race2Type</th>\n",
       "      <th>Borrower2Race3Type</th>\n",
       "      <th>Borrower2Race4Type</th>\n",
       "      <th>Borrower2Race5Type</th>\n",
       "      <th>HOEPALoanStatusType</th>\n",
       "      <th>LienPriorityType</th>\n",
       "    </tr>\n",
       "  </thead>\n",
       "  <tbody>\n",
       "    <tr>\n",
       "      <th>4835</th>\n",
       "      <td>2019</td>\n",
       "      <td>2409784</td>\n",
       "      <td>Chicago</td>\n",
       "      <td>22</td>\n",
       "      <td>105</td>\n",
       "      <td>25220</td>\n",
       "      <td>9547.00</td>\n",
       "      <td>18.881</td>\n",
       "      <td>67675</td>\n",
       "      <td>55729</td>\n",
       "      <td>...</td>\n",
       "      <td>7</td>\n",
       "      <td>7</td>\n",
       "      <td>7</td>\n",
       "      <td>5</td>\n",
       "      <td>8</td>\n",
       "      <td>8</td>\n",
       "      <td>8</td>\n",
       "      <td>8</td>\n",
       "      <td>2</td>\n",
       "      <td>1</td>\n",
       "    </tr>\n",
       "    <tr>\n",
       "      <th>12597</th>\n",
       "      <td>2019</td>\n",
       "      <td>2445407</td>\n",
       "      <td>Chicago</td>\n",
       "      <td>17</td>\n",
       "      <td>177</td>\n",
       "      <td>23300</td>\n",
       "      <td>2.00</td>\n",
       "      <td>2.171</td>\n",
       "      <td>63009</td>\n",
       "      <td>62123</td>\n",
       "      <td>...</td>\n",
       "      <td>7</td>\n",
       "      <td>7</td>\n",
       "      <td>7</td>\n",
       "      <td>5</td>\n",
       "      <td>8</td>\n",
       "      <td>8</td>\n",
       "      <td>8</td>\n",
       "      <td>8</td>\n",
       "      <td>2</td>\n",
       "      <td>1</td>\n",
       "    </tr>\n",
       "    <tr>\n",
       "      <th>13162</th>\n",
       "      <td>2019</td>\n",
       "      <td>2445972</td>\n",
       "      <td>Chicago</td>\n",
       "      <td>17</td>\n",
       "      <td>179</td>\n",
       "      <td>37900</td>\n",
       "      <td>216.03</td>\n",
       "      <td>3.686</td>\n",
       "      <td>113164</td>\n",
       "      <td>72677</td>\n",
       "      <td>...</td>\n",
       "      <td>7</td>\n",
       "      <td>7</td>\n",
       "      <td>7</td>\n",
       "      <td>2</td>\n",
       "      <td>7</td>\n",
       "      <td>7</td>\n",
       "      <td>7</td>\n",
       "      <td>7</td>\n",
       "      <td>2</td>\n",
       "      <td>1</td>\n",
       "    </tr>\n",
       "    <tr>\n",
       "      <th>17356</th>\n",
       "      <td>2019</td>\n",
       "      <td>2475474</td>\n",
       "      <td>Chicago</td>\n",
       "      <td>55</td>\n",
       "      <td>85</td>\n",
       "      <td>99999</td>\n",
       "      <td>9709.00</td>\n",
       "      <td>5.290</td>\n",
       "      <td>65313</td>\n",
       "      <td>66336</td>\n",
       "      <td>...</td>\n",
       "      <td>7</td>\n",
       "      <td>7</td>\n",
       "      <td>7</td>\n",
       "      <td>2</td>\n",
       "      <td>7</td>\n",
       "      <td>7</td>\n",
       "      <td>7</td>\n",
       "      <td>7</td>\n",
       "      <td>2</td>\n",
       "      <td>1</td>\n",
       "    </tr>\n",
       "    <tr>\n",
       "      <th>18053</th>\n",
       "      <td>2019</td>\n",
       "      <td>2476171</td>\n",
       "      <td>Chicago</td>\n",
       "      <td>55</td>\n",
       "      <td>113</td>\n",
       "      <td>99999</td>\n",
       "      <td>1005.00</td>\n",
       "      <td>4.066</td>\n",
       "      <td>67917</td>\n",
       "      <td>64707</td>\n",
       "      <td>...</td>\n",
       "      <td>7</td>\n",
       "      <td>7</td>\n",
       "      <td>7</td>\n",
       "      <td>5</td>\n",
       "      <td>8</td>\n",
       "      <td>8</td>\n",
       "      <td>8</td>\n",
       "      <td>8</td>\n",
       "      <td>2</td>\n",
       "      <td>1</td>\n",
       "    </tr>\n",
       "    <tr>\n",
       "      <th>...</th>\n",
       "      <td>...</td>\n",
       "      <td>...</td>\n",
       "      <td>...</td>\n",
       "      <td>...</td>\n",
       "      <td>...</td>\n",
       "      <td>...</td>\n",
       "      <td>...</td>\n",
       "      <td>...</td>\n",
       "      <td>...</td>\n",
       "      <td>...</td>\n",
       "      <td>...</td>\n",
       "      <td>...</td>\n",
       "      <td>...</td>\n",
       "      <td>...</td>\n",
       "      <td>...</td>\n",
       "      <td>...</td>\n",
       "      <td>...</td>\n",
       "      <td>...</td>\n",
       "      <td>...</td>\n",
       "      <td>...</td>\n",
       "      <td>...</td>\n",
       "    </tr>\n",
       "    <tr>\n",
       "      <th>60112</th>\n",
       "      <td>2019</td>\n",
       "      <td>2407158</td>\n",
       "      <td>Indianapolis</td>\n",
       "      <td>18</td>\n",
       "      <td>59</td>\n",
       "      <td>26900</td>\n",
       "      <td>4110.00</td>\n",
       "      <td>7.510</td>\n",
       "      <td>72021</td>\n",
       "      <td>66803</td>\n",
       "      <td>...</td>\n",
       "      <td>7</td>\n",
       "      <td>7</td>\n",
       "      <td>7</td>\n",
       "      <td>2</td>\n",
       "      <td>7</td>\n",
       "      <td>7</td>\n",
       "      <td>7</td>\n",
       "      <td>7</td>\n",
       "      <td>2</td>\n",
       "      <td>1</td>\n",
       "    </tr>\n",
       "    <tr>\n",
       "      <th>69743</th>\n",
       "      <td>2019</td>\n",
       "      <td>2483733</td>\n",
       "      <td>Pittsburgh</td>\n",
       "      <td>42</td>\n",
       "      <td>127</td>\n",
       "      <td>99999</td>\n",
       "      <td>9606.00</td>\n",
       "      <td>5.441</td>\n",
       "      <td>64873</td>\n",
       "      <td>64992</td>\n",
       "      <td>...</td>\n",
       "      <td>7</td>\n",
       "      <td>7</td>\n",
       "      <td>7</td>\n",
       "      <td>2</td>\n",
       "      <td>7</td>\n",
       "      <td>7</td>\n",
       "      <td>7</td>\n",
       "      <td>7</td>\n",
       "      <td>2</td>\n",
       "      <td>1</td>\n",
       "    </tr>\n",
       "    <tr>\n",
       "      <th>73936</th>\n",
       "      <td>2019</td>\n",
       "      <td>2415092</td>\n",
       "      <td>Topeka</td>\n",
       "      <td>40</td>\n",
       "      <td>35</td>\n",
       "      <td>99999</td>\n",
       "      <td>3732.00</td>\n",
       "      <td>33.002</td>\n",
       "      <td>54911</td>\n",
       "      <td>52768</td>\n",
       "      <td>...</td>\n",
       "      <td>7</td>\n",
       "      <td>7</td>\n",
       "      <td>7</td>\n",
       "      <td>2</td>\n",
       "      <td>7</td>\n",
       "      <td>7</td>\n",
       "      <td>7</td>\n",
       "      <td>7</td>\n",
       "      <td>2</td>\n",
       "      <td>1</td>\n",
       "    </tr>\n",
       "    <tr>\n",
       "      <th>79325</th>\n",
       "      <td>2019</td>\n",
       "      <td>2460250</td>\n",
       "      <td>Topeka</td>\n",
       "      <td>8</td>\n",
       "      <td>87</td>\n",
       "      <td>22820</td>\n",
       "      <td>4.00</td>\n",
       "      <td>39.163</td>\n",
       "      <td>48068</td>\n",
       "      <td>64651</td>\n",
       "      <td>...</td>\n",
       "      <td>7</td>\n",
       "      <td>7</td>\n",
       "      <td>7</td>\n",
       "      <td>2</td>\n",
       "      <td>7</td>\n",
       "      <td>7</td>\n",
       "      <td>7</td>\n",
       "      <td>7</td>\n",
       "      <td>2</td>\n",
       "      <td>1</td>\n",
       "    </tr>\n",
       "    <tr>\n",
       "      <th>86159</th>\n",
       "      <td>2019</td>\n",
       "      <td>2488363</td>\n",
       "      <td>Topeka</td>\n",
       "      <td>20</td>\n",
       "      <td>177</td>\n",
       "      <td>45820</td>\n",
       "      <td>34.00</td>\n",
       "      <td>7.715</td>\n",
       "      <td>90719</td>\n",
       "      <td>69072</td>\n",
       "      <td>...</td>\n",
       "      <td>7</td>\n",
       "      <td>7</td>\n",
       "      <td>7</td>\n",
       "      <td>2</td>\n",
       "      <td>7</td>\n",
       "      <td>7</td>\n",
       "      <td>7</td>\n",
       "      <td>7</td>\n",
       "      <td>2</td>\n",
       "      <td>1</td>\n",
       "    </tr>\n",
       "  </tbody>\n",
       "</table>\n",
       "<p>229 rows × 55 columns</p>\n",
       "</div>"
      ],
      "text/plain": [
       "       Year  LoanCharacteristicsID          Bank  FIPSStateNumericCode  \\\n",
       "4835   2019                2409784       Chicago                    22   \n",
       "12597  2019                2445407       Chicago                    17   \n",
       "13162  2019                2445972       Chicago                    17   \n",
       "17356  2019                2475474       Chicago                    55   \n",
       "18053  2019                2476171       Chicago                    55   \n",
       "...     ...                    ...           ...                   ...   \n",
       "60112  2019                2407158  Indianapolis                    18   \n",
       "69743  2019                2483733    Pittsburgh                    42   \n",
       "73936  2019                2415092        Topeka                    40   \n",
       "79325  2019                2460250        Topeka                     8   \n",
       "86159  2019                2488363        Topeka                    20   \n",
       "\n",
       "       FIPSCountyCode  CoreBasedStatisticalAreaCode  CensusTractIdentifier  \\\n",
       "4835              105                         25220                9547.00   \n",
       "12597             177                         23300                   2.00   \n",
       "13162             179                         37900                 216.03   \n",
       "17356              85                         99999                9709.00   \n",
       "18053             113                         99999                1005.00   \n",
       "...               ...                           ...                    ...   \n",
       "60112              59                         26900                4110.00   \n",
       "69743             127                         99999                9606.00   \n",
       "73936              35                         99999                3732.00   \n",
       "79325              87                         22820                   4.00   \n",
       "86159             177                         45820                  34.00   \n",
       "\n",
       "       CensusTractMinorityRatioPercent  CensusTractMedFamIncomeAmount  \\\n",
       "4835                            18.881                          67675   \n",
       "12597                            2.171                          63009   \n",
       "13162                            3.686                         113164   \n",
       "17356                            5.290                          65313   \n",
       "18053                            4.066                          67917   \n",
       "...                                ...                            ...   \n",
       "60112                            7.510                          72021   \n",
       "69743                            5.441                          64873   \n",
       "73936                           33.002                          54911   \n",
       "79325                           39.163                          48068   \n",
       "86159                            7.715                          90719   \n",
       "\n",
       "       LocalAreaMedianIncomeAmount  ...  Borrower1Race3Type  \\\n",
       "4835                         55729  ...                   7   \n",
       "12597                        62123  ...                   7   \n",
       "13162                        72677  ...                   7   \n",
       "17356                        66336  ...                   7   \n",
       "18053                        64707  ...                   7   \n",
       "...                            ...  ...                 ...   \n",
       "60112                        66803  ...                   7   \n",
       "69743                        64992  ...                   7   \n",
       "73936                        52768  ...                   7   \n",
       "79325                        64651  ...                   7   \n",
       "86159                        69072  ...                   7   \n",
       "\n",
       "       Borrower1Race4Type  Borrower1Race5Type  Borrower2EthnicityType  \\\n",
       "4835                    7                   7                       5   \n",
       "12597                   7                   7                       5   \n",
       "13162                   7                   7                       2   \n",
       "17356                   7                   7                       2   \n",
       "18053                   7                   7                       5   \n",
       "...                   ...                 ...                     ...   \n",
       "60112                   7                   7                       2   \n",
       "69743                   7                   7                       2   \n",
       "73936                   7                   7                       2   \n",
       "79325                   7                   7                       2   \n",
       "86159                   7                   7                       2   \n",
       "\n",
       "       Borrower2Race2Type  Borrower2Race3Type  Borrower2Race4Type  \\\n",
       "4835                    8                   8                   8   \n",
       "12597                   8                   8                   8   \n",
       "13162                   7                   7                   7   \n",
       "17356                   7                   7                   7   \n",
       "18053                   8                   8                   8   \n",
       "...                   ...                 ...                 ...   \n",
       "60112                   7                   7                   7   \n",
       "69743                   7                   7                   7   \n",
       "73936                   7                   7                   7   \n",
       "79325                   7                   7                   7   \n",
       "86159                   7                   7                   7   \n",
       "\n",
       "       Borrower2Race5Type  HOEPALoanStatusType  LienPriorityType  \n",
       "4835                    8                    2                 1  \n",
       "12597                   8                    2                 1  \n",
       "13162                   7                    2                 1  \n",
       "17356                   7                    2                 1  \n",
       "18053                   8                    2                 1  \n",
       "...                   ...                  ...               ...  \n",
       "60112                   7                    2                 1  \n",
       "69743                   7                    2                 1  \n",
       "73936                   7                    2                 1  \n",
       "79325                   7                    2                 1  \n",
       "86159                   7                    2                 1  \n",
       "\n",
       "[229 rows x 55 columns]"
      ]
     },
     "execution_count": 14,
     "metadata": {},
     "output_type": "execute_result"
    }
   ],
   "source": [
    "df[df.HousingExpenseRatioPercent  == 9]"
   ]
  },
  {
   "cell_type": "markdown",
   "id": "71b09280",
   "metadata": {},
   "source": [
    "Secondly, we will see which column has value \"99\" and then see whether that's a missing value or not."
   ]
  },
  {
   "cell_type": "code",
   "execution_count": 15,
   "id": "11c6160f",
   "metadata": {},
   "outputs": [
    {
     "data": {
      "text/plain": [
       "Year                                   0\n",
       "LoanCharacteristicsID                  0\n",
       "Bank                                   0\n",
       "FIPSStateNumericCode                   0\n",
       "FIPSCountyCode                       978\n",
       "CoreBasedStatisticalAreaCode           0\n",
       "CensusTractIdentifier                 47\n",
       "CensusTractMinorityRatioPercent        3\n",
       "CensusTractMedFamIncomeAmount          0\n",
       "LocalAreaMedianIncomeAmount            0\n",
       "TotalMonthlyIncomeAmount               0\n",
       "HUDMedianIncomeAmount                  0\n",
       "LoanAcquisitionActualUPBAmt            0\n",
       "LTVRatioPercent                      708\n",
       "NoteDate                               0\n",
       "LoanAcquistionDate                     0\n",
       "LoanPurposeType                        0\n",
       "ProductCategoryName                    0\n",
       "MortgageType                           0\n",
       "ScheduledTotalPaymentCount             1\n",
       "LoanAmortizationMaxTermMonths          1\n",
       "MortgageLoanSellerInstType             0\n",
       "BorrowerCount                          0\n",
       "BorrowerFirstTimeHomebuyer             0\n",
       "Borrower1Race1Type                     0\n",
       "Borrower2Race1Type                     0\n",
       "Borrower1GenderType                    0\n",
       "Borrower2GenderType                    0\n",
       "Borrower1AgeAtApplicationYears         0\n",
       "Borrower2AgeAtApplicationYears         0\n",
       "PropertyUsageType                      0\n",
       "PropertyUnitCount                      0\n",
       "NoteRatePercent                        0\n",
       "NoteAmount                             0\n",
       "HousingExpenseRatioPercent             0\n",
       "TotalDebtExpenseRatioPercent           0\n",
       "Borrower1CreditScoreValue              0\n",
       "Borrower2CreditScoreValue              0\n",
       "PMICoveragePercent                     0\n",
       "EmploymentBorrowerSelfEmployed         0\n",
       "PropertyType                           0\n",
       "IndexSourceType                    89767\n",
       "MarginRatePercent                      0\n",
       "Borrower1EthnicityType                 0\n",
       "Borrower1Race2Type                     0\n",
       "Borrower1Race3Type                     0\n",
       "Borrower1Race4Type                     0\n",
       "Borrower1Race5Type                     0\n",
       "Borrower2EthnicityType                 0\n",
       "Borrower2Race2Type                     0\n",
       "Borrower2Race3Type                     0\n",
       "Borrower2Race4Type                     0\n",
       "Borrower2Race5Type                     0\n",
       "HOEPALoanStatusType                    0\n",
       "LienPriorityType                       0\n",
       "dtype: int64"
      ]
     },
     "execution_count": 15,
     "metadata": {},
     "output_type": "execute_result"
    }
   ],
   "source": [
    "df.isin([99]).sum(axis=0)"
   ]
  },
  {
   "cell_type": "markdown",
   "id": "c19662da",
   "metadata": {},
   "source": [
    "\"FIPSCountyCode\" , \"CensusTractIdentifier\" , \"LTVRatioPercent\" , \"ScheduledTotalPaymentCount\" & \"LoanAmortizationMaxTermMonths\" are fine. As we can see below the 99 is a value in the range of each category. \n",
    "There is only one column with 99 values: \"IndexSourceType\" "
   ]
  },
  {
   "cell_type": "code",
   "execution_count": 16,
   "id": "3927a63a",
   "metadata": {},
   "outputs": [
    {
     "data": {
      "text/plain": [
       "Text(0.5, 1.0, 'Loan to Value Ratio')"
      ]
     },
     "execution_count": 16,
     "metadata": {},
     "output_type": "execute_result"
    },
    {
     "data": {
      "image/png": "[encoded data removed]",
      "text/plain": [
       "<Figure size 432x288 with 1 Axes>"
      ]
     },
     "metadata": {
      "needs_background": "light"
     },
     "output_type": "display_data"
    }
   ],
   "source": [
    "plt.hist(df.LTVRatioPercent)\n",
    "plt.title('Loan to Value Ratio')"
   ]
  },
  {
   "cell_type": "code",
   "execution_count": 17,
   "id": "c5dae6ed",
   "metadata": {},
   "outputs": [
    {
     "data": {
      "text/plain": [
       "Text(0.5, 1.0, 'Total Payment Count')"
      ]
     },
     "execution_count": 17,
     "metadata": {},
     "output_type": "execute_result"
    },
    {
     "data": {
      "image/png": "[encoded data removed]",
      "text/plain": [
       "<Figure size 432x288 with 1 Axes>"
      ]
     },
     "metadata": {
      "needs_background": "light"
     },
     "output_type": "display_data"
    }
   ],
   "source": [
    "plt.hist(df.ScheduledTotalPaymentCount)\n",
    "plt.title('Total Payment Count')"
   ]
  },
  {
   "cell_type": "code",
   "execution_count": 18,
   "id": "66cb449c",
   "metadata": {},
   "outputs": [
    {
     "data": {
      "text/plain": [
       "Text(0.5, 1.0, 'Loan Amortization Max Term Months')"
      ]
     },
     "execution_count": 18,
     "metadata": {},
     "output_type": "execute_result"
    },
    {
     "data": {
      "image/png": "[encoded data removed]",
      "text/plain": [
       "<Figure size 432x288 with 1 Axes>"
      ]
     },
     "metadata": {
      "needs_background": "light"
     },
     "output_type": "display_data"
    }
   ],
   "source": [
    "plt.hist(df.LoanAmortizationMaxTermMonths)\n",
    "plt.title('Loan Amortization Max Term Months')"
   ]
  },
  {
   "cell_type": "code",
   "execution_count": 19,
   "id": "80f1c3d6",
   "metadata": {},
   "outputs": [
    {
     "data": {
      "text/plain": [
       "99    89767\n",
       "Name: IndexSourceType, dtype: int64"
      ]
     },
     "execution_count": 19,
     "metadata": {},
     "output_type": "execute_result"
    }
   ],
   "source": [
    "df.IndexSourceType.value_counts()"
   ]
  },
  {
   "cell_type": "markdown",
   "id": "31298cd0",
   "metadata": {},
   "source": [
    "As we can see all of the values in Index Source Type column are missing so we can drop this column as well."
   ]
  },
  {
   "cell_type": "code",
   "execution_count": 20,
   "id": "1f85bb72",
   "metadata": {},
   "outputs": [],
   "source": [
    "df = df.drop('IndexSourceType', axis=1)"
   ]
  },
  {
   "cell_type": "markdown",
   "id": "14cb8251",
   "metadata": {},
   "source": [
    "Thirdly, we will see which column has value \"998\" and then see whether that's a missing value or not."
   ]
  },
  {
   "cell_type": "code",
   "execution_count": 21,
   "id": "ed26de7d",
   "metadata": {},
   "outputs": [
    {
     "data": {
      "text/plain": [
       "Year                                   0\n",
       "LoanCharacteristicsID                  0\n",
       "Bank                                   0\n",
       "FIPSStateNumericCode                   0\n",
       "FIPSCountyCode                         0\n",
       "CoreBasedStatisticalAreaCode           0\n",
       "CensusTractIdentifier                  0\n",
       "CensusTractMinorityRatioPercent        0\n",
       "CensusTractMedFamIncomeAmount          0\n",
       "LocalAreaMedianIncomeAmount            0\n",
       "TotalMonthlyIncomeAmount               0\n",
       "HUDMedianIncomeAmount                  0\n",
       "LoanAcquisitionActualUPBAmt            0\n",
       "LTVRatioPercent                        0\n",
       "NoteDate                               0\n",
       "LoanAcquistionDate                     0\n",
       "LoanPurposeType                        0\n",
       "ProductCategoryName                    0\n",
       "MortgageType                           0\n",
       "ScheduledTotalPaymentCount             0\n",
       "LoanAmortizationMaxTermMonths          0\n",
       "MortgageLoanSellerInstType             0\n",
       "BorrowerCount                          0\n",
       "BorrowerFirstTimeHomebuyer             0\n",
       "Borrower1Race1Type                     0\n",
       "Borrower2Race1Type                     0\n",
       "Borrower1GenderType                    0\n",
       "Borrower2GenderType                    0\n",
       "Borrower1AgeAtApplicationYears         0\n",
       "Borrower2AgeAtApplicationYears     37965\n",
       "PropertyUsageType                      0\n",
       "PropertyUnitCount                      0\n",
       "NoteRatePercent                        0\n",
       "NoteAmount                             0\n",
       "HousingExpenseRatioPercent             0\n",
       "TotalDebtExpenseRatioPercent           0\n",
       "Borrower1CreditScoreValue              0\n",
       "Borrower2CreditScoreValue              0\n",
       "PMICoveragePercent                     0\n",
       "EmploymentBorrowerSelfEmployed         0\n",
       "PropertyType                           0\n",
       "MarginRatePercent                      0\n",
       "Borrower1EthnicityType                 0\n",
       "Borrower1Race2Type                     0\n",
       "Borrower1Race3Type                     0\n",
       "Borrower1Race4Type                     0\n",
       "Borrower1Race5Type                     0\n",
       "Borrower2EthnicityType                 0\n",
       "Borrower2Race2Type                     0\n",
       "Borrower2Race3Type                     0\n",
       "Borrower2Race4Type                     0\n",
       "Borrower2Race5Type                     0\n",
       "HOEPALoanStatusType                    0\n",
       "LienPriorityType                       0\n",
       "dtype: int64"
      ]
     },
     "execution_count": 21,
     "metadata": {},
     "output_type": "execute_result"
    }
   ],
   "source": [
    "df.isin([998]).sum(axis=0)"
   ]
  },
  {
   "cell_type": "markdown",
   "id": "6db24bb1",
   "metadata": {},
   "source": [
    "Again we have an interesting result regarding the second borrower. So we have to take a look at that in deeper manner."
   ]
  },
  {
   "cell_type": "code",
   "execution_count": 22,
   "id": "2f90c504",
   "metadata": {},
   "outputs": [
    {
     "data": {
      "text/plain": [
       "2    51372\n",
       "1    37910\n",
       "3      401\n",
       "4       83\n",
       "5        1\n",
       "Name: BorrowerCount, dtype: int64"
      ]
     },
     "execution_count": 22,
     "metadata": {},
     "output_type": "execute_result"
    }
   ],
   "source": [
    "df.BorrowerCount.value_counts()"
   ]
  },
  {
   "cell_type": "markdown",
   "id": "afaad871",
   "metadata": {},
   "source": [
    "There are two groups :\n",
    "\n",
    "1. Only one borrower : 37910\n",
    "\n",
    "2. More than one borrower : 51857"
   ]
  },
  {
   "cell_type": "markdown",
   "id": "e07a5d97",
   "metadata": {},
   "source": [
    "Now let's take a look at the borrowers' race and gender."
   ]
  },
  {
   "cell_type": "code",
   "execution_count": 23,
   "id": "f78ebe7a",
   "metadata": {},
   "outputs": [
    {
     "data": {
      "text/plain": [
       "5    76982\n",
       "6     7352\n",
       "2     3128\n",
       "3     1677\n",
       "1      516\n",
       "4      112\n",
       "Name: Borrower1Race1Type, dtype: int64"
      ]
     },
     "execution_count": 23,
     "metadata": {},
     "output_type": "execute_result"
    }
   ],
   "source": [
    "df.Borrower1Race1Type.value_counts()"
   ]
  },
  {
   "cell_type": "markdown",
   "id": "32c11b24",
   "metadata": {},
   "source": [
    "All the values with 6 is missing. But by looking at the second borrower data, we see interesting result that the number 37965 appears again.  "
   ]
  },
  {
   "cell_type": "code",
   "execution_count": 24,
   "id": "4a06a878",
   "metadata": {},
   "outputs": [
    {
     "data": {
      "text/plain": [
       "5    44821\n",
       "8    37965\n",
       "6     4502\n",
       "2     1577\n",
       "3      638\n",
       "1      199\n",
       "4       64\n",
       "7        1\n",
       "Name: Borrower2Race1Type, dtype: int64"
      ]
     },
     "execution_count": 24,
     "metadata": {},
     "output_type": "execute_result"
    }
   ],
   "source": [
    "df.Borrower2Race1Type.value_counts()"
   ]
  },
  {
   "cell_type": "code",
   "execution_count": 25,
   "id": "0958e25c",
   "metadata": {},
   "outputs": [
    {
     "data": {
      "text/plain": [
       "2    38527\n",
       "4    37965\n",
       "1    10569\n",
       "3     2647\n",
       "6       59\n",
       "Name: Borrower2GenderType, dtype: int64"
      ]
     },
     "execution_count": 25,
     "metadata": {},
     "output_type": "execute_result"
    }
   ],
   "source": [
    "df.Borrower2GenderType.value_counts()"
   ]
  },
  {
   "cell_type": "code",
   "execution_count": 26,
   "id": "8a5718bb",
   "metadata": {},
   "outputs": [
    {
     "data": {
      "text/plain": [
       "2    44822\n",
       "5    37965\n",
       "3     4983\n",
       "1     1981\n",
       "4       16\n",
       "Name: Borrower2EthnicityType, dtype: int64"
      ]
     },
     "execution_count": 26,
     "metadata": {},
     "output_type": "execute_result"
    }
   ],
   "source": [
    "df.Borrower2EthnicityType.value_counts()"
   ]
  },
  {
   "cell_type": "code",
   "execution_count": 27,
   "id": "1a592ef4",
   "metadata": {},
   "outputs": [
    {
     "data": {
      "text/plain": [
       "7    45320\n",
       "8    37965\n",
       "6     6260\n",
       "5      196\n",
       "3        9\n",
       "4        8\n",
       "2        7\n",
       "1        2\n",
       "Name: Borrower2Race2Type, dtype: int64"
      ]
     },
     "execution_count": 27,
     "metadata": {},
     "output_type": "execute_result"
    }
   ],
   "source": [
    "df.Borrower2Race2Type.value_counts()"
   ]
  },
  {
   "cell_type": "markdown",
   "id": "a3f74503",
   "metadata": {},
   "source": [
    "The above calculations suggests that probably the number of only 1 borrowe is wrong and some of the data entered by mistake.\n",
    "\n",
    "The reason is that by looking at the number of Borrower 2 gender and ethnicity and Race2type, we can see the number of No Co-Borrower are all 37965. By Looking at below code we can see, all these borrower count enteres as 2. Therefore, we can assign 1 instead of 2."
   ]
  },
  {
   "cell_type": "code",
   "execution_count": 28,
   "id": "89e93ca1",
   "metadata": {},
   "outputs": [
    {
     "data": {
      "text/plain": [
       "1062     2\n",
       "1188     2\n",
       "2249     2\n",
       "6638     2\n",
       "17822    2\n",
       "17894    2\n",
       "18640    2\n",
       "18659    2\n",
       "19636    2\n",
       "19855    2\n",
       "20856    2\n",
       "23577    2\n",
       "43759    2\n",
       "45570    2\n",
       "46196    2\n",
       "48828    2\n",
       "48831    2\n",
       "51786    2\n",
       "51960    2\n",
       "52979    2\n",
       "53767    2\n",
       "53776    2\n",
       "53836    2\n",
       "53880    2\n",
       "53909    2\n",
       "54170    2\n",
       "54184    2\n",
       "54315    2\n",
       "55184    2\n",
       "56437    2\n",
       "58090    2\n",
       "58770    2\n",
       "65521    2\n",
       "65879    2\n",
       "66089    2\n",
       "68654    2\n",
       "70529    2\n",
       "70637    2\n",
       "72029    2\n",
       "72776    2\n",
       "73597    2\n",
       "75576    2\n",
       "77182    2\n",
       "77364    2\n",
       "77409    2\n",
       "78646    2\n",
       "81478    2\n",
       "81893    2\n",
       "82311    2\n",
       "82610    2\n",
       "83594    2\n",
       "85325    2\n",
       "85371    2\n",
       "85383    2\n",
       "88716    2\n",
       "Name: BorrowerCount, dtype: int64"
      ]
     },
     "execution_count": 28,
     "metadata": {},
     "output_type": "execute_result"
    }
   ],
   "source": [
    "df[(df.BorrowerCount > 1) & (df.Borrower2EthnicityType == 5)]['BorrowerCount']"
   ]
  },
  {
   "cell_type": "code",
   "execution_count": 29,
   "id": "1c0ede82",
   "metadata": {},
   "outputs": [
    {
     "data": {
      "text/plain": [
       "1062     2\n",
       "1188     2\n",
       "2249     2\n",
       "6638     2\n",
       "17822    2\n",
       "17894    2\n",
       "18640    2\n",
       "18659    2\n",
       "19636    2\n",
       "19855    2\n",
       "20856    2\n",
       "23577    2\n",
       "43759    2\n",
       "45570    2\n",
       "46196    2\n",
       "48828    2\n",
       "48831    2\n",
       "51786    2\n",
       "51960    2\n",
       "52979    2\n",
       "53767    2\n",
       "53776    2\n",
       "53836    2\n",
       "53880    2\n",
       "53909    2\n",
       "54170    2\n",
       "54184    2\n",
       "54315    2\n",
       "55184    2\n",
       "56437    2\n",
       "58090    2\n",
       "58770    2\n",
       "65521    2\n",
       "65879    2\n",
       "66089    2\n",
       "68654    2\n",
       "70529    2\n",
       "70637    2\n",
       "72029    2\n",
       "72776    2\n",
       "73597    2\n",
       "75576    2\n",
       "77182    2\n",
       "77364    2\n",
       "77409    2\n",
       "78646    2\n",
       "81478    2\n",
       "81893    2\n",
       "82311    2\n",
       "82610    2\n",
       "83594    2\n",
       "85325    2\n",
       "85371    2\n",
       "85383    2\n",
       "88716    2\n",
       "Name: BorrowerCount, dtype: int64"
      ]
     },
     "execution_count": 29,
     "metadata": {},
     "output_type": "execute_result"
    }
   ],
   "source": [
    "df[(df.BorrowerCount > 1) & (df.Borrower2AgeAtApplicationYears == 998)]['BorrowerCount']"
   ]
  },
  {
   "cell_type": "code",
   "execution_count": 30,
   "id": "e0a973b4",
   "metadata": {},
   "outputs": [
    {
     "data": {
      "text/plain": [
       "1062     True\n",
       "1188     True\n",
       "2249     True\n",
       "6638     True\n",
       "17822    True\n",
       "17894    True\n",
       "18640    True\n",
       "18659    True\n",
       "19636    True\n",
       "19855    True\n",
       "20856    True\n",
       "23577    True\n",
       "43759    True\n",
       "45570    True\n",
       "46196    True\n",
       "48828    True\n",
       "48831    True\n",
       "51786    True\n",
       "51960    True\n",
       "52979    True\n",
       "53767    True\n",
       "53776    True\n",
       "53836    True\n",
       "53880    True\n",
       "53909    True\n",
       "54170    True\n",
       "54184    True\n",
       "54315    True\n",
       "55184    True\n",
       "56437    True\n",
       "58090    True\n",
       "58770    True\n",
       "65521    True\n",
       "65879    True\n",
       "66089    True\n",
       "68654    True\n",
       "70529    True\n",
       "70637    True\n",
       "72029    True\n",
       "72776    True\n",
       "73597    True\n",
       "75576    True\n",
       "77182    True\n",
       "77364    True\n",
       "77409    True\n",
       "78646    True\n",
       "81478    True\n",
       "81893    True\n",
       "82311    True\n",
       "82610    True\n",
       "83594    True\n",
       "85325    True\n",
       "85371    True\n",
       "85383    True\n",
       "88716    True\n",
       "Name: BorrowerCount, dtype: bool"
      ]
     },
     "execution_count": 30,
     "metadata": {},
     "output_type": "execute_result"
    }
   ],
   "source": [
    "df[(df.BorrowerCount > 1) & (df.Borrower2AgeAtApplicationYears == 998)]['BorrowerCount'] == df[(df.BorrowerCount > 1) & (df.Borrower2EthnicityType == 5)]['BorrowerCount']"
   ]
  },
  {
   "cell_type": "code",
   "execution_count": 17,
   "id": "91a28431",
   "metadata": {},
   "outputs": [],
   "source": [
    "# Changing the values to 1\n",
    "df.loc[(df.BorrowerCount > 1) & (df.Borrower2EthnicityType == 5), 'BorrowerCount'] = 1"
   ]
  },
  {
   "cell_type": "markdown",
   "id": "04dde10a",
   "metadata": {},
   "source": [
    "Fourthly, we will see which column has value \"999\" and then see whether that's a missing value or not."
   ]
  },
  {
   "cell_type": "code",
   "execution_count": 32,
   "id": "70b4089e",
   "metadata": {},
   "outputs": [
    {
     "data": {
      "text/plain": [
       "Year                               0\n",
       "LoanCharacteristicsID              0\n",
       "Bank                               0\n",
       "FIPSStateNumericCode               0\n",
       "FIPSCountyCode                     0\n",
       "CoreBasedStatisticalAreaCode       0\n",
       "CensusTractIdentifier              0\n",
       "CensusTractMinorityRatioPercent    0\n",
       "CensusTractMedFamIncomeAmount      0\n",
       "LocalAreaMedianIncomeAmount        0\n",
       "TotalMonthlyIncomeAmount           0\n",
       "HUDMedianIncomeAmount              0\n",
       "LoanAcquisitionActualUPBAmt        0\n",
       "LTVRatioPercent                    0\n",
       "NoteDate                           0\n",
       "LoanAcquistionDate                 0\n",
       "LoanPurposeType                    0\n",
       "ProductCategoryName                0\n",
       "MortgageType                       0\n",
       "ScheduledTotalPaymentCount         0\n",
       "LoanAmortizationMaxTermMonths      0\n",
       "MortgageLoanSellerInstType         0\n",
       "BorrowerCount                      0\n",
       "BorrowerFirstTimeHomebuyer         0\n",
       "Borrower1Race1Type                 0\n",
       "Borrower2Race1Type                 0\n",
       "Borrower1GenderType                0\n",
       "Borrower2GenderType                0\n",
       "Borrower1AgeAtApplicationYears     0\n",
       "Borrower2AgeAtApplicationYears     4\n",
       "PropertyUsageType                  0\n",
       "PropertyUnitCount                  0\n",
       "NoteRatePercent                    0\n",
       "NoteAmount                         0\n",
       "HousingExpenseRatioPercent         1\n",
       "TotalDebtExpenseRatioPercent       0\n",
       "Borrower1CreditScoreValue          0\n",
       "Borrower2CreditScoreValue          0\n",
       "PMICoveragePercent                 0\n",
       "EmploymentBorrowerSelfEmployed     0\n",
       "PropertyType                       0\n",
       "MarginRatePercent                  0\n",
       "Borrower1EthnicityType             0\n",
       "Borrower1Race2Type                 0\n",
       "Borrower1Race3Type                 0\n",
       "Borrower1Race4Type                 0\n",
       "Borrower1Race5Type                 0\n",
       "Borrower2EthnicityType             0\n",
       "Borrower2Race2Type                 0\n",
       "Borrower2Race3Type                 0\n",
       "Borrower2Race4Type                 0\n",
       "Borrower2Race5Type                 0\n",
       "HOEPALoanStatusType                0\n",
       "LienPriorityType                   0\n",
       "dtype: int64"
      ]
     },
     "execution_count": 32,
     "metadata": {},
     "output_type": "execute_result"
    }
   ],
   "source": [
    "df.isin([999]).sum(axis=0)"
   ]
  },
  {
   "cell_type": "markdown",
   "id": "dc3b970c",
   "metadata": {},
   "source": [
    "Regarding second borrower age with value 999, we can drop those since there are 4 values. But the ratio of housing expenses with that value we need to dig deeper. It might be an outlier."
   ]
  },
  {
   "cell_type": "code",
   "execution_count": 31,
   "id": "9543fa07",
   "metadata": {},
   "outputs": [],
   "source": [
    "df = df[df.Borrower2AgeAtApplicationYears != 999]"
   ]
  },
  {
   "cell_type": "code",
   "execution_count": 32,
   "id": "884d0eed",
   "metadata": {},
   "outputs": [
    {
     "data": {
      "image/png": "[encoded data removed]",
      "text/plain": [
       "<Figure size 432x288 with 1 Axes>"
      ]
     },
     "metadata": {
      "needs_background": "light"
     },
     "output_type": "display_data"
    }
   ],
   "source": [
    "df.HousingExpenseRatioPercent.hist(bins=600)\n",
    "plt.show()"
   ]
  },
  {
   "cell_type": "code",
   "execution_count": 34,
   "id": "a59183a0",
   "metadata": {},
   "outputs": [
    {
     "data": {
      "image/png": "[encoded data removed]",
      "text/plain": [
       "<Figure size 432x288 with 1 Axes>"
      ]
     },
     "metadata": {},
     "output_type": "display_data"
    }
   ],
   "source": [
    "num_bins = int(np.sqrt(len(df.HousingExpenseRatioPercent)))\n",
    "\n",
    "sns.set()\n",
    "\n",
    "plt.hist(df.HousingExpenseRatioPercent, bins=num_bins)\n",
    "\n",
    "plt.show()"
   ]
  },
  {
   "cell_type": "markdown",
   "id": "d85f28c1",
   "metadata": {},
   "source": [
    "This can be an outlier which we will fix it later."
   ]
  },
  {
   "cell_type": "markdown",
   "id": "8e5af946",
   "metadata": {},
   "source": [
    "Fifthly, we will see which column has value \"99999\" and then see whether that's a missing value or not."
   ]
  },
  {
   "cell_type": "code",
   "execution_count": 123,
   "id": "efeb0d6d",
   "metadata": {},
   "outputs": [
    {
     "data": {
      "text/plain": [
       "Year                                   0\n",
       "LoanCharacteristicsID                  0\n",
       "Bank                                   0\n",
       "FIPSStateNumericCode                   0\n",
       "FIPSCountyCode                         0\n",
       "CoreBasedStatisticalAreaCode           0\n",
       "CensusTractIdentifier                  0\n",
       "CensusTractMinorityRatioPercent        0\n",
       "CensusTractMedFamIncomeAmount          0\n",
       "LocalAreaMedianIncomeAmount            0\n",
       "TotalMonthlyIncomeAmount              26\n",
       "HUDMedianIncomeAmount                  0\n",
       "LoanAcquisitionActualUPBAmt            0\n",
       "LTVRatioPercent                        0\n",
       "NoteDate                               0\n",
       "LoanAcquistionDate                     0\n",
       "LoanPurposeType                        0\n",
       "ProductCategoryName                    0\n",
       "MortgageType                           0\n",
       "ScheduledTotalPaymentCount             0\n",
       "LoanAmortizationMaxTermMonths          0\n",
       "MortgageLoanSellerInstType             0\n",
       "BorrowerCount                          0\n",
       "BorrowerFirstTimeHomebuyer             0\n",
       "Borrower1Race1Type                     0\n",
       "Borrower2Race1Type                     0\n",
       "Borrower1GenderType                    0\n",
       "Borrower2GenderType                    0\n",
       "Borrower1AgeAtApplicationYears         0\n",
       "Borrower2AgeAtApplicationYears         0\n",
       "PropertyUsageType                      0\n",
       "PropertyUnitCount                      0\n",
       "NoteRatePercent                        0\n",
       "NoteAmount                             0\n",
       "HousingExpenseRatioPercent             0\n",
       "TotalDebtExpenseRatioPercent           0\n",
       "Borrower1CreditScoreValue              0\n",
       "Borrower2CreditScoreValue              0\n",
       "PMICoveragePercent                     0\n",
       "EmploymentBorrowerSelfEmployed         0\n",
       "PropertyType                           0\n",
       "MarginRatePercent                  84090\n",
       "Borrower1EthnicityType                 0\n",
       "Borrower1Race2Type                     0\n",
       "Borrower1Race3Type                     0\n",
       "Borrower1Race4Type                     0\n",
       "Borrower1Race5Type                     0\n",
       "Borrower2EthnicityType                 0\n",
       "Borrower2Race2Type                     0\n",
       "Borrower2Race3Type                     0\n",
       "Borrower2Race4Type                     0\n",
       "Borrower2Race5Type                     0\n",
       "HOEPALoanStatusType                    0\n",
       "LienPriorityType                       0\n",
       "dtype: int64"
      ]
     },
     "execution_count": 123,
     "metadata": {},
     "output_type": "execute_result"
    }
   ],
   "source": [
    "df.isin([9999]).sum(axis=0)"
   ]
  },
  {
   "cell_type": "markdown",
   "id": "7088126e",
   "metadata": {},
   "source": [
    "The 9999 value in Margin Rate Percent column are considered as a category so they are not missing. However, in the monthly income column, this is a strange value."
   ]
  },
  {
   "cell_type": "code",
   "execution_count": 128,
   "id": "ddbf2b07",
   "metadata": {},
   "outputs": [
    {
     "data": {
      "image/png": "[encoded data removed]",
      "text/plain": [
       "<Figure size 432x288 with 1 Axes>"
      ]
     },
     "metadata": {},
     "output_type": "display_data"
    }
   ],
   "source": [
    "plt.boxplot(df.TotalMonthlyIncomeAmount);"
   ]
  },
  {
   "cell_type": "markdown",
   "id": "ed3933d7",
   "metadata": {},
   "source": [
    "By looking at the above box plot we can see those are outliers which we will tackle them at the end.\n",
    "Sixthly, we will see which column has value \"99999\" and then see whether that's a missing value or not."
   ]
  },
  {
   "cell_type": "code",
   "execution_count": 35,
   "id": "11e49594",
   "metadata": {},
   "outputs": [
    {
     "data": {
      "text/plain": [
       "Year                                  0\n",
       "LoanCharacteristicsID                 0\n",
       "Bank                                  0\n",
       "FIPSStateNumericCode                  0\n",
       "FIPSCountyCode                        0\n",
       "CoreBasedStatisticalAreaCode       9264\n",
       "CensusTractIdentifier                 0\n",
       "CensusTractMinorityRatioPercent       0\n",
       "CensusTractMedFamIncomeAmount         0\n",
       "LocalAreaMedianIncomeAmount           0\n",
       "TotalMonthlyIncomeAmount              0\n",
       "HUDMedianIncomeAmount                 0\n",
       "LoanAcquisitionActualUPBAmt           0\n",
       "LTVRatioPercent                       0\n",
       "NoteDate                              0\n",
       "LoanAcquistionDate                    0\n",
       "LoanPurposeType                       0\n",
       "ProductCategoryName                   0\n",
       "MortgageType                          0\n",
       "ScheduledTotalPaymentCount            0\n",
       "LoanAmortizationMaxTermMonths         0\n",
       "MortgageLoanSellerInstType            0\n",
       "BorrowerCount                         0\n",
       "BorrowerFirstTimeHomebuyer            0\n",
       "Borrower1Race1Type                    0\n",
       "Borrower2Race1Type                    0\n",
       "Borrower1GenderType                   0\n",
       "Borrower2GenderType                   0\n",
       "Borrower1AgeAtApplicationYears        0\n",
       "Borrower2AgeAtApplicationYears        0\n",
       "PropertyUsageType                     0\n",
       "PropertyUnitCount                     0\n",
       "NoteRatePercent                       0\n",
       "NoteAmount                            0\n",
       "HousingExpenseRatioPercent            0\n",
       "TotalDebtExpenseRatioPercent          0\n",
       "Borrower1CreditScoreValue             0\n",
       "Borrower2CreditScoreValue             0\n",
       "PMICoveragePercent                    0\n",
       "EmploymentBorrowerSelfEmployed        0\n",
       "PropertyType                          0\n",
       "MarginRatePercent                     0\n",
       "Borrower1EthnicityType                0\n",
       "Borrower1Race2Type                    0\n",
       "Borrower1Race3Type                    0\n",
       "Borrower1Race4Type                    0\n",
       "Borrower1Race5Type                    0\n",
       "Borrower2EthnicityType                0\n",
       "Borrower2Race2Type                    0\n",
       "Borrower2Race3Type                    0\n",
       "Borrower2Race4Type                    0\n",
       "Borrower2Race5Type                    0\n",
       "HOEPALoanStatusType                   0\n",
       "LienPriorityType                      0\n",
       "dtype: int64"
      ]
     },
     "execution_count": 35,
     "metadata": {},
     "output_type": "execute_result"
    }
   ],
   "source": [
    "df.isin([99999]).sum(axis=0)"
   ]
  },
  {
   "cell_type": "markdown",
   "id": "deb78716",
   "metadata": {},
   "source": [
    "Based on the data documentation, if there is any missing data in this column, there are illustrated by 99999. So let's see what percentage of the data are not missing. Based on the documentation, the state/county/tract combo is not in a CBSA. Since this is feature is categorical, we can deal with this value as an \"other\" value."
   ]
  },
  {
   "cell_type": "code",
   "execution_count": 36,
   "id": "db3f0f60",
   "metadata": {},
   "outputs": [
    {
     "data": {
      "text/plain": [
       "0.10320050798177503"
      ]
     },
     "execution_count": 36,
     "metadata": {},
     "output_type": "execute_result"
    }
   ],
   "source": [
    "(df.CoreBasedStatisticalAreaCode == 99999).sum()/ df.Year.count()"
   ]
  },
  {
   "cell_type": "markdown",
   "id": "d67bb1c7",
   "metadata": {},
   "source": [
    "10% of data are missing. So we will consider 99999 values as other as documentation also suggests."
   ]
  },
  {
   "cell_type": "markdown",
   "id": "f0150ef2",
   "metadata": {},
   "source": [
    "Now we will check to see if any value is missing in the loan type, and as we will see there are only three types:\n",
    "1. Purchase\n",
    "2. No-Cash Out Refinancing\n",
    "6. Cash Out Refinancing"
   ]
  },
  {
   "cell_type": "code",
   "execution_count": 37,
   "id": "dc6bc8d1",
   "metadata": {},
   "outputs": [
    {
     "data": {
      "text/plain": [
       "1    40379\n",
       "6    26778\n",
       "2    22610\n",
       "Name: LoanPurposeType, dtype: int64"
      ]
     },
     "execution_count": 37,
     "metadata": {},
     "output_type": "execute_result"
    }
   ],
   "source": [
    "df.LoanPurposeType.value_counts()"
   ]
  },
  {
   "cell_type": "code",
   "execution_count": 38,
   "id": "e3912cb3",
   "metadata": {},
   "outputs": [
    {
     "data": {
      "text/plain": [
       "1    89767\n",
       "Name: ProductCategoryName, dtype: int64"
      ]
     },
     "execution_count": 38,
     "metadata": {},
     "output_type": "execute_result"
    }
   ],
   "source": [
    "df.ProductCategoryName.value_counts()"
   ]
  },
  {
   "cell_type": "markdown",
   "id": "581d7a94",
   "metadata": {},
   "source": [
    "Again this column has only one value for all the instances and therefore it does not add any value to our analyss."
   ]
  },
  {
   "cell_type": "code",
   "execution_count": 18,
   "id": "e47ecc8c",
   "metadata": {},
   "outputs": [],
   "source": [
    "df = df.drop('ProductCategoryName', axis=1)"
   ]
  },
  {
   "cell_type": "code",
   "execution_count": 19,
   "id": "1ab81c51",
   "metadata": {},
   "outputs": [
    {
     "data": {
      "text/plain": [
       "0    86451\n",
       "3     1271\n",
       "2     1033\n",
       "1     1012\n",
       "Name: MortgageType, dtype: int64"
      ]
     },
     "execution_count": 19,
     "metadata": {},
     "output_type": "execute_result"
    }
   ],
   "source": [
    "df.MortgageType.value_counts()"
   ]
  },
  {
   "cell_type": "code",
   "execution_count": 40,
   "id": "ae89c059",
   "metadata": {},
   "outputs": [
    {
     "data": {
      "text/plain": [
       "1    89538\n",
       "9      229\n",
       "Name: MortgageLoanSellerInstType, dtype: int64"
      ]
     },
     "execution_count": 40,
     "metadata": {},
     "output_type": "execute_result"
    }
   ],
   "source": [
    "df.MortgageLoanSellerInstType.value_counts()"
   ]
  },
  {
   "cell_type": "markdown",
   "id": "7b20e804",
   "metadata": {},
   "source": [
    "As we can see above the 229 values are other with no further information. Again, we can consider this category as \"Other.\""
   ]
  },
  {
   "cell_type": "markdown",
   "id": "0a46d208",
   "metadata": {},
   "source": [
    "We Can also see below that in some cases the Note Date and Loan date are different. This is not wrong, since the borrower can refinance and this dataset consider those mortgages as well. The only case we need to consider is that the Loan date most be after the note date since there is no way to refinance after the actual note date."
   ]
  },
  {
   "cell_type": "code",
   "execution_count": 42,
   "id": "66f638ef",
   "metadata": {},
   "outputs": [
    {
     "data": {
      "text/html": [
       "<div>\n",
       "<style scoped>\n",
       "    .dataframe tbody tr th:only-of-type {\n",
       "        vertical-align: middle;\n",
       "    }\n",
       "\n",
       "    .dataframe tbody tr th {\n",
       "        vertical-align: top;\n",
       "    }\n",
       "\n",
       "    .dataframe thead th {\n",
       "        text-align: right;\n",
       "    }\n",
       "</style>\n",
       "<table border=\"1\" class=\"dataframe\">\n",
       "  <thead>\n",
       "    <tr style=\"text-align: right;\">\n",
       "      <th></th>\n",
       "      <th>NoteDate</th>\n",
       "      <th>LoanAcquistionDate</th>\n",
       "    </tr>\n",
       "  </thead>\n",
       "  <tbody>\n",
       "    <tr>\n",
       "      <th>0</th>\n",
       "      <td>2018</td>\n",
       "      <td>2019</td>\n",
       "    </tr>\n",
       "    <tr>\n",
       "      <th>2</th>\n",
       "      <td>2018</td>\n",
       "      <td>2019</td>\n",
       "    </tr>\n",
       "    <tr>\n",
       "      <th>3</th>\n",
       "      <td>2018</td>\n",
       "      <td>2019</td>\n",
       "    </tr>\n",
       "    <tr>\n",
       "      <th>4</th>\n",
       "      <td>2018</td>\n",
       "      <td>2019</td>\n",
       "    </tr>\n",
       "    <tr>\n",
       "      <th>9</th>\n",
       "      <td>2018</td>\n",
       "      <td>2019</td>\n",
       "    </tr>\n",
       "    <tr>\n",
       "      <th>...</th>\n",
       "      <td>...</td>\n",
       "      <td>...</td>\n",
       "    </tr>\n",
       "    <tr>\n",
       "      <th>83837</th>\n",
       "      <td>2017</td>\n",
       "      <td>2019</td>\n",
       "    </tr>\n",
       "    <tr>\n",
       "      <th>83841</th>\n",
       "      <td>2017</td>\n",
       "      <td>2019</td>\n",
       "    </tr>\n",
       "    <tr>\n",
       "      <th>83842</th>\n",
       "      <td>2017</td>\n",
       "      <td>2019</td>\n",
       "    </tr>\n",
       "    <tr>\n",
       "      <th>83871</th>\n",
       "      <td>2017</td>\n",
       "      <td>2019</td>\n",
       "    </tr>\n",
       "    <tr>\n",
       "      <th>88885</th>\n",
       "      <td>2018</td>\n",
       "      <td>2019</td>\n",
       "    </tr>\n",
       "  </tbody>\n",
       "</table>\n",
       "<p>3628 rows × 2 columns</p>\n",
       "</div>"
      ],
      "text/plain": [
       "       NoteDate  LoanAcquistionDate\n",
       "0          2018                2019\n",
       "2          2018                2019\n",
       "3          2018                2019\n",
       "4          2018                2019\n",
       "9          2018                2019\n",
       "...         ...                 ...\n",
       "83837      2017                2019\n",
       "83841      2017                2019\n",
       "83842      2017                2019\n",
       "83871      2017                2019\n",
       "88885      2018                2019\n",
       "\n",
       "[3628 rows x 2 columns]"
      ]
     },
     "execution_count": 42,
     "metadata": {},
     "output_type": "execute_result"
    }
   ],
   "source": [
    "df.loc[df.NoteDate != df.LoanAcquistionDate, ['NoteDate', 'LoanAcquistionDate']]"
   ]
  },
  {
   "cell_type": "code",
   "execution_count": 43,
   "id": "1dd0f1ff",
   "metadata": {},
   "outputs": [
    {
     "data": {
      "text/html": [
       "<div>\n",
       "<style scoped>\n",
       "    .dataframe tbody tr th:only-of-type {\n",
       "        vertical-align: middle;\n",
       "    }\n",
       "\n",
       "    .dataframe tbody tr th {\n",
       "        vertical-align: top;\n",
       "    }\n",
       "\n",
       "    .dataframe thead th {\n",
       "        text-align: right;\n",
       "    }\n",
       "</style>\n",
       "<table border=\"1\" class=\"dataframe\">\n",
       "  <thead>\n",
       "    <tr style=\"text-align: right;\">\n",
       "      <th></th>\n",
       "      <th>NoteDate</th>\n",
       "      <th>LoanAcquistionDate</th>\n",
       "    </tr>\n",
       "  </thead>\n",
       "  <tbody>\n",
       "  </tbody>\n",
       "</table>\n",
       "</div>"
      ],
      "text/plain": [
       "Empty DataFrame\n",
       "Columns: [NoteDate, LoanAcquistionDate]\n",
       "Index: []"
      ]
     },
     "execution_count": 43,
     "metadata": {},
     "output_type": "execute_result"
    }
   ],
   "source": [
    "df.loc[df.NoteDate > df.LoanAcquistionDate, ['NoteDate', 'LoanAcquistionDate']]"
   ]
  },
  {
   "cell_type": "markdown",
   "id": "01ba9de9",
   "metadata": {},
   "source": [
    "Which verifies the above hypothesis."
   ]
  },
  {
   "cell_type": "markdown",
   "id": "ecf5be55",
   "metadata": {},
   "source": [
    "Now let's dig deeper in the special group of the columns. All columns that are related to borrowers will be grouped into three groups of race, gender and ethnicity. Then we will see if they have any missing values.\n"
   ]
  },
  {
   "cell_type": "code",
   "execution_count": 57,
   "id": "20af7b95",
   "metadata": {},
   "outputs": [],
   "source": [
    "# Gender\n",
    "\n",
    "gender = ['Borrower1GenderType', 'Borrower2GenderType']\n",
    "\n",
    "ethnicity = ['Borrower1EthnicityType', 'Borrower2EthnicityType']\n",
    "\n",
    "race = ['Borrower1Race1Type', 'Borrower1Race2Type', 'Borrower1Race3Type', 'Borrower1Race4Type', 'Borrower1Race5Type',\n",
    "                'Borrower2Race1Type', 'Borrower2Race2Type', 'Borrower2Race3Type',  \n",
    "                'Borrower2Race4Type', 'Borrower2Race5Type']"
   ]
  },
  {
   "cell_type": "code",
   "execution_count": 55,
   "id": "02705339",
   "metadata": {},
   "outputs": [
    {
     "name": "stdout",
     "output_type": "stream",
     "text": [
      "Borrower1GenderType : \n",
      "1    60393\n",
      "2    25094\n",
      "3     4217\n",
      "6       63\n",
      "Name: Borrower1GenderType, dtype: int64\n",
      "Borrower2GenderType : \n",
      "2    38527\n",
      "4    37965\n",
      "1    10569\n",
      "3     2647\n",
      "6       59\n",
      "Name: Borrower2GenderType, dtype: int64\n"
     ]
    }
   ],
   "source": [
    "# Gender value counts\n",
    "\n",
    "for i in gender:\n",
    "    print(str(i) + \" : \\n\" + str(df[i].value_counts()))"
   ]
  },
  {
   "cell_type": "markdown",
   "id": "ffd2d061",
   "metadata": {},
   "source": [
    "Based on the documentation, all the values under category \"3\" are missing.  "
   ]
  },
  {
   "cell_type": "code",
   "execution_count": 58,
   "id": "40c28421",
   "metadata": {},
   "outputs": [
    {
     "name": "stdout",
     "output_type": "stream",
     "text": [
      "Borrower1EthnicityType : \n",
      "2    77754\n",
      "3     8009\n",
      "1     3995\n",
      "4        9\n",
      "Name: Borrower1EthnicityType, dtype: int64\n",
      "Borrower2EthnicityType : \n",
      "2    44822\n",
      "5    37965\n",
      "3     4983\n",
      "1     1981\n",
      "4       16\n",
      "Name: Borrower2EthnicityType, dtype: int64\n"
     ]
    }
   ],
   "source": [
    "# Ethnicity value counts\n",
    "\n",
    "for i in ethnicity:\n",
    "    print(str(i) + \" : \\n\" + str(df[i].value_counts()))"
   ]
  },
  {
   "cell_type": "markdown",
   "id": "c2bcc37b",
   "metadata": {},
   "source": [
    "Again values under category \"3\" are missing."
   ]
  },
  {
   "cell_type": "code",
   "execution_count": 59,
   "id": "3943b7d3",
   "metadata": {},
   "outputs": [
    {
     "name": "stdout",
     "output_type": "stream",
     "text": [
      "Borrower1Race1Type : \n",
      "5    76982\n",
      "6     7352\n",
      "2     3128\n",
      "3     1677\n",
      "1      516\n",
      "4      112\n",
      "Name: Borrower1Race1Type, dtype: int64\n",
      "Borrower1Race2Type : \n",
      "7    78065\n",
      "6    11237\n",
      "5      405\n",
      "3       27\n",
      "2       17\n",
      "4       14\n",
      "1        2\n",
      "Name: Borrower1Race2Type, dtype: int64\n",
      "Borrower1Race3Type : \n",
      "7    78500\n",
      "6    11249\n",
      "5       16\n",
      "2        1\n",
      "3        1\n",
      "Name: Borrower1Race3Type, dtype: int64\n",
      "Borrower1Race4Type : \n",
      "7    78516\n",
      "6    11250\n",
      "5        1\n",
      "Name: Borrower1Race4Type, dtype: int64\n",
      "Borrower1Race5Type : \n",
      "7    78517\n",
      "6    11250\n",
      "Name: Borrower1Race5Type, dtype: int64\n",
      "Borrower2Race1Type : \n",
      "5    44821\n",
      "8    37965\n",
      "6     4502\n",
      "2     1577\n",
      "3      638\n",
      "1      199\n",
      "4       64\n",
      "7        1\n",
      "Name: Borrower2Race1Type, dtype: int64\n",
      "Borrower2Race2Type : \n",
      "7    45320\n",
      "8    37965\n",
      "6     6260\n",
      "5      196\n",
      "3        9\n",
      "4        8\n",
      "2        7\n",
      "1        2\n",
      "Name: Borrower2Race2Type, dtype: int64\n",
      "Borrower2Race3Type : \n",
      "7    45526\n",
      "8    37965\n",
      "6     6266\n",
      "5        9\n",
      "3        1\n",
      "Name: Borrower2Race3Type, dtype: int64\n",
      "Borrower2Race4Type : \n",
      "7    45535\n",
      "8    37965\n",
      "6     6266\n",
      "5        1\n",
      "Name: Borrower2Race4Type, dtype: int64\n",
      "Borrower2Race5Type : \n",
      "7    45536\n",
      "8    37965\n",
      "6     6266\n",
      "Name: Borrower2Race5Type, dtype: int64\n"
     ]
    }
   ],
   "source": [
    "# Race value counts\n",
    "\n",
    "for i in race:\n",
    "    print(str(i) + \" : \\n\" + str(df[i].value_counts()))"
   ]
  },
  {
   "cell_type": "code",
   "execution_count": null,
   "id": "ed1a3990",
   "metadata": {},
   "outputs": [],
   "source": []
  },
  {
   "cell_type": "markdown",
   "id": "8305c603",
   "metadata": {},
   "source": [
    "## 3.Outliers\n",
    "\n",
    "After cleaning the data and working on all the missing data, now it's time to work on outliers.\n",
    "\n",
    "First, let's use a histogram to see the distribution."
   ]
  },
  {
   "cell_type": "code",
   "execution_count": 118,
   "id": "8a776be8",
   "metadata": {},
   "outputs": [
    {
     "data": {
      "image/png": "[encoded data removed]",
      "text/plain": [
       "<Figure size 1080x2160 with 56 Axes>"
      ]
     },
     "metadata": {},
     "output_type": "display_data"
    }
   ],
   "source": [
    "df.hist(figsize=(15, 30))\n",
    "plt.subplots_adjust(hspace=.5);\n",
    "plt.show()"
   ]
  },
  {
   "cell_type": "markdown",
   "id": "b016516f",
   "metadata": {},
   "source": [
    "Now, we can draw a boxplot for numeric features."
   ]
  },
  {
   "cell_type": "code",
   "execution_count": 34,
   "id": "810bb98f",
   "metadata": {},
   "outputs": [
    {
     "name": "stdout",
     "output_type": "stream",
     "text": [
      "8\n"
     ]
    }
   ],
   "source": [
    "numeric_cols = ['CensusTractMedFamIncomeAmount', 'LocalAreaMedianIncomeAmount', 'TotalMonthlyIncomeAmount', \n",
    "               'HUDMedianIncomeAmount', 'LoanAcquisitionActualUPBAmt', 'LTVRatioPercent', 'ScheduledTotalPaymentCount',\n",
    "                'LoanAmortizationMaxTermMonths']\n",
    "print(len(numeric_cols))"
   ]
  },
  {
   "cell_type": "code",
   "execution_count": 116,
   "id": "4a53bcda",
   "metadata": {},
   "outputs": [
    {
     "data": {
      "image/png": "[encoded data removed]",
      "text/plain": [
       "<Figure size 1080x1800 with 8 Axes>"
      ]
     },
     "metadata": {},
     "output_type": "display_data"
    }
   ],
   "source": [
    "\n",
    "count = 1\n",
    "plt.subplots(figsize=(15, 25))\n",
    "\n",
    "for i in range(len(numeric_cols)):\n",
    "    plt.subplot(8, 2, count)\n",
    "    sns.boxplot(x=df[numeric_cols].iloc[:,i])\n",
    "    plt.title(numeric_cols[i])\n",
    "    plt.subplots_adjust(hspace=1.5)\n",
    "    count +=1\n",
    "    \n",
    "plt.show()"
   ]
  },
  {
   "cell_type": "code",
   "execution_count": 37,
   "id": "157288be",
   "metadata": {},
   "outputs": [
    {
     "name": "stderr",
     "output_type": "stream",
     "text": [
      "<ipython-input-37-91dcfbe38844>:6: SettingWithCopyWarning: \n",
      "A value is trying to be set on a copy of a slice from a DataFrame.\n",
      "Try using .loc[row_indexer,col_indexer] = value instead\n",
      "\n",
      "See the caveats in the documentation: https://pandas.pydata.org/pandas-docs/stable/user_guide/indexing.html#returning-a-view-versus-a-copy\n",
      "  df_win[col] = winsorize(df[col], limits=(0, 0.05))\n"
     ]
    }
   ],
   "source": [
    "from scipy.stats.mstats import winsorize\n",
    "\n",
    "df_win = df[numeric_cols]\n",
    "\n",
    "for col in numeric_cols:\n",
    "    df_win[col] = winsorize(df[col], limits=(0, 0.05))"
   ]
  },
  {
   "cell_type": "code",
   "execution_count": 38,
   "id": "69038169",
   "metadata": {},
   "outputs": [
    {
     "data": {
      "text/html": [
       "<div>\n",
       "<style scoped>\n",
       "    .dataframe tbody tr th:only-of-type {\n",
       "        vertical-align: middle;\n",
       "    }\n",
       "\n",
       "    .dataframe tbody tr th {\n",
       "        vertical-align: top;\n",
       "    }\n",
       "\n",
       "    .dataframe thead th {\n",
       "        text-align: right;\n",
       "    }\n",
       "</style>\n",
       "<table border=\"1\" class=\"dataframe\">\n",
       "  <thead>\n",
       "    <tr style=\"text-align: right;\">\n",
       "      <th></th>\n",
       "      <th>CensusTractMedFamIncomeAmount</th>\n",
       "      <th>LocalAreaMedianIncomeAmount</th>\n",
       "      <th>TotalMonthlyIncomeAmount</th>\n",
       "      <th>HUDMedianIncomeAmount</th>\n",
       "      <th>LoanAcquisitionActualUPBAmt</th>\n",
       "      <th>LTVRatioPercent</th>\n",
       "      <th>ScheduledTotalPaymentCount</th>\n",
       "      <th>LoanAmortizationMaxTermMonths</th>\n",
       "    </tr>\n",
       "  </thead>\n",
       "  <tbody>\n",
       "    <tr>\n",
       "      <th>0</th>\n",
       "      <td>132474</td>\n",
       "      <td>84290</td>\n",
       "      <td>7308</td>\n",
       "      <td>93000</td>\n",
       "      <td>319113</td>\n",
       "      <td>95.0</td>\n",
       "      <td>360</td>\n",
       "      <td>360</td>\n",
       "    </tr>\n",
       "    <tr>\n",
       "      <th>1</th>\n",
       "      <td>100795</td>\n",
       "      <td>84290</td>\n",
       "      <td>7416</td>\n",
       "      <td>93000</td>\n",
       "      <td>248005</td>\n",
       "      <td>95.0</td>\n",
       "      <td>360</td>\n",
       "      <td>360</td>\n",
       "    </tr>\n",
       "    <tr>\n",
       "      <th>2</th>\n",
       "      <td>49625</td>\n",
       "      <td>67566</td>\n",
       "      <td>5143</td>\n",
       "      <td>71900</td>\n",
       "      <td>211105</td>\n",
       "      <td>95.0</td>\n",
       "      <td>360</td>\n",
       "      <td>360</td>\n",
       "    </tr>\n",
       "    <tr>\n",
       "      <th>3</th>\n",
       "      <td>62643</td>\n",
       "      <td>67105</td>\n",
       "      <td>8866</td>\n",
       "      <td>71900</td>\n",
       "      <td>210000</td>\n",
       "      <td>95.0</td>\n",
       "      <td>360</td>\n",
       "      <td>360</td>\n",
       "    </tr>\n",
       "    <tr>\n",
       "      <th>4</th>\n",
       "      <td>87679</td>\n",
       "      <td>76445</td>\n",
       "      <td>15240</td>\n",
       "      <td>90100</td>\n",
       "      <td>233200</td>\n",
       "      <td>80.0</td>\n",
       "      <td>180</td>\n",
       "      <td>180</td>\n",
       "    </tr>\n",
       "    <tr>\n",
       "      <th>...</th>\n",
       "      <td>...</td>\n",
       "      <td>...</td>\n",
       "      <td>...</td>\n",
       "      <td>...</td>\n",
       "      <td>...</td>\n",
       "      <td>...</td>\n",
       "      <td>...</td>\n",
       "      <td>...</td>\n",
       "    </tr>\n",
       "    <tr>\n",
       "      <th>89762</th>\n",
       "      <td>54688</td>\n",
       "      <td>69210</td>\n",
       "      <td>3275</td>\n",
       "      <td>70000</td>\n",
       "      <td>133000</td>\n",
       "      <td>95.0</td>\n",
       "      <td>360</td>\n",
       "      <td>360</td>\n",
       "    </tr>\n",
       "    <tr>\n",
       "      <th>89763</th>\n",
       "      <td>85714</td>\n",
       "      <td>69210</td>\n",
       "      <td>11500</td>\n",
       "      <td>70000</td>\n",
       "      <td>295000</td>\n",
       "      <td>84.0</td>\n",
       "      <td>240</td>\n",
       "      <td>240</td>\n",
       "    </tr>\n",
       "    <tr>\n",
       "      <th>89764</th>\n",
       "      <td>84821</td>\n",
       "      <td>73964</td>\n",
       "      <td>4298</td>\n",
       "      <td>75200</td>\n",
       "      <td>77250</td>\n",
       "      <td>46.0</td>\n",
       "      <td>360</td>\n",
       "      <td>360</td>\n",
       "    </tr>\n",
       "    <tr>\n",
       "      <th>89765</th>\n",
       "      <td>73150</td>\n",
       "      <td>69210</td>\n",
       "      <td>6810</td>\n",
       "      <td>70000</td>\n",
       "      <td>207100</td>\n",
       "      <td>95.0</td>\n",
       "      <td>360</td>\n",
       "      <td>360</td>\n",
       "    </tr>\n",
       "    <tr>\n",
       "      <th>89766</th>\n",
       "      <td>74500</td>\n",
       "      <td>69210</td>\n",
       "      <td>9649</td>\n",
       "      <td>70000</td>\n",
       "      <td>184000</td>\n",
       "      <td>80.0</td>\n",
       "      <td>360</td>\n",
       "      <td>360</td>\n",
       "    </tr>\n",
       "  </tbody>\n",
       "</table>\n",
       "<p>89763 rows × 8 columns</p>\n",
       "</div>"
      ],
      "text/plain": [
       "       CensusTractMedFamIncomeAmount  LocalAreaMedianIncomeAmount  \\\n",
       "0                             132474                        84290   \n",
       "1                             100795                        84290   \n",
       "2                              49625                        67566   \n",
       "3                              62643                        67105   \n",
       "4                              87679                        76445   \n",
       "...                              ...                          ...   \n",
       "89762                          54688                        69210   \n",
       "89763                          85714                        69210   \n",
       "89764                          84821                        73964   \n",
       "89765                          73150                        69210   \n",
       "89766                          74500                        69210   \n",
       "\n",
       "       TotalMonthlyIncomeAmount  HUDMedianIncomeAmount  \\\n",
       "0                          7308                  93000   \n",
       "1                          7416                  93000   \n",
       "2                          5143                  71900   \n",
       "3                          8866                  71900   \n",
       "4                         15240                  90100   \n",
       "...                         ...                    ...   \n",
       "89762                      3275                  70000   \n",
       "89763                     11500                  70000   \n",
       "89764                      4298                  75200   \n",
       "89765                      6810                  70000   \n",
       "89766                      9649                  70000   \n",
       "\n",
       "       LoanAcquisitionActualUPBAmt  LTVRatioPercent  \\\n",
       "0                           319113             95.0   \n",
       "1                           248005             95.0   \n",
       "2                           211105             95.0   \n",
       "3                           210000             95.0   \n",
       "4                           233200             80.0   \n",
       "...                            ...              ...   \n",
       "89762                       133000             95.0   \n",
       "89763                       295000             84.0   \n",
       "89764                        77250             46.0   \n",
       "89765                       207100             95.0   \n",
       "89766                       184000             80.0   \n",
       "\n",
       "       ScheduledTotalPaymentCount  LoanAmortizationMaxTermMonths  \n",
       "0                             360                            360  \n",
       "1                             360                            360  \n",
       "2                             360                            360  \n",
       "3                             360                            360  \n",
       "4                             180                            180  \n",
       "...                           ...                            ...  \n",
       "89762                         360                            360  \n",
       "89763                         240                            240  \n",
       "89764                         360                            360  \n",
       "89765                         360                            360  \n",
       "89766                         360                            360  \n",
       "\n",
       "[89763 rows x 8 columns]"
      ]
     },
     "execution_count": 38,
     "metadata": {},
     "output_type": "execute_result"
    }
   ],
   "source": [
    "df_win"
   ]
  },
  {
   "cell_type": "code",
   "execution_count": 39,
   "id": "df93f9b4",
   "metadata": {},
   "outputs": [
    {
     "data": {
      "image/png": "[encoded data removed]",
      "text/plain": [
       "<Figure size 1080x1800 with 8 Axes>"
      ]
     },
     "metadata": {
      "needs_background": "light"
     },
     "output_type": "display_data"
    }
   ],
   "source": [
    "count = 1\n",
    "plt.subplots(figsize=(15, 25))\n",
    "\n",
    "for i in range(len(df_win.columns)):\n",
    "    plt.subplot(8, 2, count)\n",
    "    sns.boxplot(x=df_win[numeric_cols].iloc[:,i])\n",
    "    plt.title(numeric_cols[i])\n",
    "    plt.subplots_adjust(hspace=1.5)\n",
    "    count +=1\n",
    "    \n",
    "plt.show()"
   ]
  },
  {
   "cell_type": "code",
   "execution_count": null,
   "id": "70f1e115",
   "metadata": {},
   "outputs": [],
   "source": []
  },
  {
   "cell_type": "code",
   "execution_count": null,
   "id": "4fae64fb",
   "metadata": {},
   "outputs": [],
   "source": []
  },
  {
   "cell_type": "markdown",
   "id": "edad3e06",
   "metadata": {},
   "source": [
    "## 4. Summary"
   ]
  },
  {
   "cell_type": "markdown",
   "id": "2c7f10c4",
   "metadata": {},
   "source": [
    "In the first phase of this project, firstly, we load the data and then try to explore it from different angles to see if there is any missing data and then deal with those missing data. Fortunately, less than %10 of data in most case were missing and we were able to use \"Imputation.\" Finally, we work on the outliers."
   ]
  },
  {
   "cell_type": "code",
   "execution_count": null,
   "id": "66024aaf",
   "metadata": {},
   "outputs": [],
   "source": []
  }
 ],
 "metadata": {
  "kernelspec": {
   "display_name": "Python 3",
   "language": "python",
   "name": "python3"
  },
  "language_info": {
   "codemirror_mode": {
    "name": "ipython",
    "version": 3
   },
   "file_extension": ".py",
   "mimetype": "text/x-python",
   "name": "python",
   "nbconvert_exporter": "python",
   "pygments_lexer": "ipython3",
   "version": "3.8.8"
  }
 },
 "nbformat": 4,
 "nbformat_minor": 5
}
