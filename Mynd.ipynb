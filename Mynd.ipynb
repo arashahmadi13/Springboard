{
 "cells": [
  {
   "cell_type": "markdown",
   "id": "f23e2e23",
   "metadata": {},
   "source": [
    "## Mynd Data Challenge\n",
    "\n",
    "In this project, there are three phases:\n",
    "\n",
    "1. Data cleaning\n",
    "2. EDA\n",
    "3. Modeling"
   ]
  },
  {
   "cell_type": "markdown",
   "id": "e93151e6",
   "metadata": {},
   "source": [
    "### 1. Data Cleaning"
   ]
  },
  {
   "cell_type": "code",
   "execution_count": 1,
   "id": "b72a0384",
   "metadata": {},
   "outputs": [],
   "source": [
    "import pandas as pd\n",
    "import numpy as np\n",
    "import seaborn as sns\n",
    "import matplotlib.pyplot as plt"
   ]
  },
  {
   "cell_type": "code",
   "execution_count": 2,
   "id": "fb828160",
   "metadata": {},
   "outputs": [
    {
     "data": {
      "text/html": [
       "<div>\n",
       "<style scoped>\n",
       "    .dataframe tbody tr th:only-of-type {\n",
       "        vertical-align: middle;\n",
       "    }\n",
       "\n",
       "    .dataframe tbody tr th {\n",
       "        vertical-align: top;\n",
       "    }\n",
       "\n",
       "    .dataframe thead th {\n",
       "        text-align: right;\n",
       "    }\n",
       "</style>\n",
       "<table border=\"1\" class=\"dataframe\">\n",
       "  <thead>\n",
       "    <tr style=\"text-align: right;\">\n",
       "      <th></th>\n",
       "      <th>ID</th>\n",
       "      <th>First Name</th>\n",
       "      <th>Monthly Income</th>\n",
       "      <th>Pets</th>\n",
       "      <th>Date of Birth</th>\n",
       "      <th>Market</th>\n",
       "      <th>State</th>\n",
       "    </tr>\n",
       "  </thead>\n",
       "  <tbody>\n",
       "    <tr>\n",
       "      <th>0</th>\n",
       "      <td>p3do03ecr7t67spn</td>\n",
       "      <td>Jayzua-nae</td>\n",
       "      <td>NaN</td>\n",
       "      <td>Yes</td>\n",
       "      <td>2011-04-20</td>\n",
       "      <td>East</td>\n",
       "      <td>NC</td>\n",
       "    </tr>\n",
       "    <tr>\n",
       "      <th>1</th>\n",
       "      <td>sfkib3fm5afbg4lv</td>\n",
       "      <td>Maxim</td>\n",
       "      <td>NaN</td>\n",
       "      <td>No</td>\n",
       "      <td>2009-01-20</td>\n",
       "      <td>Bay Area</td>\n",
       "      <td>CA</td>\n",
       "    </tr>\n",
       "    <tr>\n",
       "      <th>2</th>\n",
       "      <td>6i9ov0mud63gm7nq</td>\n",
       "      <td>Damyel</td>\n",
       "      <td>NaN</td>\n",
       "      <td>No</td>\n",
       "      <td>2020-10-09</td>\n",
       "      <td>East</td>\n",
       "      <td>NC</td>\n",
       "    </tr>\n",
       "    <tr>\n",
       "      <th>3</th>\n",
       "      <td>t1hal73tnuhhk6qa</td>\n",
       "      <td>Ellie</td>\n",
       "      <td>NaN</td>\n",
       "      <td>Yes</td>\n",
       "      <td>2004-01-31</td>\n",
       "      <td>East</td>\n",
       "      <td>NC</td>\n",
       "    </tr>\n",
       "    <tr>\n",
       "      <th>4</th>\n",
       "      <td>nne9gmjh9mnvagsc</td>\n",
       "      <td>Abigail</td>\n",
       "      <td>NaN</td>\n",
       "      <td>No</td>\n",
       "      <td>2007-09-11</td>\n",
       "      <td>Washington</td>\n",
       "      <td>WA</td>\n",
       "    </tr>\n",
       "  </tbody>\n",
       "</table>\n",
       "</div>"
      ],
      "text/plain": [
       "                 ID  First Name  Monthly Income Pets Date of Birth  \\\n",
       "0  p3do03ecr7t67spn  Jayzua-nae             NaN  Yes    2011-04-20   \n",
       "1  sfkib3fm5afbg4lv       Maxim             NaN   No    2009-01-20   \n",
       "2  6i9ov0mud63gm7nq      Damyel             NaN   No    2020-10-09   \n",
       "3  t1hal73tnuhhk6qa       Ellie             NaN  Yes    2004-01-31   \n",
       "4  nne9gmjh9mnvagsc     Abigail             NaN   No    2007-09-11   \n",
       "\n",
       "       Market State  \n",
       "0        East    NC  \n",
       "1    Bay Area    CA  \n",
       "2        East    NC  \n",
       "3        East    NC  \n",
       "4  Washington    WA  "
      ]
     },
     "execution_count": 2,
     "metadata": {},
     "output_type": "execute_result"
    }
   ],
   "source": [
    "df1 = pd.read_csv(r\"C:\\Users\\arash\\Downloads\\demographics.xlsx - demographics.csv\")\n",
    "df1.head()"
   ]
  },
  {
   "cell_type": "code",
   "execution_count": 3,
   "id": "bf4c7ef7",
   "metadata": {},
   "outputs": [
    {
     "name": "stdout",
     "output_type": "stream",
     "text": [
      "<class 'pandas.core.frame.DataFrame'>\n",
      "RangeIndex: 4863 entries, 0 to 4862\n",
      "Data columns (total 7 columns):\n",
      " #   Column          Non-Null Count  Dtype  \n",
      "---  ------          --------------  -----  \n",
      " 0   ID              4863 non-null   object \n",
      " 1   First Name      4861 non-null   object \n",
      " 2   Monthly Income  141 non-null    float64\n",
      " 3   Pets            4863 non-null   object \n",
      " 4   Date of Birth   4863 non-null   object \n",
      " 5   Market          4863 non-null   object \n",
      " 6   State           4863 non-null   object \n",
      "dtypes: float64(1), object(6)\n",
      "memory usage: 266.1+ KB\n"
     ]
    }
   ],
   "source": [
    "df1.info()"
   ]
  },
  {
   "cell_type": "code",
   "execution_count": 4,
   "id": "3810241c",
   "metadata": {},
   "outputs": [
    {
     "data": {
      "text/plain": [
       "ID                0.000000\n",
       "First Name        0.000411\n",
       "Monthly Income    0.971006\n",
       "Pets              0.000000\n",
       "Date of Birth     0.000000\n",
       "Market            0.000000\n",
       "State             0.000000\n",
       "dtype: float64"
      ]
     },
     "execution_count": 4,
     "metadata": {},
     "output_type": "execute_result"
    }
   ],
   "source": [
    "df1.isnull().sum()/len(df1)"
   ]
  },
  {
   "cell_type": "markdown",
   "id": "9cae86ee",
   "metadata": {},
   "source": [
    "There are two missing data in First Name columns and also 97% of Monthly income is missing, I will drop the two missing Fisrt name row and will drop the whole Income in the modeling process."
   ]
  },
  {
   "cell_type": "code",
   "execution_count": 5,
   "id": "0813e226",
   "metadata": {},
   "outputs": [
    {
     "name": "stdout",
     "output_type": "stream",
     "text": [
      "<class 'pandas.core.frame.DataFrame'>\n",
      "Int64Index: 4861 entries, 0 to 4862\n",
      "Data columns (total 7 columns):\n",
      " #   Column          Non-Null Count  Dtype  \n",
      "---  ------          --------------  -----  \n",
      " 0   ID              4861 non-null   object \n",
      " 1   First Name      4861 non-null   object \n",
      " 2   Monthly Income  141 non-null    float64\n",
      " 3   Pets            4861 non-null   object \n",
      " 4   Date of Birth   4861 non-null   object \n",
      " 5   Market          4861 non-null   object \n",
      " 6   State           4861 non-null   object \n",
      "dtypes: float64(1), object(6)\n",
      "memory usage: 303.8+ KB\n"
     ]
    }
   ],
   "source": [
    "df1 = df1.dropna(subset=['First Name'])\n",
    "df1.info()"
   ]
  },
  {
   "cell_type": "code",
   "execution_count": 6,
   "id": "ee71197e",
   "metadata": {},
   "outputs": [
    {
     "data": {
      "text/plain": [
       "Southwest     1201\n",
       "East          1125\n",
       "Central        690\n",
       "Washington     611\n",
       "Bay Area       486\n",
       "SoCal          407\n",
       "Sacramento     341\n",
       "Name: Market, dtype: int64"
      ]
     },
     "execution_count": 6,
     "metadata": {},
     "output_type": "execute_result"
    }
   ],
   "source": [
    "df1.Market.value_counts()"
   ]
  },
  {
   "cell_type": "code",
   "execution_count": 7,
   "id": "599e71db",
   "metadata": {},
   "outputs": [
    {
     "data": {
      "text/plain": [
       "CA    1234\n",
       "AZ     695\n",
       "TX     690\n",
       "WA     577\n",
       "NC     467\n",
       "NV     461\n",
       "GA     429\n",
       "AL      78\n",
       "FL      61\n",
       "MS      46\n",
       "CO      45\n",
       "TN      44\n",
       "OR      34\n",
       "Name: State, dtype: int64"
      ]
     },
     "execution_count": 7,
     "metadata": {},
     "output_type": "execute_result"
    }
   ],
   "source": [
    "df1.State.value_counts()"
   ]
  },
  {
   "cell_type": "code",
   "execution_count": 8,
   "id": "57b86bcf",
   "metadata": {},
   "outputs": [
    {
     "data": {
      "text/plain": [
       "No     3688\n",
       "Yes    1173\n",
       "Name: Pets, dtype: int64"
      ]
     },
     "execution_count": 8,
     "metadata": {},
     "output_type": "execute_result"
    }
   ],
   "source": [
    "df1.Pets.value_counts()"
   ]
  },
  {
   "cell_type": "code",
   "execution_count": 9,
   "id": "4d796cd4",
   "metadata": {},
   "outputs": [
    {
     "data": {
      "text/plain": [
       "hil50gpk08pak286    12\n",
       "mk6t4l5da8m1dss2     9\n",
       "j83uq0j3aud30l74     8\n",
       "669fasfgrrd204ru     8\n",
       "773s7rqk9u1dmjeq     8\n",
       "                    ..\n",
       "32ucn52qqanfcs5r     1\n",
       "16uomch7f0qdr3ae     1\n",
       "58ii18b32qfophe2     1\n",
       "qhdiluk0il4f4r1q     1\n",
       "qm0ak1ep77gmi44m     1\n",
       "Name: ID, Length: 2525, dtype: int64"
      ]
     },
     "execution_count": 9,
     "metadata": {},
     "output_type": "execute_result"
    }
   ],
   "source": [
    "df1.ID.value_counts()"
   ]
  },
  {
   "cell_type": "code",
   "execution_count": 10,
   "id": "e06eb430",
   "metadata": {},
   "outputs": [
    {
     "data": {
      "text/html": [
       "<div>\n",
       "<style scoped>\n",
       "    .dataframe tbody tr th:only-of-type {\n",
       "        vertical-align: middle;\n",
       "    }\n",
       "\n",
       "    .dataframe tbody tr th {\n",
       "        vertical-align: top;\n",
       "    }\n",
       "\n",
       "    .dataframe thead th {\n",
       "        text-align: right;\n",
       "    }\n",
       "</style>\n",
       "<table border=\"1\" class=\"dataframe\">\n",
       "  <thead>\n",
       "    <tr style=\"text-align: right;\">\n",
       "      <th></th>\n",
       "      <th>ID</th>\n",
       "      <th>First Name</th>\n",
       "      <th>Monthly Income</th>\n",
       "      <th>Pets</th>\n",
       "      <th>Date of Birth</th>\n",
       "      <th>Market</th>\n",
       "      <th>State</th>\n",
       "    </tr>\n",
       "  </thead>\n",
       "  <tbody>\n",
       "    <tr>\n",
       "      <th>333</th>\n",
       "      <td>hil50gpk08pak286</td>\n",
       "      <td>Elizabeth</td>\n",
       "      <td>1500.0</td>\n",
       "      <td>No</td>\n",
       "      <td>2016-10-13</td>\n",
       "      <td>Bay Area</td>\n",
       "      <td>CA</td>\n",
       "    </tr>\n",
       "    <tr>\n",
       "      <th>605</th>\n",
       "      <td>hil50gpk08pak286</td>\n",
       "      <td>Abigail</td>\n",
       "      <td>1500.0</td>\n",
       "      <td>No</td>\n",
       "      <td>2016-08-23</td>\n",
       "      <td>Bay Area</td>\n",
       "      <td>CA</td>\n",
       "    </tr>\n",
       "    <tr>\n",
       "      <th>613</th>\n",
       "      <td>hil50gpk08pak286</td>\n",
       "      <td>Elizabeth</td>\n",
       "      <td>1.0</td>\n",
       "      <td>No</td>\n",
       "      <td>2016-10-13</td>\n",
       "      <td>Bay Area</td>\n",
       "      <td>CA</td>\n",
       "    </tr>\n",
       "    <tr>\n",
       "      <th>731</th>\n",
       "      <td>hil50gpk08pak286</td>\n",
       "      <td>Christian</td>\n",
       "      <td>2400.0</td>\n",
       "      <td>No</td>\n",
       "      <td>2012-11-12</td>\n",
       "      <td>Bay Area</td>\n",
       "      <td>CA</td>\n",
       "    </tr>\n",
       "    <tr>\n",
       "      <th>767</th>\n",
       "      <td>hil50gpk08pak286</td>\n",
       "      <td>Abigail</td>\n",
       "      <td>2600.0</td>\n",
       "      <td>No</td>\n",
       "      <td>2016-08-23</td>\n",
       "      <td>Bay Area</td>\n",
       "      <td>CA</td>\n",
       "    </tr>\n",
       "    <tr>\n",
       "      <th>1566</th>\n",
       "      <td>hil50gpk08pak286</td>\n",
       "      <td>Elizabeth</td>\n",
       "      <td>2400.0</td>\n",
       "      <td>No</td>\n",
       "      <td>2016-10-13</td>\n",
       "      <td>Bay Area</td>\n",
       "      <td>CA</td>\n",
       "    </tr>\n",
       "    <tr>\n",
       "      <th>1571</th>\n",
       "      <td>hil50gpk08pak286</td>\n",
       "      <td>Christian</td>\n",
       "      <td>1.0</td>\n",
       "      <td>No</td>\n",
       "      <td>2012-11-12</td>\n",
       "      <td>Bay Area</td>\n",
       "      <td>CA</td>\n",
       "    </tr>\n",
       "    <tr>\n",
       "      <th>1670</th>\n",
       "      <td>hil50gpk08pak286</td>\n",
       "      <td>Abigail</td>\n",
       "      <td>2400.0</td>\n",
       "      <td>No</td>\n",
       "      <td>2016-08-23</td>\n",
       "      <td>Bay Area</td>\n",
       "      <td>CA</td>\n",
       "    </tr>\n",
       "    <tr>\n",
       "      <th>2915</th>\n",
       "      <td>hil50gpk08pak286</td>\n",
       "      <td>Christian</td>\n",
       "      <td>1500.0</td>\n",
       "      <td>No</td>\n",
       "      <td>2012-11-12</td>\n",
       "      <td>Bay Area</td>\n",
       "      <td>CA</td>\n",
       "    </tr>\n",
       "    <tr>\n",
       "      <th>3699</th>\n",
       "      <td>hil50gpk08pak286</td>\n",
       "      <td>Christian</td>\n",
       "      <td>2600.0</td>\n",
       "      <td>No</td>\n",
       "      <td>2012-11-12</td>\n",
       "      <td>Bay Area</td>\n",
       "      <td>CA</td>\n",
       "    </tr>\n",
       "    <tr>\n",
       "      <th>4456</th>\n",
       "      <td>hil50gpk08pak286</td>\n",
       "      <td>Elizabeth</td>\n",
       "      <td>2600.0</td>\n",
       "      <td>No</td>\n",
       "      <td>2016-10-13</td>\n",
       "      <td>Bay Area</td>\n",
       "      <td>CA</td>\n",
       "    </tr>\n",
       "    <tr>\n",
       "      <th>4519</th>\n",
       "      <td>hil50gpk08pak286</td>\n",
       "      <td>Abigail</td>\n",
       "      <td>1.0</td>\n",
       "      <td>No</td>\n",
       "      <td>2016-08-23</td>\n",
       "      <td>Bay Area</td>\n",
       "      <td>CA</td>\n",
       "    </tr>\n",
       "  </tbody>\n",
       "</table>\n",
       "</div>"
      ],
      "text/plain": [
       "                    ID First Name  Monthly Income Pets Date of Birth  \\\n",
       "333   hil50gpk08pak286  Elizabeth          1500.0   No    2016-10-13   \n",
       "605   hil50gpk08pak286    Abigail          1500.0   No    2016-08-23   \n",
       "613   hil50gpk08pak286  Elizabeth             1.0   No    2016-10-13   \n",
       "731   hil50gpk08pak286  Christian          2400.0   No    2012-11-12   \n",
       "767   hil50gpk08pak286    Abigail          2600.0   No    2016-08-23   \n",
       "1566  hil50gpk08pak286  Elizabeth          2400.0   No    2016-10-13   \n",
       "1571  hil50gpk08pak286  Christian             1.0   No    2012-11-12   \n",
       "1670  hil50gpk08pak286    Abigail          2400.0   No    2016-08-23   \n",
       "2915  hil50gpk08pak286  Christian          1500.0   No    2012-11-12   \n",
       "3699  hil50gpk08pak286  Christian          2600.0   No    2012-11-12   \n",
       "4456  hil50gpk08pak286  Elizabeth          2600.0   No    2016-10-13   \n",
       "4519  hil50gpk08pak286    Abigail             1.0   No    2016-08-23   \n",
       "\n",
       "        Market State  \n",
       "333   Bay Area    CA  \n",
       "605   Bay Area    CA  \n",
       "613   Bay Area    CA  \n",
       "731   Bay Area    CA  \n",
       "767   Bay Area    CA  \n",
       "1566  Bay Area    CA  \n",
       "1571  Bay Area    CA  \n",
       "1670  Bay Area    CA  \n",
       "2915  Bay Area    CA  \n",
       "3699  Bay Area    CA  \n",
       "4456  Bay Area    CA  \n",
       "4519  Bay Area    CA  "
      ]
     },
     "execution_count": 10,
     "metadata": {},
     "output_type": "execute_result"
    }
   ],
   "source": [
    "df1[df1.ID == 'hil50gpk08pak286']"
   ]
  },
  {
   "cell_type": "code",
   "execution_count": 11,
   "id": "afeadbdd",
   "metadata": {},
   "outputs": [
    {
     "data": {
      "text/html": [
       "<div>\n",
       "<style scoped>\n",
       "    .dataframe tbody tr th:only-of-type {\n",
       "        vertical-align: middle;\n",
       "    }\n",
       "\n",
       "    .dataframe tbody tr th {\n",
       "        vertical-align: top;\n",
       "    }\n",
       "\n",
       "    .dataframe thead th {\n",
       "        text-align: right;\n",
       "    }\n",
       "</style>\n",
       "<table border=\"1\" class=\"dataframe\">\n",
       "  <thead>\n",
       "    <tr style=\"text-align: right;\">\n",
       "      <th></th>\n",
       "      <th>ID</th>\n",
       "      <th>First Name</th>\n",
       "      <th>Monthly Income</th>\n",
       "      <th>Pets</th>\n",
       "      <th>Date of Birth</th>\n",
       "      <th>Market</th>\n",
       "      <th>State</th>\n",
       "    </tr>\n",
       "  </thead>\n",
       "  <tbody>\n",
       "    <tr>\n",
       "      <th>11</th>\n",
       "      <td>669fasfgrrd204ru</td>\n",
       "      <td>Kailie</td>\n",
       "      <td>NaN</td>\n",
       "      <td>Yes</td>\n",
       "      <td>2006-05-04</td>\n",
       "      <td>East</td>\n",
       "      <td>FL</td>\n",
       "    </tr>\n",
       "    <tr>\n",
       "      <th>274</th>\n",
       "      <td>669fasfgrrd204ru</td>\n",
       "      <td>Andrew</td>\n",
       "      <td>NaN</td>\n",
       "      <td>Yes</td>\n",
       "      <td>2005-03-15</td>\n",
       "      <td>East</td>\n",
       "      <td>FL</td>\n",
       "    </tr>\n",
       "    <tr>\n",
       "      <th>980</th>\n",
       "      <td>669fasfgrrd204ru</td>\n",
       "      <td>Kailie</td>\n",
       "      <td>NaN</td>\n",
       "      <td>Yes</td>\n",
       "      <td>2006-05-04</td>\n",
       "      <td>East</td>\n",
       "      <td>FL</td>\n",
       "    </tr>\n",
       "    <tr>\n",
       "      <th>1267</th>\n",
       "      <td>669fasfgrrd204ru</td>\n",
       "      <td>Andrew</td>\n",
       "      <td>NaN</td>\n",
       "      <td>Yes</td>\n",
       "      <td>2005-03-15</td>\n",
       "      <td>East</td>\n",
       "      <td>FL</td>\n",
       "    </tr>\n",
       "    <tr>\n",
       "      <th>1704</th>\n",
       "      <td>669fasfgrrd204ru</td>\n",
       "      <td>Lauren</td>\n",
       "      <td>NaN</td>\n",
       "      <td>Yes</td>\n",
       "      <td>2008-12-29</td>\n",
       "      <td>East</td>\n",
       "      <td>FL</td>\n",
       "    </tr>\n",
       "    <tr>\n",
       "      <th>1744</th>\n",
       "      <td>669fasfgrrd204ru</td>\n",
       "      <td>Nolan</td>\n",
       "      <td>NaN</td>\n",
       "      <td>Yes</td>\n",
       "      <td>2009-08-19</td>\n",
       "      <td>East</td>\n",
       "      <td>FL</td>\n",
       "    </tr>\n",
       "    <tr>\n",
       "      <th>3269</th>\n",
       "      <td>669fasfgrrd204ru</td>\n",
       "      <td>Nolan</td>\n",
       "      <td>NaN</td>\n",
       "      <td>Yes</td>\n",
       "      <td>2009-08-19</td>\n",
       "      <td>East</td>\n",
       "      <td>FL</td>\n",
       "    </tr>\n",
       "    <tr>\n",
       "      <th>3748</th>\n",
       "      <td>669fasfgrrd204ru</td>\n",
       "      <td>Lauren</td>\n",
       "      <td>NaN</td>\n",
       "      <td>Yes</td>\n",
       "      <td>2008-12-29</td>\n",
       "      <td>East</td>\n",
       "      <td>FL</td>\n",
       "    </tr>\n",
       "  </tbody>\n",
       "</table>\n",
       "</div>"
      ],
      "text/plain": [
       "                    ID First Name  Monthly Income Pets Date of Birth Market  \\\n",
       "11    669fasfgrrd204ru     Kailie             NaN  Yes    2006-05-04   East   \n",
       "274   669fasfgrrd204ru     Andrew             NaN  Yes    2005-03-15   East   \n",
       "980   669fasfgrrd204ru     Kailie             NaN  Yes    2006-05-04   East   \n",
       "1267  669fasfgrrd204ru     Andrew             NaN  Yes    2005-03-15   East   \n",
       "1704  669fasfgrrd204ru     Lauren             NaN  Yes    2008-12-29   East   \n",
       "1744  669fasfgrrd204ru      Nolan             NaN  Yes    2009-08-19   East   \n",
       "3269  669fasfgrrd204ru      Nolan             NaN  Yes    2009-08-19   East   \n",
       "3748  669fasfgrrd204ru     Lauren             NaN  Yes    2008-12-29   East   \n",
       "\n",
       "     State  \n",
       "11      FL  \n",
       "274     FL  \n",
       "980     FL  \n",
       "1267    FL  \n",
       "1704    FL  \n",
       "1744    FL  \n",
       "3269    FL  \n",
       "3748    FL  "
      ]
     },
     "execution_count": 11,
     "metadata": {},
     "output_type": "execute_result"
    }
   ],
   "source": [
    "df1[df1.ID == '669fasfgrrd204ru']"
   ]
  },
  {
   "cell_type": "markdown",
   "id": "6eb0f7f2",
   "metadata": {},
   "source": [
    "We can see that each unique ID present a specific household, however the dataframe suggets that there are duplicates data for some of the ID Numbers, therefore I will delete those duplicates."
   ]
  },
  {
   "cell_type": "code",
   "execution_count": 12,
   "id": "9b291fbd",
   "metadata": {},
   "outputs": [
    {
     "data": {
      "text/plain": [
       "0.00        9\n",
       "1.00        6\n",
       "123.00      1\n",
       "557.00      2\n",
       "800.00      3\n",
       "840.00      1\n",
       "974.00      1\n",
       "1000.00     2\n",
       "1200.00     2\n",
       "1300.00     1\n",
       "1316.00     1\n",
       "1500.00     6\n",
       "1650.00     3\n",
       "1680.00     3\n",
       "1700.00     1\n",
       "1780.00     1\n",
       "1793.00     2\n",
       "1800.00     1\n",
       "1892.00     1\n",
       "1900.00     1\n",
       "1920.00     3\n",
       "1925.00     1\n",
       "2000.00     3\n",
       "2080.00     1\n",
       "2100.00     2\n",
       "2122.00     1\n",
       "2160.00     2\n",
       "2200.00     1\n",
       "2224.39     3\n",
       "2400.00     4\n",
       "2500.00     4\n",
       "2580.00     1\n",
       "2600.00     3\n",
       "2800.00     1\n",
       "2823.36     3\n",
       "2900.00     3\n",
       "3000.00     6\n",
       "3033.00     1\n",
       "3157.00     1\n",
       "3200.00     3\n",
       "3552.00     2\n",
       "4000.00     6\n",
       "4333.00     2\n",
       "4500.00     2\n",
       "4960.00     2\n",
       "5000.00     2\n",
       "5060.00     3\n",
       "5600.00     3\n",
       "5800.00     3\n",
       "5856.00     1\n",
       "6000.00     1\n",
       "6258.66     1\n",
       "6819.08     1\n",
       "7900.00     2\n",
       "8000.00     2\n",
       "8664.00     1\n",
       "10000.00    5\n",
       "11833.00    2\n",
       "12000.00    3\n",
       "60000.00    2\n",
       "Name: Monthly Income, dtype: int64"
      ]
     },
     "execution_count": 12,
     "metadata": {},
     "output_type": "execute_result"
    }
   ],
   "source": [
    "df1['Monthly Income'].value_counts().sort_index()"
   ]
  },
  {
   "cell_type": "code",
   "execution_count": 13,
   "id": "fd13017b",
   "metadata": {},
   "outputs": [
    {
     "data": {
      "text/html": [
       "<div>\n",
       "<style scoped>\n",
       "    .dataframe tbody tr th:only-of-type {\n",
       "        vertical-align: middle;\n",
       "    }\n",
       "\n",
       "    .dataframe tbody tr th {\n",
       "        vertical-align: top;\n",
       "    }\n",
       "\n",
       "    .dataframe thead th {\n",
       "        text-align: right;\n",
       "    }\n",
       "</style>\n",
       "<table border=\"1\" class=\"dataframe\">\n",
       "  <thead>\n",
       "    <tr style=\"text-align: right;\">\n",
       "      <th></th>\n",
       "      <th>ID</th>\n",
       "      <th>First Name</th>\n",
       "      <th>Monthly Income</th>\n",
       "      <th>Pets</th>\n",
       "      <th>Date of Birth</th>\n",
       "      <th>Market</th>\n",
       "      <th>State</th>\n",
       "    </tr>\n",
       "  </thead>\n",
       "  <tbody>\n",
       "    <tr>\n",
       "      <th>167</th>\n",
       "      <td>cm10nprhrb0u3lum</td>\n",
       "      <td>Ethan</td>\n",
       "      <td>0.0</td>\n",
       "      <td>No</td>\n",
       "      <td>2016-05-05</td>\n",
       "      <td>Bay Area</td>\n",
       "      <td>CA</td>\n",
       "    </tr>\n",
       "    <tr>\n",
       "      <th>1999</th>\n",
       "      <td>uesouspc8aj4pu5o</td>\n",
       "      <td>Jose</td>\n",
       "      <td>0.0</td>\n",
       "      <td>No</td>\n",
       "      <td>2017-11-03</td>\n",
       "      <td>SoCal</td>\n",
       "      <td>CA</td>\n",
       "    </tr>\n",
       "    <tr>\n",
       "      <th>2410</th>\n",
       "      <td>846fkuqo0nentnu5</td>\n",
       "      <td>Iknamullah</td>\n",
       "      <td>0.0</td>\n",
       "      <td>No</td>\n",
       "      <td>2001-07-02</td>\n",
       "      <td>SoCal</td>\n",
       "      <td>CA</td>\n",
       "    </tr>\n",
       "    <tr>\n",
       "      <th>2781</th>\n",
       "      <td>5a7i1fep1jl4fhvt</td>\n",
       "      <td>Aaron</td>\n",
       "      <td>0.0</td>\n",
       "      <td>No</td>\n",
       "      <td>2017-01-20</td>\n",
       "      <td>SoCal</td>\n",
       "      <td>CA</td>\n",
       "    </tr>\n",
       "    <tr>\n",
       "      <th>3562</th>\n",
       "      <td>cm10nprhrb0u3lum</td>\n",
       "      <td>Evelyn</td>\n",
       "      <td>0.0</td>\n",
       "      <td>No</td>\n",
       "      <td>2014-04-30</td>\n",
       "      <td>Bay Area</td>\n",
       "      <td>CA</td>\n",
       "    </tr>\n",
       "    <tr>\n",
       "      <th>3892</th>\n",
       "      <td>onfmuf5l373k26jk</td>\n",
       "      <td>Xzavier</td>\n",
       "      <td>0.0</td>\n",
       "      <td>No</td>\n",
       "      <td>2013-01-15</td>\n",
       "      <td>SoCal</td>\n",
       "      <td>CA</td>\n",
       "    </tr>\n",
       "    <tr>\n",
       "      <th>3901</th>\n",
       "      <td>846fkuqo0nentnu5</td>\n",
       "      <td>Sohail</td>\n",
       "      <td>0.0</td>\n",
       "      <td>No</td>\n",
       "      <td>2009-04-09</td>\n",
       "      <td>SoCal</td>\n",
       "      <td>CA</td>\n",
       "    </tr>\n",
       "    <tr>\n",
       "      <th>4345</th>\n",
       "      <td>846fkuqo0nentnu5</td>\n",
       "      <td>Somaya</td>\n",
       "      <td>0.0</td>\n",
       "      <td>No</td>\n",
       "      <td>2003-04-10</td>\n",
       "      <td>SoCal</td>\n",
       "      <td>CA</td>\n",
       "    </tr>\n",
       "    <tr>\n",
       "      <th>4358</th>\n",
       "      <td>onfmuf5l373k26jk</td>\n",
       "      <td>Joeziah</td>\n",
       "      <td>0.0</td>\n",
       "      <td>No</td>\n",
       "      <td>2016-08-31</td>\n",
       "      <td>SoCal</td>\n",
       "      <td>CA</td>\n",
       "    </tr>\n",
       "  </tbody>\n",
       "</table>\n",
       "</div>"
      ],
      "text/plain": [
       "                    ID  First Name  Monthly Income Pets Date of Birth  \\\n",
       "167   cm10nprhrb0u3lum       Ethan             0.0   No    2016-05-05   \n",
       "1999  uesouspc8aj4pu5o        Jose             0.0   No    2017-11-03   \n",
       "2410  846fkuqo0nentnu5  Iknamullah             0.0   No    2001-07-02   \n",
       "2781  5a7i1fep1jl4fhvt       Aaron             0.0   No    2017-01-20   \n",
       "3562  cm10nprhrb0u3lum      Evelyn             0.0   No    2014-04-30   \n",
       "3892  onfmuf5l373k26jk     Xzavier             0.0   No    2013-01-15   \n",
       "3901  846fkuqo0nentnu5      Sohail             0.0   No    2009-04-09   \n",
       "4345  846fkuqo0nentnu5      Somaya             0.0   No    2003-04-10   \n",
       "4358  onfmuf5l373k26jk     Joeziah             0.0   No    2016-08-31   \n",
       "\n",
       "        Market State  \n",
       "167   Bay Area    CA  \n",
       "1999     SoCal    CA  \n",
       "2410     SoCal    CA  \n",
       "2781     SoCal    CA  \n",
       "3562  Bay Area    CA  \n",
       "3892     SoCal    CA  \n",
       "3901     SoCal    CA  \n",
       "4345     SoCal    CA  \n",
       "4358     SoCal    CA  "
      ]
     },
     "execution_count": 13,
     "metadata": {},
     "output_type": "execute_result"
    }
   ],
   "source": [
    "df1[df1['Monthly Income'] == 0]"
   ]
  },
  {
   "cell_type": "code",
   "execution_count": 14,
   "id": "a612b3e7",
   "metadata": {},
   "outputs": [
    {
     "data": {
      "text/html": [
       "<div>\n",
       "<style scoped>\n",
       "    .dataframe tbody tr th:only-of-type {\n",
       "        vertical-align: middle;\n",
       "    }\n",
       "\n",
       "    .dataframe tbody tr th {\n",
       "        vertical-align: top;\n",
       "    }\n",
       "\n",
       "    .dataframe thead th {\n",
       "        text-align: right;\n",
       "    }\n",
       "</style>\n",
       "<table border=\"1\" class=\"dataframe\">\n",
       "  <thead>\n",
       "    <tr style=\"text-align: right;\">\n",
       "      <th></th>\n",
       "      <th>ID</th>\n",
       "      <th>First Name</th>\n",
       "      <th>Monthly Income</th>\n",
       "      <th>Pets</th>\n",
       "      <th>Date of Birth</th>\n",
       "      <th>Market</th>\n",
       "      <th>State</th>\n",
       "    </tr>\n",
       "  </thead>\n",
       "  <tbody>\n",
       "    <tr>\n",
       "      <th>613</th>\n",
       "      <td>hil50gpk08pak286</td>\n",
       "      <td>Elizabeth</td>\n",
       "      <td>1.0</td>\n",
       "      <td>No</td>\n",
       "      <td>2016-10-13</td>\n",
       "      <td>Bay Area</td>\n",
       "      <td>CA</td>\n",
       "    </tr>\n",
       "    <tr>\n",
       "      <th>1571</th>\n",
       "      <td>hil50gpk08pak286</td>\n",
       "      <td>Christian</td>\n",
       "      <td>1.0</td>\n",
       "      <td>No</td>\n",
       "      <td>2012-11-12</td>\n",
       "      <td>Bay Area</td>\n",
       "      <td>CA</td>\n",
       "    </tr>\n",
       "    <tr>\n",
       "      <th>2022</th>\n",
       "      <td>m6156p61vd1lq5c8</td>\n",
       "      <td>Eduardo</td>\n",
       "      <td>1.0</td>\n",
       "      <td>No</td>\n",
       "      <td>2004-04-25</td>\n",
       "      <td>Washington</td>\n",
       "      <td>WA</td>\n",
       "    </tr>\n",
       "    <tr>\n",
       "      <th>2059</th>\n",
       "      <td>m6156p61vd1lq5c8</td>\n",
       "      <td>Jahnuel</td>\n",
       "      <td>1.0</td>\n",
       "      <td>No</td>\n",
       "      <td>2013-09-22</td>\n",
       "      <td>Washington</td>\n",
       "      <td>WA</td>\n",
       "    </tr>\n",
       "    <tr>\n",
       "      <th>4146</th>\n",
       "      <td>m6156p61vd1lq5c8</td>\n",
       "      <td>Samantha</td>\n",
       "      <td>1.0</td>\n",
       "      <td>No</td>\n",
       "      <td>2002-03-28</td>\n",
       "      <td>Washington</td>\n",
       "      <td>WA</td>\n",
       "    </tr>\n",
       "    <tr>\n",
       "      <th>4519</th>\n",
       "      <td>hil50gpk08pak286</td>\n",
       "      <td>Abigail</td>\n",
       "      <td>1.0</td>\n",
       "      <td>No</td>\n",
       "      <td>2016-08-23</td>\n",
       "      <td>Bay Area</td>\n",
       "      <td>CA</td>\n",
       "    </tr>\n",
       "  </tbody>\n",
       "</table>\n",
       "</div>"
      ],
      "text/plain": [
       "                    ID First Name  Monthly Income Pets Date of Birth  \\\n",
       "613   hil50gpk08pak286  Elizabeth             1.0   No    2016-10-13   \n",
       "1571  hil50gpk08pak286  Christian             1.0   No    2012-11-12   \n",
       "2022  m6156p61vd1lq5c8    Eduardo             1.0   No    2004-04-25   \n",
       "2059  m6156p61vd1lq5c8    Jahnuel             1.0   No    2013-09-22   \n",
       "4146  m6156p61vd1lq5c8   Samantha             1.0   No    2002-03-28   \n",
       "4519  hil50gpk08pak286    Abigail             1.0   No    2016-08-23   \n",
       "\n",
       "          Market State  \n",
       "613     Bay Area    CA  \n",
       "1571    Bay Area    CA  \n",
       "2022  Washington    WA  \n",
       "2059  Washington    WA  \n",
       "4146  Washington    WA  \n",
       "4519    Bay Area    CA  "
      ]
     },
     "execution_count": 14,
     "metadata": {},
     "output_type": "execute_result"
    }
   ],
   "source": [
    "df1[df1['Monthly Income'] == 1]"
   ]
  },
  {
   "cell_type": "code",
   "execution_count": 15,
   "id": "09ba6c37",
   "metadata": {},
   "outputs": [],
   "source": [
    "df1.loc[df1['Monthly Income'] == 1, 'Monthly Income'] = 0"
   ]
  },
  {
   "cell_type": "code",
   "execution_count": 16,
   "id": "1afd2b58",
   "metadata": {},
   "outputs": [
    {
     "data": {
      "text/html": [
       "<div>\n",
       "<style scoped>\n",
       "    .dataframe tbody tr th:only-of-type {\n",
       "        vertical-align: middle;\n",
       "    }\n",
       "\n",
       "    .dataframe tbody tr th {\n",
       "        vertical-align: top;\n",
       "    }\n",
       "\n",
       "    .dataframe thead th {\n",
       "        text-align: right;\n",
       "    }\n",
       "</style>\n",
       "<table border=\"1\" class=\"dataframe\">\n",
       "  <thead>\n",
       "    <tr style=\"text-align: right;\">\n",
       "      <th></th>\n",
       "      <th>ID1</th>\n",
       "      <th>AVG Household Income</th>\n",
       "    </tr>\n",
       "  </thead>\n",
       "  <tbody>\n",
       "    <tr>\n",
       "      <th>0</th>\n",
       "      <td>1036esvlf765gpvf</td>\n",
       "      <td>NaN</td>\n",
       "    </tr>\n",
       "    <tr>\n",
       "      <th>1</th>\n",
       "      <td>103ets9k5pi1lb4c</td>\n",
       "      <td>NaN</td>\n",
       "    </tr>\n",
       "    <tr>\n",
       "      <th>2</th>\n",
       "      <td>10meigo5d37fh0nf</td>\n",
       "      <td>NaN</td>\n",
       "    </tr>\n",
       "    <tr>\n",
       "      <th>3</th>\n",
       "      <td>10ppscvogqrlda8i</td>\n",
       "      <td>NaN</td>\n",
       "    </tr>\n",
       "    <tr>\n",
       "      <th>4</th>\n",
       "      <td>11kipbq7epnv7gn1</td>\n",
       "      <td>NaN</td>\n",
       "    </tr>\n",
       "    <tr>\n",
       "      <th>...</th>\n",
       "      <td>...</td>\n",
       "      <td>...</td>\n",
       "    </tr>\n",
       "    <tr>\n",
       "      <th>2520</th>\n",
       "      <td>vuvs5i7ts942hnq2</td>\n",
       "      <td>NaN</td>\n",
       "    </tr>\n",
       "    <tr>\n",
       "      <th>2521</th>\n",
       "      <td>vv3gnlnaghf2vm27</td>\n",
       "      <td>NaN</td>\n",
       "    </tr>\n",
       "    <tr>\n",
       "      <th>2522</th>\n",
       "      <td>vv5bj18ule2sg5q0</td>\n",
       "      <td>NaN</td>\n",
       "    </tr>\n",
       "    <tr>\n",
       "      <th>2523</th>\n",
       "      <td>vv7r5j2runbrabuo</td>\n",
       "      <td>NaN</td>\n",
       "    </tr>\n",
       "    <tr>\n",
       "      <th>2524</th>\n",
       "      <td>vvrs931tpdo5t681</td>\n",
       "      <td>NaN</td>\n",
       "    </tr>\n",
       "  </tbody>\n",
       "</table>\n",
       "<p>2525 rows × 2 columns</p>\n",
       "</div>"
      ],
      "text/plain": [
       "                   ID1  AVG Household Income\n",
       "0     1036esvlf765gpvf                   NaN\n",
       "1     103ets9k5pi1lb4c                   NaN\n",
       "2     10meigo5d37fh0nf                   NaN\n",
       "3     10ppscvogqrlda8i                   NaN\n",
       "4     11kipbq7epnv7gn1                   NaN\n",
       "...                ...                   ...\n",
       "2520  vuvs5i7ts942hnq2                   NaN\n",
       "2521  vv3gnlnaghf2vm27                   NaN\n",
       "2522  vv5bj18ule2sg5q0                   NaN\n",
       "2523  vv7r5j2runbrabuo                   NaN\n",
       "2524  vvrs931tpdo5t681                   NaN\n",
       "\n",
       "[2525 rows x 2 columns]"
      ]
     },
     "execution_count": 16,
     "metadata": {},
     "output_type": "execute_result"
    }
   ],
   "source": [
    "g = df1.groupby('ID')['Monthly Income'].mean().reset_index()\n",
    "g.columns = ['ID1', 'AVG Household Income']\n",
    "g"
   ]
  },
  {
   "cell_type": "code",
   "execution_count": 17,
   "id": "27df7b9c",
   "metadata": {},
   "outputs": [
    {
     "data": {
      "text/html": [
       "<div>\n",
       "<style scoped>\n",
       "    .dataframe tbody tr th:only-of-type {\n",
       "        vertical-align: middle;\n",
       "    }\n",
       "\n",
       "    .dataframe tbody tr th {\n",
       "        vertical-align: top;\n",
       "    }\n",
       "\n",
       "    .dataframe thead th {\n",
       "        text-align: right;\n",
       "    }\n",
       "</style>\n",
       "<table border=\"1\" class=\"dataframe\">\n",
       "  <thead>\n",
       "    <tr style=\"text-align: right;\">\n",
       "      <th></th>\n",
       "      <th>ID</th>\n",
       "      <th>First Name</th>\n",
       "      <th>Monthly Income</th>\n",
       "      <th>Pets</th>\n",
       "      <th>Date of Birth</th>\n",
       "      <th>Market</th>\n",
       "      <th>State</th>\n",
       "      <th>AVG Household Income</th>\n",
       "    </tr>\n",
       "  </thead>\n",
       "  <tbody>\n",
       "    <tr>\n",
       "      <th>0</th>\n",
       "      <td>p3do03ecr7t67spn</td>\n",
       "      <td>Jayzua-nae</td>\n",
       "      <td>NaN</td>\n",
       "      <td>Yes</td>\n",
       "      <td>2011-04-20</td>\n",
       "      <td>East</td>\n",
       "      <td>NC</td>\n",
       "      <td>NaN</td>\n",
       "    </tr>\n",
       "    <tr>\n",
       "      <th>1</th>\n",
       "      <td>p3do03ecr7t67spn</td>\n",
       "      <td>Jason</td>\n",
       "      <td>NaN</td>\n",
       "      <td>Yes</td>\n",
       "      <td>2009-01-09</td>\n",
       "      <td>East</td>\n",
       "      <td>NC</td>\n",
       "      <td>NaN</td>\n",
       "    </tr>\n",
       "    <tr>\n",
       "      <th>2</th>\n",
       "      <td>p3do03ecr7t67spn</td>\n",
       "      <td>Janyla</td>\n",
       "      <td>NaN</td>\n",
       "      <td>Yes</td>\n",
       "      <td>2012-11-23</td>\n",
       "      <td>East</td>\n",
       "      <td>NC</td>\n",
       "      <td>NaN</td>\n",
       "    </tr>\n",
       "    <tr>\n",
       "      <th>3</th>\n",
       "      <td>sfkib3fm5afbg4lv</td>\n",
       "      <td>Maxim</td>\n",
       "      <td>NaN</td>\n",
       "      <td>No</td>\n",
       "      <td>2009-01-20</td>\n",
       "      <td>Bay Area</td>\n",
       "      <td>CA</td>\n",
       "      <td>NaN</td>\n",
       "    </tr>\n",
       "    <tr>\n",
       "      <th>4</th>\n",
       "      <td>sfkib3fm5afbg4lv</td>\n",
       "      <td>Nicole</td>\n",
       "      <td>NaN</td>\n",
       "      <td>No</td>\n",
       "      <td>2011-05-27</td>\n",
       "      <td>Bay Area</td>\n",
       "      <td>CA</td>\n",
       "      <td>NaN</td>\n",
       "    </tr>\n",
       "    <tr>\n",
       "      <th>...</th>\n",
       "      <td>...</td>\n",
       "      <td>...</td>\n",
       "      <td>...</td>\n",
       "      <td>...</td>\n",
       "      <td>...</td>\n",
       "      <td>...</td>\n",
       "      <td>...</td>\n",
       "      <td>...</td>\n",
       "    </tr>\n",
       "    <tr>\n",
       "      <th>4856</th>\n",
       "      <td>q26l9nm5rr6n4rve</td>\n",
       "      <td>Leon</td>\n",
       "      <td>NaN</td>\n",
       "      <td>No</td>\n",
       "      <td>2018-03-09</td>\n",
       "      <td>East</td>\n",
       "      <td>GA</td>\n",
       "      <td>NaN</td>\n",
       "    </tr>\n",
       "    <tr>\n",
       "      <th>4857</th>\n",
       "      <td>4busp4hui2rlhfjn</td>\n",
       "      <td>Ariel</td>\n",
       "      <td>NaN</td>\n",
       "      <td>No</td>\n",
       "      <td>2012-06-19</td>\n",
       "      <td>East</td>\n",
       "      <td>AL</td>\n",
       "      <td>NaN</td>\n",
       "    </tr>\n",
       "    <tr>\n",
       "      <th>4858</th>\n",
       "      <td>fqt3n1in42ddp0ov</td>\n",
       "      <td>Cole</td>\n",
       "      <td>NaN</td>\n",
       "      <td>No</td>\n",
       "      <td>2009-10-10</td>\n",
       "      <td>Washington</td>\n",
       "      <td>WA</td>\n",
       "      <td>NaN</td>\n",
       "    </tr>\n",
       "    <tr>\n",
       "      <th>4859</th>\n",
       "      <td>vjb2sfvo1injlen0</td>\n",
       "      <td>kaiden</td>\n",
       "      <td>NaN</td>\n",
       "      <td>Yes</td>\n",
       "      <td>2014-04-11</td>\n",
       "      <td>East</td>\n",
       "      <td>NC</td>\n",
       "      <td>NaN</td>\n",
       "    </tr>\n",
       "    <tr>\n",
       "      <th>4860</th>\n",
       "      <td>9md3lb44u6o4ddri</td>\n",
       "      <td>Malia</td>\n",
       "      <td>NaN</td>\n",
       "      <td>No</td>\n",
       "      <td>2020-02-27</td>\n",
       "      <td>SoCal</td>\n",
       "      <td>CA</td>\n",
       "      <td>NaN</td>\n",
       "    </tr>\n",
       "  </tbody>\n",
       "</table>\n",
       "<p>4861 rows × 8 columns</p>\n",
       "</div>"
      ],
      "text/plain": [
       "                    ID  First Name  Monthly Income Pets Date of Birth  \\\n",
       "0     p3do03ecr7t67spn  Jayzua-nae             NaN  Yes    2011-04-20   \n",
       "1     p3do03ecr7t67spn       Jason             NaN  Yes    2009-01-09   \n",
       "2     p3do03ecr7t67spn      Janyla             NaN  Yes    2012-11-23   \n",
       "3     sfkib3fm5afbg4lv       Maxim             NaN   No    2009-01-20   \n",
       "4     sfkib3fm5afbg4lv      Nicole             NaN   No    2011-05-27   \n",
       "...                ...         ...             ...  ...           ...   \n",
       "4856  q26l9nm5rr6n4rve        Leon             NaN   No    2018-03-09   \n",
       "4857  4busp4hui2rlhfjn       Ariel             NaN   No    2012-06-19   \n",
       "4858  fqt3n1in42ddp0ov        Cole             NaN   No    2009-10-10   \n",
       "4859  vjb2sfvo1injlen0      kaiden             NaN  Yes    2014-04-11   \n",
       "4860  9md3lb44u6o4ddri       Malia             NaN   No    2020-02-27   \n",
       "\n",
       "          Market State  AVG Household Income  \n",
       "0           East    NC                   NaN  \n",
       "1           East    NC                   NaN  \n",
       "2           East    NC                   NaN  \n",
       "3       Bay Area    CA                   NaN  \n",
       "4       Bay Area    CA                   NaN  \n",
       "...          ...   ...                   ...  \n",
       "4856        East    GA                   NaN  \n",
       "4857        East    AL                   NaN  \n",
       "4858  Washington    WA                   NaN  \n",
       "4859        East    NC                   NaN  \n",
       "4860       SoCal    CA                   NaN  \n",
       "\n",
       "[4861 rows x 8 columns]"
      ]
     },
     "execution_count": 17,
     "metadata": {},
     "output_type": "execute_result"
    }
   ],
   "source": [
    "df1 = df1.merge(g, left_on='ID', right_on='ID1')\n",
    "\n",
    "df1 = df1.drop(['ID1'], axis=1)\n",
    "df1"
   ]
  },
  {
   "cell_type": "code",
   "execution_count": 18,
   "id": "77938537",
   "metadata": {},
   "outputs": [
    {
     "data": {
      "text/html": [
       "<div>\n",
       "<style scoped>\n",
       "    .dataframe tbody tr th:only-of-type {\n",
       "        vertical-align: middle;\n",
       "    }\n",
       "\n",
       "    .dataframe tbody tr th {\n",
       "        vertical-align: top;\n",
       "    }\n",
       "\n",
       "    .dataframe thead th {\n",
       "        text-align: right;\n",
       "    }\n",
       "</style>\n",
       "<table border=\"1\" class=\"dataframe\">\n",
       "  <thead>\n",
       "    <tr style=\"text-align: right;\">\n",
       "      <th></th>\n",
       "      <th>ID</th>\n",
       "      <th>First Name</th>\n",
       "      <th>Monthly Income</th>\n",
       "      <th>Pets</th>\n",
       "      <th>Date of Birth</th>\n",
       "      <th>Market</th>\n",
       "      <th>State</th>\n",
       "      <th>AVG Household Income</th>\n",
       "    </tr>\n",
       "  </thead>\n",
       "  <tbody>\n",
       "    <tr>\n",
       "      <th>0</th>\n",
       "      <td>p3do03ecr7t67spn</td>\n",
       "      <td>Jayzua-nae</td>\n",
       "      <td>NaN</td>\n",
       "      <td>Yes</td>\n",
       "      <td>2011-04-20</td>\n",
       "      <td>East</td>\n",
       "      <td>NC</td>\n",
       "      <td>NaN</td>\n",
       "    </tr>\n",
       "    <tr>\n",
       "      <th>1</th>\n",
       "      <td>p3do03ecr7t67spn</td>\n",
       "      <td>Jason</td>\n",
       "      <td>NaN</td>\n",
       "      <td>Yes</td>\n",
       "      <td>2009-01-09</td>\n",
       "      <td>East</td>\n",
       "      <td>NC</td>\n",
       "      <td>NaN</td>\n",
       "    </tr>\n",
       "    <tr>\n",
       "      <th>2</th>\n",
       "      <td>p3do03ecr7t67spn</td>\n",
       "      <td>Janyla</td>\n",
       "      <td>NaN</td>\n",
       "      <td>Yes</td>\n",
       "      <td>2012-11-23</td>\n",
       "      <td>East</td>\n",
       "      <td>NC</td>\n",
       "      <td>NaN</td>\n",
       "    </tr>\n",
       "    <tr>\n",
       "      <th>3</th>\n",
       "      <td>sfkib3fm5afbg4lv</td>\n",
       "      <td>Maxim</td>\n",
       "      <td>NaN</td>\n",
       "      <td>No</td>\n",
       "      <td>2009-01-20</td>\n",
       "      <td>Bay Area</td>\n",
       "      <td>CA</td>\n",
       "      <td>NaN</td>\n",
       "    </tr>\n",
       "    <tr>\n",
       "      <th>4</th>\n",
       "      <td>sfkib3fm5afbg4lv</td>\n",
       "      <td>Nicole</td>\n",
       "      <td>NaN</td>\n",
       "      <td>No</td>\n",
       "      <td>2011-05-27</td>\n",
       "      <td>Bay Area</td>\n",
       "      <td>CA</td>\n",
       "      <td>NaN</td>\n",
       "    </tr>\n",
       "    <tr>\n",
       "      <th>...</th>\n",
       "      <td>...</td>\n",
       "      <td>...</td>\n",
       "      <td>...</td>\n",
       "      <td>...</td>\n",
       "      <td>...</td>\n",
       "      <td>...</td>\n",
       "      <td>...</td>\n",
       "      <td>...</td>\n",
       "    </tr>\n",
       "    <tr>\n",
       "      <th>4856</th>\n",
       "      <td>q26l9nm5rr6n4rve</td>\n",
       "      <td>Leon</td>\n",
       "      <td>NaN</td>\n",
       "      <td>No</td>\n",
       "      <td>2018-03-09</td>\n",
       "      <td>East</td>\n",
       "      <td>GA</td>\n",
       "      <td>NaN</td>\n",
       "    </tr>\n",
       "    <tr>\n",
       "      <th>4857</th>\n",
       "      <td>4busp4hui2rlhfjn</td>\n",
       "      <td>Ariel</td>\n",
       "      <td>NaN</td>\n",
       "      <td>No</td>\n",
       "      <td>2012-06-19</td>\n",
       "      <td>East</td>\n",
       "      <td>AL</td>\n",
       "      <td>NaN</td>\n",
       "    </tr>\n",
       "    <tr>\n",
       "      <th>4858</th>\n",
       "      <td>fqt3n1in42ddp0ov</td>\n",
       "      <td>Cole</td>\n",
       "      <td>NaN</td>\n",
       "      <td>No</td>\n",
       "      <td>2009-10-10</td>\n",
       "      <td>Washington</td>\n",
       "      <td>WA</td>\n",
       "      <td>NaN</td>\n",
       "    </tr>\n",
       "    <tr>\n",
       "      <th>4859</th>\n",
       "      <td>vjb2sfvo1injlen0</td>\n",
       "      <td>kaiden</td>\n",
       "      <td>NaN</td>\n",
       "      <td>Yes</td>\n",
       "      <td>2014-04-11</td>\n",
       "      <td>East</td>\n",
       "      <td>NC</td>\n",
       "      <td>NaN</td>\n",
       "    </tr>\n",
       "    <tr>\n",
       "      <th>4860</th>\n",
       "      <td>9md3lb44u6o4ddri</td>\n",
       "      <td>Malia</td>\n",
       "      <td>NaN</td>\n",
       "      <td>No</td>\n",
       "      <td>2020-02-27</td>\n",
       "      <td>SoCal</td>\n",
       "      <td>CA</td>\n",
       "      <td>NaN</td>\n",
       "    </tr>\n",
       "  </tbody>\n",
       "</table>\n",
       "<p>4734 rows × 8 columns</p>\n",
       "</div>"
      ],
      "text/plain": [
       "                    ID  First Name  Monthly Income Pets Date of Birth  \\\n",
       "0     p3do03ecr7t67spn  Jayzua-nae             NaN  Yes    2011-04-20   \n",
       "1     p3do03ecr7t67spn       Jason             NaN  Yes    2009-01-09   \n",
       "2     p3do03ecr7t67spn      Janyla             NaN  Yes    2012-11-23   \n",
       "3     sfkib3fm5afbg4lv       Maxim             NaN   No    2009-01-20   \n",
       "4     sfkib3fm5afbg4lv      Nicole             NaN   No    2011-05-27   \n",
       "...                ...         ...             ...  ...           ...   \n",
       "4856  q26l9nm5rr6n4rve        Leon             NaN   No    2018-03-09   \n",
       "4857  4busp4hui2rlhfjn       Ariel             NaN   No    2012-06-19   \n",
       "4858  fqt3n1in42ddp0ov        Cole             NaN   No    2009-10-10   \n",
       "4859  vjb2sfvo1injlen0      kaiden             NaN  Yes    2014-04-11   \n",
       "4860  9md3lb44u6o4ddri       Malia             NaN   No    2020-02-27   \n",
       "\n",
       "          Market State  AVG Household Income  \n",
       "0           East    NC                   NaN  \n",
       "1           East    NC                   NaN  \n",
       "2           East    NC                   NaN  \n",
       "3       Bay Area    CA                   NaN  \n",
       "4       Bay Area    CA                   NaN  \n",
       "...          ...   ...                   ...  \n",
       "4856        East    GA                   NaN  \n",
       "4857        East    AL                   NaN  \n",
       "4858  Washington    WA                   NaN  \n",
       "4859        East    NC                   NaN  \n",
       "4860       SoCal    CA                   NaN  \n",
       "\n",
       "[4734 rows x 8 columns]"
      ]
     },
     "execution_count": 18,
     "metadata": {},
     "output_type": "execute_result"
    }
   ],
   "source": [
    "data = df1[~df1.duplicated(['ID', 'First Name', 'Date of Birth'])]\n",
    "data"
   ]
  },
  {
   "cell_type": "code",
   "execution_count": 19,
   "id": "0bff4221",
   "metadata": {},
   "outputs": [
    {
     "data": {
      "text/plain": [
       "0.000000        3\n",
       "2325.000000     3\n",
       "2823.360000     3\n",
       "800.000000      3\n",
       "10000.000000    3\n",
       "4150.000000     3\n",
       "2193.333333     3\n",
       "1920.000000     3\n",
       "1625.000000     3\n",
       "3912.195000     3\n",
       "12000.000000    3\n",
       "2000.000000     3\n",
       "2530.000000     3\n",
       "4960.000000     2\n",
       "5000.000000     2\n",
       "1328.500000     2\n",
       "3063.000000     2\n",
       "7900.000000     2\n",
       "60000.000000    2\n",
       "5750.000000     2\n",
       "1000.000000     2\n",
       "4500.000000     2\n",
       "5916.500000     2\n",
       "1200.000000     2\n",
       "8000.000000     2\n",
       "3376.000000     2\n",
       "2160.000000     1\n",
       "3100.000000     1\n",
       "3040.000000     1\n",
       "6819.080000     1\n",
       "2300.000000     1\n",
       "4428.000000     1\n",
       "974.000000      1\n",
       "1940.000000     1\n",
       "8664.000000     1\n",
       "3033.000000     1\n",
       "2157.333333     1\n",
       "1316.000000     1\n",
       "3000.000000     1\n",
       "6258.660000     1\n",
       "6000.000000     1\n",
       "1122.500000     1\n",
       "1712.500000     1\n",
       "1578.500000     1\n",
       "1800.000000     1\n",
       "1980.000000     1\n",
       "2420.000000     1\n",
       "3250.000000     1\n",
       "Name: AVG Household Income, dtype: int64"
      ]
     },
     "execution_count": 19,
     "metadata": {},
     "output_type": "execute_result"
    }
   ],
   "source": [
    "data['AVG Household Income'].value_counts()"
   ]
  },
  {
   "cell_type": "code",
   "execution_count": 20,
   "id": "89c231d1",
   "metadata": {},
   "outputs": [
    {
     "data": {
      "text/plain": [
       "<AxesSubplot:xlabel='AVG Household Income', ylabel='Count'>"
      ]
     },
     "execution_count": 20,
     "metadata": {},
     "output_type": "execute_result"
    },
    {
     "data": {
      "image/png": "[encoded data removed]",
      "text/plain": [
       "<Figure size 432x288 with 1 Axes>"
      ]
     },
     "metadata": {
      "needs_background": "light"
     },
     "output_type": "display_data"
    }
   ],
   "source": [
    "data = data[data['AVG Household Income'].notnull()]\n",
    "sns.histplot(data['AVG Household Income'])"
   ]
  },
  {
   "cell_type": "code",
   "execution_count": 21,
   "id": "01aae920",
   "metadata": {},
   "outputs": [
    {
     "data": {
      "text/html": [
       "<div>\n",
       "<style scoped>\n",
       "    .dataframe tbody tr th:only-of-type {\n",
       "        vertical-align: middle;\n",
       "    }\n",
       "\n",
       "    .dataframe tbody tr th {\n",
       "        vertical-align: top;\n",
       "    }\n",
       "\n",
       "    .dataframe thead th {\n",
       "        text-align: right;\n",
       "    }\n",
       "</style>\n",
       "<table border=\"1\" class=\"dataframe\">\n",
       "  <thead>\n",
       "    <tr style=\"text-align: right;\">\n",
       "      <th></th>\n",
       "      <th>ID</th>\n",
       "      <th>First Name</th>\n",
       "      <th>Monthly Income</th>\n",
       "      <th>Pets</th>\n",
       "      <th>Date of Birth</th>\n",
       "      <th>Market</th>\n",
       "      <th>State</th>\n",
       "      <th>AVG Household Income</th>\n",
       "    </tr>\n",
       "  </thead>\n",
       "  <tbody>\n",
       "    <tr>\n",
       "      <th>4257</th>\n",
       "      <td>3n7unkoc72m6d4jn</td>\n",
       "      <td>Matilda</td>\n",
       "      <td>60000.0</td>\n",
       "      <td>Yes</td>\n",
       "      <td>2013-08-27</td>\n",
       "      <td>Sacramento</td>\n",
       "      <td>CA</td>\n",
       "      <td>60000.0</td>\n",
       "    </tr>\n",
       "    <tr>\n",
       "      <th>4258</th>\n",
       "      <td>3n7unkoc72m6d4jn</td>\n",
       "      <td>Landon</td>\n",
       "      <td>60000.0</td>\n",
       "      <td>Yes</td>\n",
       "      <td>2009-09-19</td>\n",
       "      <td>Sacramento</td>\n",
       "      <td>CA</td>\n",
       "      <td>60000.0</td>\n",
       "    </tr>\n",
       "  </tbody>\n",
       "</table>\n",
       "</div>"
      ],
      "text/plain": [
       "                    ID First Name  Monthly Income Pets Date of Birth  \\\n",
       "4257  3n7unkoc72m6d4jn    Matilda         60000.0  Yes    2013-08-27   \n",
       "4258  3n7unkoc72m6d4jn     Landon         60000.0  Yes    2009-09-19   \n",
       "\n",
       "          Market State  AVG Household Income  \n",
       "4257  Sacramento    CA               60000.0  \n",
       "4258  Sacramento    CA               60000.0  "
      ]
     },
     "execution_count": 21,
     "metadata": {},
     "output_type": "execute_result"
    }
   ],
   "source": [
    "data[data['AVG Household Income'] == 60000]"
   ]
  },
  {
   "cell_type": "code",
   "execution_count": 22,
   "id": "b481b9f9",
   "metadata": {},
   "outputs": [
    {
     "name": "stderr",
     "output_type": "stream",
     "text": [
      "C:\\Users\\arash\\anaconda3\\lib\\site-packages\\pandas\\core\\indexing.py:1720: SettingWithCopyWarning: \n",
      "A value is trying to be set on a copy of a slice from a DataFrame.\n",
      "Try using .loc[row_indexer,col_indexer] = value instead\n",
      "\n",
      "See the caveats in the documentation: https://pandas.pydata.org/pandas-docs/stable/user_guide/indexing.html#returning-a-view-versus-a-copy\n",
      "  self._setitem_single_column(loc, value, pi)\n"
     ]
    },
    {
     "data": {
      "image/png": "[encoded data removed]",
      "text/plain": [
       "<Figure size 432x288 with 1 Axes>"
      ]
     },
     "metadata": {
      "needs_background": "light"
     },
     "output_type": "display_data"
    }
   ],
   "source": [
    "data.loc[data['AVG Household Income'] == 60000, 'AVG Household Income'] = 6000.0\n",
    "\n",
    "\n",
    "ax = sns.histplot(data['AVG Household Income'])\n",
    "\n",
    "for p in ax.patches: \n",
    "    ax.annotate('{:}'.format(p.get_height()), (p.get_x()+4.25, p.get_height()+.3)) \n",
    "plt.show()"
   ]
  },
  {
   "cell_type": "code",
   "execution_count": 23,
   "id": "1ce6d951",
   "metadata": {},
   "outputs": [
    {
     "data": {
      "text/plain": [
       "4p1gqldb36ldocmb    3\n",
       "mk6t4l5da8m1dss2    3\n",
       "hil50gpk08pak286    3\n",
       "fhq2d8pfeh8a9na4    3\n",
       "m6156p61vd1lq5c8    3\n",
       "846fkuqo0nentnu5    3\n",
       "nfi2m31sr811qbaq    3\n",
       "9pvkmps8quscn1o1    3\n",
       "eo83ce5cb1u3er5m    3\n",
       "sn7tnalsq70eui1l    3\n",
       "79715lt1aq59idnq    3\n",
       "fih2b5sso3d2fjq2    2\n",
       "47jt5k9qtflndops    2\n",
       "mqdqcf5h52bc4cj1    2\n",
       "9p197dbbnq5p0om4    2\n",
       "rso35m0jpv9jufk7    2\n",
       "on21oh07948391n7    2\n",
       "gdahf3t8bu83ud0e    2\n",
       "c9adv6jjm1nm1ao2    2\n",
       "onfmuf5l373k26jk    2\n",
       "8rd7tpke0n51hkeq    2\n",
       "3n7unkoc72m6d4jn    2\n",
       "19sh5fa544e8dcge    2\n",
       "8avjs5cl2erp2ktc    2\n",
       "cm10nprhrb0u3lum    2\n",
       "fo5nfecmbrthda2s    1\n",
       "pt5vhgs3se26cmi6    1\n",
       "vhp4ueplcke166as    1\n",
       "5a7i1fep1jl4fhvt    1\n",
       "l099j9givh5t6do     1\n",
       "jp0ev28sqcl4cnpc    1\n",
       "sb8ukb4q60iibvlp    1\n",
       "m6sn704dilop2mph    1\n",
       "6lho9jeshote6ed5    1\n",
       "prlfng8eg0dras88    1\n",
       "2vnholkgh93gii5r    1\n",
       "uesouspc8aj4pu5o    1\n",
       "dg00cdau1tt4bot5    1\n",
       "a48i52hl2eq21od     1\n",
       "phenfmf9nertkth8    1\n",
       "vl76ve8pfb3oalr1    1\n",
       "tn23flfam5n4sqk4    1\n",
       "q90m1fkc09merhks    1\n",
       "1n7itrh3k8mq3ngb    1\n",
       "5qemkdsig3pnjo04    1\n",
       "s1928jo19jhth5pk    1\n",
       "uupsrlnp9agatf2e    1\n",
       "1iqdan411s84auhj    1\n",
       "5sre79je95mkrgeg    1\n",
       "o04ckbl5scm53ds3    1\n",
       "1q26v0rlhnjjvajt    1\n",
       "Name: ID, dtype: int64"
      ]
     },
     "execution_count": 23,
     "metadata": {},
     "output_type": "execute_result"
    }
   ],
   "source": [
    "data.ID.value_counts()"
   ]
  },
  {
   "cell_type": "code",
   "execution_count": null,
   "id": "c6dbdd5d",
   "metadata": {},
   "outputs": [],
   "source": []
  },
  {
   "cell_type": "code",
   "execution_count": null,
   "id": "e1f940e0",
   "metadata": {},
   "outputs": [],
   "source": []
  },
  {
   "cell_type": "code",
   "execution_count": null,
   "id": "1b7ef981",
   "metadata": {},
   "outputs": [],
   "source": []
  },
  {
   "cell_type": "code",
   "execution_count": 24,
   "id": "6810e7ac",
   "metadata": {},
   "outputs": [
    {
     "data": {
      "text/html": [
       "<div>\n",
       "<style scoped>\n",
       "    .dataframe tbody tr th:only-of-type {\n",
       "        vertical-align: middle;\n",
       "    }\n",
       "\n",
       "    .dataframe tbody tr th {\n",
       "        vertical-align: top;\n",
       "    }\n",
       "\n",
       "    .dataframe thead th {\n",
       "        text-align: right;\n",
       "    }\n",
       "</style>\n",
       "<table border=\"1\" class=\"dataframe\">\n",
       "  <thead>\n",
       "    <tr style=\"text-align: right;\">\n",
       "      <th></th>\n",
       "      <th>ID</th>\n",
       "      <th>First Name</th>\n",
       "      <th>Monthly Income</th>\n",
       "      <th>Pets</th>\n",
       "      <th>Date of Birth</th>\n",
       "      <th>Market</th>\n",
       "      <th>State</th>\n",
       "      <th>AVG Household Income</th>\n",
       "    </tr>\n",
       "  </thead>\n",
       "  <tbody>\n",
       "    <tr>\n",
       "      <th>34</th>\n",
       "      <td>669fasfgrrd204ru</td>\n",
       "      <td>Kailie</td>\n",
       "      <td>NaN</td>\n",
       "      <td>Yes</td>\n",
       "      <td>2006-05-04</td>\n",
       "      <td>East</td>\n",
       "      <td>FL</td>\n",
       "      <td>NaN</td>\n",
       "    </tr>\n",
       "    <tr>\n",
       "      <th>35</th>\n",
       "      <td>669fasfgrrd204ru</td>\n",
       "      <td>Andrew</td>\n",
       "      <td>NaN</td>\n",
       "      <td>Yes</td>\n",
       "      <td>2005-03-15</td>\n",
       "      <td>East</td>\n",
       "      <td>FL</td>\n",
       "      <td>NaN</td>\n",
       "    </tr>\n",
       "    <tr>\n",
       "      <th>38</th>\n",
       "      <td>669fasfgrrd204ru</td>\n",
       "      <td>Nolan</td>\n",
       "      <td>NaN</td>\n",
       "      <td>Yes</td>\n",
       "      <td>2009-08-19</td>\n",
       "      <td>East</td>\n",
       "      <td>FL</td>\n",
       "      <td>NaN</td>\n",
       "    </tr>\n",
       "    <tr>\n",
       "      <th>39</th>\n",
       "      <td>669fasfgrrd204ru</td>\n",
       "      <td>Lauren</td>\n",
       "      <td>NaN</td>\n",
       "      <td>Yes</td>\n",
       "      <td>2008-12-29</td>\n",
       "      <td>East</td>\n",
       "      <td>FL</td>\n",
       "      <td>NaN</td>\n",
       "    </tr>\n",
       "    <tr>\n",
       "      <th>121</th>\n",
       "      <td>rijv7ktqts8e67gs</td>\n",
       "      <td>Eva</td>\n",
       "      <td>NaN</td>\n",
       "      <td>Yes</td>\n",
       "      <td>2017-02-08</td>\n",
       "      <td>Central</td>\n",
       "      <td>TX</td>\n",
       "      <td>NaN</td>\n",
       "    </tr>\n",
       "    <tr>\n",
       "      <th>...</th>\n",
       "      <td>...</td>\n",
       "      <td>...</td>\n",
       "      <td>...</td>\n",
       "      <td>...</td>\n",
       "      <td>...</td>\n",
       "      <td>...</td>\n",
       "      <td>...</td>\n",
       "      <td>...</td>\n",
       "    </tr>\n",
       "    <tr>\n",
       "      <th>4189</th>\n",
       "      <td>8avjs5cl2erp2ktc</td>\n",
       "      <td>Ava</td>\n",
       "      <td>557.0</td>\n",
       "      <td>No</td>\n",
       "      <td>2018-10-25</td>\n",
       "      <td>SoCal</td>\n",
       "      <td>CA</td>\n",
       "      <td>1328.5</td>\n",
       "    </tr>\n",
       "    <tr>\n",
       "      <th>4190</th>\n",
       "      <td>8avjs5cl2erp2ktc</td>\n",
       "      <td>Zoe</td>\n",
       "      <td>557.0</td>\n",
       "      <td>No</td>\n",
       "      <td>2008-10-25</td>\n",
       "      <td>SoCal</td>\n",
       "      <td>CA</td>\n",
       "      <td>1328.5</td>\n",
       "    </tr>\n",
       "    <tr>\n",
       "      <th>4252</th>\n",
       "      <td>1q26v0rlhnjjvajt</td>\n",
       "      <td>Emalie</td>\n",
       "      <td>4000.0</td>\n",
       "      <td>Yes</td>\n",
       "      <td>2016-03-08</td>\n",
       "      <td>SoCal</td>\n",
       "      <td>CA</td>\n",
       "      <td>3250.0</td>\n",
       "    </tr>\n",
       "    <tr>\n",
       "      <th>4546</th>\n",
       "      <td>5qemkdsig3pnjo04</td>\n",
       "      <td>Christopher</td>\n",
       "      <td>2080.0</td>\n",
       "      <td>No</td>\n",
       "      <td>2009-09-26</td>\n",
       "      <td>Bay Area</td>\n",
       "      <td>CA</td>\n",
       "      <td>3040.0</td>\n",
       "    </tr>\n",
       "    <tr>\n",
       "      <th>4742</th>\n",
       "      <td>6lho9jeshote6ed5</td>\n",
       "      <td>Aima</td>\n",
       "      <td>4000.0</td>\n",
       "      <td>No</td>\n",
       "      <td>2001-04-13</td>\n",
       "      <td>SoCal</td>\n",
       "      <td>CA</td>\n",
       "      <td>2420.0</td>\n",
       "    </tr>\n",
       "  </tbody>\n",
       "</table>\n",
       "<p>127 rows × 8 columns</p>\n",
       "</div>"
      ],
      "text/plain": [
       "                    ID   First Name  Monthly Income Pets Date of Birth  \\\n",
       "34    669fasfgrrd204ru       Kailie             NaN  Yes    2006-05-04   \n",
       "35    669fasfgrrd204ru       Andrew             NaN  Yes    2005-03-15   \n",
       "38    669fasfgrrd204ru        Nolan             NaN  Yes    2009-08-19   \n",
       "39    669fasfgrrd204ru       Lauren             NaN  Yes    2008-12-29   \n",
       "121   rijv7ktqts8e67gs          Eva             NaN  Yes    2017-02-08   \n",
       "...                ...          ...             ...  ...           ...   \n",
       "4189  8avjs5cl2erp2ktc          Ava           557.0   No    2018-10-25   \n",
       "4190  8avjs5cl2erp2ktc          Zoe           557.0   No    2008-10-25   \n",
       "4252  1q26v0rlhnjjvajt       Emalie          4000.0  Yes    2016-03-08   \n",
       "4546  5qemkdsig3pnjo04  Christopher          2080.0   No    2009-09-26   \n",
       "4742  6lho9jeshote6ed5         Aima          4000.0   No    2001-04-13   \n",
       "\n",
       "        Market State  AVG Household Income  \n",
       "34        East    FL                   NaN  \n",
       "35        East    FL                   NaN  \n",
       "38        East    FL                   NaN  \n",
       "39        East    FL                   NaN  \n",
       "121    Central    TX                   NaN  \n",
       "...        ...   ...                   ...  \n",
       "4189     SoCal    CA                1328.5  \n",
       "4190     SoCal    CA                1328.5  \n",
       "4252     SoCal    CA                3250.0  \n",
       "4546  Bay Area    CA                3040.0  \n",
       "4742     SoCal    CA                2420.0  \n",
       "\n",
       "[127 rows x 8 columns]"
      ]
     },
     "execution_count": 24,
     "metadata": {},
     "output_type": "execute_result"
    }
   ],
   "source": [
    "duplicateRows = df1[df1.duplicated(['ID', 'First Name', 'Date of Birth'])]\n",
    "duplicateRows"
   ]
  },
  {
   "cell_type": "code",
   "execution_count": 25,
   "id": "b4c0e52f",
   "metadata": {},
   "outputs": [
    {
     "data": {
      "text/html": [
       "<div>\n",
       "<style scoped>\n",
       "    .dataframe tbody tr th:only-of-type {\n",
       "        vertical-align: middle;\n",
       "    }\n",
       "\n",
       "    .dataframe tbody tr th {\n",
       "        vertical-align: top;\n",
       "    }\n",
       "\n",
       "    .dataframe thead th {\n",
       "        text-align: right;\n",
       "    }\n",
       "</style>\n",
       "<table border=\"1\" class=\"dataframe\">\n",
       "  <thead>\n",
       "    <tr style=\"text-align: right;\">\n",
       "      <th></th>\n",
       "      <th>ID</th>\n",
       "      <th>First Name</th>\n",
       "      <th>Monthly Income</th>\n",
       "      <th>Pets</th>\n",
       "      <th>Date of Birth</th>\n",
       "      <th>Market</th>\n",
       "      <th>State</th>\n",
       "      <th>AVG Household Income</th>\n",
       "    </tr>\n",
       "  </thead>\n",
       "  <tbody>\n",
       "    <tr>\n",
       "      <th>0</th>\n",
       "      <td>p3do03ecr7t67spn</td>\n",
       "      <td>Jayzua-nae</td>\n",
       "      <td>NaN</td>\n",
       "      <td>Yes</td>\n",
       "      <td>2011-04-20</td>\n",
       "      <td>East</td>\n",
       "      <td>NC</td>\n",
       "      <td>NaN</td>\n",
       "    </tr>\n",
       "    <tr>\n",
       "      <th>1</th>\n",
       "      <td>p3do03ecr7t67spn</td>\n",
       "      <td>Jason</td>\n",
       "      <td>NaN</td>\n",
       "      <td>Yes</td>\n",
       "      <td>2009-01-09</td>\n",
       "      <td>East</td>\n",
       "      <td>NC</td>\n",
       "      <td>NaN</td>\n",
       "    </tr>\n",
       "    <tr>\n",
       "      <th>2</th>\n",
       "      <td>p3do03ecr7t67spn</td>\n",
       "      <td>Janyla</td>\n",
       "      <td>NaN</td>\n",
       "      <td>Yes</td>\n",
       "      <td>2012-11-23</td>\n",
       "      <td>East</td>\n",
       "      <td>NC</td>\n",
       "      <td>NaN</td>\n",
       "    </tr>\n",
       "    <tr>\n",
       "      <th>3</th>\n",
       "      <td>sfkib3fm5afbg4lv</td>\n",
       "      <td>Maxim</td>\n",
       "      <td>NaN</td>\n",
       "      <td>No</td>\n",
       "      <td>2009-01-20</td>\n",
       "      <td>Bay Area</td>\n",
       "      <td>CA</td>\n",
       "      <td>NaN</td>\n",
       "    </tr>\n",
       "    <tr>\n",
       "      <th>4</th>\n",
       "      <td>sfkib3fm5afbg4lv</td>\n",
       "      <td>Nicole</td>\n",
       "      <td>NaN</td>\n",
       "      <td>No</td>\n",
       "      <td>2011-05-27</td>\n",
       "      <td>Bay Area</td>\n",
       "      <td>CA</td>\n",
       "      <td>NaN</td>\n",
       "    </tr>\n",
       "    <tr>\n",
       "      <th>...</th>\n",
       "      <td>...</td>\n",
       "      <td>...</td>\n",
       "      <td>...</td>\n",
       "      <td>...</td>\n",
       "      <td>...</td>\n",
       "      <td>...</td>\n",
       "      <td>...</td>\n",
       "      <td>...</td>\n",
       "    </tr>\n",
       "    <tr>\n",
       "      <th>4856</th>\n",
       "      <td>q26l9nm5rr6n4rve</td>\n",
       "      <td>Leon</td>\n",
       "      <td>NaN</td>\n",
       "      <td>No</td>\n",
       "      <td>2018-03-09</td>\n",
       "      <td>East</td>\n",
       "      <td>GA</td>\n",
       "      <td>NaN</td>\n",
       "    </tr>\n",
       "    <tr>\n",
       "      <th>4857</th>\n",
       "      <td>4busp4hui2rlhfjn</td>\n",
       "      <td>Ariel</td>\n",
       "      <td>NaN</td>\n",
       "      <td>No</td>\n",
       "      <td>2012-06-19</td>\n",
       "      <td>East</td>\n",
       "      <td>AL</td>\n",
       "      <td>NaN</td>\n",
       "    </tr>\n",
       "    <tr>\n",
       "      <th>4858</th>\n",
       "      <td>fqt3n1in42ddp0ov</td>\n",
       "      <td>Cole</td>\n",
       "      <td>NaN</td>\n",
       "      <td>No</td>\n",
       "      <td>2009-10-10</td>\n",
       "      <td>Washington</td>\n",
       "      <td>WA</td>\n",
       "      <td>NaN</td>\n",
       "    </tr>\n",
       "    <tr>\n",
       "      <th>4859</th>\n",
       "      <td>vjb2sfvo1injlen0</td>\n",
       "      <td>kaiden</td>\n",
       "      <td>NaN</td>\n",
       "      <td>Yes</td>\n",
       "      <td>2014-04-11</td>\n",
       "      <td>East</td>\n",
       "      <td>NC</td>\n",
       "      <td>NaN</td>\n",
       "    </tr>\n",
       "    <tr>\n",
       "      <th>4860</th>\n",
       "      <td>9md3lb44u6o4ddri</td>\n",
       "      <td>Malia</td>\n",
       "      <td>NaN</td>\n",
       "      <td>No</td>\n",
       "      <td>2020-02-27</td>\n",
       "      <td>SoCal</td>\n",
       "      <td>CA</td>\n",
       "      <td>NaN</td>\n",
       "    </tr>\n",
       "  </tbody>\n",
       "</table>\n",
       "<p>4734 rows × 8 columns</p>\n",
       "</div>"
      ],
      "text/plain": [
       "                    ID  First Name  Monthly Income Pets Date of Birth  \\\n",
       "0     p3do03ecr7t67spn  Jayzua-nae             NaN  Yes    2011-04-20   \n",
       "1     p3do03ecr7t67spn       Jason             NaN  Yes    2009-01-09   \n",
       "2     p3do03ecr7t67spn      Janyla             NaN  Yes    2012-11-23   \n",
       "3     sfkib3fm5afbg4lv       Maxim             NaN   No    2009-01-20   \n",
       "4     sfkib3fm5afbg4lv      Nicole             NaN   No    2011-05-27   \n",
       "...                ...         ...             ...  ...           ...   \n",
       "4856  q26l9nm5rr6n4rve        Leon             NaN   No    2018-03-09   \n",
       "4857  4busp4hui2rlhfjn       Ariel             NaN   No    2012-06-19   \n",
       "4858  fqt3n1in42ddp0ov        Cole             NaN   No    2009-10-10   \n",
       "4859  vjb2sfvo1injlen0      kaiden             NaN  Yes    2014-04-11   \n",
       "4860  9md3lb44u6o4ddri       Malia             NaN   No    2020-02-27   \n",
       "\n",
       "          Market State  AVG Household Income  \n",
       "0           East    NC                   NaN  \n",
       "1           East    NC                   NaN  \n",
       "2           East    NC                   NaN  \n",
       "3       Bay Area    CA                   NaN  \n",
       "4       Bay Area    CA                   NaN  \n",
       "...          ...   ...                   ...  \n",
       "4856        East    GA                   NaN  \n",
       "4857        East    AL                   NaN  \n",
       "4858  Washington    WA                   NaN  \n",
       "4859        East    NC                   NaN  \n",
       "4860       SoCal    CA                   NaN  \n",
       "\n",
       "[4734 rows x 8 columns]"
      ]
     },
     "execution_count": 25,
     "metadata": {},
     "output_type": "execute_result"
    }
   ],
   "source": [
    "df2 = df1[~df1.duplicated(['ID', 'First Name', 'Date of Birth'])]\n",
    "df2"
   ]
  },
  {
   "cell_type": "markdown",
   "id": "c4a6df94",
   "metadata": {},
   "source": [
    "Now that I delete duplicate and missing data, I will add the age and gender column. \n",
    "\n",
    "#### Age\n",
    "\n",
    "For age, I assume it's 2032 instead of 2022 so that the monthly income for kids have better reasonig. Also I just substract the year part of date of birth from 2032 instead of writing a function to calculate the exact age just for simplicity.\n",
    "\n",
    "\n",
    "#### Gender\n",
    "\n",
    "For gender attribute, I will use a gender_guesser package to guess the gender of the each person.\n"
   ]
  },
  {
   "cell_type": "code",
   "execution_count": 26,
   "id": "a717ba40",
   "metadata": {},
   "outputs": [
    {
     "name": "stderr",
     "output_type": "stream",
     "text": [
      "<ipython-input-26-46b370aa0d4e>:1: SettingWithCopyWarning: \n",
      "A value is trying to be set on a copy of a slice from a DataFrame.\n",
      "Try using .loc[row_indexer,col_indexer] = value instead\n",
      "\n",
      "See the caveats in the documentation: https://pandas.pydata.org/pandas-docs/stable/user_guide/indexing.html#returning-a-view-versus-a-copy\n",
      "  df2['year'] = pd.DatetimeIndex(df2['Date of Birth']).year\n",
      "<ipython-input-26-46b370aa0d4e>:2: SettingWithCopyWarning: \n",
      "A value is trying to be set on a copy of a slice from a DataFrame.\n",
      "Try using .loc[row_indexer,col_indexer] = value instead\n",
      "\n",
      "See the caveats in the documentation: https://pandas.pydata.org/pandas-docs/stable/user_guide/indexing.html#returning-a-view-versus-a-copy\n",
      "  df2['Age'] = 2032 - df2.year\n"
     ]
    },
    {
     "data": {
      "text/plain": [
       "-174      1\n",
       " 11      73\n",
       " 12     182\n",
       " 13     228\n",
       " 14     251\n",
       "       ... \n",
       " 83       2\n",
       " 84       1\n",
       " 89       1\n",
       " 90       1\n",
       " 127      1\n",
       "Name: Age, Length: 66, dtype: int64"
      ]
     },
     "execution_count": 26,
     "metadata": {},
     "output_type": "execute_result"
    }
   ],
   "source": [
    "df2['year'] = pd.DatetimeIndex(df2['Date of Birth']).year\n",
    "df2['Age'] = 2032 - df2.year\n",
    "df2.Age.value_counts().sort_index()"
   ]
  },
  {
   "cell_type": "code",
   "execution_count": 27,
   "id": "6359a00a",
   "metadata": {},
   "outputs": [
    {
     "data": {
      "text/html": [
       "<div>\n",
       "<style scoped>\n",
       "    .dataframe tbody tr th:only-of-type {\n",
       "        vertical-align: middle;\n",
       "    }\n",
       "\n",
       "    .dataframe tbody tr th {\n",
       "        vertical-align: top;\n",
       "    }\n",
       "\n",
       "    .dataframe thead th {\n",
       "        text-align: right;\n",
       "    }\n",
       "</style>\n",
       "<table border=\"1\" class=\"dataframe\">\n",
       "  <thead>\n",
       "    <tr style=\"text-align: right;\">\n",
       "      <th></th>\n",
       "      <th>ID</th>\n",
       "      <th>First Name</th>\n",
       "      <th>Monthly Income</th>\n",
       "      <th>Pets</th>\n",
       "      <th>Date of Birth</th>\n",
       "      <th>Market</th>\n",
       "      <th>State</th>\n",
       "      <th>AVG Household Income</th>\n",
       "      <th>year</th>\n",
       "      <th>Age</th>\n",
       "    </tr>\n",
       "  </thead>\n",
       "  <tbody>\n",
       "    <tr>\n",
       "      <th>1258</th>\n",
       "      <td>u3oms3hqg1orep1s</td>\n",
       "      <td>Kyara</td>\n",
       "      <td>NaN</td>\n",
       "      <td>Yes</td>\n",
       "      <td>2206-07-31</td>\n",
       "      <td>Southwest</td>\n",
       "      <td>AZ</td>\n",
       "      <td>NaN</td>\n",
       "      <td>2206</td>\n",
       "      <td>-174</td>\n",
       "    </tr>\n",
       "  </tbody>\n",
       "</table>\n",
       "</div>"
      ],
      "text/plain": [
       "                    ID First Name  Monthly Income Pets Date of Birth  \\\n",
       "1258  u3oms3hqg1orep1s      Kyara             NaN  Yes    2206-07-31   \n",
       "\n",
       "         Market State  AVG Household Income  year  Age  \n",
       "1258  Southwest    AZ                   NaN  2206 -174  "
      ]
     },
     "execution_count": 27,
     "metadata": {},
     "output_type": "execute_result"
    }
   ],
   "source": [
    "df2[df2.Age == -174]"
   ]
  },
  {
   "cell_type": "code",
   "execution_count": 28,
   "id": "158344f3",
   "metadata": {},
   "outputs": [
    {
     "name": "stderr",
     "output_type": "stream",
     "text": [
      "C:\\Users\\arash\\anaconda3\\lib\\site-packages\\pandas\\core\\indexing.py:1720: SettingWithCopyWarning: \n",
      "A value is trying to be set on a copy of a slice from a DataFrame.\n",
      "Try using .loc[row_indexer,col_indexer] = value instead\n",
      "\n",
      "See the caveats in the documentation: https://pandas.pydata.org/pandas-docs/stable/user_guide/indexing.html#returning-a-view-versus-a-copy\n",
      "  self._setitem_single_column(loc, value, pi)\n"
     ]
    }
   ],
   "source": [
    "df2.loc[df2.Age == -174, 'year'] = 2006"
   ]
  },
  {
   "cell_type": "code",
   "execution_count": 29,
   "id": "bdb143ba",
   "metadata": {},
   "outputs": [
    {
     "data": {
      "text/html": [
       "<div>\n",
       "<style scoped>\n",
       "    .dataframe tbody tr th:only-of-type {\n",
       "        vertical-align: middle;\n",
       "    }\n",
       "\n",
       "    .dataframe tbody tr th {\n",
       "        vertical-align: top;\n",
       "    }\n",
       "\n",
       "    .dataframe thead th {\n",
       "        text-align: right;\n",
       "    }\n",
       "</style>\n",
       "<table border=\"1\" class=\"dataframe\">\n",
       "  <thead>\n",
       "    <tr style=\"text-align: right;\">\n",
       "      <th></th>\n",
       "      <th>ID</th>\n",
       "      <th>First Name</th>\n",
       "      <th>Monthly Income</th>\n",
       "      <th>Pets</th>\n",
       "      <th>Date of Birth</th>\n",
       "      <th>Market</th>\n",
       "      <th>State</th>\n",
       "      <th>AVG Household Income</th>\n",
       "      <th>year</th>\n",
       "      <th>Age</th>\n",
       "    </tr>\n",
       "  </thead>\n",
       "  <tbody>\n",
       "    <tr>\n",
       "      <th>3349</th>\n",
       "      <td>9p197dbbnq5p0om4</td>\n",
       "      <td>Chouida</td>\n",
       "      <td>NaN</td>\n",
       "      <td>No</td>\n",
       "      <td>1905-11-14</td>\n",
       "      <td>Bay Area</td>\n",
       "      <td>CA</td>\n",
       "      <td>10000.0</td>\n",
       "      <td>1905</td>\n",
       "      <td>127</td>\n",
       "    </tr>\n",
       "  </tbody>\n",
       "</table>\n",
       "</div>"
      ],
      "text/plain": [
       "                    ID First Name  Monthly Income Pets Date of Birth  \\\n",
       "3349  9p197dbbnq5p0om4    Chouida             NaN   No    1905-11-14   \n",
       "\n",
       "        Market State  AVG Household Income  year  Age  \n",
       "3349  Bay Area    CA               10000.0  1905  127  "
      ]
     },
     "execution_count": 29,
     "metadata": {},
     "output_type": "execute_result"
    }
   ],
   "source": [
    "df2[df2.Age == 127]"
   ]
  },
  {
   "cell_type": "code",
   "execution_count": 30,
   "id": "34bc1e14",
   "metadata": {},
   "outputs": [
    {
     "name": "stderr",
     "output_type": "stream",
     "text": [
      "C:\\Users\\arash\\anaconda3\\lib\\site-packages\\pandas\\core\\indexing.py:1720: SettingWithCopyWarning: \n",
      "A value is trying to be set on a copy of a slice from a DataFrame.\n",
      "Try using .loc[row_indexer,col_indexer] = value instead\n",
      "\n",
      "See the caveats in the documentation: https://pandas.pydata.org/pandas-docs/stable/user_guide/indexing.html#returning-a-view-versus-a-copy\n",
      "  self._setitem_single_column(loc, value, pi)\n"
     ]
    }
   ],
   "source": [
    "df2.loc[df2.Age == 127, 'year'] = 1995"
   ]
  },
  {
   "cell_type": "code",
   "execution_count": 31,
   "id": "a5505ea6",
   "metadata": {},
   "outputs": [
    {
     "name": "stderr",
     "output_type": "stream",
     "text": [
      "<ipython-input-31-487d3eb71b9f>:1: SettingWithCopyWarning: \n",
      "A value is trying to be set on a copy of a slice from a DataFrame.\n",
      "Try using .loc[row_indexer,col_indexer] = value instead\n",
      "\n",
      "See the caveats in the documentation: https://pandas.pydata.org/pandas-docs/stable/user_guide/indexing.html#returning-a-view-versus-a-copy\n",
      "  df2['Age'] = 2032 - df2.year\n"
     ]
    },
    {
     "data": {
      "text/plain": [
       "11     73\n",
       "12    182\n",
       "13    228\n",
       "14    251\n",
       "15    271\n",
       "     ... \n",
       "82      1\n",
       "83      2\n",
       "84      1\n",
       "89      1\n",
       "90      1\n",
       "Name: Age, Length: 64, dtype: int64"
      ]
     },
     "execution_count": 31,
     "metadata": {},
     "output_type": "execute_result"
    }
   ],
   "source": [
    "df2['Age'] = 2032 - df2.year\n",
    "df2 = df2.drop(['year'], axis=1)\n",
    "df2.Age.value_counts().sort_index()"
   ]
  },
  {
   "cell_type": "code",
   "execution_count": 32,
   "id": "d7ef5f90",
   "metadata": {},
   "outputs": [],
   "source": [
    "import gender_guesser.detector as gender\n",
    "d = gender.Detector()"
   ]
  },
  {
   "cell_type": "code",
   "execution_count": 33,
   "id": "1690d7bd",
   "metadata": {},
   "outputs": [],
   "source": [
    "n = len(df2['ID'])\n",
    "df2 = df2.reset_index(drop=True)\n",
    "\n",
    "for i in range(n):\n",
    "    df2.loc[i, 'Gender'] = d.get_gender(df2.loc[i, 'First Name'])"
   ]
  },
  {
   "cell_type": "code",
   "execution_count": 34,
   "id": "7cd2bd76",
   "metadata": {},
   "outputs": [
    {
     "data": {
      "text/plain": [
       "male             1564\n",
       "unknown          1554\n",
       "female           1268\n",
       "mostly_male       182\n",
       "mostly_female      91\n",
       "andy               75\n",
       "Name: Gender, dtype: int64"
      ]
     },
     "execution_count": 34,
     "metadata": {},
     "output_type": "execute_result"
    }
   ],
   "source": [
    "df2.Gender.value_counts()"
   ]
  },
  {
   "cell_type": "code",
   "execution_count": 35,
   "id": "75263780",
   "metadata": {},
   "outputs": [],
   "source": [
    "for i in range(n):\n",
    "    if df2.loc[i, 'Gender'] == 'mostly_male':\n",
    "        df2.loc[i, 'Gender'] = 'male'\n",
    "    elif df2.loc[i, 'Gender'] == 'mostly_female':\n",
    "        df2.loc[i, 'Gender'] = 'female'\n",
    "    elif df2.loc[i, 'Gender'] == 'andy':\n",
    "        df2.loc[i, 'Gender'] = 'male'"
   ]
  },
  {
   "cell_type": "code",
   "execution_count": 36,
   "id": "f207d13f",
   "metadata": {},
   "outputs": [
    {
     "data": {
      "text/plain": [
       "male       1821\n",
       "unknown    1554\n",
       "female     1359\n",
       "Name: Gender, dtype: int64"
      ]
     },
     "execution_count": 36,
     "metadata": {},
     "output_type": "execute_result"
    }
   ],
   "source": [
    "df2.Gender.value_counts()"
   ]
  },
  {
   "cell_type": "code",
   "execution_count": 37,
   "id": "41eadcb3",
   "metadata": {},
   "outputs": [
    {
     "data": {
      "text/plain": [
       "array(['Jayzua-nae', 'Janyla', 'Damyel', ..., 'Kamden', 'Crashaun',\n",
       "       'kaiden'], dtype=object)"
      ]
     },
     "execution_count": 37,
     "metadata": {},
     "output_type": "execute_result"
    }
   ],
   "source": [
    "df2[df2.Gender == 'unknown']['First Name'].unique()"
   ]
  },
  {
   "cell_type": "markdown",
   "id": "c7bbdd8e",
   "metadata": {},
   "source": [
    "# gender "
   ]
  },
  {
   "cell_type": "code",
   "execution_count": 38,
   "id": "a5e4d104",
   "metadata": {},
   "outputs": [
    {
     "name": "stderr",
     "output_type": "stream",
     "text": [
      "C:\\Users\\arash\\anaconda3\\lib\\site-packages\\seaborn\\_decorators.py:36: FutureWarning: Pass the following variable as a keyword arg: x. From version 0.12, the only valid positional argument will be `data`, and passing other arguments without an explicit keyword will result in an error or misinterpretation.\n",
      "  warnings.warn(\n"
     ]
    },
    {
     "data": {
      "image/png": "[encoded data removed]",
      "text/plain": [
       "<Figure size 432x288 with 1 Axes>"
      ]
     },
     "metadata": {
      "needs_background": "light"
     },
     "output_type": "display_data"
    }
   ],
   "source": [
    "sns.countplot(df2.Gender);"
   ]
  },
  {
   "cell_type": "code",
   "execution_count": 39,
   "id": "d50c91ad",
   "metadata": {},
   "outputs": [
    {
     "ename": "KeyError",
     "evalue": "'Age_group'",
     "output_type": "error",
     "traceback": [
      "\u001b[1;31m---------------------------------------------------------------------------\u001b[0m",
      "\u001b[1;31mKeyError\u001b[0m                                  Traceback (most recent call last)",
      "\u001b[1;32m~\\anaconda3\\lib\\site-packages\\pandas\\core\\indexes\\base.py\u001b[0m in \u001b[0;36mget_loc\u001b[1;34m(self, key, method, tolerance)\u001b[0m\n\u001b[0;32m   3079\u001b[0m             \u001b[1;32mtry\u001b[0m\u001b[1;33m:\u001b[0m\u001b[1;33m\u001b[0m\u001b[1;33m\u001b[0m\u001b[0m\n\u001b[1;32m-> 3080\u001b[1;33m                 \u001b[1;32mreturn\u001b[0m \u001b[0mself\u001b[0m\u001b[1;33m.\u001b[0m\u001b[0m_engine\u001b[0m\u001b[1;33m.\u001b[0m\u001b[0mget_loc\u001b[0m\u001b[1;33m(\u001b[0m\u001b[0mcasted_key\u001b[0m\u001b[1;33m)\u001b[0m\u001b[1;33m\u001b[0m\u001b[1;33m\u001b[0m\u001b[0m\n\u001b[0m\u001b[0;32m   3081\u001b[0m             \u001b[1;32mexcept\u001b[0m \u001b[0mKeyError\u001b[0m \u001b[1;32mas\u001b[0m \u001b[0merr\u001b[0m\u001b[1;33m:\u001b[0m\u001b[1;33m\u001b[0m\u001b[1;33m\u001b[0m\u001b[0m\n",
      "\u001b[1;32mpandas\\_libs\\index.pyx\u001b[0m in \u001b[0;36mpandas._libs.index.IndexEngine.get_loc\u001b[1;34m()\u001b[0m\n",
      "\u001b[1;32mpandas\\_libs\\index.pyx\u001b[0m in \u001b[0;36mpandas._libs.index.IndexEngine.get_loc\u001b[1;34m()\u001b[0m\n",
      "\u001b[1;32mpandas\\_libs\\hashtable_class_helper.pxi\u001b[0m in \u001b[0;36mpandas._libs.hashtable.PyObjectHashTable.get_item\u001b[1;34m()\u001b[0m\n",
      "\u001b[1;32mpandas\\_libs\\hashtable_class_helper.pxi\u001b[0m in \u001b[0;36mpandas._libs.hashtable.PyObjectHashTable.get_item\u001b[1;34m()\u001b[0m\n",
      "\u001b[1;31mKeyError\u001b[0m: 'Age_group'",
      "\nThe above exception was the direct cause of the following exception:\n",
      "\u001b[1;31mKeyError\u001b[0m                                  Traceback (most recent call last)",
      "\u001b[1;32m<ipython-input-39-61f4cef3b06b>\u001b[0m in \u001b[0;36m<module>\u001b[1;34m\u001b[0m\n\u001b[1;32m----> 1\u001b[1;33m \u001b[0msns\u001b[0m\u001b[1;33m.\u001b[0m\u001b[0mcountplot\u001b[0m\u001b[1;33m(\u001b[0m\u001b[0mdf2\u001b[0m\u001b[1;33m[\u001b[0m\u001b[1;34m'Age_group'\u001b[0m\u001b[1;33m]\u001b[0m\u001b[1;33m)\u001b[0m\u001b[1;33m;\u001b[0m\u001b[1;33m\u001b[0m\u001b[1;33m\u001b[0m\u001b[0m\n\u001b[0m",
      "\u001b[1;32m~\\anaconda3\\lib\\site-packages\\pandas\\core\\frame.py\u001b[0m in \u001b[0;36m__getitem__\u001b[1;34m(self, key)\u001b[0m\n\u001b[0;32m   3022\u001b[0m             \u001b[1;32mif\u001b[0m \u001b[0mself\u001b[0m\u001b[1;33m.\u001b[0m\u001b[0mcolumns\u001b[0m\u001b[1;33m.\u001b[0m\u001b[0mnlevels\u001b[0m \u001b[1;33m>\u001b[0m \u001b[1;36m1\u001b[0m\u001b[1;33m:\u001b[0m\u001b[1;33m\u001b[0m\u001b[1;33m\u001b[0m\u001b[0m\n\u001b[0;32m   3023\u001b[0m                 \u001b[1;32mreturn\u001b[0m \u001b[0mself\u001b[0m\u001b[1;33m.\u001b[0m\u001b[0m_getitem_multilevel\u001b[0m\u001b[1;33m(\u001b[0m\u001b[0mkey\u001b[0m\u001b[1;33m)\u001b[0m\u001b[1;33m\u001b[0m\u001b[1;33m\u001b[0m\u001b[0m\n\u001b[1;32m-> 3024\u001b[1;33m             \u001b[0mindexer\u001b[0m \u001b[1;33m=\u001b[0m \u001b[0mself\u001b[0m\u001b[1;33m.\u001b[0m\u001b[0mcolumns\u001b[0m\u001b[1;33m.\u001b[0m\u001b[0mget_loc\u001b[0m\u001b[1;33m(\u001b[0m\u001b[0mkey\u001b[0m\u001b[1;33m)\u001b[0m\u001b[1;33m\u001b[0m\u001b[1;33m\u001b[0m\u001b[0m\n\u001b[0m\u001b[0;32m   3025\u001b[0m             \u001b[1;32mif\u001b[0m \u001b[0mis_integer\u001b[0m\u001b[1;33m(\u001b[0m\u001b[0mindexer\u001b[0m\u001b[1;33m)\u001b[0m\u001b[1;33m:\u001b[0m\u001b[1;33m\u001b[0m\u001b[1;33m\u001b[0m\u001b[0m\n\u001b[0;32m   3026\u001b[0m                 \u001b[0mindexer\u001b[0m \u001b[1;33m=\u001b[0m \u001b[1;33m[\u001b[0m\u001b[0mindexer\u001b[0m\u001b[1;33m]\u001b[0m\u001b[1;33m\u001b[0m\u001b[1;33m\u001b[0m\u001b[0m\n",
      "\u001b[1;32m~\\anaconda3\\lib\\site-packages\\pandas\\core\\indexes\\base.py\u001b[0m in \u001b[0;36mget_loc\u001b[1;34m(self, key, method, tolerance)\u001b[0m\n\u001b[0;32m   3080\u001b[0m                 \u001b[1;32mreturn\u001b[0m \u001b[0mself\u001b[0m\u001b[1;33m.\u001b[0m\u001b[0m_engine\u001b[0m\u001b[1;33m.\u001b[0m\u001b[0mget_loc\u001b[0m\u001b[1;33m(\u001b[0m\u001b[0mcasted_key\u001b[0m\u001b[1;33m)\u001b[0m\u001b[1;33m\u001b[0m\u001b[1;33m\u001b[0m\u001b[0m\n\u001b[0;32m   3081\u001b[0m             \u001b[1;32mexcept\u001b[0m \u001b[0mKeyError\u001b[0m \u001b[1;32mas\u001b[0m \u001b[0merr\u001b[0m\u001b[1;33m:\u001b[0m\u001b[1;33m\u001b[0m\u001b[1;33m\u001b[0m\u001b[0m\n\u001b[1;32m-> 3082\u001b[1;33m                 \u001b[1;32mraise\u001b[0m \u001b[0mKeyError\u001b[0m\u001b[1;33m(\u001b[0m\u001b[0mkey\u001b[0m\u001b[1;33m)\u001b[0m \u001b[1;32mfrom\u001b[0m \u001b[0merr\u001b[0m\u001b[1;33m\u001b[0m\u001b[1;33m\u001b[0m\u001b[0m\n\u001b[0m\u001b[0;32m   3083\u001b[0m \u001b[1;33m\u001b[0m\u001b[0m\n\u001b[0;32m   3084\u001b[0m         \u001b[1;32mif\u001b[0m \u001b[0mtolerance\u001b[0m \u001b[1;32mis\u001b[0m \u001b[1;32mnot\u001b[0m \u001b[1;32mNone\u001b[0m\u001b[1;33m:\u001b[0m\u001b[1;33m\u001b[0m\u001b[1;33m\u001b[0m\u001b[0m\n",
      "\u001b[1;31mKeyError\u001b[0m: 'Age_group'"
     ]
    }
   ],
   "source": [
    "sns.countplot(df2['Age_group']);"
   ]
  },
  {
   "cell_type": "code",
   "execution_count": null,
   "id": "22bb6bd8",
   "metadata": {
    "scrolled": true
   },
   "outputs": [],
   "source": [
    "sns.countplot(df2.Market, hue=df2.Gender);"
   ]
  },
  {
   "cell_type": "code",
   "execution_count": null,
   "id": "a0fc1271",
   "metadata": {},
   "outputs": [],
   "source": [
    "sns.countplot(df2.Market);"
   ]
  },
  {
   "cell_type": "code",
   "execution_count": null,
   "id": "b0f19146",
   "metadata": {},
   "outputs": [],
   "source": [
    "sns.countplot(df2.Market, hue=df2.Pets);"
   ]
  },
  {
   "cell_type": "code",
   "execution_count": null,
   "id": "8b8e7db1",
   "metadata": {},
   "outputs": [],
   "source": [
    "sns.countplot(df2.Market, hue=df2.Age)"
   ]
  },
  {
   "cell_type": "code",
   "execution_count": null,
   "id": "b8617512",
   "metadata": {},
   "outputs": [],
   "source": [
    "df2['Age_group'] = pd.cut(df2['Age'], [-1, 14, 24, 64, 99], labels=['Children', 'Youth', 'Adult', 'Seniors'])"
   ]
  },
  {
   "cell_type": "code",
   "execution_count": null,
   "id": "984731ec",
   "metadata": {},
   "outputs": [],
   "source": [
    "df2"
   ]
  },
  {
   "cell_type": "code",
   "execution_count": null,
   "id": "5c81bd27",
   "metadata": {},
   "outputs": [],
   "source": [
    "df_i.Pets = pd.get_dummies(df_i['Pets'], drop_first='first')\n",
    "df_i"
   ]
  },
  {
   "cell_type": "code",
   "execution_count": null,
   "id": "56dfc70a",
   "metadata": {
    "scrolled": true
   },
   "outputs": [],
   "source": [
    "sns.scatterplot(df_i['Age'], df_i['Monthly Income'], hue=df_i['Pets'])"
   ]
  },
  {
   "cell_type": "code",
   "execution_count": null,
   "id": "4bcf12d1",
   "metadata": {
    "scrolled": true
   },
   "outputs": [],
   "source": [
    "df2 = df2.fillna(df['Monthly Income'].mean())\n",
    "df2"
   ]
  },
  {
   "cell_type": "code",
   "execution_count": null,
   "id": "393f1b34",
   "metadata": {},
   "outputs": [],
   "source": [
    "sns.barplot(df2['Market'], df2['Age'])"
   ]
  },
  {
   "cell_type": "code",
   "execution_count": null,
   "id": "034592df",
   "metadata": {},
   "outputs": [],
   "source": [
    "df2.Age.hist(bins=20)"
   ]
  },
  {
   "cell_type": "code",
   "execution_count": null,
   "id": "c301ac1d",
   "metadata": {},
   "outputs": [],
   "source": [
    "df_i = pd.get_dummies(df2, columns=['Market'], drop_first='first')\n",
    "df_i"
   ]
  },
  {
   "cell_type": "code",
   "execution_count": null,
   "id": "cb3ad704",
   "metadata": {},
   "outputs": [],
   "source": [
    "sns.scatterplot(df_i['Market'], df_i['Age'], hue=df_i['Pets'])"
   ]
  },
  {
   "cell_type": "code",
   "execution_count": null,
   "id": "39be2cfa",
   "metadata": {},
   "outputs": [],
   "source": [
    "cross_table = pd.crosstab(index=df2[\"Age_group\"], \n",
    "                          columns=df2[\"Pets\"])\n",
    "cross_table"
   ]
  },
  {
   "cell_type": "code",
   "execution_count": null,
   "id": "13166312",
   "metadata": {},
   "outputs": [],
   "source": [
    "cross_table.plot(kind=\"bar\", \n",
    "                 figsize=(8,8),\n",
    "                 stacked=True)"
   ]
  },
  {
   "cell_type": "code",
   "execution_count": null,
   "id": "f95123b4",
   "metadata": {},
   "outputs": [],
   "source": []
  },
  {
   "cell_type": "code",
   "execution_count": null,
   "id": "f82141c1",
   "metadata": {},
   "outputs": [],
   "source": [
    "data = df2[df2['Monthly Income'].notnull()]\n",
    "sns.histplot(data['Monthly Income'])"
   ]
  },
  {
   "cell_type": "code",
   "execution_count": null,
   "id": "5bb56a9f",
   "metadata": {},
   "outputs": [],
   "source": [
    "data.ID.value_counts()"
   ]
  },
  {
   "cell_type": "code",
   "execution_count": null,
   "id": "d1fc8a53",
   "metadata": {},
   "outputs": [],
   "source": []
  },
  {
   "cell_type": "code",
   "execution_count": null,
   "id": "b2ad5042",
   "metadata": {},
   "outputs": [],
   "source": []
  },
  {
   "cell_type": "code",
   "execution_count": null,
   "id": "2c0324d0",
   "metadata": {},
   "outputs": [],
   "source": []
  },
  {
   "cell_type": "code",
   "execution_count": null,
   "id": "f3f63394",
   "metadata": {},
   "outputs": [],
   "source": [
    "a = df2.groupby('ID')['Age'].max().sort_index()\n",
    "a"
   ]
  },
  {
   "cell_type": "code",
   "execution_count": null,
   "id": "9e8aa8e6",
   "metadata": {},
   "outputs": [],
   "source": [
    "b = df2.groupby('ID')['Age'].min().sort_index()\n",
    "b"
   ]
  },
  {
   "cell_type": "code",
   "execution_count": null,
   "id": "13ff9c0a",
   "metadata": {},
   "outputs": [],
   "source": [
    "c = df2.groupby('ID')['Age'].count().sort_index()\n",
    "c"
   ]
  },
  {
   "cell_type": "code",
   "execution_count": null,
   "id": "194757e2",
   "metadata": {},
   "outputs": [],
   "source": [
    "df_age = pd.concat([a, b, c], axis=1)\n",
    "names = ['Max', 'Min', 'Number']\n",
    "df_age.columns = names"
   ]
  },
  {
   "cell_type": "markdown",
   "id": "4de353f2",
   "metadata": {},
   "source": [
    "### 2. EDA"
   ]
  },
  {
   "cell_type": "code",
   "execution_count": null,
   "id": "d5b6a4a4",
   "metadata": {},
   "outputs": [],
   "source": [
    "\n",
    "ax[0] = plt.hist(df2.Age, alpha=0.5, bins=20)\n",
    "\n",
    "plt.xlabel('Age')\n",
    "plt.ylabel('Number of People')\n",
    "plt.title('Age Distribution')"
   ]
  },
  {
   "cell_type": "code",
   "execution_count": null,
   "id": "cd388df9",
   "metadata": {},
   "outputs": [],
   "source": [
    "plt.figure(figsize=(20, 10))\n",
    "\n",
    "bins = df2.Age.max() - df2.Age.min()\n",
    "sns.histplot(x=df2.Age, hue=df2.Gender, alpha=.4, bins=bins);\n"
   ]
  },
  {
   "cell_type": "code",
   "execution_count": null,
   "id": "59599eb7",
   "metadata": {},
   "outputs": [],
   "source": [
    "plt.figure(figsize=(20, 10))\n",
    "\n",
    "bins = df2.Age.max() - df2.Age.min()\n",
    "sns.histplot(x=df2.Age, hue=df2.Market, alpha=.4, bins=bins);\n"
   ]
  },
  {
   "cell_type": "code",
   "execution_count": null,
   "id": "b5151709",
   "metadata": {},
   "outputs": [],
   "source": [
    "plt.figure(figsize=(20, 10))\n",
    "\n",
    "bins = df2.Age.max() - df2.Age.min()\n",
    "sns.histplot(x=df2.Market, hue=df2['Age_group'], alpha=.5);\n"
   ]
  },
  {
   "cell_type": "code",
   "execution_count": null,
   "id": "5b695fa4",
   "metadata": {},
   "outputs": [],
   "source": [
    "df_income = df2[df2['Monthly Income'].notnull()]\n",
    "df_income"
   ]
  },
  {
   "cell_type": "code",
   "execution_count": null,
   "id": "f77ab233",
   "metadata": {},
   "outputs": [],
   "source": [
    "df_income = df_income[df_income['Monthly Income'] > 2]"
   ]
  },
  {
   "cell_type": "code",
   "execution_count": null,
   "id": "4333eea2",
   "metadata": {},
   "outputs": [],
   "source": [
    "bins = df_income['Monthly Income'].max() - df_income['Monthly Income'].min()\n",
    "plt.hist(df_income['Monthly Income'], bins=int(bins/1000))"
   ]
  },
  {
   "cell_type": "code",
   "execution_count": null,
   "id": "6172918b",
   "metadata": {},
   "outputs": [],
   "source": [
    "df_income['Monthly Income'].value_counts().sort_index()"
   ]
  },
  {
   "cell_type": "code",
   "execution_count": null,
   "id": "7a7428b1",
   "metadata": {},
   "outputs": [],
   "source": [
    "df_income[df_income['Monthly Income'] == 1500.00]"
   ]
  },
  {
   "cell_type": "code",
   "execution_count": null,
   "id": "b40283fd",
   "metadata": {},
   "outputs": [],
   "source": []
  },
  {
   "cell_type": "code",
   "execution_count": null,
   "id": "762ead28",
   "metadata": {},
   "outputs": [],
   "source": []
  },
  {
   "cell_type": "code",
   "execution_count": null,
   "id": "445b3021",
   "metadata": {},
   "outputs": [],
   "source": []
  },
  {
   "cell_type": "code",
   "execution_count": null,
   "id": "5dae9cdc",
   "metadata": {},
   "outputs": [],
   "source": []
  },
  {
   "cell_type": "code",
   "execution_count": null,
   "id": "e1496b6f",
   "metadata": {},
   "outputs": [],
   "source": []
  },
  {
   "cell_type": "code",
   "execution_count": null,
   "id": "47e547b0",
   "metadata": {},
   "outputs": [],
   "source": []
  },
  {
   "cell_type": "markdown",
   "id": "a93e2bf4",
   "metadata": {},
   "source": [
    "## 3. Model"
   ]
  },
  {
   "cell_type": "code",
   "execution_count": null,
   "id": "f94ef488",
   "metadata": {},
   "outputs": [],
   "source": [
    "X = df2.drop(['ID', 'First Name', 'Monthly Income', 'Date of Birth', 'Age', 'State'], axis=1)"
   ]
  },
  {
   "cell_type": "code",
   "execution_count": null,
   "id": "75abd97a",
   "metadata": {},
   "outputs": [],
   "source": [
    "from sklearn.cluster import KMeans"
   ]
  },
  {
   "cell_type": "code",
   "execution_count": null,
   "id": "b89b9a21",
   "metadata": {},
   "outputs": [],
   "source": [
    "def plot_cluster(X, y, title=\"Cluster plot\"):\n",
    "    fig = X.plot.scatter(x='X1', y='X2', color=y)\n",
    "    fig.update_layout(autosize=False, width=475, height=475,\n",
    "                  coloraxis = dict(showscale=False, colorscale='Portland'),\n",
    "                  font=dict(size=18),\n",
    "                  title=dict(text=title, x=0.5, y=0.95, xanchor='center'))\n",
    "    fig.update_traces(marker=dict(size=15))\n",
    "    return fig"
   ]
  },
  {
   "cell_type": "code",
   "execution_count": null,
   "id": "a68c9531",
   "metadata": {},
   "outputs": [],
   "source": [
    "model = KMeans(n_clusters=3, random_state=13).fit(pd.get_dummies(X))\n",
    "pred = model.labels_\n",
    "fig = plt.scatter(X, pred, title=\"Encoded Categorical Data\")\n",
    "fig"
   ]
  },
  {
   "cell_type": "code",
   "execution_count": null,
   "id": "34988117",
   "metadata": {},
   "outputs": [],
   "source": [
    "inertia = []\n",
    "for n in range(1 , 11):\n",
    "    algorithm = (KMeans(n_clusters = n ,init='k-means++', n_init = 10 ,max_iter=300, \n",
    "                        tol=0.0001,  random_state= 111  , algorithm='elkan') )\n",
    "    algorithm.fit(pd.get_dummies(X))\n",
    "    inertia.append(algorithm.inertia_)\n",
    "    \n",
    "    \n",
    "plt.figure(1 , figsize = (15 ,6))\n",
    "plt.plot(np.arange(1 , 11) , inertia , 'o')\n",
    "plt.plot(np.arange(1 , 11) , inertia , '-' , alpha = 0.5)\n",
    "plt.xlabel('Number of Clusters') , plt.ylabel('Inertia')\n",
    "plt.show()"
   ]
  },
  {
   "cell_type": "code",
   "execution_count": null,
   "id": "e36208f5",
   "metadata": {},
   "outputs": [],
   "source": [
    "from sklearn.decomposition import PCA\n",
    "X_std = pd.get_dummies(X)\n",
    "\n",
    "pca = PCA(n_components=2)\n",
    "X_pca = pca.fit_transform(X_std)\n",
    "\n",
    "kmeans = KMeans(n_clusters=6)\n",
    "kmeans.fit(X_std)\n",
    "\n",
    "# Visualizing the clustering \n",
    "plt.scatter(X_pca[:,0], X_pca[:,1],  \n",
    "           c = KMeans(n_clusters = 3).fit_predict(X_std), cmap ='Blues')\n",
    "            \n",
    "plt.show() "
   ]
  },
  {
   "cell_type": "code",
   "execution_count": null,
   "id": "9143bec0",
   "metadata": {},
   "outputs": [],
   "source": [
    "# Now try the kmeans with t-sne \n",
    "\n",
    "kmeans = KMeans(n_clusters=3)\n",
    "kmeans.fit(X_std)\n",
    "\n",
    "# Visualizing the clustering \n",
    "plt.scatter(X_tsne[:,0], X_tsne[:,1],  \n",
    "           c = KMeans(n_clusters = 3).fit_predict(X_std), cmap =plt.cm.winter) \n",
    "plt.show()"
   ]
  },
  {
   "cell_type": "code",
   "execution_count": null,
   "id": "b3072a49",
   "metadata": {},
   "outputs": [],
   "source": [
    "X_std"
   ]
  },
  {
   "cell_type": "code",
   "execution_count": null,
   "id": "7398759c",
   "metadata": {},
   "outputs": [],
   "source": [
    "plt.scatter(X_pca[:,0], X_pca[:,1])"
   ]
  },
  {
   "cell_type": "code",
   "execution_count": 2,
   "id": "28348036",
   "metadata": {},
   "outputs": [],
   "source": [
    "import pandas as pd"
   ]
  },
  {
   "cell_type": "code",
   "execution_count": null,
   "id": "9b6c6858",
   "metadata": {},
   "outputs": [],
   "source": []
  },
  {
   "cell_type": "code",
   "execution_count": null,
   "id": "055bf2cc",
   "metadata": {},
   "outputs": [],
   "source": []
  },
  {
   "cell_type": "markdown",
   "id": "41c7d9e1",
   "metadata": {},
   "source": [
    "## NLP"
   ]
  },
  {
   "cell_type": "code",
   "execution_count": 8,
   "id": "57b261d1",
   "metadata": {},
   "outputs": [
    {
     "data": {
      "text/plain": [
       "['In',\n",
       " 'Brazil',\n",
       " 'they',\n",
       " 'drive',\n",
       " 'on',\n",
       " 'the',\n",
       " 'right-hand',\n",
       " 'side',\n",
       " 'of',\n",
       " 'the',\n",
       " 'road',\n",
       " '.',\n",
       " 'Brazil',\n",
       " 'has',\n",
       " 'a',\n",
       " 'large',\n",
       " 'coastline',\n",
       " 'on',\n",
       " 'the',\n",
       " 'easternside',\n",
       " 'of',\n",
       " 'South',\n",
       " 'America']"
      ]
     },
     "execution_count": 8,
     "metadata": {},
     "output_type": "execute_result"
    }
   ],
   "source": [
    "# Importing necessary library\n",
    "import pandas as pd\n",
    "import numpy as np\n",
    "import nltk\n",
    "import os\n",
    "import nltk.corpus\n",
    "# sample text for performing tokenization\n",
    "text = \"In Brazil they drive on the right-hand side of the road. Brazil has a large coastline on the eastern\\\n",
    "side of South America\"\n",
    "# importing word_tokenize from nltk\n",
    "from nltk.tokenize import word_tokenize\n",
    "# Passing the string text into word tokenize for breaking the sentences\n",
    "token = word_tokenize(text)\n",
    "token"
   ]
  },
  {
   "cell_type": "code",
   "execution_count": 5,
   "id": "e292df0d",
   "metadata": {},
   "outputs": [
    {
     "name": "stderr",
     "output_type": "stream",
     "text": [
      "ERROR: Could not find a version that satisfies the requirement punkt\n",
      "ERROR: No matching distribution found for punkt\n"
     ]
    }
   ],
   "source": [
    "!pip install punkt"
   ]
  },
  {
   "cell_type": "code",
   "execution_count": 6,
   "id": "7782630b",
   "metadata": {},
   "outputs": [],
   "source": [
    "import nltk"
   ]
  },
  {
   "cell_type": "code",
   "execution_count": 7,
   "id": "b91071be",
   "metadata": {},
   "outputs": [
    {
     "name": "stderr",
     "output_type": "stream",
     "text": [
      "[nltk_data] Downloading package punkt to\n",
      "[nltk_data]     C:\\Users\\arash\\AppData\\Roaming\\nltk_data...\n",
      "[nltk_data]   Unzipping tokenizers\\punkt.zip.\n"
     ]
    },
    {
     "data": {
      "text/plain": [
       "True"
      ]
     },
     "execution_count": 7,
     "metadata": {},
     "output_type": "execute_result"
    }
   ],
   "source": [
    "nltk.download('punkt')"
   ]
  },
  {
   "cell_type": "code",
   "execution_count": null,
   "id": "bd0b4081",
   "metadata": {},
   "outputs": [],
   "source": []
  }
 ],
 "metadata": {
  "kernelspec": {
   "display_name": "Python 3",
   "language": "python",
   "name": "python3"
  },
  "language_info": {
   "codemirror_mode": {
    "name": "ipython",
    "version": 3
   },
   "file_extension": ".py",
   "mimetype": "text/x-python",
   "name": "python",
   "nbconvert_exporter": "python",
   "pygments_lexer": "ipython3",
   "version": "3.8.8"
  }
 },
 "nbformat": 4,
 "nbformat_minor": 5
}
